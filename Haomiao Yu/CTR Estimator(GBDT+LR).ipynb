{
 "cells": [
  {
   "cell_type": "code",
   "execution_count": 42,
   "metadata": {},
   "outputs": [
    {
     "name": "stdout",
     "output_type": "stream",
     "text": [
      "cleantest.csv\n",
      "cleantrain.csv\n",
      "cleanvalidation.csv\n",
      "test.csv\n",
      "train.csv\n",
      "validation.csv\n",
      "\n"
     ]
    }
   ],
   "source": [
    "import csv\n",
    "import math\n",
    "import itertools\n",
    "import numpy as np\n",
    "import pandas as pd\n",
    "\n",
    "from sklearn.linear_model import LogisticRegression\n",
    "from sklearn.ensemble import GradientBoostingClassifier\n",
    "from subprocess import check_output\n",
    "from sklearn.metrics import precision_score\n",
    "from sklearn.metrics import recall_score\n",
    "from sklearn.metrics import mean_squared_error\n",
    "\n",
    "print(check_output([\"ls\", \"/Users/Hermione/MasterUCL/Web economics/Assignment/dataset\"]).decode(\"utf8\"))"
   ]
  },
  {
   "cell_type": "markdown",
   "metadata": {},
   "source": [
    "# 1. Feature Selection\n",
    "Using Gradient Boosting Decision Tree to select important features. \n",
    "\n",
    "The input of the GBDT is the one-hot encoded features generated from raw data using DataPreprocessing.py. \n",
    "\n",
    "For each input x, it has 584 features, the output of GBDT selected 39 important features.\n"
   ]
  },
  {
   "cell_type": "code",
   "execution_count": 34,
   "metadata": {
    "collapsed": true
   },
   "outputs": [],
   "source": [
    "train = pd.read_csv(\"/Users/Hermione/MasterUCL/Web economics/Assignment/dataset/train.csv\")\n",
    "validation = pd.read_csv(\"/Users/Hermione/MasterUCL/Web economics/Assignment/dataset/validation.csv\")"
   ]
  },
  {
   "cell_type": "code",
   "execution_count": 4,
   "metadata": {
    "collapsed": true
   },
   "outputs": [],
   "source": [
    "ytrain = pd.read_csv(\"/Users/Hermione/MasterUCL/Web economics/Assignment/dataset/train.csv\")[\"click\"]\n",
    "yvalidation = pd.read_csv(\"/Users/Hermione/MasterUCL/Web economics/Assignment/dataset/validation.csv\")[\"click\"]\n",
    "\n",
    "# this correct the missing columns in validation and test data set due to I encoded them seperately\n",
    "def MissingColumnsCorrector(df1,df2):\n",
    "    for columns in df1:\n",
    "        if columns in df2:\n",
    "            continue\n",
    "        else:\n",
    "            missing_columns = columns\n",
    "            ind = df1.columns.get_loc(missing_columns)\n",
    "            df2.insert(ind,missing_columns,0.0)\n",
    "    return df2\n",
    "\n",
    "\n",
    "xtrain = pd.read_csv(\"/Users/Hermione/MasterUCL/Web economics/Assignment/dataset/cleantrain.csv\")\n",
    "#xtest = pd.read_csv(\"/Users/Hermione/MasterUCL/Web economics/Assignment/dataset/cleantest.csv\")\n",
    "xvalidation = pd.read_csv(\"/Users/Hermione/MasterUCL/Web economics/Assignment/dataset/cleanvalidation.csv\")\n",
    "\n",
    "xvalidation = MissingColumnsCorrector(xtrain,xvalidation)\n",
    "\n",
    "xtrain = np.array(xtrain)\n",
    "ytrian = np.array(ytrain)\n",
    "ytrain = [int(numeric_string) for numeric_string in ytrain]\n",
    "xvalidation = np.array(xvalidation)\n",
    "yvalidation = np.array(yvalidation)\n",
    "yvalidation = [int(numeric_string) for numeric_string in yvalidation]"
   ]
  },
  {
   "cell_type": "code",
   "execution_count": null,
   "metadata": {
    "collapsed": true
   },
   "outputs": [],
   "source": []
  },
  {
   "cell_type": "code",
   "execution_count": null,
   "metadata": {
    "collapsed": true
   },
   "outputs": [],
   "source": [
    "#using GBDT to find the feature importance\n",
    "gbdt = GradientBoostingClassifier()\n",
    "gbdt.fit(xtrain, ytrain)\n",
    "feature_importance = gbdt.feature_importances_\n",
    "print(feature_importance)\n",
    "print(\"The total feature number is:\",gbdt.feature_importances_.shape)\n"
   ]
  },
  {
   "cell_type": "code",
   "execution_count": null,
   "metadata": {
    "collapsed": true
   },
   "outputs": [],
   "source": [
    "#get the index of important features, and save as csv for safety \n",
    "index = np.where(feature_importance > 0)\n",
    "index = list(index[0])\n",
    "print(\"The number of important feature is:\"len(index))\n",
    "\n",
    "\n",
    "with open('importantFeatureInd', 'w') as myfile:\n",
    "    wr = csv.writer(myfile,  dialect='excel')\n",
    "    wr.writerow(index)"
   ]
  },
  {
   "cell_type": "code",
   "execution_count": 6,
   "metadata": {},
   "outputs": [
    {
     "name": "stdout",
     "output_type": "stream",
     "text": [
      "The number of important feature is: 39\n"
     ]
    }
   ],
   "source": [
    "index = [0,169,197,309,355,382,400,441,443,447,450,455,458,461,462,466,467,484,486,488,500,501,503,505,506,512,523,530,542,549,555,559,561,564,565,568,569,580,582]\n",
    "print(\"The number of important feature is:\",len(index))"
   ]
  },
  {
   "cell_type": "code",
   "execution_count": 7,
   "metadata": {
    "collapsed": true
   },
   "outputs": [],
   "source": [
    "#generate new train data and validation data with only important features\n",
    "new_train = xtrain[:, index]\n",
    "new_val = xvalidation[:, index]"
   ]
  },
  {
   "cell_type": "markdown",
   "metadata": {},
   "source": [
    "# 2. Train logistic regression model\n",
    "2.1 Train logistic regression model with 584 encoded features and test it on validation set"
   ]
  },
  {
   "cell_type": "code",
   "execution_count": 20,
   "metadata": {
    "collapsed": true
   },
   "outputs": [],
   "source": [
    "#train classifier\n",
    "model = LogisticRegression(class_weight = \"balanced\")\n",
    "trainedlr = model.fit(xtrain,ytrain)\n"
   ]
  },
  {
   "cell_type": "code",
   "execution_count": 21,
   "metadata": {},
   "outputs": [],
   "source": [
    "prob = trainedlr.predict_proba(xvalidation)\n",
    "\n",
    "pClick = pd.DataFrame(prob)\n",
    "predicty = trainedlr.predict(xvalidation)\n",
    "precision = precision_score(yvalidation, predicty, average='micro')\n",
    "correctpred = sum(predicty == yvalidation)\n"
   ]
  },
  {
   "cell_type": "code",
   "execution_count": 173,
   "metadata": {},
   "outputs": [
    {
     "name": "stdout",
     "output_type": "stream",
     "text": [
      "0.000754533880574\n"
     ]
    },
    {
     "data": {
      "text/plain": [
       "[0.00054017400040291374,\n",
       " 0.0042812693741423437,\n",
       " 0.0010873878524688657,\n",
       " 0.00085829272510502819,\n",
       " 0.00046335760608389213]"
      ]
     },
     "execution_count": 173,
     "metadata": {},
     "output_type": "execute_result"
    }
   ],
   "source": [
    "temp = len(train) / (2 * np.bincount(train.click))\n",
    "w = temp[0]/temp[1]\n",
    "print(w)\n",
    "\n",
    "LRprob =[]\n",
    "for p in pClick[1]:\n",
    "    LRprob.append( p / (p + ((1-p)/w)))\n",
    "LRprob[:5]"
   ]
  },
  {
   "cell_type": "code",
   "execution_count": 22,
   "metadata": {},
   "outputs": [
    {
     "name": "stdout",
     "output_type": "stream",
     "text": [
      "lr model predicted 225313 correct click status\n",
      "The precision of lr model is 0.751672232434\n",
      "               0         1\n",
      "0       0.582652  0.417348\n",
      "1       0.149288  0.850712\n",
      "2       0.409382  0.590618\n",
      "3       0.467619  0.532381\n",
      "4       0.619432  0.380568\n",
      "5       0.479779  0.520221\n",
      "6       0.438161  0.561839\n",
      "7       0.552823  0.447177\n",
      "8       0.601464  0.398536\n",
      "9       0.474166  0.525834\n",
      "10      0.448029  0.551971\n",
      "11      0.323780  0.676220\n",
      "12      0.555458  0.444542\n",
      "13      0.258690  0.741310\n",
      "14      0.556464  0.443536\n",
      "15      0.701694  0.298306\n",
      "16      0.474980  0.525020\n",
      "17      0.516823  0.483177\n",
      "18      0.548258  0.451742\n",
      "19      0.562471  0.437529\n",
      "20      0.648080  0.351920\n",
      "21      0.630845  0.369155\n",
      "22      0.654046  0.345954\n",
      "23      0.661568  0.338432\n",
      "24      0.568472  0.431528\n",
      "25      0.601418  0.398582\n",
      "26      0.690712  0.309288\n",
      "27      0.554625  0.445375\n",
      "28      0.635074  0.364926\n",
      "29      0.631475  0.368525\n",
      "...          ...       ...\n",
      "299719  0.710449  0.289551\n",
      "299720  0.535661  0.464339\n",
      "299721  0.643476  0.356524\n",
      "299722  0.677955  0.322045\n",
      "299723  0.612220  0.387780\n",
      "299724  0.647807  0.352193\n",
      "299725  0.572521  0.427479\n",
      "299726  0.706979  0.293021\n",
      "299727  0.829273  0.170727\n",
      "299728  0.535334  0.464666\n",
      "299729  0.582993  0.417007\n",
      "299730  0.619612  0.380388\n",
      "299731  0.542858  0.457142\n",
      "299732  0.654324  0.345676\n",
      "299733  0.298665  0.701335\n",
      "299734  0.638961  0.361039\n",
      "299735  0.421930  0.578070\n",
      "299736  0.766543  0.233457\n",
      "299737  0.557360  0.442640\n",
      "299738  0.754802  0.245198\n",
      "299739  0.594365  0.405635\n",
      "299740  0.374243  0.625757\n",
      "299741  0.777066  0.222934\n",
      "299742  0.683004  0.316996\n",
      "299743  0.629627  0.370373\n",
      "299744  0.504871  0.495129\n",
      "299745  0.668380  0.331620\n",
      "299746  0.621504  0.378496\n",
      "299747  0.735139  0.264861\n",
      "299748  0.544245  0.455755\n",
      "\n",
      "[299749 rows x 2 columns]\n"
     ]
    }
   ],
   "source": [
    "print(\"lr model predicted\",correctpred,\"correct click status\")\n",
    "print(\"The precision of lr model is\",precision)\n",
    "print(pClick)"
   ]
  },
  {
   "cell_type": "markdown",
   "metadata": {},
   "source": [
    " \n",
    "2.2 Train logistic regression model with important features selected by GBDT"
   ]
  },
  {
   "cell_type": "code",
   "execution_count": 13,
   "metadata": {
    "collapsed": true
   },
   "outputs": [],
   "source": [
    "#train classifier\n",
    "lr = LogisticRegression(class_weight = \"balanced\")\n",
    "gbdtlr = lr.fit(new_train, ytrain)\n"
   ]
  },
  {
   "cell_type": "code",
   "execution_count": 23,
   "metadata": {
    "collapsed": true
   },
   "outputs": [],
   "source": [
    "gbdt_predict_labels = gbdtlr.predict(new_val)\n",
    "gbdtprob = gbdtlr.predict_proba(new_val)\n",
    "\n",
    "gbdtpClick = pd.DataFrame(gbdtprob)\n",
    "\n",
    "gbdtprecision = precision_score(yvalidation, gbdt_predict_labels, average='micro')\n",
    "gbdtcorrectpred = sum(gbdt_predict_labels == yvalidation)"
   ]
  },
  {
   "cell_type": "code",
   "execution_count": null,
   "metadata": {
    "collapsed": true
   },
   "outputs": [],
   "source": []
  },
  {
   "cell_type": "code",
   "execution_count": 164,
   "metadata": {},
   "outputs": [
    {
     "name": "stdout",
     "output_type": "stream",
     "text": [
      "GBDTlr model predicted 247662 correct click status\n",
      "lr model predicted 225313 correct click status\n",
      "The precision of GBDTlr model is 0.826231280171\n",
      "The precision of lr model is 0.751672232434\n",
      "               0         1\n",
      "0       0.774397  0.225603\n",
      "1       0.093838  0.906162\n",
      "2       0.489235  0.510765\n",
      "3       0.544563  0.455437\n",
      "4       0.607295  0.392705\n",
      "5       0.551713  0.448287\n",
      "6       0.489235  0.510765\n",
      "7       0.576059  0.423941\n",
      "8       0.784149  0.215851\n",
      "9       0.462148  0.537852\n",
      "10      0.574666  0.425334\n",
      "11      0.379136  0.620864\n",
      "12      0.705581  0.294419\n",
      "13      0.256016  0.743984\n",
      "14      0.695653  0.304347\n",
      "15      0.774397  0.225603\n",
      "16      0.607295  0.392705\n",
      "17      0.492623  0.507377\n",
      "18      0.655424  0.344576\n",
      "19      0.603637  0.396363\n",
      "20      0.607295  0.392705\n",
      "21      0.607295  0.392705\n",
      "22      0.774686  0.225314\n",
      "23      0.837479  0.162521\n",
      "24      0.720936  0.279064\n",
      "25      0.627780  0.372220\n",
      "26      0.708751  0.291249\n",
      "27      0.624195  0.375805\n",
      "28      0.562945  0.437055\n",
      "29      0.774397  0.225603\n",
      "...          ...       ...\n",
      "299719  0.891564  0.108436\n",
      "299720  0.812709  0.187291\n",
      "299721  0.707348  0.292652\n",
      "299722  0.748196  0.251804\n",
      "299723  0.762079  0.237921\n",
      "299724  0.697505  0.302495\n",
      "299725  0.458897  0.541103\n",
      "299726  0.739175  0.260825\n",
      "299727  0.779678  0.220322\n",
      "299728  0.442089  0.557911\n",
      "299729  0.704168  0.295832\n",
      "299730  0.721914  0.278086\n",
      "299731  0.626580  0.373420\n",
      "299732  0.651424  0.348576\n",
      "299733  0.202397  0.797603\n",
      "299734  0.825459  0.174541\n",
      "299735  0.430891  0.569109\n",
      "299736  0.730062  0.269938\n",
      "299737  0.657346  0.342654\n",
      "299738  0.751070  0.248930\n",
      "299739  0.707348  0.292652\n",
      "299740  0.254725  0.745275\n",
      "299741  0.879111  0.120889\n",
      "299742  0.739561  0.260439\n",
      "299743  0.561274  0.438726\n",
      "299744  0.517858  0.482142\n",
      "299745  0.605674  0.394326\n",
      "299746  0.561274  0.438726\n",
      "299747  0.614940  0.385060\n",
      "299748  0.702236  0.297764\n",
      "\n",
      "[299749 rows x 2 columns]\n"
     ]
    }
   ],
   "source": [
    "print(\"GBDTlr model predicted\",gbdtcorrectpred,\"correct click status\")\n",
    "print(\"lr model predicted\",correctpred,\"correct click status\")\n",
    "\n",
    "\n",
    "print(\"The precision of GBDTlr model is\",gbdtprecision)\n",
    "print(\"The precision of lr model is\",precision)\n",
    "print(gbdtpClick)"
   ]
  },
  {
   "cell_type": "code",
   "execution_count": 32,
   "metadata": {},
   "outputs": [
    {
     "data": {
      "text/plain": [
       "0.17376871982892353"
      ]
     },
     "execution_count": 32,
     "metadata": {},
     "output_type": "execute_result"
    }
   ],
   "source": [
    "RMSEgbdt = mean_squared_error(yvalidation, gbdt_predict_labels) "
   ]
  },
  {
   "cell_type": "code",
   "execution_count": 35,
   "metadata": {},
   "outputs": [
    {
     "name": "stdout",
     "output_type": "stream",
     "text": [
      "0.000754533880574\n"
     ]
    },
    {
     "data": {
      "text/plain": [
       "[0.00021976783228367061,\n",
       " 0.0072335538424793998,\n",
       " 0.00078711926378626645,\n",
       " 0.00063064617239325289,\n",
       " 0.00048767895148636459]"
      ]
     },
     "execution_count": 35,
     "metadata": {},
     "output_type": "execute_result"
    }
   ],
   "source": [
    "# apply negative downsampling to work out weights in order for probability of click to have the same ratio as training data, technique is called \n",
    "#model recalibration  \n",
    "temp = len(train) / (2 * np.bincount(train.click))\n",
    "w = temp[0]/temp[1]\n",
    "print(w)\n",
    "\n",
    "GBDTprob =[]\n",
    "for p in gbdtpClick[1]:\n",
    "    GBDTprob.append( p / (p + ((1-p)/w)))\n",
    "GBDTprob[:5]"
   ]
  },
  {
   "cell_type": "code",
   "execution_count": 128,
   "metadata": {
    "collapsed": true
   },
   "outputs": [],
   "source": [
    "p = 0.3\n",
    "pro = p / (p + ((1-p)/w))"
   ]
  },
  {
   "cell_type": "code",
   "execution_count": 129,
   "metadata": {},
   "outputs": [
    {
     "data": {
      "text/plain": [
       "0.00032326712767462225"
      ]
     },
     "execution_count": 129,
     "metadata": {},
     "output_type": "execute_result"
    }
   ],
   "source": [
    "pro"
   ]
  },
  {
   "cell_type": "code",
   "execution_count": 147,
   "metadata": {},
   "outputs": [
    {
     "name": "stdout",
     "output_type": "stream",
     "text": [
      "AUC accuracy of GBDTlr: 0.716542045215\n"
     ]
    }
   ],
   "source": [
    "from sklearn import metrics\n",
    "fpr, tpr, thresholds = metrics.roc_curve([click for click in validation.click], GBDTprob)\n",
    "print('AUC accuracy of GBDTlr:',metrics.auc(fpr, tpr))"
   ]
  },
  {
   "cell_type": "code",
   "execution_count": 38,
   "metadata": {},
   "outputs": [
    {
     "data": {
      "text/plain": [
       "0.00075199772192006053"
      ]
     },
     "execution_count": 38,
     "metadata": {},
     "output_type": "execute_result"
    }
   ],
   "source": [
    "RMSEgbdt = mean_squared_error(yvalidation, GBDTprob) \n",
    "RMSEgbdt"
   ]
  },
  {
   "cell_type": "markdown",
   "metadata": {},
   "source": [
    "# 3. Optimal Real-Time Bidding(ORTB)\n",
    "In this section, two ORTB solutions will be used to find the best one."
   ]
  },
  {
   "cell_type": "code",
   "execution_count": 105,
   "metadata": {},
   "outputs": [],
   "source": [
    "lambdas = [5.2e-10,5.2e-9,5.2e-8,5.2e-7,5.2e-6,5.2e-5,5.2e-4,5.2e-3,5.2e-2,5.2e-1]\n",
    "c = np.arange(10,101,10).tolist()\n",
    "combinations = list(itertools.product(c, lambdas))"
   ]
  },
  {
   "cell_type": "code",
   "execution_count": 98,
   "metadata": {},
   "outputs": [
    {
     "data": {
      "text/plain": [
       "[10, 20, 30, 40, 50, 60, 70, 80, 90, 100]"
      ]
     },
     "execution_count": 98,
     "metadata": {},
     "output_type": "execute_result"
    }
   ],
   "source": [
    "c"
   ]
  },
  {
   "cell_type": "code",
   "execution_count": 99,
   "metadata": {},
   "outputs": [
    {
     "data": {
      "text/plain": [
       "[5.2e-10,\n",
       " 5.2e-09,\n",
       " 5.2e-08,\n",
       " 5.2e-07,\n",
       " 5.2e-06,\n",
       " 5.2e-05,\n",
       " 0.00052,\n",
       " 0.0052,\n",
       " 0.052,\n",
       " 0.52]"
      ]
     },
     "execution_count": 99,
     "metadata": {},
     "output_type": "execute_result"
    }
   ],
   "source": [
    "lambdas"
   ]
  },
  {
   "cell_type": "code",
   "execution_count": null,
   "metadata": {},
   "outputs": [],
   "source": [
    "#c=2\n",
    "#lambdas = 1\n",
    "#ctr = 2\n",
    "#ortb1 = math.sqrt(c/lambdas*ctr + c**2)-c\n",
    "#ortb2 = c*(math.pow((ctr+math.sqrt((c**2)*(lambdas**2)+ctr**2))/(c*lambdas),1/3)-math.pow(c*lambdas/(ctr+math.sqrt((c**2)*(lambdas**2)+ctr**2)),1/3))"
   ]
  },
  {
   "cell_type": "code",
   "execution_count": 55,
   "metadata": {
    "collapsed": true
   },
   "outputs": [],
   "source": [
    "GBDTctr = np.asarray(GBDTprob)"
   ]
  },
  {
   "cell_type": "code",
   "execution_count": 151,
   "metadata": {
    "collapsed": true
   },
   "outputs": [],
   "source": [
    "def ortb1(c,lambdas,predictctr):\n",
    "    impression = 0.0\n",
    "    clicks = 0\n",
    "    cost = 0.0\n",
    "    budget = 2500000  # 1/10th budget of 25,000,000\n",
    "    bidortb1 = []\n",
    "    \n",
    "    for pctr in predictctr:\n",
    "        ortb1 = math.sqrt(c/lambdas*pctr + c**2)-c\n",
    "        bidortb1.append(ortb1)\n",
    "    \n",
    "    true_bids = bidortb1 >= validation.payprice\n",
    "    for i in range(0, len(true_bids)):\n",
    "        if true_bids[i] == True:\n",
    "            impression += 1.0\n",
    "            clicks += validation.click[i]\n",
    "            cost += validation.payprice[i]\n",
    "        if cost >= budget:\n",
    "            break\n",
    "    return impression, clicks, cost\n",
    "    \n",
    "    "
   ]
  },
  {
   "cell_type": "code",
   "execution_count": 152,
   "metadata": {
    "collapsed": true
   },
   "outputs": [],
   "source": [
    "def ortb2(c,lambdas,predictctr):\n",
    "    impression = 0.0\n",
    "    clicks = 0\n",
    "    cost = 0.0\n",
    "    budget = 2500000  # 1/10th budget of 25,000,000\n",
    "    bidortb2 = []\n",
    "    \n",
    "    for pctr in predictctr:\n",
    "        ortb2 = c*(math.pow((pctr+math.sqrt((c**2)*(lambdas**2)+pctr**2))/(c*lambdas),1/3)-math.pow(c*lambdas/(pctr+math.sqrt((c**2)*(lambdas**2)+pctr**2)),1/3))\n",
    "        bidortb2.append(ortb2)\n",
    "    \n",
    "    true_bids = bidortb2 >= validation.payprice\n",
    "    for i in range(0, len(true_bids)):\n",
    "        if true_bids[i] == True:\n",
    "            impression += 1.0\n",
    "            clicks += validation.click[i]\n",
    "            cost += validation.payprice[i]\n",
    "        if cost >= budget:\n",
    "            break\n",
    "    return impression, clicks, cost"
   ]
  },
  {
   "cell_type": "code",
   "execution_count": 153,
   "metadata": {},
   "outputs": [],
   "source": [
    "def get_results(predictctr,ortb):\n",
    "    df = pd.DataFrame()\n",
    "    \n",
    "    imp = []\n",
    "    clik = []\n",
    "    ct = []\n",
    "    clamb = []\n",
    "    for combination in combinations:\n",
    "        c = combination[0]\n",
    "        lam = combination[1]\n",
    "        [imps, clicks, cost] = ortb(c,lam,predictctr)\n",
    "        imp.append(imps)\n",
    "        clik.append(clicks)\n",
    "        ct.append(cost)\n",
    "        clamb.append(combination)\n",
    "    df['C_Lambda'] = clamb\n",
    "    df['impressions'] = imp\n",
    "    df['total_cost'] = ct\n",
    "    df['clicks'] = clik\n",
    "    df['CTR'] = (df.clicks / df.impressions * 100).round(2).astype(str)\n",
    "    df['CPM'] = (df.total_cost / df.impressions * 1000).round(2).astype(str)\n",
    "    df['CPC'] = (df.total_cost / df.clicks).round(2).astype(str)\n",
    "    return df\n"
   ]
  },
  {
   "cell_type": "code",
   "execution_count": 154,
   "metadata": {},
   "outputs": [],
   "source": [
    "ortb1result = get_results(GBDTctr,ortb1)\n",
    "       "
   ]
  },
  {
   "cell_type": "code",
   "execution_count": 155,
   "metadata": {},
   "outputs": [],
   "source": [
    "ortb2result = get_results(GBDTctr,ortb2)"
   ]
  },
  {
   "cell_type": "code",
   "execution_count": 156,
   "metadata": {},
   "outputs": [
    {
     "data": {
      "text/html": [
       "<div>\n",
       "<table border=\"1\" class=\"dataframe\">\n",
       "  <thead>\n",
       "    <tr style=\"text-align: right;\">\n",
       "      <th></th>\n",
       "      <th>C_Lambda</th>\n",
       "      <th>impressions</th>\n",
       "      <th>total_cost</th>\n",
       "      <th>clicks</th>\n",
       "      <th>CTR</th>\n",
       "      <th>CPM</th>\n",
       "      <th>CPC</th>\n",
       "    </tr>\n",
       "  </thead>\n",
       "  <tbody>\n",
       "    <tr>\n",
       "      <th>25</th>\n",
       "      <td>(30, 5.2e-05)</td>\n",
       "      <td>5275.0</td>\n",
       "      <td>51435.0</td>\n",
       "      <td>12</td>\n",
       "      <td>0.23</td>\n",
       "      <td>9750.71</td>\n",
       "      <td>4286.25</td>\n",
       "    </tr>\n",
       "    <tr>\n",
       "      <th>95</th>\n",
       "      <td>(100, 5.2e-05)</td>\n",
       "      <td>6415.0</td>\n",
       "      <td>84724.0</td>\n",
       "      <td>14</td>\n",
       "      <td>0.22</td>\n",
       "      <td>13207.17</td>\n",
       "      <td>6051.71</td>\n",
       "    </tr>\n",
       "    <tr>\n",
       "      <th>45</th>\n",
       "      <td>(50, 5.2e-05)</td>\n",
       "      <td>5902.0</td>\n",
       "      <td>67722.0</td>\n",
       "      <td>13</td>\n",
       "      <td>0.22</td>\n",
       "      <td>11474.42</td>\n",
       "      <td>5209.38</td>\n",
       "    </tr>\n",
       "    <tr>\n",
       "      <th>55</th>\n",
       "      <td>(60, 5.2e-05)</td>\n",
       "      <td>6021.0</td>\n",
       "      <td>70835.0</td>\n",
       "      <td>13</td>\n",
       "      <td>0.22</td>\n",
       "      <td>11764.66</td>\n",
       "      <td>5448.85</td>\n",
       "    </tr>\n",
       "    <tr>\n",
       "      <th>75</th>\n",
       "      <td>(80, 5.2e-05)</td>\n",
       "      <td>6274.0</td>\n",
       "      <td>79666.0</td>\n",
       "      <td>13</td>\n",
       "      <td>0.21</td>\n",
       "      <td>12697.8</td>\n",
       "      <td>6128.15</td>\n",
       "    </tr>\n",
       "    <tr>\n",
       "      <th>65</th>\n",
       "      <td>(70, 5.2e-05)</td>\n",
       "      <td>6165.0</td>\n",
       "      <td>75652.0</td>\n",
       "      <td>13</td>\n",
       "      <td>0.21</td>\n",
       "      <td>12271.21</td>\n",
       "      <td>5819.38</td>\n",
       "    </tr>\n",
       "    <tr>\n",
       "      <th>35</th>\n",
       "      <td>(40, 5.2e-05)</td>\n",
       "      <td>5753.0</td>\n",
       "      <td>63274.0</td>\n",
       "      <td>12</td>\n",
       "      <td>0.21</td>\n",
       "      <td>10998.44</td>\n",
       "      <td>5272.83</td>\n",
       "    </tr>\n",
       "    <tr>\n",
       "      <th>5</th>\n",
       "      <td>(10, 5.2e-05)</td>\n",
       "      <td>3936.0</td>\n",
       "      <td>29100.0</td>\n",
       "      <td>8</td>\n",
       "      <td>0.2</td>\n",
       "      <td>7393.29</td>\n",
       "      <td>3637.5</td>\n",
       "    </tr>\n",
       "    <tr>\n",
       "      <th>85</th>\n",
       "      <td>(90, 5.2e-05)</td>\n",
       "      <td>6372.0</td>\n",
       "      <td>83245.0</td>\n",
       "      <td>13</td>\n",
       "      <td>0.2</td>\n",
       "      <td>13064.19</td>\n",
       "      <td>6403.46</td>\n",
       "    </tr>\n",
       "    <tr>\n",
       "      <th>15</th>\n",
       "      <td>(20, 5.2e-05)</td>\n",
       "      <td>4898.0</td>\n",
       "      <td>42267.0</td>\n",
       "      <td>9</td>\n",
       "      <td>0.18</td>\n",
       "      <td>8629.44</td>\n",
       "      <td>4696.33</td>\n",
       "    </tr>\n",
       "  </tbody>\n",
       "</table>\n",
       "</div>"
      ],
      "text/plain": [
       "          C_Lambda  impressions  total_cost  clicks   CTR       CPM      CPC\n",
       "25   (30, 5.2e-05)       5275.0     51435.0      12  0.23   9750.71  4286.25\n",
       "95  (100, 5.2e-05)       6415.0     84724.0      14  0.22  13207.17  6051.71\n",
       "45   (50, 5.2e-05)       5902.0     67722.0      13  0.22  11474.42  5209.38\n",
       "55   (60, 5.2e-05)       6021.0     70835.0      13  0.22  11764.66  5448.85\n",
       "75   (80, 5.2e-05)       6274.0     79666.0      13  0.21   12697.8  6128.15\n",
       "65   (70, 5.2e-05)       6165.0     75652.0      13  0.21  12271.21  5819.38\n",
       "35   (40, 5.2e-05)       5753.0     63274.0      12  0.21  10998.44  5272.83\n",
       "5    (10, 5.2e-05)       3936.0     29100.0       8   0.2   7393.29   3637.5\n",
       "85   (90, 5.2e-05)       6372.0     83245.0      13   0.2  13064.19  6403.46\n",
       "15   (20, 5.2e-05)       4898.0     42267.0       9  0.18   8629.44  4696.33"
      ]
     },
     "execution_count": 156,
     "metadata": {},
     "output_type": "execute_result"
    }
   ],
   "source": [
    "ortb1result.sort_values(\"CTR\",ascending= False).head(10)"
   ]
  },
  {
   "cell_type": "code",
   "execution_count": 157,
   "metadata": {},
   "outputs": [
    {
     "data": {
      "text/html": [
       "<div>\n",
       "<table border=\"1\" class=\"dataframe\">\n",
       "  <thead>\n",
       "    <tr style=\"text-align: right;\">\n",
       "      <th></th>\n",
       "      <th>C_Lambda</th>\n",
       "      <th>impressions</th>\n",
       "      <th>total_cost</th>\n",
       "      <th>clicks</th>\n",
       "      <th>CTR</th>\n",
       "      <th>CPM</th>\n",
       "      <th>CPC</th>\n",
       "    </tr>\n",
       "  </thead>\n",
       "  <tbody>\n",
       "    <tr>\n",
       "      <th>65</th>\n",
       "      <td>(70, 5.2e-05)</td>\n",
       "      <td>10219.0</td>\n",
       "      <td>154349.0</td>\n",
       "      <td>16</td>\n",
       "      <td>0.16</td>\n",
       "      <td>15104.12</td>\n",
       "      <td>9646.81</td>\n",
       "    </tr>\n",
       "    <tr>\n",
       "      <th>35</th>\n",
       "      <td>(40, 5.2e-05)</td>\n",
       "      <td>9417.0</td>\n",
       "      <td>119381.0</td>\n",
       "      <td>15</td>\n",
       "      <td>0.16</td>\n",
       "      <td>12677.18</td>\n",
       "      <td>7958.73</td>\n",
       "    </tr>\n",
       "    <tr>\n",
       "      <th>85</th>\n",
       "      <td>(90, 5.2e-05)</td>\n",
       "      <td>10412.0</td>\n",
       "      <td>164902.0</td>\n",
       "      <td>16</td>\n",
       "      <td>0.15</td>\n",
       "      <td>15837.69</td>\n",
       "      <td>10306.38</td>\n",
       "    </tr>\n",
       "    <tr>\n",
       "      <th>95</th>\n",
       "      <td>(100, 5.2e-05)</td>\n",
       "      <td>10522.0</td>\n",
       "      <td>169801.0</td>\n",
       "      <td>16</td>\n",
       "      <td>0.15</td>\n",
       "      <td>16137.71</td>\n",
       "      <td>10612.56</td>\n",
       "    </tr>\n",
       "    <tr>\n",
       "      <th>55</th>\n",
       "      <td>(60, 5.2e-05)</td>\n",
       "      <td>10044.0</td>\n",
       "      <td>146165.0</td>\n",
       "      <td>15</td>\n",
       "      <td>0.15</td>\n",
       "      <td>14552.47</td>\n",
       "      <td>9744.33</td>\n",
       "    </tr>\n",
       "    <tr>\n",
       "      <th>75</th>\n",
       "      <td>(80, 5.2e-05)</td>\n",
       "      <td>10341.0</td>\n",
       "      <td>160771.0</td>\n",
       "      <td>16</td>\n",
       "      <td>0.15</td>\n",
       "      <td>15546.95</td>\n",
       "      <td>10048.19</td>\n",
       "    </tr>\n",
       "    <tr>\n",
       "      <th>45</th>\n",
       "      <td>(50, 5.2e-05)</td>\n",
       "      <td>9782.0</td>\n",
       "      <td>134071.0</td>\n",
       "      <td>15</td>\n",
       "      <td>0.15</td>\n",
       "      <td>13705.89</td>\n",
       "      <td>8938.07</td>\n",
       "    </tr>\n",
       "    <tr>\n",
       "      <th>15</th>\n",
       "      <td>(20, 5.2e-05)</td>\n",
       "      <td>8076.0</td>\n",
       "      <td>77454.0</td>\n",
       "      <td>11</td>\n",
       "      <td>0.14</td>\n",
       "      <td>9590.64</td>\n",
       "      <td>7041.27</td>\n",
       "    </tr>\n",
       "    <tr>\n",
       "      <th>25</th>\n",
       "      <td>(30, 5.2e-05)</td>\n",
       "      <td>8794.0</td>\n",
       "      <td>97546.0</td>\n",
       "      <td>12</td>\n",
       "      <td>0.14</td>\n",
       "      <td>11092.34</td>\n",
       "      <td>8128.83</td>\n",
       "    </tr>\n",
       "    <tr>\n",
       "      <th>5</th>\n",
       "      <td>(10, 5.2e-05)</td>\n",
       "      <td>6310.0</td>\n",
       "      <td>43279.0</td>\n",
       "      <td>8</td>\n",
       "      <td>0.13</td>\n",
       "      <td>6858.8</td>\n",
       "      <td>5409.88</td>\n",
       "    </tr>\n",
       "  </tbody>\n",
       "</table>\n",
       "</div>"
      ],
      "text/plain": [
       "          C_Lambda  impressions  total_cost  clicks   CTR       CPM       CPC\n",
       "65   (70, 5.2e-05)      10219.0    154349.0      16  0.16  15104.12   9646.81\n",
       "35   (40, 5.2e-05)       9417.0    119381.0      15  0.16  12677.18   7958.73\n",
       "85   (90, 5.2e-05)      10412.0    164902.0      16  0.15  15837.69  10306.38\n",
       "95  (100, 5.2e-05)      10522.0    169801.0      16  0.15  16137.71  10612.56\n",
       "55   (60, 5.2e-05)      10044.0    146165.0      15  0.15  14552.47   9744.33\n",
       "75   (80, 5.2e-05)      10341.0    160771.0      16  0.15  15546.95  10048.19\n",
       "45   (50, 5.2e-05)       9782.0    134071.0      15  0.15  13705.89   8938.07\n",
       "15   (20, 5.2e-05)       8076.0     77454.0      11  0.14   9590.64   7041.27\n",
       "25   (30, 5.2e-05)       8794.0     97546.0      12  0.14  11092.34   8128.83\n",
       "5    (10, 5.2e-05)       6310.0     43279.0       8  0.13    6858.8   5409.88"
      ]
     },
     "execution_count": 157,
     "metadata": {},
     "output_type": "execute_result"
    }
   ],
   "source": [
    "ortb2result.sort_values(\"CTR\",ascending= False).head(10)"
   ]
  },
  {
   "cell_type": "code",
   "execution_count": 158,
   "metadata": {},
   "outputs": [
    {
     "data": {
      "text/html": [
       "<div>\n",
       "<table border=\"1\" class=\"dataframe\">\n",
       "  <thead>\n",
       "    <tr style=\"text-align: right;\">\n",
       "      <th></th>\n",
       "      <th>C_Lambda</th>\n",
       "      <th>impressions</th>\n",
       "      <th>total_cost</th>\n",
       "      <th>clicks</th>\n",
       "      <th>CTR</th>\n",
       "      <th>CPM</th>\n",
       "      <th>CPC</th>\n",
       "    </tr>\n",
       "  </thead>\n",
       "  <tbody>\n",
       "    <tr>\n",
       "      <th>94</th>\n",
       "      <td>(100, 5.2e-06)</td>\n",
       "      <td>77192.0</td>\n",
       "      <td>2410834.0</td>\n",
       "      <td>95</td>\n",
       "      <td>0.12</td>\n",
       "      <td>31231.66</td>\n",
       "      <td>25377.2</td>\n",
       "    </tr>\n",
       "    <tr>\n",
       "      <th>84</th>\n",
       "      <td>(90, 5.2e-06)</td>\n",
       "      <td>75920.0</td>\n",
       "      <td>2325259.0</td>\n",
       "      <td>95</td>\n",
       "      <td>0.13</td>\n",
       "      <td>30627.75</td>\n",
       "      <td>24476.41</td>\n",
       "    </tr>\n",
       "    <tr>\n",
       "      <th>74</th>\n",
       "      <td>(80, 5.2e-06)</td>\n",
       "      <td>74506.0</td>\n",
       "      <td>2238576.0</td>\n",
       "      <td>92</td>\n",
       "      <td>0.12</td>\n",
       "      <td>30045.58</td>\n",
       "      <td>24332.35</td>\n",
       "    </tr>\n",
       "    <tr>\n",
       "      <th>64</th>\n",
       "      <td>(70, 5.2e-06)</td>\n",
       "      <td>72310.0</td>\n",
       "      <td>2108819.0</td>\n",
       "      <td>89</td>\n",
       "      <td>0.12</td>\n",
       "      <td>29163.59</td>\n",
       "      <td>23694.6</td>\n",
       "    </tr>\n",
       "    <tr>\n",
       "      <th>54</th>\n",
       "      <td>(60, 5.2e-06)</td>\n",
       "      <td>70894.0</td>\n",
       "      <td>2027379.0</td>\n",
       "      <td>86</td>\n",
       "      <td>0.12</td>\n",
       "      <td>28597.33</td>\n",
       "      <td>23574.17</td>\n",
       "    </tr>\n",
       "    <tr>\n",
       "      <th>44</th>\n",
       "      <td>(50, 5.2e-06)</td>\n",
       "      <td>68274.0</td>\n",
       "      <td>1884086.0</td>\n",
       "      <td>78</td>\n",
       "      <td>0.11</td>\n",
       "      <td>27595.95</td>\n",
       "      <td>24154.95</td>\n",
       "    </tr>\n",
       "    <tr>\n",
       "      <th>34</th>\n",
       "      <td>(40, 5.2e-06)</td>\n",
       "      <td>64150.0</td>\n",
       "      <td>1662688.0</td>\n",
       "      <td>74</td>\n",
       "      <td>0.12</td>\n",
       "      <td>25918.75</td>\n",
       "      <td>22468.76</td>\n",
       "    </tr>\n",
       "    <tr>\n",
       "      <th>24</th>\n",
       "      <td>(30, 5.2e-06)</td>\n",
       "      <td>59657.0</td>\n",
       "      <td>1448401.0</td>\n",
       "      <td>63</td>\n",
       "      <td>0.11</td>\n",
       "      <td>24278.81</td>\n",
       "      <td>22990.49</td>\n",
       "    </tr>\n",
       "    <tr>\n",
       "      <th>3</th>\n",
       "      <td>(10, 5.2e-07)</td>\n",
       "      <td>55209.0</td>\n",
       "      <td>2500003.0</td>\n",
       "      <td>56</td>\n",
       "      <td>0.1</td>\n",
       "      <td>45282.53</td>\n",
       "      <td>44642.91</td>\n",
       "    </tr>\n",
       "    <tr>\n",
       "      <th>14</th>\n",
       "      <td>(20, 5.2e-06)</td>\n",
       "      <td>51677.0</td>\n",
       "      <td>1115103.0</td>\n",
       "      <td>49</td>\n",
       "      <td>0.09</td>\n",
       "      <td>21578.32</td>\n",
       "      <td>22757.2</td>\n",
       "    </tr>\n",
       "  </tbody>\n",
       "</table>\n",
       "</div>"
      ],
      "text/plain": [
       "          C_Lambda  impressions  total_cost  clicks   CTR       CPM       CPC\n",
       "94  (100, 5.2e-06)      77192.0   2410834.0      95  0.12  31231.66   25377.2\n",
       "84   (90, 5.2e-06)      75920.0   2325259.0      95  0.13  30627.75  24476.41\n",
       "74   (80, 5.2e-06)      74506.0   2238576.0      92  0.12  30045.58  24332.35\n",
       "64   (70, 5.2e-06)      72310.0   2108819.0      89  0.12  29163.59   23694.6\n",
       "54   (60, 5.2e-06)      70894.0   2027379.0      86  0.12  28597.33  23574.17\n",
       "44   (50, 5.2e-06)      68274.0   1884086.0      78  0.11  27595.95  24154.95\n",
       "34   (40, 5.2e-06)      64150.0   1662688.0      74  0.12  25918.75  22468.76\n",
       "24   (30, 5.2e-06)      59657.0   1448401.0      63  0.11  24278.81  22990.49\n",
       "3    (10, 5.2e-07)      55209.0   2500003.0      56   0.1  45282.53  44642.91\n",
       "14   (20, 5.2e-06)      51677.0   1115103.0      49  0.09  21578.32   22757.2"
      ]
     },
     "execution_count": 158,
     "metadata": {},
     "output_type": "execute_result"
    }
   ],
   "source": [
    "ortb1result.sort_values(\"clicks\",ascending= False).head(10)"
   ]
  },
  {
   "cell_type": "code",
   "execution_count": 159,
   "metadata": {},
   "outputs": [
    {
     "data": {
      "text/html": [
       "<div>\n",
       "<table border=\"1\" class=\"dataframe\">\n",
       "  <thead>\n",
       "    <tr style=\"text-align: right;\">\n",
       "      <th></th>\n",
       "      <th>C_Lambda</th>\n",
       "      <th>impressions</th>\n",
       "      <th>total_cost</th>\n",
       "      <th>clicks</th>\n",
       "      <th>CTR</th>\n",
       "      <th>CPM</th>\n",
       "      <th>CPC</th>\n",
       "    </tr>\n",
       "  </thead>\n",
       "  <tbody>\n",
       "    <tr>\n",
       "      <th>34</th>\n",
       "      <td>(40, 5.2e-06)</td>\n",
       "      <td>85773.0</td>\n",
       "      <td>2349603.0</td>\n",
       "      <td>73</td>\n",
       "      <td>0.09</td>\n",
       "      <td>27393.27</td>\n",
       "      <td>32186.34</td>\n",
       "    </tr>\n",
       "    <tr>\n",
       "      <th>54</th>\n",
       "      <td>(60, 5.2e-06)</td>\n",
       "      <td>77252.0</td>\n",
       "      <td>2500015.0</td>\n",
       "      <td>72</td>\n",
       "      <td>0.09</td>\n",
       "      <td>32361.82</td>\n",
       "      <td>34722.43</td>\n",
       "    </tr>\n",
       "    <tr>\n",
       "      <th>64</th>\n",
       "      <td>(70, 5.2e-06)</td>\n",
       "      <td>73685.0</td>\n",
       "      <td>2500002.0</td>\n",
       "      <td>71</td>\n",
       "      <td>0.1</td>\n",
       "      <td>33928.24</td>\n",
       "      <td>35211.3</td>\n",
       "    </tr>\n",
       "    <tr>\n",
       "      <th>44</th>\n",
       "      <td>(50, 5.2e-06)</td>\n",
       "      <td>83397.0</td>\n",
       "      <td>2500005.0</td>\n",
       "      <td>71</td>\n",
       "      <td>0.09</td>\n",
       "      <td>29977.16</td>\n",
       "      <td>35211.34</td>\n",
       "    </tr>\n",
       "    <tr>\n",
       "      <th>84</th>\n",
       "      <td>(90, 5.2e-06)</td>\n",
       "      <td>69322.0</td>\n",
       "      <td>2500034.0</td>\n",
       "      <td>70</td>\n",
       "      <td>0.1</td>\n",
       "      <td>36064.08</td>\n",
       "      <td>35714.77</td>\n",
       "    </tr>\n",
       "    <tr>\n",
       "      <th>74</th>\n",
       "      <td>(80, 5.2e-06)</td>\n",
       "      <td>71209.0</td>\n",
       "      <td>2500046.0</td>\n",
       "      <td>69</td>\n",
       "      <td>0.1</td>\n",
       "      <td>35108.57</td>\n",
       "      <td>36232.55</td>\n",
       "    </tr>\n",
       "    <tr>\n",
       "      <th>94</th>\n",
       "      <td>(100, 5.2e-06)</td>\n",
       "      <td>68035.0</td>\n",
       "      <td>2500041.0</td>\n",
       "      <td>68</td>\n",
       "      <td>0.1</td>\n",
       "      <td>36746.4</td>\n",
       "      <td>36765.31</td>\n",
       "    </tr>\n",
       "    <tr>\n",
       "      <th>24</th>\n",
       "      <td>(30, 5.2e-06)</td>\n",
       "      <td>76329.0</td>\n",
       "      <td>1847168.0</td>\n",
       "      <td>62</td>\n",
       "      <td>0.08</td>\n",
       "      <td>24200.08</td>\n",
       "      <td>29793.03</td>\n",
       "    </tr>\n",
       "    <tr>\n",
       "      <th>3</th>\n",
       "      <td>(10, 5.2e-07)</td>\n",
       "      <td>82844.0</td>\n",
       "      <td>2500006.0</td>\n",
       "      <td>62</td>\n",
       "      <td>0.07</td>\n",
       "      <td>30177.27</td>\n",
       "      <td>40322.68</td>\n",
       "    </tr>\n",
       "    <tr>\n",
       "      <th>13</th>\n",
       "      <td>(20, 5.2e-07)</td>\n",
       "      <td>56567.0</td>\n",
       "      <td>2500053.0</td>\n",
       "      <td>52</td>\n",
       "      <td>0.09</td>\n",
       "      <td>44196.32</td>\n",
       "      <td>48077.94</td>\n",
       "    </tr>\n",
       "  </tbody>\n",
       "</table>\n",
       "</div>"
      ],
      "text/plain": [
       "          C_Lambda  impressions  total_cost  clicks   CTR       CPM       CPC\n",
       "34   (40, 5.2e-06)      85773.0   2349603.0      73  0.09  27393.27  32186.34\n",
       "54   (60, 5.2e-06)      77252.0   2500015.0      72  0.09  32361.82  34722.43\n",
       "64   (70, 5.2e-06)      73685.0   2500002.0      71   0.1  33928.24   35211.3\n",
       "44   (50, 5.2e-06)      83397.0   2500005.0      71  0.09  29977.16  35211.34\n",
       "84   (90, 5.2e-06)      69322.0   2500034.0      70   0.1  36064.08  35714.77\n",
       "74   (80, 5.2e-06)      71209.0   2500046.0      69   0.1  35108.57  36232.55\n",
       "94  (100, 5.2e-06)      68035.0   2500041.0      68   0.1   36746.4  36765.31\n",
       "24   (30, 5.2e-06)      76329.0   1847168.0      62  0.08  24200.08  29793.03\n",
       "3    (10, 5.2e-07)      82844.0   2500006.0      62  0.07  30177.27  40322.68\n",
       "13   (20, 5.2e-07)      56567.0   2500053.0      52  0.09  44196.32  48077.94"
      ]
     },
     "execution_count": 159,
     "metadata": {},
     "output_type": "execute_result"
    }
   ],
   "source": [
    "ortb2result.sort_values(\"clicks\",ascending= False).head(10)"
   ]
  },
  {
   "cell_type": "code",
   "execution_count": 160,
   "metadata": {
    "collapsed": true
   },
   "outputs": [],
   "source": [
    "def ortb1opt(c,lambdas,predictctr):\n",
    "    impression = 0.0\n",
    "    clicks = 0\n",
    "    cost = 0.0\n",
    "    budget = 2500000  # 1/10th budget of 25,000,000\n",
    "    bidortb1 = []\n",
    "    \n",
    "    for pctr in predictctr:\n",
    "        if pctr <= 0.0003:\n",
    "            ortb1 = 0\n",
    "        else:\n",
    "            ortb1 = math.sqrt(c/lambdas*pctr + c**2)-c\n",
    "        bidortb1.append(ortb1)\n",
    "    \n",
    "    true_bids = bidortb1 >= validation.payprice\n",
    "    for i in range(0, len(true_bids)):\n",
    "        if true_bids[i] == True:\n",
    "            impression += 1.0\n",
    "            clicks += validation.click[i]\n",
    "            cost += validation.payprice[i]\n",
    "        if cost >= budget:\n",
    "            break\n",
    "    return impression, clicks, cost\n",
    "    \n",
    "    "
   ]
  },
  {
   "cell_type": "code",
   "execution_count": 161,
   "metadata": {
    "collapsed": true
   },
   "outputs": [],
   "source": [
    "ortb1opt = get_results(GBDTctr,ortb1opt)"
   ]
  },
  {
   "cell_type": "code",
   "execution_count": 167,
   "metadata": {
    "collapsed": true
   },
   "outputs": [],
   "source": [
    "def ortb2opt(c,lambdas,predictctr):\n",
    "    impression = 0.0\n",
    "    clicks = 0\n",
    "    cost = 0.0\n",
    "    budget = 2500000  # 1/10th budget of 25,000,000\n",
    "    bidortb2 = []\n",
    "    \n",
    "    for pctr in predictctr:\n",
    "        if pctr <= 0.0003:\n",
    "            bidprice = 0\n",
    "        else:\n",
    "            bidprice = c*(math.pow((pctr+math.sqrt((c**2)*(lambdas**2)+pctr**2))/(c*lambdas),1/3)-math.pow(c*lambdas/(pctr+math.sqrt((c**2)*(lambdas**2)+pctr**2)),1/3))\n",
    "        bidortb2.append(bidprice)\n",
    "    \n",
    "    true_bids = bidortb2 >= validation.payprice\n",
    "    for i in range(0, len(true_bids)):\n",
    "        if true_bids[i] == True:\n",
    "            impression += 1.0\n",
    "            clicks += validation.click[i]\n",
    "            cost += validation.payprice[i]\n",
    "        if cost >= budget:\n",
    "            break\n",
    "    return impression, clicks, cost"
   ]
  },
  {
   "cell_type": "code",
   "execution_count": 168,
   "metadata": {},
   "outputs": [],
   "source": [
    "ortb2opt = get_results(GBDTctr,ortb2opt)"
   ]
  },
  {
   "cell_type": "code",
   "execution_count": 169,
   "metadata": {},
   "outputs": [
    {
     "data": {
      "text/html": [
       "<div>\n",
       "<table border=\"1\" class=\"dataframe\">\n",
       "  <thead>\n",
       "    <tr style=\"text-align: right;\">\n",
       "      <th></th>\n",
       "      <th>C_Lambda</th>\n",
       "      <th>impressions</th>\n",
       "      <th>total_cost</th>\n",
       "      <th>clicks</th>\n",
       "      <th>CTR</th>\n",
       "      <th>CPM</th>\n",
       "      <th>CPC</th>\n",
       "    </tr>\n",
       "  </thead>\n",
       "  <tbody>\n",
       "    <tr>\n",
       "      <th>94</th>\n",
       "      <td>(100, 5.2e-06)</td>\n",
       "      <td>64425.0</td>\n",
       "      <td>2259176.0</td>\n",
       "      <td>94</td>\n",
       "      <td>0.15</td>\n",
       "      <td>35066.76</td>\n",
       "      <td>24033.79</td>\n",
       "    </tr>\n",
       "    <tr>\n",
       "      <th>84</th>\n",
       "      <td>(90, 5.2e-06)</td>\n",
       "      <td>63235.0</td>\n",
       "      <td>2175323.0</td>\n",
       "      <td>94</td>\n",
       "      <td>0.15</td>\n",
       "      <td>34400.62</td>\n",
       "      <td>23141.73</td>\n",
       "    </tr>\n",
       "    <tr>\n",
       "      <th>74</th>\n",
       "      <td>(80, 5.2e-06)</td>\n",
       "      <td>62038.0</td>\n",
       "      <td>2092803.0</td>\n",
       "      <td>91</td>\n",
       "      <td>0.15</td>\n",
       "      <td>33734.21</td>\n",
       "      <td>22997.84</td>\n",
       "    </tr>\n",
       "    <tr>\n",
       "      <th>64</th>\n",
       "      <td>(70, 5.2e-06)</td>\n",
       "      <td>60209.0</td>\n",
       "      <td>1970126.0</td>\n",
       "      <td>88</td>\n",
       "      <td>0.15</td>\n",
       "      <td>32721.45</td>\n",
       "      <td>22387.8</td>\n",
       "    </tr>\n",
       "    <tr>\n",
       "      <th>54</th>\n",
       "      <td>(60, 5.2e-06)</td>\n",
       "      <td>58981.0</td>\n",
       "      <td>1892236.0</td>\n",
       "      <td>85</td>\n",
       "      <td>0.14</td>\n",
       "      <td>32082.13</td>\n",
       "      <td>22261.6</td>\n",
       "    </tr>\n",
       "    <tr>\n",
       "      <th>44</th>\n",
       "      <td>(50, 5.2e-06)</td>\n",
       "      <td>56968.0</td>\n",
       "      <td>1760962.0</td>\n",
       "      <td>77</td>\n",
       "      <td>0.14</td>\n",
       "      <td>30911.42</td>\n",
       "      <td>22869.64</td>\n",
       "    </tr>\n",
       "    <tr>\n",
       "      <th>34</th>\n",
       "      <td>(40, 5.2e-06)</td>\n",
       "      <td>53295.0</td>\n",
       "      <td>1547899.0</td>\n",
       "      <td>73</td>\n",
       "      <td>0.14</td>\n",
       "      <td>29043.98</td>\n",
       "      <td>21204.1</td>\n",
       "    </tr>\n",
       "    <tr>\n",
       "      <th>24</th>\n",
       "      <td>(30, 5.2e-06)</td>\n",
       "      <td>49753.0</td>\n",
       "      <td>1350544.0</td>\n",
       "      <td>62</td>\n",
       "      <td>0.12</td>\n",
       "      <td>27144.98</td>\n",
       "      <td>21782.97</td>\n",
       "    </tr>\n",
       "    <tr>\n",
       "      <th>3</th>\n",
       "      <td>(10, 5.2e-07)</td>\n",
       "      <td>48504.0</td>\n",
       "      <td>2500024.0</td>\n",
       "      <td>61</td>\n",
       "      <td>0.13</td>\n",
       "      <td>51542.64</td>\n",
       "      <td>40984.0</td>\n",
       "    </tr>\n",
       "    <tr>\n",
       "      <th>13</th>\n",
       "      <td>(20, 5.2e-07)</td>\n",
       "      <td>42049.0</td>\n",
       "      <td>2500035.0</td>\n",
       "      <td>51</td>\n",
       "      <td>0.12</td>\n",
       "      <td>59455.28</td>\n",
       "      <td>49020.29</td>\n",
       "    </tr>\n",
       "  </tbody>\n",
       "</table>\n",
       "</div>"
      ],
      "text/plain": [
       "          C_Lambda  impressions  total_cost  clicks   CTR       CPM       CPC\n",
       "94  (100, 5.2e-06)      64425.0   2259176.0      94  0.15  35066.76  24033.79\n",
       "84   (90, 5.2e-06)      63235.0   2175323.0      94  0.15  34400.62  23141.73\n",
       "74   (80, 5.2e-06)      62038.0   2092803.0      91  0.15  33734.21  22997.84\n",
       "64   (70, 5.2e-06)      60209.0   1970126.0      88  0.15  32721.45   22387.8\n",
       "54   (60, 5.2e-06)      58981.0   1892236.0      85  0.14  32082.13   22261.6\n",
       "44   (50, 5.2e-06)      56968.0   1760962.0      77  0.14  30911.42  22869.64\n",
       "34   (40, 5.2e-06)      53295.0   1547899.0      73  0.14  29043.98   21204.1\n",
       "24   (30, 5.2e-06)      49753.0   1350544.0      62  0.12  27144.98  21782.97\n",
       "3    (10, 5.2e-07)      48504.0   2500024.0      61  0.13  51542.64   40984.0\n",
       "13   (20, 5.2e-07)      42049.0   2500035.0      51  0.12  59455.28  49020.29"
      ]
     },
     "execution_count": 169,
     "metadata": {},
     "output_type": "execute_result"
    }
   ],
   "source": [
    "ortb1opt.sort_values(\"clicks\",ascending= False).head(10)"
   ]
  },
  {
   "cell_type": "code",
   "execution_count": 170,
   "metadata": {},
   "outputs": [
    {
     "data": {
      "text/html": [
       "<div>\n",
       "<table border=\"1\" class=\"dataframe\">\n",
       "  <thead>\n",
       "    <tr style=\"text-align: right;\">\n",
       "      <th></th>\n",
       "      <th>C_Lambda</th>\n",
       "      <th>impressions</th>\n",
       "      <th>total_cost</th>\n",
       "      <th>clicks</th>\n",
       "      <th>CTR</th>\n",
       "      <th>CPM</th>\n",
       "      <th>CPC</th>\n",
       "    </tr>\n",
       "  </thead>\n",
       "  <tbody>\n",
       "    <tr>\n",
       "      <th>44</th>\n",
       "      <td>(50, 5.2e-06)</td>\n",
       "      <td>72671.0</td>\n",
       "      <td>2485265.0</td>\n",
       "      <td>84</td>\n",
       "      <td>0.12</td>\n",
       "      <td>34198.86</td>\n",
       "      <td>29586.49</td>\n",
       "    </tr>\n",
       "    <tr>\n",
       "      <th>54</th>\n",
       "      <td>(60, 5.2e-06)</td>\n",
       "      <td>67732.0</td>\n",
       "      <td>2500001.0</td>\n",
       "      <td>77</td>\n",
       "      <td>0.11</td>\n",
       "      <td>36910.19</td>\n",
       "      <td>32467.55</td>\n",
       "    </tr>\n",
       "    <tr>\n",
       "      <th>64</th>\n",
       "      <td>(70, 5.2e-06)</td>\n",
       "      <td>64786.0</td>\n",
       "      <td>2500001.0</td>\n",
       "      <td>76</td>\n",
       "      <td>0.12</td>\n",
       "      <td>38588.6</td>\n",
       "      <td>32894.75</td>\n",
       "    </tr>\n",
       "    <tr>\n",
       "      <th>74</th>\n",
       "      <td>(80, 5.2e-06)</td>\n",
       "      <td>62397.0</td>\n",
       "      <td>2500009.0</td>\n",
       "      <td>76</td>\n",
       "      <td>0.12</td>\n",
       "      <td>40066.17</td>\n",
       "      <td>32894.86</td>\n",
       "    </tr>\n",
       "    <tr>\n",
       "      <th>84</th>\n",
       "      <td>(90, 5.2e-06)</td>\n",
       "      <td>60833.0</td>\n",
       "      <td>2500051.0</td>\n",
       "      <td>74</td>\n",
       "      <td>0.12</td>\n",
       "      <td>41096.95</td>\n",
       "      <td>33784.47</td>\n",
       "    </tr>\n",
       "    <tr>\n",
       "      <th>3</th>\n",
       "      <td>(10, 5.2e-07)</td>\n",
       "      <td>73093.0</td>\n",
       "      <td>2500037.0</td>\n",
       "      <td>73</td>\n",
       "      <td>0.1</td>\n",
       "      <td>34203.51</td>\n",
       "      <td>34247.08</td>\n",
       "    </tr>\n",
       "    <tr>\n",
       "      <th>94</th>\n",
       "      <td>(100, 5.2e-06)</td>\n",
       "      <td>59735.0</td>\n",
       "      <td>2500124.0</td>\n",
       "      <td>71</td>\n",
       "      <td>0.12</td>\n",
       "      <td>41853.59</td>\n",
       "      <td>35213.01</td>\n",
       "    </tr>\n",
       "    <tr>\n",
       "      <th>34</th>\n",
       "      <td>(40, 5.2e-06)</td>\n",
       "      <td>65699.0</td>\n",
       "      <td>2046964.0</td>\n",
       "      <td>71</td>\n",
       "      <td>0.11</td>\n",
       "      <td>31156.7</td>\n",
       "      <td>28830.48</td>\n",
       "    </tr>\n",
       "    <tr>\n",
       "      <th>13</th>\n",
       "      <td>(20, 5.2e-07)</td>\n",
       "      <td>50854.0</td>\n",
       "      <td>2500037.0</td>\n",
       "      <td>65</td>\n",
       "      <td>0.13</td>\n",
       "      <td>49161.07</td>\n",
       "      <td>38462.11</td>\n",
       "    </tr>\n",
       "    <tr>\n",
       "      <th>24</th>\n",
       "      <td>(30, 5.2e-06)</td>\n",
       "      <td>57737.0</td>\n",
       "      <td>1578916.0</td>\n",
       "      <td>60</td>\n",
       "      <td>0.1</td>\n",
       "      <td>27346.69</td>\n",
       "      <td>26315.27</td>\n",
       "    </tr>\n",
       "  </tbody>\n",
       "</table>\n",
       "</div>"
      ],
      "text/plain": [
       "          C_Lambda  impressions  total_cost  clicks   CTR       CPM       CPC\n",
       "44   (50, 5.2e-06)      72671.0   2485265.0      84  0.12  34198.86  29586.49\n",
       "54   (60, 5.2e-06)      67732.0   2500001.0      77  0.11  36910.19  32467.55\n",
       "64   (70, 5.2e-06)      64786.0   2500001.0      76  0.12   38588.6  32894.75\n",
       "74   (80, 5.2e-06)      62397.0   2500009.0      76  0.12  40066.17  32894.86\n",
       "84   (90, 5.2e-06)      60833.0   2500051.0      74  0.12  41096.95  33784.47\n",
       "3    (10, 5.2e-07)      73093.0   2500037.0      73   0.1  34203.51  34247.08\n",
       "94  (100, 5.2e-06)      59735.0   2500124.0      71  0.12  41853.59  35213.01\n",
       "34   (40, 5.2e-06)      65699.0   2046964.0      71  0.11   31156.7  28830.48\n",
       "13   (20, 5.2e-07)      50854.0   2500037.0      65  0.13  49161.07  38462.11\n",
       "24   (30, 5.2e-06)      57737.0   1578916.0      60   0.1  27346.69  26315.27"
      ]
     },
     "execution_count": 170,
     "metadata": {},
     "output_type": "execute_result"
    }
   ],
   "source": [
    "ortb2opt.sort_values(\"clicks\",ascending= False).head(10)"
   ]
  },
  {
   "cell_type": "code",
   "execution_count": 171,
   "metadata": {},
   "outputs": [
    {
     "data": {
      "text/html": [
       "<div>\n",
       "<table border=\"1\" class=\"dataframe\">\n",
       "  <thead>\n",
       "    <tr style=\"text-align: right;\">\n",
       "      <th></th>\n",
       "      <th>C_Lambda</th>\n",
       "      <th>impressions</th>\n",
       "      <th>total_cost</th>\n",
       "      <th>clicks</th>\n",
       "      <th>CTR</th>\n",
       "      <th>CPM</th>\n",
       "      <th>CPC</th>\n",
       "    </tr>\n",
       "  </thead>\n",
       "  <tbody>\n",
       "    <tr>\n",
       "      <th>25</th>\n",
       "      <td>(30, 5.2e-05)</td>\n",
       "      <td>5163.0</td>\n",
       "      <td>51272.0</td>\n",
       "      <td>12</td>\n",
       "      <td>0.23</td>\n",
       "      <td>9930.66</td>\n",
       "      <td>4272.67</td>\n",
       "    </tr>\n",
       "    <tr>\n",
       "      <th>55</th>\n",
       "      <td>(60, 5.2e-05)</td>\n",
       "      <td>5909.0</td>\n",
       "      <td>70672.0</td>\n",
       "      <td>13</td>\n",
       "      <td>0.22</td>\n",
       "      <td>11960.06</td>\n",
       "      <td>5436.31</td>\n",
       "    </tr>\n",
       "    <tr>\n",
       "      <th>95</th>\n",
       "      <td>(100, 5.2e-05)</td>\n",
       "      <td>6303.0</td>\n",
       "      <td>84561.0</td>\n",
       "      <td>14</td>\n",
       "      <td>0.22</td>\n",
       "      <td>13415.99</td>\n",
       "      <td>6040.07</td>\n",
       "    </tr>\n",
       "    <tr>\n",
       "      <th>45</th>\n",
       "      <td>(50, 5.2e-05)</td>\n",
       "      <td>5790.0</td>\n",
       "      <td>67559.0</td>\n",
       "      <td>13</td>\n",
       "      <td>0.22</td>\n",
       "      <td>11668.22</td>\n",
       "      <td>5196.85</td>\n",
       "    </tr>\n",
       "    <tr>\n",
       "      <th>75</th>\n",
       "      <td>(80, 5.2e-05)</td>\n",
       "      <td>6162.0</td>\n",
       "      <td>79503.0</td>\n",
       "      <td>13</td>\n",
       "      <td>0.21</td>\n",
       "      <td>12902.14</td>\n",
       "      <td>6115.62</td>\n",
       "    </tr>\n",
       "    <tr>\n",
       "      <th>5</th>\n",
       "      <td>(10, 5.2e-05)</td>\n",
       "      <td>3836.0</td>\n",
       "      <td>28961.0</td>\n",
       "      <td>8</td>\n",
       "      <td>0.21</td>\n",
       "      <td>7549.79</td>\n",
       "      <td>3620.12</td>\n",
       "    </tr>\n",
       "    <tr>\n",
       "      <th>35</th>\n",
       "      <td>(40, 5.2e-05)</td>\n",
       "      <td>5641.0</td>\n",
       "      <td>63111.0</td>\n",
       "      <td>12</td>\n",
       "      <td>0.21</td>\n",
       "      <td>11187.91</td>\n",
       "      <td>5259.25</td>\n",
       "    </tr>\n",
       "    <tr>\n",
       "      <th>85</th>\n",
       "      <td>(90, 5.2e-05)</td>\n",
       "      <td>6260.0</td>\n",
       "      <td>83082.0</td>\n",
       "      <td>13</td>\n",
       "      <td>0.21</td>\n",
       "      <td>13271.88</td>\n",
       "      <td>6390.92</td>\n",
       "    </tr>\n",
       "    <tr>\n",
       "      <th>65</th>\n",
       "      <td>(70, 5.2e-05)</td>\n",
       "      <td>6053.0</td>\n",
       "      <td>75489.0</td>\n",
       "      <td>13</td>\n",
       "      <td>0.21</td>\n",
       "      <td>12471.34</td>\n",
       "      <td>5806.85</td>\n",
       "    </tr>\n",
       "    <tr>\n",
       "      <th>15</th>\n",
       "      <td>(20, 5.2e-05)</td>\n",
       "      <td>4786.0</td>\n",
       "      <td>42104.0</td>\n",
       "      <td>9</td>\n",
       "      <td>0.19</td>\n",
       "      <td>8797.33</td>\n",
       "      <td>4678.22</td>\n",
       "    </tr>\n",
       "  </tbody>\n",
       "</table>\n",
       "</div>"
      ],
      "text/plain": [
       "          C_Lambda  impressions  total_cost  clicks   CTR       CPM      CPC\n",
       "25   (30, 5.2e-05)       5163.0     51272.0      12  0.23   9930.66  4272.67\n",
       "55   (60, 5.2e-05)       5909.0     70672.0      13  0.22  11960.06  5436.31\n",
       "95  (100, 5.2e-05)       6303.0     84561.0      14  0.22  13415.99  6040.07\n",
       "45   (50, 5.2e-05)       5790.0     67559.0      13  0.22  11668.22  5196.85\n",
       "75   (80, 5.2e-05)       6162.0     79503.0      13  0.21  12902.14  6115.62\n",
       "5    (10, 5.2e-05)       3836.0     28961.0       8  0.21   7549.79  3620.12\n",
       "35   (40, 5.2e-05)       5641.0     63111.0      12  0.21  11187.91  5259.25\n",
       "85   (90, 5.2e-05)       6260.0     83082.0      13  0.21  13271.88  6390.92\n",
       "65   (70, 5.2e-05)       6053.0     75489.0      13  0.21  12471.34  5806.85\n",
       "15   (20, 5.2e-05)       4786.0     42104.0       9  0.19   8797.33  4678.22"
      ]
     },
     "execution_count": 171,
     "metadata": {},
     "output_type": "execute_result"
    }
   ],
   "source": [
    "ortb1opt.sort_values(\"CTR\",ascending= False).head(10)"
   ]
  },
  {
   "cell_type": "code",
   "execution_count": 172,
   "metadata": {},
   "outputs": [
    {
     "data": {
      "text/html": [
       "<div>\n",
       "<table border=\"1\" class=\"dataframe\">\n",
       "  <thead>\n",
       "    <tr style=\"text-align: right;\">\n",
       "      <th></th>\n",
       "      <th>C_Lambda</th>\n",
       "      <th>impressions</th>\n",
       "      <th>total_cost</th>\n",
       "      <th>clicks</th>\n",
       "      <th>CTR</th>\n",
       "      <th>CPM</th>\n",
       "      <th>CPC</th>\n",
       "    </tr>\n",
       "  </thead>\n",
       "  <tbody>\n",
       "    <tr>\n",
       "      <th>65</th>\n",
       "      <td>(70, 5.2e-05)</td>\n",
       "      <td>10068.0</td>\n",
       "      <td>154105.0</td>\n",
       "      <td>16</td>\n",
       "      <td>0.16</td>\n",
       "      <td>15306.42</td>\n",
       "      <td>9631.56</td>\n",
       "    </tr>\n",
       "    <tr>\n",
       "      <th>45</th>\n",
       "      <td>(50, 5.2e-05)</td>\n",
       "      <td>9631.0</td>\n",
       "      <td>133827.0</td>\n",
       "      <td>15</td>\n",
       "      <td>0.16</td>\n",
       "      <td>13895.44</td>\n",
       "      <td>8921.8</td>\n",
       "    </tr>\n",
       "    <tr>\n",
       "      <th>35</th>\n",
       "      <td>(40, 5.2e-05)</td>\n",
       "      <td>9266.0</td>\n",
       "      <td>119137.0</td>\n",
       "      <td>15</td>\n",
       "      <td>0.16</td>\n",
       "      <td>12857.44</td>\n",
       "      <td>7942.47</td>\n",
       "    </tr>\n",
       "    <tr>\n",
       "      <th>75</th>\n",
       "      <td>(80, 5.2e-05)</td>\n",
       "      <td>10190.0</td>\n",
       "      <td>160527.0</td>\n",
       "      <td>16</td>\n",
       "      <td>0.16</td>\n",
       "      <td>15753.39</td>\n",
       "      <td>10032.94</td>\n",
       "    </tr>\n",
       "    <tr>\n",
       "      <th>85</th>\n",
       "      <td>(90, 5.2e-05)</td>\n",
       "      <td>10261.0</td>\n",
       "      <td>164658.0</td>\n",
       "      <td>16</td>\n",
       "      <td>0.16</td>\n",
       "      <td>16046.97</td>\n",
       "      <td>10291.12</td>\n",
       "    </tr>\n",
       "    <tr>\n",
       "      <th>95</th>\n",
       "      <td>(100, 5.2e-05)</td>\n",
       "      <td>10371.0</td>\n",
       "      <td>169557.0</td>\n",
       "      <td>16</td>\n",
       "      <td>0.15</td>\n",
       "      <td>16349.15</td>\n",
       "      <td>10597.31</td>\n",
       "    </tr>\n",
       "    <tr>\n",
       "      <th>55</th>\n",
       "      <td>(60, 5.2e-05)</td>\n",
       "      <td>9893.0</td>\n",
       "      <td>145921.0</td>\n",
       "      <td>15</td>\n",
       "      <td>0.15</td>\n",
       "      <td>14749.92</td>\n",
       "      <td>9728.07</td>\n",
       "    </tr>\n",
       "    <tr>\n",
       "      <th>15</th>\n",
       "      <td>(20, 5.2e-05)</td>\n",
       "      <td>7925.0</td>\n",
       "      <td>77210.0</td>\n",
       "      <td>11</td>\n",
       "      <td>0.14</td>\n",
       "      <td>9742.59</td>\n",
       "      <td>7019.09</td>\n",
       "    </tr>\n",
       "    <tr>\n",
       "      <th>25</th>\n",
       "      <td>(30, 5.2e-05)</td>\n",
       "      <td>8643.0</td>\n",
       "      <td>97302.0</td>\n",
       "      <td>12</td>\n",
       "      <td>0.14</td>\n",
       "      <td>11257.9</td>\n",
       "      <td>8108.5</td>\n",
       "    </tr>\n",
       "    <tr>\n",
       "      <th>62</th>\n",
       "      <td>(70, 5.2e-08)</td>\n",
       "      <td>29795.0</td>\n",
       "      <td>2500040.0</td>\n",
       "      <td>38</td>\n",
       "      <td>0.13</td>\n",
       "      <td>83908.04</td>\n",
       "      <td>65790.53</td>\n",
       "    </tr>\n",
       "  </tbody>\n",
       "</table>\n",
       "</div>"
      ],
      "text/plain": [
       "          C_Lambda  impressions  total_cost  clicks   CTR       CPM       CPC\n",
       "65   (70, 5.2e-05)      10068.0    154105.0      16  0.16  15306.42   9631.56\n",
       "45   (50, 5.2e-05)       9631.0    133827.0      15  0.16  13895.44    8921.8\n",
       "35   (40, 5.2e-05)       9266.0    119137.0      15  0.16  12857.44   7942.47\n",
       "75   (80, 5.2e-05)      10190.0    160527.0      16  0.16  15753.39  10032.94\n",
       "85   (90, 5.2e-05)      10261.0    164658.0      16  0.16  16046.97  10291.12\n",
       "95  (100, 5.2e-05)      10371.0    169557.0      16  0.15  16349.15  10597.31\n",
       "55   (60, 5.2e-05)       9893.0    145921.0      15  0.15  14749.92   9728.07\n",
       "15   (20, 5.2e-05)       7925.0     77210.0      11  0.14   9742.59   7019.09\n",
       "25   (30, 5.2e-05)       8643.0     97302.0      12  0.14   11257.9    8108.5\n",
       "62   (70, 5.2e-08)      29795.0   2500040.0      38  0.13  83908.04  65790.53"
      ]
     },
     "execution_count": 172,
     "metadata": {},
     "output_type": "execute_result"
    }
   ],
   "source": [
    "ortb2opt.sort_values(\"CTR\",ascending= False).head(10)"
   ]
  },
  {
   "cell_type": "code",
   "execution_count": 177,
   "metadata": {
    "collapsed": true
   },
   "outputs": [],
   "source": [
    "LRctr = np.asarray(LRprob)"
   ]
  },
  {
   "cell_type": "code",
   "execution_count": 184,
   "metadata": {},
   "outputs": [
    {
     "data": {
      "text/plain": [
       "array([ 0.00054017,  0.00428127,  0.00108739, ...,  0.0004593 ,\n",
       "        0.00027177,  0.00063145])"
      ]
     },
     "execution_count": 184,
     "metadata": {},
     "output_type": "execute_result"
    }
   ],
   "source": [
    "LRctr"
   ]
  },
  {
   "cell_type": "code",
   "execution_count": 179,
   "metadata": {},
   "outputs": [],
   "source": [
    "LRortb1result = get_results(LRctr,ortb1)\n"
   ]
  },
  {
   "cell_type": "code",
   "execution_count": 186,
   "metadata": {},
   "outputs": [],
   "source": [
    "LRortb1result = pd.DataFrame()\n",
    "    \n",
    "lrimp = []\n",
    "lrclik = []\n",
    "lrct = []\n",
    "lrclamb = []\n",
    "for combination in combinations:\n",
    "    c = combination[0]\n",
    "    lam = combination[1]\n",
    "    [lrimps, lrclicks, lrcost] = ortb1(c,lam,LRprob)\n",
    "    lrimp.append(lrimps)\n",
    "    lrclik.append(lrclicks)\n",
    "    lrct.append(lrcost)\n",
    "    lrclamb.append(combination)\n",
    "LRortb1result['C_Lambda'] = lrclamb\n",
    "LRortb1result['impressions'] = lrimp\n",
    "LRortb1result['total_cost'] = lrct\n",
    "LRortb1result['clicks'] = lrclik\n",
    "LRortb1result['CTR'] = (LRortb1result.clicks / LRortb1result.impressions * 100).round(2).astype(str)\n",
    "LRortb1result['CPM'] = (LRortb1result.total_cost / LRortb1result.impressions * 1000).round(2).astype(str)\n",
    "LRortb1result['CPC'] = (LRortb1result.total_cost / LRortb1result.clicks).round(2).astype(str)"
   ]
  },
  {
   "cell_type": "code",
   "execution_count": 180,
   "metadata": {
    "collapsed": true
   },
   "outputs": [],
   "source": [
    "LRortb2result = get_results(LRctr,ortb2)\n"
   ]
  },
  {
   "cell_type": "code",
   "execution_count": 192,
   "metadata": {},
   "outputs": [
    {
     "ename": "TypeError",
     "evalue": "'DataFrame' object is not callable",
     "output_type": "error",
     "traceback": [
      "\u001b[0;31m---------------------------------------------------------------------------\u001b[0m",
      "\u001b[0;31mTypeError\u001b[0m                                 Traceback (most recent call last)",
      "\u001b[0;32m<ipython-input-192-aa3f6c319979>\u001b[0m in \u001b[0;36m<module>\u001b[0;34m()\u001b[0m\n\u001b[0;32m----> 1\u001b[0;31m \u001b[0mLRortb1opt\u001b[0m \u001b[0;34m=\u001b[0m \u001b[0mget_results\u001b[0m\u001b[0;34m(\u001b[0m\u001b[0mLRctr\u001b[0m\u001b[0;34m,\u001b[0m\u001b[0mortb1opt\u001b[0m\u001b[0;34m)\u001b[0m\u001b[0;34m\u001b[0m\u001b[0m\n\u001b[0m",
      "\u001b[0;32m<ipython-input-153-ac5b8bf17ba0>\u001b[0m in \u001b[0;36mget_results\u001b[0;34m(predictctr, ortb)\u001b[0m\n\u001b[1;32m      9\u001b[0m         \u001b[0mc\u001b[0m \u001b[0;34m=\u001b[0m \u001b[0mcombination\u001b[0m\u001b[0;34m[\u001b[0m\u001b[0;36m0\u001b[0m\u001b[0;34m]\u001b[0m\u001b[0;34m\u001b[0m\u001b[0m\n\u001b[1;32m     10\u001b[0m         \u001b[0mlam\u001b[0m \u001b[0;34m=\u001b[0m \u001b[0mcombination\u001b[0m\u001b[0;34m[\u001b[0m\u001b[0;36m1\u001b[0m\u001b[0;34m]\u001b[0m\u001b[0;34m\u001b[0m\u001b[0m\n\u001b[0;32m---> 11\u001b[0;31m         \u001b[0;34m[\u001b[0m\u001b[0mimps\u001b[0m\u001b[0;34m,\u001b[0m \u001b[0mclicks\u001b[0m\u001b[0;34m,\u001b[0m \u001b[0mcost\u001b[0m\u001b[0;34m]\u001b[0m \u001b[0;34m=\u001b[0m \u001b[0mortb\u001b[0m\u001b[0;34m(\u001b[0m\u001b[0mc\u001b[0m\u001b[0;34m,\u001b[0m\u001b[0mlam\u001b[0m\u001b[0;34m,\u001b[0m\u001b[0mpredictctr\u001b[0m\u001b[0;34m)\u001b[0m\u001b[0;34m\u001b[0m\u001b[0m\n\u001b[0m\u001b[1;32m     12\u001b[0m         \u001b[0mimp\u001b[0m\u001b[0;34m.\u001b[0m\u001b[0mappend\u001b[0m\u001b[0;34m(\u001b[0m\u001b[0mimps\u001b[0m\u001b[0;34m)\u001b[0m\u001b[0;34m\u001b[0m\u001b[0m\n\u001b[1;32m     13\u001b[0m         \u001b[0mclik\u001b[0m\u001b[0;34m.\u001b[0m\u001b[0mappend\u001b[0m\u001b[0;34m(\u001b[0m\u001b[0mclicks\u001b[0m\u001b[0;34m)\u001b[0m\u001b[0;34m\u001b[0m\u001b[0m\n",
      "\u001b[0;31mTypeError\u001b[0m: 'DataFrame' object is not callable"
     ]
    }
   ],
   "source": [
    "LRortb1opt = get_results(LRctr,ortb1opt)\n"
   ]
  },
  {
   "cell_type": "code",
   "execution_count": null,
   "metadata": {
    "collapsed": true
   },
   "outputs": [],
   "source": [
    "LRortb2opt = get_results(LRctr,ortb2opt)"
   ]
  },
  {
   "cell_type": "code",
   "execution_count": 188,
   "metadata": {},
   "outputs": [
    {
     "data": {
      "text/html": [
       "<div>\n",
       "<table border=\"1\" class=\"dataframe\">\n",
       "  <thead>\n",
       "    <tr style=\"text-align: right;\">\n",
       "      <th></th>\n",
       "      <th>C_Lambda</th>\n",
       "      <th>impressions</th>\n",
       "      <th>total_cost</th>\n",
       "      <th>clicks</th>\n",
       "      <th>CTR</th>\n",
       "      <th>CPM</th>\n",
       "      <th>CPC</th>\n",
       "    </tr>\n",
       "  </thead>\n",
       "  <tbody>\n",
       "    <tr>\n",
       "      <th>5</th>\n",
       "      <td>(10, 5.2e-05)</td>\n",
       "      <td>4230.0</td>\n",
       "      <td>28054.0</td>\n",
       "      <td>8</td>\n",
       "      <td>0.19</td>\n",
       "      <td>6632.15</td>\n",
       "      <td>3506.75</td>\n",
       "    </tr>\n",
       "    <tr>\n",
       "      <th>85</th>\n",
       "      <td>(90, 5.2e-05)</td>\n",
       "      <td>6972.0</td>\n",
       "      <td>74224.0</td>\n",
       "      <td>13</td>\n",
       "      <td>0.19</td>\n",
       "      <td>10646.01</td>\n",
       "      <td>5709.54</td>\n",
       "    </tr>\n",
       "    <tr>\n",
       "      <th>45</th>\n",
       "      <td>(50, 5.2e-05)</td>\n",
       "      <td>6504.0</td>\n",
       "      <td>63827.0</td>\n",
       "      <td>12</td>\n",
       "      <td>0.18</td>\n",
       "      <td>9813.5</td>\n",
       "      <td>5318.92</td>\n",
       "    </tr>\n",
       "    <tr>\n",
       "      <th>95</th>\n",
       "      <td>(100, 5.2e-05)</td>\n",
       "      <td>7031.0</td>\n",
       "      <td>75494.0</td>\n",
       "      <td>13</td>\n",
       "      <td>0.18</td>\n",
       "      <td>10737.31</td>\n",
       "      <td>5807.23</td>\n",
       "    </tr>\n",
       "    <tr>\n",
       "      <th>35</th>\n",
       "      <td>(40, 5.2e-05)</td>\n",
       "      <td>6269.0</td>\n",
       "      <td>59323.0</td>\n",
       "      <td>11</td>\n",
       "      <td>0.18</td>\n",
       "      <td>9462.91</td>\n",
       "      <td>5393.0</td>\n",
       "    </tr>\n",
       "  </tbody>\n",
       "</table>\n",
       "</div>"
      ],
      "text/plain": [
       "          C_Lambda  impressions  total_cost  clicks   CTR       CPM      CPC\n",
       "5    (10, 5.2e-05)       4230.0     28054.0       8  0.19   6632.15  3506.75\n",
       "85   (90, 5.2e-05)       6972.0     74224.0      13  0.19  10646.01  5709.54\n",
       "45   (50, 5.2e-05)       6504.0     63827.0      12  0.18    9813.5  5318.92\n",
       "95  (100, 5.2e-05)       7031.0     75494.0      13  0.18  10737.31  5807.23\n",
       "35   (40, 5.2e-05)       6269.0     59323.0      11  0.18   9462.91   5393.0"
      ]
     },
     "execution_count": 188,
     "metadata": {},
     "output_type": "execute_result"
    }
   ],
   "source": [
    "LRortb1result.sort_values(\"CTR\",ascending= False).head(5)"
   ]
  },
  {
   "cell_type": "code",
   "execution_count": 190,
   "metadata": {},
   "outputs": [
    {
     "data": {
      "text/html": [
       "<div>\n",
       "<table border=\"1\" class=\"dataframe\">\n",
       "  <thead>\n",
       "    <tr style=\"text-align: right;\">\n",
       "      <th></th>\n",
       "      <th>C_Lambda</th>\n",
       "      <th>impressions</th>\n",
       "      <th>total_cost</th>\n",
       "      <th>clicks</th>\n",
       "      <th>CTR</th>\n",
       "      <th>CPM</th>\n",
       "      <th>CPC</th>\n",
       "    </tr>\n",
       "  </thead>\n",
       "  <tbody>\n",
       "    <tr>\n",
       "      <th>46</th>\n",
       "      <td>(50, 0.00052)</td>\n",
       "      <td>392.0</td>\n",
       "      <td>1616.0</td>\n",
       "      <td>6</td>\n",
       "      <td>1.53</td>\n",
       "      <td>4122.45</td>\n",
       "      <td>269.33</td>\n",
       "    </tr>\n",
       "    <tr>\n",
       "      <th>56</th>\n",
       "      <td>(60, 0.00052)</td>\n",
       "      <td>397.0</td>\n",
       "      <td>1646.0</td>\n",
       "      <td>6</td>\n",
       "      <td>1.51</td>\n",
       "      <td>4146.1</td>\n",
       "      <td>274.33</td>\n",
       "    </tr>\n",
       "    <tr>\n",
       "      <th>66</th>\n",
       "      <td>(70, 0.00052)</td>\n",
       "      <td>398.0</td>\n",
       "      <td>1652.0</td>\n",
       "      <td>6</td>\n",
       "      <td>1.51</td>\n",
       "      <td>4150.75</td>\n",
       "      <td>275.33</td>\n",
       "    </tr>\n",
       "    <tr>\n",
       "      <th>86</th>\n",
       "      <td>(90, 0.00052)</td>\n",
       "      <td>401.0</td>\n",
       "      <td>1670.0</td>\n",
       "      <td>6</td>\n",
       "      <td>1.5</td>\n",
       "      <td>4164.59</td>\n",
       "      <td>278.33</td>\n",
       "    </tr>\n",
       "    <tr>\n",
       "      <th>76</th>\n",
       "      <td>(80, 0.00052)</td>\n",
       "      <td>399.0</td>\n",
       "      <td>1658.0</td>\n",
       "      <td>6</td>\n",
       "      <td>1.5</td>\n",
       "      <td>4155.39</td>\n",
       "      <td>276.33</td>\n",
       "    </tr>\n",
       "  </tbody>\n",
       "</table>\n",
       "</div>"
      ],
      "text/plain": [
       "         C_Lambda  impressions  total_cost  clicks   CTR      CPM     CPC\n",
       "46  (50, 0.00052)        392.0      1616.0       6  1.53  4122.45  269.33\n",
       "56  (60, 0.00052)        397.0      1646.0       6  1.51   4146.1  274.33\n",
       "66  (70, 0.00052)        398.0      1652.0       6  1.51  4150.75  275.33\n",
       "86  (90, 0.00052)        401.0      1670.0       6   1.5  4164.59  278.33\n",
       "76  (80, 0.00052)        399.0      1658.0       6   1.5  4155.39  276.33"
      ]
     },
     "execution_count": 190,
     "metadata": {},
     "output_type": "execute_result"
    }
   ],
   "source": [
    "LRortb2result.sort_values(\"CTR\",ascending= False).head(5)"
   ]
  },
  {
   "cell_type": "code",
   "execution_count": null,
   "metadata": {
    "collapsed": true
   },
   "outputs": [],
   "source": [
    "LRortb1opt.sort_values(\"CTR\",ascending= False).head(5)"
   ]
  },
  {
   "cell_type": "code",
   "execution_count": null,
   "metadata": {
    "collapsed": true
   },
   "outputs": [],
   "source": [
    "LRortb2opt.sort_values(\"CTR\",ascending= False).head(5)"
   ]
  },
  {
   "cell_type": "code",
   "execution_count": 189,
   "metadata": {},
   "outputs": [
    {
     "data": {
      "text/html": [
       "<div>\n",
       "<table border=\"1\" class=\"dataframe\">\n",
       "  <thead>\n",
       "    <tr style=\"text-align: right;\">\n",
       "      <th></th>\n",
       "      <th>C_Lambda</th>\n",
       "      <th>impressions</th>\n",
       "      <th>total_cost</th>\n",
       "      <th>clicks</th>\n",
       "      <th>CTR</th>\n",
       "      <th>CPM</th>\n",
       "      <th>CPC</th>\n",
       "    </tr>\n",
       "  </thead>\n",
       "  <tbody>\n",
       "    <tr>\n",
       "      <th>44</th>\n",
       "      <td>(50, 5.2e-06)</td>\n",
       "      <td>87737.0</td>\n",
       "      <td>2500023.0</td>\n",
       "      <td>82</td>\n",
       "      <td>0.09</td>\n",
       "      <td>28494.51</td>\n",
       "      <td>30488.09</td>\n",
       "    </tr>\n",
       "    <tr>\n",
       "      <th>84</th>\n",
       "      <td>(90, 5.2e-06)</td>\n",
       "      <td>77144.0</td>\n",
       "      <td>2500043.0</td>\n",
       "      <td>79</td>\n",
       "      <td>0.1</td>\n",
       "      <td>32407.48</td>\n",
       "      <td>31646.11</td>\n",
       "    </tr>\n",
       "    <tr>\n",
       "      <th>54</th>\n",
       "      <td>(60, 5.2e-06)</td>\n",
       "      <td>83863.0</td>\n",
       "      <td>2500018.0</td>\n",
       "      <td>77</td>\n",
       "      <td>0.09</td>\n",
       "      <td>29810.74</td>\n",
       "      <td>32467.77</td>\n",
       "    </tr>\n",
       "    <tr>\n",
       "      <th>94</th>\n",
       "      <td>(100, 5.2e-06)</td>\n",
       "      <td>75733.0</td>\n",
       "      <td>2500012.0</td>\n",
       "      <td>77</td>\n",
       "      <td>0.1</td>\n",
       "      <td>33010.87</td>\n",
       "      <td>32467.69</td>\n",
       "    </tr>\n",
       "    <tr>\n",
       "      <th>34</th>\n",
       "      <td>(40, 5.2e-06)</td>\n",
       "      <td>84118.0</td>\n",
       "      <td>2256850.0</td>\n",
       "      <td>76</td>\n",
       "      <td>0.09</td>\n",
       "      <td>26829.57</td>\n",
       "      <td>29695.39</td>\n",
       "    </tr>\n",
       "  </tbody>\n",
       "</table>\n",
       "</div>"
      ],
      "text/plain": [
       "          C_Lambda  impressions  total_cost  clicks   CTR       CPM       CPC\n",
       "44   (50, 5.2e-06)      87737.0   2500023.0      82  0.09  28494.51  30488.09\n",
       "84   (90, 5.2e-06)      77144.0   2500043.0      79   0.1  32407.48  31646.11\n",
       "54   (60, 5.2e-06)      83863.0   2500018.0      77  0.09  29810.74  32467.77\n",
       "94  (100, 5.2e-06)      75733.0   2500012.0      77   0.1  33010.87  32467.69\n",
       "34   (40, 5.2e-06)      84118.0   2256850.0      76  0.09  26829.57  29695.39"
      ]
     },
     "execution_count": 189,
     "metadata": {},
     "output_type": "execute_result"
    }
   ],
   "source": [
    "LRortb1result.sort_values(\"clicks\",ascending= False).head(5)"
   ]
  },
  {
   "cell_type": "code",
   "execution_count": 191,
   "metadata": {},
   "outputs": [
    {
     "data": {
      "text/html": [
       "<div>\n",
       "<table border=\"1\" class=\"dataframe\">\n",
       "  <thead>\n",
       "    <tr style=\"text-align: right;\">\n",
       "      <th></th>\n",
       "      <th>C_Lambda</th>\n",
       "      <th>impressions</th>\n",
       "      <th>total_cost</th>\n",
       "      <th>clicks</th>\n",
       "      <th>CTR</th>\n",
       "      <th>CPM</th>\n",
       "      <th>CPC</th>\n",
       "    </tr>\n",
       "  </thead>\n",
       "  <tbody>\n",
       "    <tr>\n",
       "      <th>44</th>\n",
       "      <td>(50, 5.2e-06)</td>\n",
       "      <td>74531.0</td>\n",
       "      <td>2500049.0</td>\n",
       "      <td>71</td>\n",
       "      <td>0.1</td>\n",
       "      <td>33543.75</td>\n",
       "      <td>35211.96</td>\n",
       "    </tr>\n",
       "    <tr>\n",
       "      <th>34</th>\n",
       "      <td>(40, 5.2e-06)</td>\n",
       "      <td>82224.0</td>\n",
       "      <td>2500003.0</td>\n",
       "      <td>69</td>\n",
       "      <td>0.08</td>\n",
       "      <td>30404.78</td>\n",
       "      <td>36231.93</td>\n",
       "    </tr>\n",
       "    <tr>\n",
       "      <th>54</th>\n",
       "      <td>(60, 5.2e-06)</td>\n",
       "      <td>69604.0</td>\n",
       "      <td>2500011.0</td>\n",
       "      <td>64</td>\n",
       "      <td>0.09</td>\n",
       "      <td>35917.63</td>\n",
       "      <td>39062.67</td>\n",
       "    </tr>\n",
       "    <tr>\n",
       "      <th>24</th>\n",
       "      <td>(30, 5.2e-06)</td>\n",
       "      <td>93705.0</td>\n",
       "      <td>2443704.0</td>\n",
       "      <td>63</td>\n",
       "      <td>0.07</td>\n",
       "      <td>26078.69</td>\n",
       "      <td>38788.95</td>\n",
       "    </tr>\n",
       "    <tr>\n",
       "      <th>94</th>\n",
       "      <td>(100, 5.2e-06)</td>\n",
       "      <td>61048.0</td>\n",
       "      <td>2500013.0</td>\n",
       "      <td>63</td>\n",
       "      <td>0.1</td>\n",
       "      <td>40951.6</td>\n",
       "      <td>39682.75</td>\n",
       "    </tr>\n",
       "  </tbody>\n",
       "</table>\n",
       "</div>"
      ],
      "text/plain": [
       "          C_Lambda  impressions  total_cost  clicks   CTR       CPM       CPC\n",
       "44   (50, 5.2e-06)      74531.0   2500049.0      71   0.1  33543.75  35211.96\n",
       "34   (40, 5.2e-06)      82224.0   2500003.0      69  0.08  30404.78  36231.93\n",
       "54   (60, 5.2e-06)      69604.0   2500011.0      64  0.09  35917.63  39062.67\n",
       "24   (30, 5.2e-06)      93705.0   2443704.0      63  0.07  26078.69  38788.95\n",
       "94  (100, 5.2e-06)      61048.0   2500013.0      63   0.1   40951.6  39682.75"
      ]
     },
     "execution_count": 191,
     "metadata": {},
     "output_type": "execute_result"
    }
   ],
   "source": [
    "LRortb2result.sort_values(\"clicks\",ascending= False).head(5)"
   ]
  },
  {
   "cell_type": "code",
   "execution_count": null,
   "metadata": {
    "collapsed": true
   },
   "outputs": [],
   "source": [
    "LRortb1opt.sort_values(\"clicks\",ascending= False).head(5)"
   ]
  },
  {
   "cell_type": "code",
   "execution_count": null,
   "metadata": {
    "collapsed": true
   },
   "outputs": [],
   "source": [
    "LRortb2opt.sort_values(\"clicks\",ascending= False).head(5)"
   ]
  },
  {
   "cell_type": "code",
   "execution_count": null,
   "metadata": {
    "collapsed": true
   },
   "outputs": [],
   "source": []
  }
 ],
 "metadata": {
  "kernelspec": {
   "display_name": "Python 3",
   "language": "python",
   "name": "python3"
  },
  "language_info": {
   "codemirror_mode": {
    "name": "ipython",
    "version": 3
   },
   "file_extension": ".py",
   "mimetype": "text/x-python",
   "name": "python",
   "nbconvert_exporter": "python",
   "pygments_lexer": "ipython3",
   "version": "3.6.0"
  }
 },
 "nbformat": 4,
 "nbformat_minor": 2
}
