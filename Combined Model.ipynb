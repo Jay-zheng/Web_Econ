{
 "cells": [
  {
   "cell_type": "code",
   "execution_count": 1,
   "metadata": {},
   "outputs": [
    {
     "name": "stdout",
     "output_type": "stream",
     "text": [
      "cleantest.csv\n",
      "cleantrain.csv\n",
      "cleanvalidation.csv\n",
      "square_bid.csv\n",
      "test.csv\n",
      "train.csv\n",
      "train_data.csv\n",
      "val_data.csv\n",
      "validation.csv\n",
      "\n"
     ]
    }
   ],
   "source": [
    "import csv\n",
    "import math\n",
    "import itertools\n",
    "import numpy as np\n",
    "import pandas as pd\n",
    "import matplotlib.pyplot as plt\n",
    "\n",
    "from sklearn.linear_model import LogisticRegression\n",
    "from sklearn.ensemble import GradientBoostingClassifier\n",
    "from subprocess import check_output\n",
    "from sklearn.metrics import precision_score\n",
    "from sklearn.metrics import recall_score\n",
    "from sklearn.metrics import mean_squared_error\n",
    "\n",
    "print(check_output([\"ls\", \"/Users/Hermione/MasterUCL/Web economics/Assignment/dataset\"]).decode(\"utf8\"))"
   ]
  },
  {
   "cell_type": "code",
   "execution_count": 2,
   "metadata": {
    "collapsed": true
   },
   "outputs": [],
   "source": [
    "xtrain = pd.read_csv(\"/Users/Hermione/MasterUCL/Web economics/Assignment/dataset/train_data.csv\")\n",
    "xvalidation = pd.read_csv(\"/Users/Hermione/MasterUCL/Web economics/Assignment/dataset/val_data.csv\")"
   ]
  },
  {
   "cell_type": "code",
   "execution_count": 3,
   "metadata": {},
   "outputs": [
    {
     "data": {
      "text/plain": [
       "Index(['Unnamed: 0', 'hour_0', 'hour_1', 'hour_2', 'hour_3', 'hour_4',\n",
       "       'hour_5', 'hour_6', 'hour_7', 'hour_8',\n",
       "       ...\n",
       "       'usertag_13874', 'usertag_14273', 'usertag_15398', 'usertag_16593',\n",
       "       'usertag_16617', 'usertag_16661', 'usertag_16706', 'usertag_16751',\n",
       "       'usertag_16753', 'usertag_null'],\n",
       "      dtype='object', length=185)"
      ]
     },
     "execution_count": 3,
     "metadata": {},
     "output_type": "execute_result"
    }
   ],
   "source": [
    "xtrain.columns"
   ]
  },
  {
   "cell_type": "code",
   "execution_count": 4,
   "metadata": {},
   "outputs": [
    {
     "data": {
      "text/plain": [
       "185"
      ]
     },
     "execution_count": 4,
     "metadata": {},
     "output_type": "execute_result"
    }
   ],
   "source": [
    "len(xtrain.columns)"
   ]
  },
  {
   "cell_type": "code",
   "execution_count": 5,
   "metadata": {
    "collapsed": true
   },
   "outputs": [],
   "source": [
    "train = pd.read_csv(\"/Users/Hermione/MasterUCL/Web economics/Assignment/dataset/train.csv\")\n",
    "validation = pd.read_csv(\"/Users/Hermione/MasterUCL/Web economics/Assignment/dataset/validation.csv\")\n",
    "\n",
    "ytrain = pd.read_csv(\"/Users/Hermione/MasterUCL/Web economics/Assignment/dataset/train.csv\")[\"click\"]\n",
    "yvalidation = pd.read_csv(\"/Users/Hermione/MasterUCL/Web economics/Assignment/dataset/validation.csv\")[\"click\"]\n",
    "\n",
    "# this correct the missing columns in validation and test data set due to I encoded them seperately\n",
    "def MissingColumnsCorrector(df1,df2):\n",
    "    for columns in df1:\n",
    "        if columns in df2:\n",
    "            continue\n",
    "        else:\n",
    "            missing_columns = columns\n",
    "            ind = df1.columns.get_loc(missing_columns)\n",
    "            df2.insert(ind,missing_columns,0.0)\n",
    "    return df2\n",
    "\n",
    "\n",
    "xvalidation = MissingColumnsCorrector(xtrain,xvalidation)\n",
    "\n",
    "xtrain = np.array(xtrain)\n",
    "ytrian = np.array(ytrain)\n",
    "ytrain = [int(numeric_string) for numeric_string in ytrain]\n",
    "xvalidation = np.array(xvalidation)\n",
    "yvalidation = np.array(yvalidation)\n",
    "yvalidation = [int(numeric_string) for numeric_string in yvalidation]"
   ]
  },
  {
   "cell_type": "code",
   "execution_count": null,
   "metadata": {
    "collapsed": true
   },
   "outputs": [],
   "source": [
    "#Dont run GBDT on Jupyter unless you want to wait forever!!! Use the index I provided in next cell directly.\n",
    "gbdt = GradientBoostingClassifier()\n",
    "gbdt.fit(xtrain, ytrain)\n",
    "feature_importance = gbdt.feature_importances_\n",
    "print(feature_importance)\n",
    "\n",
    "print(gbdt.feature_importances_.shape)\n",
    "\n",
    "\n",
    "index = np.where(feature_importance > 0)\n",
    "index = list(index[0])\n",
    "print(len(index))\n",
    "\n",
    "import csv\n",
    "\n",
    "with open('importantFeatureIndCombined', 'w') as myfile:\n",
    "    wr = csv.writer(myfile,  dialect='excel')\n",
    "    wr.writerow(index)\n"
   ]
  },
  {
   "cell_type": "code",
   "execution_count": 6,
   "metadata": {},
   "outputs": [
    {
     "name": "stdout",
     "output_type": "stream",
     "text": [
      "The number of important feature is: 32\n"
     ]
    }
   ],
   "source": [
    "index = [0,32,33,35,37,38,40,44,51,60,73,85,88,95,100,104,107,111,112,116,118,123,157,158,159,160,161,168,174,175,176,180]\n",
    "print(\"The number of important feature is:\",len(index))"
   ]
  },
  {
   "cell_type": "code",
   "execution_count": 7,
   "metadata": {
    "collapsed": true
   },
   "outputs": [],
   "source": [
    "#generate new train data and validation data with only important features\n",
    "new_train = xtrain[:, index]\n",
    "new_val = xvalidation[:, index]"
   ]
  },
  {
   "cell_type": "code",
   "execution_count": 28,
   "metadata": {
    "collapsed": true
   },
   "outputs": [],
   "source": [
    "#model = LogisticRegression(class_weight = \"balanced\")\n",
    "#trainedlr = model.fit(new_train,ytrain)"
   ]
  },
  {
   "cell_type": "code",
   "execution_count": 8,
   "metadata": {
    "collapsed": true
   },
   "outputs": [],
   "source": [
    "optimalmodel = LogisticRegression(C=0.001, class_weight='balanced', dual=False,\n",
    "          fit_intercept=True, intercept_scaling=1, max_iter=100,\n",
    "          multi_class='ovr', n_jobs=1, penalty='l1', random_state=None,\n",
    "          solver='liblinear', tol=0.0001, verbose=0, warm_start=False)\n",
    "trainedlr = optimalmodel.fit(new_train,ytrain)"
   ]
  },
  {
   "cell_type": "code",
   "execution_count": 9,
   "metadata": {
    "collapsed": true
   },
   "outputs": [],
   "source": [
    "prob = trainedlr.predict_proba(new_val)\n",
    "\n",
    "pClick = pd.DataFrame(prob)\n",
    "predicty = trainedlr.predict(new_val)\n",
    "precision = precision_score(yvalidation, predicty, average='micro')\n",
    "correctpred = sum(predicty == yvalidation)\n",
    "\n"
   ]
  },
  {
   "cell_type": "code",
   "execution_count": 10,
   "metadata": {},
   "outputs": [
    {
     "name": "stdout",
     "output_type": "stream",
     "text": [
      "lr model predicted 257692 correct click status\n",
      "The precision of lr model is 0.859692609483\n",
      "               0         1\n",
      "0       0.754624  0.245376\n",
      "1       0.157002  0.842998\n",
      "2       0.455642  0.544358\n",
      "3       0.506827  0.493173\n",
      "4       0.607348  0.392652\n",
      "5       0.512483  0.487517\n",
      "6       0.455642  0.544358\n",
      "7       0.607348  0.392652\n",
      "8       0.879713  0.120287\n",
      "9       0.539993  0.460007\n",
      "10      0.532785  0.467215\n",
      "11      0.461261  0.538739\n",
      "12      0.774483  0.225517\n",
      "13      0.248632  0.751368\n",
      "14      0.809191  0.190809\n",
      "15      0.754624  0.245376\n",
      "16      0.607348  0.392652\n",
      "17      0.565701  0.434299\n",
      "18      0.763783  0.236217\n",
      "19      0.701777  0.298223\n",
      "20      0.607347  0.392653\n",
      "21      0.607347  0.392653\n",
      "22      0.815462  0.184538\n",
      "23      0.831683  0.168317\n",
      "24      0.807519  0.192481\n",
      "25      0.721239  0.278761\n",
      "26      0.693003  0.306997\n",
      "27      0.797415  0.202585\n",
      "28      0.629409  0.370591\n",
      "29      0.754624  0.245376\n",
      "...          ...       ...\n",
      "299719  0.931501  0.068499\n",
      "299720  0.904414  0.095586\n",
      "299721  0.690569  0.309431\n",
      "299722  0.806526  0.193474\n",
      "299723  0.835863  0.164137\n",
      "299724  0.710731  0.289269\n",
      "299725  0.423949  0.576051\n",
      "299726  0.837338  0.162662\n",
      "299727  0.756466  0.243534\n",
      "299728  0.626742  0.373258\n",
      "299729  0.772482  0.227518\n",
      "299730  0.754497  0.245503\n",
      "299731  0.665431  0.334569\n",
      "299732  0.597225  0.402775\n",
      "299733  0.295758  0.704242\n",
      "299734  0.925625  0.074375\n",
      "299735  0.509630  0.490370\n",
      "299736  0.718937  0.281063\n",
      "299737  0.677546  0.322454\n",
      "299738  0.732627  0.267373\n",
      "299739  0.690569  0.309431\n",
      "299740  0.246505  0.753495\n",
      "299741  0.898759  0.101241\n",
      "299742  0.769504  0.230496\n",
      "299743  0.626742  0.373258\n",
      "299744  0.509630  0.490370\n",
      "299745  0.604621  0.395379\n",
      "299746  0.626742  0.373258\n",
      "299747  0.673371  0.326629\n",
      "299748  0.796948  0.203052\n",
      "\n",
      "[299749 rows x 2 columns]\n"
     ]
    }
   ],
   "source": [
    "print(\"lr model predicted\",correctpred,\"correct click status\")\n",
    "print(\"The precision of lr model is\",precision)\n",
    "print(pClick)"
   ]
  },
  {
   "cell_type": "code",
   "execution_count": 11,
   "metadata": {},
   "outputs": [
    {
     "name": "stdout",
     "output_type": "stream",
     "text": [
      "0.000754533880574\n"
     ]
    },
    {
     "data": {
      "text/plain": [
       "[0.00024528674235665114,\n",
       " 0.0040350161142807808,\n",
       " 0.00090063278308184021,\n",
       " 0.00073366659655097594,\n",
       " 0.00048757093091907901]"
      ]
     },
     "execution_count": 11,
     "metadata": {},
     "output_type": "execute_result"
    }
   ],
   "source": [
    "# apply negative downsampling to work out weights in order for probability of click to have the same ratio as training data, technique is called \n",
    "#model recalibration  \n",
    "temp = len(train) / (2 * np.bincount(train.click))\n",
    "w = temp[0]/temp[1]\n",
    "print(w)\n",
    "\n",
    "prob =[]\n",
    "for p in pClick[1]:\n",
    "    prob.append( p / (p + ((1-p)/w)))\n",
    "prob[:5]"
   ]
  },
  {
   "cell_type": "code",
   "execution_count": 12,
   "metadata": {},
   "outputs": [
    {
     "name": "stdout",
     "output_type": "stream",
     "text": [
      "AUC accuracy: 0.813801067591\n"
     ]
    }
   ],
   "source": [
    "from sklearn import metrics\n",
    "fpr, tpr, thresholds = metrics.roc_curve([click for click in validation.click], prob)\n",
    "print('AUC accuracy:',metrics.auc(fpr, tpr))"
   ]
  },
  {
   "cell_type": "code",
   "execution_count": 33,
   "metadata": {},
   "outputs": [
    {
     "data": {
      "image/png": "[encoded data removed]",
      "text/plain": [
       "<matplotlib.figure.Figure at 0x14aae5710>"
      ]
     },
     "metadata": {},
     "output_type": "display_data"
    }
   ],
   "source": [
    "fig1 = plt.subplots(figsize =(10,5))\n",
    "lw = 2\n",
    "plt.xlabel(\"FPR\", fontsize=14)\n",
    "plt.ylabel(\"TPR\", fontsize=14)\n",
    "plt.title(\"ROC Curve\", fontsize=14)\n",
    "plt.plot([0, 1], [0, 1], color='navy', lw=lw, linestyle='--')\n",
    "plt.xlim([0.0, 1.0])\n",
    "plt.ylim([0.0, 1.05])\n",
    "plt.plot(fpr,tpr,color = 'r', lw=lw, label='ROC curve (area = %0.2f)' %metrics.auc(fpr, tpr))\n",
    "plt.legend(loc='best')\n",
    "\n",
    "plt.show()"
   ]
  },
  {
   "cell_type": "markdown",
   "metadata": {},
   "source": [
    "# ORTB non-linear"
   ]
  },
  {
   "cell_type": "code",
   "execution_count": 13,
   "metadata": {
    "collapsed": true
   },
   "outputs": [],
   "source": [
    "lambdas = [5.2e-10,5.2e-9,5.2e-8,5.2e-7,5.2e-6,5.2e-5,5.2e-4,5.2e-3,5.2e-2,5.2e-1]\n",
    "c = np.arange(10,101,10).tolist()\n",
    "combinations = list(itertools.product(c, lambdas))"
   ]
  },
  {
   "cell_type": "code",
   "execution_count": 14,
   "metadata": {
    "collapsed": true
   },
   "outputs": [],
   "source": [
    "def ortb1(c,lambdas):\n",
    "    impression = 0.0\n",
    "    clicks = 0\n",
    "    cost = 0.0\n",
    "    budget = 2500000  # 1/10th budget of 25,000,000\n",
    "    bidortb1 = []\n",
    "    \n",
    "    for pctr in Combinedctr:\n",
    "        ortb = math.sqrt(c/lambdas*pctr + c**2)-c\n",
    "        bidortb1.append(ortb)\n",
    "    \n",
    "    true_bids = bidortb1 >= validation.payprice\n",
    "    for i in range(0, len(true_bids)):\n",
    "        if true_bids[i] == True:\n",
    "            impression += 1.0\n",
    "            clicks += validation.click[i]\n",
    "            cost += validation.payprice[i]\n",
    "        if cost >= budget:\n",
    "            break\n",
    "    return impression, clicks, cost"
   ]
  },
  {
   "cell_type": "code",
   "execution_count": 15,
   "metadata": {
    "collapsed": true
   },
   "outputs": [],
   "source": [
    "def get_results(ortb):\n",
    "    df = pd.DataFrame()\n",
    "    \n",
    "    imp = []\n",
    "    clik = []\n",
    "    ct = []\n",
    "    clamb = []\n",
    "    for combination in combinations:\n",
    "        c = combination[0]\n",
    "        lam = combination[1]\n",
    "        [imps, clicks, cost] = ortb(c,lam)\n",
    "        imp.append(imps)\n",
    "        clik.append(clicks)\n",
    "        ct.append(cost)\n",
    "        clamb.append(combination)\n",
    "    df['C_Lambda'] = clamb\n",
    "    df['impressions'] = imp\n",
    "    df['total_cost'] = ct\n",
    "    df['clicks'] = clik\n",
    "    df['CTR'] = (df.clicks / df.impressions * 100).round(2).astype(str)\n",
    "    df['CPM'] = (df.total_cost / df.impressions * 1000).round(2).astype(str)\n",
    "    df['CPC'] = (df.total_cost / df.clicks).round(2).astype(str)\n",
    "    return df\n",
    "\n"
   ]
  },
  {
   "cell_type": "code",
   "execution_count": 17,
   "metadata": {
    "collapsed": true
   },
   "outputs": [],
   "source": [
    "Combinedctr = np.asarray(prob)"
   ]
  },
  {
   "cell_type": "code",
   "execution_count": 38,
   "metadata": {
    "collapsed": true
   },
   "outputs": [],
   "source": [
    "ortb1result = get_results(ortb1)"
   ]
  },
  {
   "cell_type": "code",
   "execution_count": 39,
   "metadata": {},
   "outputs": [
    {
     "data": {
      "text/html": [
       "<div>\n",
       "<table border=\"1\" class=\"dataframe\">\n",
       "  <thead>\n",
       "    <tr style=\"text-align: right;\">\n",
       "      <th></th>\n",
       "      <th>C_Lambda</th>\n",
       "      <th>impressions</th>\n",
       "      <th>total_cost</th>\n",
       "      <th>clicks</th>\n",
       "      <th>CTR</th>\n",
       "      <th>CPM</th>\n",
       "      <th>CPC</th>\n",
       "    </tr>\n",
       "  </thead>\n",
       "  <tbody>\n",
       "    <tr>\n",
       "      <th>94</th>\n",
       "      <td>(100, 5.2e-06)</td>\n",
       "      <td>71583.0</td>\n",
       "      <td>2364543.0</td>\n",
       "      <td>130</td>\n",
       "      <td>0.18</td>\n",
       "      <td>33032.19</td>\n",
       "      <td>18188.79</td>\n",
       "    </tr>\n",
       "    <tr>\n",
       "      <th>84</th>\n",
       "      <td>(90, 5.2e-06)</td>\n",
       "      <td>70625.0</td>\n",
       "      <td>2301284.0</td>\n",
       "      <td>129</td>\n",
       "      <td>0.18</td>\n",
       "      <td>32584.55</td>\n",
       "      <td>17839.41</td>\n",
       "    </tr>\n",
       "    <tr>\n",
       "      <th>74</th>\n",
       "      <td>(80, 5.2e-06)</td>\n",
       "      <td>69301.0</td>\n",
       "      <td>2222381.0</td>\n",
       "      <td>127</td>\n",
       "      <td>0.18</td>\n",
       "      <td>32068.53</td>\n",
       "      <td>17499.06</td>\n",
       "    </tr>\n",
       "    <tr>\n",
       "      <th>64</th>\n",
       "      <td>(70, 5.2e-06)</td>\n",
       "      <td>67618.0</td>\n",
       "      <td>2124563.0</td>\n",
       "      <td>124</td>\n",
       "      <td>0.18</td>\n",
       "      <td>31420.08</td>\n",
       "      <td>17133.57</td>\n",
       "    </tr>\n",
       "    <tr>\n",
       "      <th>54</th>\n",
       "      <td>(60, 5.2e-06)</td>\n",
       "      <td>65819.0</td>\n",
       "      <td>2021950.0</td>\n",
       "      <td>121</td>\n",
       "      <td>0.18</td>\n",
       "      <td>30719.85</td>\n",
       "      <td>16710.33</td>\n",
       "    </tr>\n",
       "    <tr>\n",
       "      <th>44</th>\n",
       "      <td>(50, 5.2e-06)</td>\n",
       "      <td>62710.0</td>\n",
       "      <td>1869840.0</td>\n",
       "      <td>115</td>\n",
       "      <td>0.18</td>\n",
       "      <td>29817.25</td>\n",
       "      <td>16259.48</td>\n",
       "    </tr>\n",
       "    <tr>\n",
       "      <th>34</th>\n",
       "      <td>(40, 5.2e-06)</td>\n",
       "      <td>59391.0</td>\n",
       "      <td>1692778.0</td>\n",
       "      <td>112</td>\n",
       "      <td>0.19</td>\n",
       "      <td>28502.26</td>\n",
       "      <td>15114.09</td>\n",
       "    </tr>\n",
       "    <tr>\n",
       "      <th>24</th>\n",
       "      <td>(30, 5.2e-06)</td>\n",
       "      <td>55190.0</td>\n",
       "      <td>1470283.0</td>\n",
       "      <td>100</td>\n",
       "      <td>0.18</td>\n",
       "      <td>26640.39</td>\n",
       "      <td>14702.83</td>\n",
       "    </tr>\n",
       "    <tr>\n",
       "      <th>14</th>\n",
       "      <td>(20, 5.2e-06)</td>\n",
       "      <td>48580.0</td>\n",
       "      <td>1170331.0</td>\n",
       "      <td>94</td>\n",
       "      <td>0.19</td>\n",
       "      <td>24090.8</td>\n",
       "      <td>12450.33</td>\n",
       "    </tr>\n",
       "    <tr>\n",
       "      <th>4</th>\n",
       "      <td>(10, 5.2e-06)</td>\n",
       "      <td>38046.0</td>\n",
       "      <td>783878.0</td>\n",
       "      <td>73</td>\n",
       "      <td>0.19</td>\n",
       "      <td>20603.43</td>\n",
       "      <td>10738.05</td>\n",
       "    </tr>\n",
       "  </tbody>\n",
       "</table>\n",
       "</div>"
      ],
      "text/plain": [
       "          C_Lambda  impressions  total_cost  clicks   CTR       CPM       CPC\n",
       "94  (100, 5.2e-06)      71583.0   2364543.0     130  0.18  33032.19  18188.79\n",
       "84   (90, 5.2e-06)      70625.0   2301284.0     129  0.18  32584.55  17839.41\n",
       "74   (80, 5.2e-06)      69301.0   2222381.0     127  0.18  32068.53  17499.06\n",
       "64   (70, 5.2e-06)      67618.0   2124563.0     124  0.18  31420.08  17133.57\n",
       "54   (60, 5.2e-06)      65819.0   2021950.0     121  0.18  30719.85  16710.33\n",
       "44   (50, 5.2e-06)      62710.0   1869840.0     115  0.18  29817.25  16259.48\n",
       "34   (40, 5.2e-06)      59391.0   1692778.0     112  0.19  28502.26  15114.09\n",
       "24   (30, 5.2e-06)      55190.0   1470283.0     100  0.18  26640.39  14702.83\n",
       "14   (20, 5.2e-06)      48580.0   1170331.0      94  0.19   24090.8  12450.33\n",
       "4    (10, 5.2e-06)      38046.0    783878.0      73  0.19  20603.43  10738.05"
      ]
     },
     "execution_count": 39,
     "metadata": {},
     "output_type": "execute_result"
    }
   ],
   "source": [
    "ortb1result.sort_values(\"clicks\",ascending = False)[:10]\n"
   ]
  },
  {
   "cell_type": "markdown",
   "metadata": {},
   "source": [
    "# Squared bidding"
   ]
  },
  {
   "cell_type": "code",
   "execution_count": 18,
   "metadata": {},
   "outputs": [
    {
     "name": "stdout",
     "output_type": "stream",
     "text": [
      "0.0007539649884458758\n",
      "[array([   1.05839016,  286.41000743,   14.26898706, ...,    3.54900623,\n",
      "          2.35470221,    0.64989436]), array([   1.58758524,  429.61501115,   21.40348059, ...,    5.32350935,\n",
      "          3.53205332,    0.97484153]), array([   2.11678031,  572.82001486,   28.53797412, ...,    7.09801246,\n",
      "          4.70940442,    1.29978871]), array([   2.64597539,  716.02501858,   35.67246765, ...,    8.87251558,\n",
      "          5.88675553,    1.62473589]), array([   3.17517047,  859.23002229,   42.80696118, ...,   10.6470187 ,\n",
      "          7.06410663,    1.94968307])]\n"
     ]
    }
   ],
   "source": [
    "# calculate squared bidding\n",
    "averageCTR = (train.click.sum() / train.logtype.sum())\n",
    "print(averageCTR)# this is the average CTR for training data\n",
    "\n",
    "base_bids = np.arange(10,300,5) #self defined base bids\n",
    "\n",
    "square_bids = []\n",
    "for i in base_bids:\n",
    "        square_bid = i * (((Combinedctr / averageCTR))**2)\n",
    "        square_bids.append(square_bid)\n",
    "\n",
    "segments_square = [square_bids[x:x+len(pClick)] for x in range(0, len(square_bids), len(pClick))] # lump all possible bids according to base bids in segments together\n",
    "print(square_bids[:5])\n",
    "def square_bids(bids):\n",
    "    impression = 0.0\n",
    "    clicks = 0\n",
    "    cost = 0.0\n",
    "\n",
    "\n",
    "    budget = 2500000 # 1/10 budget of 25,000,000\n",
    "\n",
    "    true_bids = bids >= validation.payprice\n",
    "    for i in range(0, len(true_bids)):\n",
    "        if true_bids[i] == True:\n",
    "            impression += 1.0\n",
    "            clicks += validation.click[i]\n",
    "            cost += validation.payprice[i]\n",
    "        if cost >= budget:\n",
    "            break\n",
    "    return impression, clicks, cost\n",
    "\n",
    "df2 = pd.DataFrame()\n",
    "df2['bid'] = base_bids\n",
    "\n",
    "\n",
    "imp = []\n",
    "clik = []\n",
    "ct = []\n",
    "\n",
    "\n",
    "for bids in segments_square[0]:\n",
    "    [imps, clicks, cost] = square_bids(bids)\n",
    "    imp.append(imps)\n",
    "    clik.append(clicks)\n",
    "    ct.append(cost)\n",
    "df2['impressions'] = imp\n",
    "df2['total_cost'] = ct\n",
    "df2['clicks'] = clik\n",
    "df2['CTR'] = (df2.clicks / df2.impressions * 100).round(2).astype(str)\n",
    "df2['CPM'] = (df2.total_cost / df2.impressions * 1000).round(2).astype(str)\n",
    "df2['CPC'] = (df2.total_cost / df2.clicks).round(2).astype(str)"
   ]
  },
  {
   "cell_type": "code",
   "execution_count": 41,
   "metadata": {},
   "outputs": [
    {
     "data": {
      "text/html": [
       "<div>\n",
       "<table border=\"1\" class=\"dataframe\">\n",
       "  <thead>\n",
       "    <tr style=\"text-align: right;\">\n",
       "      <th></th>\n",
       "      <th>bid</th>\n",
       "      <th>impressions</th>\n",
       "      <th>total_cost</th>\n",
       "      <th>clicks</th>\n",
       "      <th>CTR</th>\n",
       "      <th>CPM</th>\n",
       "      <th>CPC</th>\n",
       "    </tr>\n",
       "  </thead>\n",
       "  <tbody>\n",
       "    <tr>\n",
       "      <th>7</th>\n",
       "      <td>45</td>\n",
       "      <td>41688.0</td>\n",
       "      <td>2378768.0</td>\n",
       "      <td>142</td>\n",
       "      <td>0.34</td>\n",
       "      <td>57061.22</td>\n",
       "      <td>16751.89</td>\n",
       "    </tr>\n",
       "    <tr>\n",
       "      <th>6</th>\n",
       "      <td>40</td>\n",
       "      <td>38752.0</td>\n",
       "      <td>2213296.0</td>\n",
       "      <td>141</td>\n",
       "      <td>0.36</td>\n",
       "      <td>57114.37</td>\n",
       "      <td>15697.13</td>\n",
       "    </tr>\n",
       "    <tr>\n",
       "      <th>5</th>\n",
       "      <td>35</td>\n",
       "      <td>35715.0</td>\n",
       "      <td>2054529.0</td>\n",
       "      <td>139</td>\n",
       "      <td>0.39</td>\n",
       "      <td>57525.66</td>\n",
       "      <td>14780.78</td>\n",
       "    </tr>\n",
       "    <tr>\n",
       "      <th>4</th>\n",
       "      <td>30</td>\n",
       "      <td>32906.0</td>\n",
       "      <td>1919624.0</td>\n",
       "      <td>135</td>\n",
       "      <td>0.41</td>\n",
       "      <td>58336.6</td>\n",
       "      <td>14219.44</td>\n",
       "    </tr>\n",
       "    <tr>\n",
       "      <th>3</th>\n",
       "      <td>25</td>\n",
       "      <td>29865.0</td>\n",
       "      <td>1751835.0</td>\n",
       "      <td>134</td>\n",
       "      <td>0.45</td>\n",
       "      <td>58658.46</td>\n",
       "      <td>13073.4</td>\n",
       "    </tr>\n",
       "    <tr>\n",
       "      <th>8</th>\n",
       "      <td>50</td>\n",
       "      <td>46046.0</td>\n",
       "      <td>2500129.0</td>\n",
       "      <td>134</td>\n",
       "      <td>0.29</td>\n",
       "      <td>54296.33</td>\n",
       "      <td>18657.68</td>\n",
       "    </tr>\n",
       "    <tr>\n",
       "      <th>2</th>\n",
       "      <td>20</td>\n",
       "      <td>26117.0</td>\n",
       "      <td>1532561.0</td>\n",
       "      <td>129</td>\n",
       "      <td>0.49</td>\n",
       "      <td>58680.59</td>\n",
       "      <td>11880.32</td>\n",
       "    </tr>\n",
       "    <tr>\n",
       "      <th>9</th>\n",
       "      <td>55</td>\n",
       "      <td>46224.0</td>\n",
       "      <td>2500054.0</td>\n",
       "      <td>126</td>\n",
       "      <td>0.27</td>\n",
       "      <td>54085.63</td>\n",
       "      <td>19841.7</td>\n",
       "    </tr>\n",
       "    <tr>\n",
       "      <th>1</th>\n",
       "      <td>15</td>\n",
       "      <td>22340.0</td>\n",
       "      <td>1292641.0</td>\n",
       "      <td>124</td>\n",
       "      <td>0.56</td>\n",
       "      <td>57862.18</td>\n",
       "      <td>10424.52</td>\n",
       "    </tr>\n",
       "    <tr>\n",
       "      <th>11</th>\n",
       "      <td>65</td>\n",
       "      <td>46622.0</td>\n",
       "      <td>2500037.0</td>\n",
       "      <td>119</td>\n",
       "      <td>0.26</td>\n",
       "      <td>53623.55</td>\n",
       "      <td>21008.71</td>\n",
       "    </tr>\n",
       "  </tbody>\n",
       "</table>\n",
       "</div>"
      ],
      "text/plain": [
       "    bid  impressions  total_cost  clicks   CTR       CPM       CPC\n",
       "7    45      41688.0   2378768.0     142  0.34  57061.22  16751.89\n",
       "6    40      38752.0   2213296.0     141  0.36  57114.37  15697.13\n",
       "5    35      35715.0   2054529.0     139  0.39  57525.66  14780.78\n",
       "4    30      32906.0   1919624.0     135  0.41   58336.6  14219.44\n",
       "3    25      29865.0   1751835.0     134  0.45  58658.46   13073.4\n",
       "8    50      46046.0   2500129.0     134  0.29  54296.33  18657.68\n",
       "2    20      26117.0   1532561.0     129  0.49  58680.59  11880.32\n",
       "9    55      46224.0   2500054.0     126  0.27  54085.63   19841.7\n",
       "1    15      22340.0   1292641.0     124  0.56  57862.18  10424.52\n",
       "11   65      46622.0   2500037.0     119  0.26  53623.55  21008.71"
      ]
     },
     "execution_count": 41,
     "metadata": {},
     "output_type": "execute_result"
    }
   ],
   "source": [
    "df2.sort_values(\"clicks\",ascending =False)[:10]"
   ]
  },
  {
   "cell_type": "code",
   "execution_count": 42,
   "metadata": {
    "collapsed": true
   },
   "outputs": [],
   "source": [
    "df2.sort_values(\"clicks\",ascending = False)[:10].to_csv(\"dataset/square_bid.csv\")"
   ]
  },
  {
   "cell_type": "code",
   "execution_count": 19,
   "metadata": {},
   "outputs": [
    {
     "data": {
      "text/html": [
       "<div>\n",
       "<table border=\"1\" class=\"dataframe\">\n",
       "  <thead>\n",
       "    <tr style=\"text-align: right;\">\n",
       "      <th></th>\n",
       "      <th>bid</th>\n",
       "      <th>impressions</th>\n",
       "      <th>total_cost</th>\n",
       "      <th>clicks</th>\n",
       "      <th>CTR</th>\n",
       "      <th>CPM</th>\n",
       "      <th>CPC</th>\n",
       "    </tr>\n",
       "  </thead>\n",
       "  <tbody>\n",
       "    <tr>\n",
       "      <th>7</th>\n",
       "      <td>45</td>\n",
       "      <td>40880.0</td>\n",
       "      <td>2273728.0</td>\n",
       "      <td>142</td>\n",
       "      <td>0.35</td>\n",
       "      <td>55619.57</td>\n",
       "      <td>16012.17</td>\n",
       "    </tr>\n",
       "    <tr>\n",
       "      <th>6</th>\n",
       "      <td>40</td>\n",
       "      <td>38530.0</td>\n",
       "      <td>2159828.0</td>\n",
       "      <td>141</td>\n",
       "      <td>0.37</td>\n",
       "      <td>56055.75</td>\n",
       "      <td>15317.93</td>\n",
       "    </tr>\n",
       "    <tr>\n",
       "      <th>8</th>\n",
       "      <td>50</td>\n",
       "      <td>47186.0</td>\n",
       "      <td>2500068.0</td>\n",
       "      <td>140</td>\n",
       "      <td>0.3</td>\n",
       "      <td>52983.26</td>\n",
       "      <td>17857.63</td>\n",
       "    </tr>\n",
       "    <tr>\n",
       "      <th>5</th>\n",
       "      <td>35</td>\n",
       "      <td>35539.0</td>\n",
       "      <td>2007967.0</td>\n",
       "      <td>137</td>\n",
       "      <td>0.39</td>\n",
       "      <td>56500.38</td>\n",
       "      <td>14656.69</td>\n",
       "    </tr>\n",
       "    <tr>\n",
       "      <th>3</th>\n",
       "      <td>25</td>\n",
       "      <td>29313.0</td>\n",
       "      <td>1688318.0</td>\n",
       "      <td>132</td>\n",
       "      <td>0.45</td>\n",
       "      <td>57596.22</td>\n",
       "      <td>12790.29</td>\n",
       "    </tr>\n",
       "    <tr>\n",
       "      <th>4</th>\n",
       "      <td>30</td>\n",
       "      <td>32724.0</td>\n",
       "      <td>1858539.0</td>\n",
       "      <td>132</td>\n",
       "      <td>0.4</td>\n",
       "      <td>56794.37</td>\n",
       "      <td>14079.84</td>\n",
       "    </tr>\n",
       "    <tr>\n",
       "      <th>2</th>\n",
       "      <td>20</td>\n",
       "      <td>25701.0</td>\n",
       "      <td>1485155.0</td>\n",
       "      <td>129</td>\n",
       "      <td>0.5</td>\n",
       "      <td>57785.88</td>\n",
       "      <td>11512.83</td>\n",
       "    </tr>\n",
       "    <tr>\n",
       "      <th>9</th>\n",
       "      <td>55</td>\n",
       "      <td>47084.0</td>\n",
       "      <td>2500138.0</td>\n",
       "      <td>128</td>\n",
       "      <td>0.27</td>\n",
       "      <td>53099.52</td>\n",
       "      <td>19532.33</td>\n",
       "    </tr>\n",
       "    <tr>\n",
       "      <th>1</th>\n",
       "      <td>15</td>\n",
       "      <td>21646.0</td>\n",
       "      <td>1226661.0</td>\n",
       "      <td>121</td>\n",
       "      <td>0.56</td>\n",
       "      <td>56669.18</td>\n",
       "      <td>10137.69</td>\n",
       "    </tr>\n",
       "    <tr>\n",
       "      <th>10</th>\n",
       "      <td>60</td>\n",
       "      <td>47226.0</td>\n",
       "      <td>2500007.0</td>\n",
       "      <td>120</td>\n",
       "      <td>0.25</td>\n",
       "      <td>52937.09</td>\n",
       "      <td>20833.39</td>\n",
       "    </tr>\n",
       "  </tbody>\n",
       "</table>\n",
       "</div>"
      ],
      "text/plain": [
       "    bid  impressions  total_cost  clicks   CTR       CPM       CPC\n",
       "7    45      40880.0   2273728.0     142  0.35  55619.57  16012.17\n",
       "6    40      38530.0   2159828.0     141  0.37  56055.75  15317.93\n",
       "8    50      47186.0   2500068.0     140   0.3  52983.26  17857.63\n",
       "5    35      35539.0   2007967.0     137  0.39  56500.38  14656.69\n",
       "3    25      29313.0   1688318.0     132  0.45  57596.22  12790.29\n",
       "4    30      32724.0   1858539.0     132   0.4  56794.37  14079.84\n",
       "2    20      25701.0   1485155.0     129   0.5  57785.88  11512.83\n",
       "9    55      47084.0   2500138.0     128  0.27  53099.52  19532.33\n",
       "1    15      21646.0   1226661.0     121  0.56  56669.18  10137.69\n",
       "10   60      47226.0   2500007.0     120  0.25  52937.09  20833.39"
      ]
     },
     "execution_count": 19,
     "metadata": {},
     "output_type": "execute_result"
    }
   ],
   "source": [
    "#optimised lr\n",
    "df2.sort_values(\"clicks\",ascending =False)[:10]"
   ]
  },
  {
   "cell_type": "code",
   "execution_count": null,
   "metadata": {
    "collapsed": true
   },
   "outputs": [],
   "source": []
  }
 ],
 "metadata": {
  "kernelspec": {
   "display_name": "Python 3",
   "language": "python",
   "name": "python3"
  },
  "language_info": {
   "codemirror_mode": {
    "name": "ipython",
    "version": 3
   },
   "file_extension": ".py",
   "mimetype": "text/x-python",
   "name": "python",
   "nbconvert_exporter": "python",
   "pygments_lexer": "ipython3",
   "version": "3.6.0"
  }
 },
 "nbformat": 4,
 "nbformat_minor": 2
}
