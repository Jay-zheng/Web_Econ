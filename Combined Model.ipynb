{
 "cells": [
  {
   "cell_type": "code",
   "execution_count": 1,
   "metadata": {
    "collapsed": false
   },
   "outputs": [],
   "source": [
    "import csv\n",
    "import math\n",
    "import itertools\n",
    "import numpy as np\n",
    "import pandas as pd\n",
    "import matplotlib.pyplot as plt\n",
    "\n",
    "from sklearn.linear_model import LogisticRegression\n",
    "from sklearn.ensemble import GradientBoostingClassifier\n",
    "from subprocess import check_output\n",
    "from sklearn.metrics import precision_score\n",
    "from sklearn.metrics import recall_score\n",
    "from sklearn.metrics import mean_squared_error\n"
   ]
  },
  {
   "cell_type": "code",
   "execution_count": 6,
   "metadata": {
    "collapsed": true
   },
   "outputs": [],
   "source": [
    "path = \"...\"\n",
    "xtrain = pd.read_csv(path+\"train_data.csv\")\n",
    "xvalidation = pd.read_csv(path+\"val_data.csv\")"
   ]
  },
  {
   "cell_type": "code",
   "execution_count": 4,
   "metadata": {
    "collapsed": false
   },
   "outputs": [
    {
     "data": {
      "text/plain": [
       "Index(['Unnamed: 0', 'hour_0', 'hour_1', 'hour_2', 'hour_3', 'hour_4',\n",
       "       'hour_5', 'hour_6', 'hour_7', 'hour_8',\n",
       "       ...\n",
       "       'usertag_13874', 'usertag_14273', 'usertag_15398', 'usertag_16593',\n",
       "       'usertag_16617', 'usertag_16661', 'usertag_16706', 'usertag_16751',\n",
       "       'usertag_16753', 'usertag_null'],\n",
       "      dtype='object', length=185)"
      ]
     },
     "execution_count": 4,
     "metadata": {},
     "output_type": "execute_result"
    }
   ],
   "source": [
    "xtrain.columns"
   ]
  },
  {
   "cell_type": "code",
   "execution_count": 5,
   "metadata": {
    "collapsed": false
   },
   "outputs": [
    {
     "data": {
      "text/plain": [
       "185"
      ]
     },
     "execution_count": 5,
     "metadata": {},
     "output_type": "execute_result"
    }
   ],
   "source": [
    "len(xtrain.columns)"
   ]
  },
  {
   "cell_type": "code",
   "execution_count": 7,
   "metadata": {
    "collapsed": true
   },
   "outputs": [],
   "source": [
    "train = pd.read_csv(path+\"train.csv\")\n",
    "validation = pd.read_csv(path+\"validation.csv\")\n",
    "\n",
    "ytrain = pd.read_csv(path+\"train.csv\")[\"click\"]\n",
    "yvalidation = pd.read_csv(path+\"validation.csv\")[\"click\"]\n",
    "\n",
    "# this correct the missing columns in validation and test data set due to I encoded them seperately\n",
    "def MissingColumnsCorrector(df1,df2):\n",
    "    for columns in df1:\n",
    "        if columns in df2:\n",
    "            continue\n",
    "        else:\n",
    "            missing_columns = columns\n",
    "            ind = df1.columns.get_loc(missing_columns)\n",
    "            df2.insert(ind,missing_columns,0.0)\n",
    "    return df2\n",
    "\n",
    "\n",
    "xvalidation = MissingColumnsCorrector(xtrain,xvalidation)\n",
    "\n",
    "xtrain = np.array(xtrain)\n",
    "ytrian = np.array(ytrain)\n",
    "ytrain = [int(numeric_string) for numeric_string in ytrain]\n",
    "xvalidation = np.array(xvalidation)\n",
    "yvalidation = np.array(yvalidation)\n",
    "yvalidation = [int(numeric_string) for numeric_string in yvalidation]"
   ]
  },
  {
   "cell_type": "code",
   "execution_count": null,
   "metadata": {
    "collapsed": true
   },
   "outputs": [],
   "source": [
    "#Dont run GBDT on Jupyter unless you want to wait forever!!! Use the index I provided in next cell directly.\n",
    "gbdt = GradientBoostingClassifier()\n",
    "gbdt.fit(xtrain, ytrain)\n",
    "feature_importance = gbdt.feature_importances_\n",
    "print(feature_importance)\n",
    "\n",
    "print(gbdt.feature_importances_.shape)\n",
    "\n",
    "\n",
    "index = np.where(feature_importance > 0)\n",
    "index = list(index[0])\n",
    "print(len(index))\n",
    "\n",
    "import csv\n",
    "\n",
    "with open('importantFeatureIndCombined', 'w') as myfile:\n",
    "    wr = csv.writer(myfile,  dialect='excel')\n",
    "    wr.writerow(index)\n"
   ]
  },
  {
   "cell_type": "code",
   "execution_count": 8,
   "metadata": {
    "collapsed": false
   },
   "outputs": [
    {
     "name": "stdout",
     "output_type": "stream",
     "text": [
      "The number of important feature is: 32\n"
     ]
    }
   ],
   "source": [
    "index = [0,32,33,35,37,38,40,44,51,60,73,85,88,95,100,104,107,111,112,116,118,123,157,158,159,160,161,168,174,175,176,180]\n",
    "print(\"The number of important feature is:\",len(index))"
   ]
  },
  {
   "cell_type": "code",
   "execution_count": 9,
   "metadata": {
    "collapsed": true
   },
   "outputs": [],
   "source": [
    "#generate new train data and validation data with only important features\n",
    "new_train = xtrain[:, index]\n",
    "new_val = xvalidation[:, index]"
   ]
  },
  {
   "cell_type": "code",
   "execution_count": 28,
   "metadata": {
    "collapsed": true
   },
   "outputs": [],
   "source": [
    "#model = LogisticRegression(class_weight = \"balanced\")\n",
    "#trainedlr = model.fit(new_train,ytrain)"
   ]
  },
  {
   "cell_type": "code",
   "execution_count": 10,
   "metadata": {
    "collapsed": true
   },
   "outputs": [],
   "source": [
    "optimalmodel = LogisticRegression(C=0.001, class_weight='balanced', dual=False,\n",
    "          fit_intercept=True, intercept_scaling=1, max_iter=100,\n",
    "          multi_class='ovr', n_jobs=1, penalty='l1', random_state=None,\n",
    "          solver='liblinear', tol=0.0001, verbose=0, warm_start=False)\n",
    "trainedlr = optimalmodel.fit(new_train,ytrain)"
   ]
  },
  {
   "cell_type": "code",
   "execution_count": 11,
   "metadata": {
    "collapsed": true
   },
   "outputs": [],
   "source": [
    "prob = trainedlr.predict_proba(new_val)\n",
    "\n",
    "pClick = pd.DataFrame(prob)\n",
    "predicty = trainedlr.predict(new_val)\n",
    "precision = precision_score(yvalidation, predicty, average='micro')\n",
    "correctpred = sum(predicty == yvalidation)\n",
    "\n"
   ]
  },
  {
   "cell_type": "code",
   "execution_count": 13,
   "metadata": {
    "collapsed": false
   },
   "outputs": [
    {
     "name": "stdout",
     "output_type": "stream",
     "text": [
      "lr model predicted 257691 correct click status\n",
      "The precision of lr model is 0.859689273359\n",
      "          0         1\n",
      "0  0.754623  0.245377\n",
      "1  0.157001  0.842999\n",
      "2  0.455640  0.544360\n",
      "3  0.506826  0.493174\n",
      "4  0.607346  0.392654\n"
     ]
    }
   ],
   "source": [
    "print(\"lr model predicted\",correctpred,\"correct click status\")\n",
    "print(\"The precision of lr model is\",precision)\n",
    "print(pClick[:5])"
   ]
  },
  {
   "cell_type": "code",
   "execution_count": 14,
   "metadata": {
    "collapsed": false
   },
   "outputs": [
    {
     "name": "stdout",
     "output_type": "stream",
     "text": [
      "0.000754533880574\n"
     ]
    },
    {
     "data": {
      "text/plain": [
       "[0.00024528810475957176,\n",
       " 0.0040350393045344981,\n",
       " 0.00090064178183988394,\n",
       " 0.00073367014638463419,\n",
       " 0.0004875747309498909]"
      ]
     },
     "execution_count": 14,
     "metadata": {},
     "output_type": "execute_result"
    }
   ],
   "source": [
    "# apply negative downsampling to work out weights in order for probability of click to have the same ratio as training data, technique is called \n",
    "#model recalibration  \n",
    "temp = len(train) / (2 * np.bincount(train.click))\n",
    "w = temp[0]/temp[1]\n",
    "print(w)\n",
    "\n",
    "prob =[]\n",
    "for p in pClick[1]:\n",
    "    prob.append( p / (p + ((1-p)/w)))\n",
    "prob[:5]"
   ]
  },
  {
   "cell_type": "code",
   "execution_count": 15,
   "metadata": {
    "collapsed": false
   },
   "outputs": [
    {
     "name": "stdout",
     "output_type": "stream",
     "text": [
      "AUC accuracy: 0.81380058009\n"
     ]
    }
   ],
   "source": [
    "from sklearn import metrics\n",
    "fpr, tpr, thresholds = metrics.roc_curve([click for click in validation.click], prob)\n",
    "print('AUC accuracy:',metrics.auc(fpr, tpr))"
   ]
  },
  {
   "cell_type": "code",
   "execution_count": 16,
   "metadata": {
    "collapsed": false
   },
   "outputs": [
    {
     "data": {
      "image/png": "[encoded data removed]",
      "text/plain": [
       "<matplotlib.figure.Figure at 0x1e1f53505f8>"
      ]
     },
     "metadata": {},
     "output_type": "display_data"
    }
   ],
   "source": [
    "fig1 = plt.subplots(figsize =(10,5))\n",
    "lw = 2\n",
    "plt.xlabel(\"FPR\", fontsize=14)\n",
    "plt.ylabel(\"TPR\", fontsize=14)\n",
    "plt.title(\"ROC Curve\", fontsize=14)\n",
    "plt.plot([0, 1], [0, 1], color='navy', lw=lw, linestyle='--')\n",
    "plt.xlim([0.0, 1.0])\n",
    "plt.ylim([0.0, 1.05])\n",
    "plt.plot(fpr,tpr,color = 'r', lw=lw, label='ROC curve (area = %0.2f)' %metrics.auc(fpr, tpr))\n",
    "plt.legend(loc='best')\n",
    "\n",
    "plt.show()"
   ]
  },
  {
   "cell_type": "markdown",
   "metadata": {},
   "source": [
    "# ORTB non-linear"
   ]
  },
  {
   "cell_type": "code",
   "execution_count": 17,
   "metadata": {
    "collapsed": true
   },
   "outputs": [],
   "source": [
    "lambdas = [5.2e-10,5.2e-9,5.2e-8,5.2e-7,5.2e-6,5.2e-5,5.2e-4,5.2e-3,5.2e-2,5.2e-1]\n",
    "c = np.arange(10,101,10).tolist()\n",
    "combinations = list(itertools.product(c, lambdas))"
   ]
  },
  {
   "cell_type": "code",
   "execution_count": 18,
   "metadata": {
    "collapsed": true
   },
   "outputs": [],
   "source": [
    "def ortb1(c,lambdas):\n",
    "    impression = 0.0\n",
    "    clicks = 0\n",
    "    cost = 0.0\n",
    "    budget = 2500000  # 1/10th budget of 25,000,000\n",
    "    bidortb1 = []\n",
    "    \n",
    "    for pctr in Combinedctr:\n",
    "        ortb = math.sqrt(c/lambdas*pctr + c**2)-c\n",
    "        bidortb1.append(ortb)\n",
    "    \n",
    "    true_bids = bidortb1 >= validation.payprice\n",
    "    for i in range(0, len(true_bids)):\n",
    "        if true_bids[i] == True:\n",
    "            impression += 1.0\n",
    "            clicks += validation.click[i]\n",
    "            cost += validation.payprice[i]\n",
    "        if cost >= budget:\n",
    "            break\n",
    "    return impression, clicks, cost"
   ]
  },
  {
   "cell_type": "code",
   "execution_count": 19,
   "metadata": {
    "collapsed": true
   },
   "outputs": [],
   "source": [
    "def get_results(ortb):\n",
    "    df = pd.DataFrame()\n",
    "    \n",
    "    imp = []\n",
    "    clik = []\n",
    "    ct = []\n",
    "    clamb = []\n",
    "    for combination in combinations:\n",
    "        c = combination[0]\n",
    "        lam = combination[1]\n",
    "        [imps, clicks, cost] = ortb(c,lam)\n",
    "        imp.append(imps)\n",
    "        clik.append(clicks)\n",
    "        ct.append(cost)\n",
    "        clamb.append(combination)\n",
    "    df['C_Lambda'] = clamb\n",
    "    df['impressions'] = imp\n",
    "    df['total_cost'] = ct\n",
    "    df['clicks'] = clik\n",
    "    df['CTR'] = (df.clicks / df.impressions * 100).round(2).astype(str)\n",
    "    df['CPM'] = (df.total_cost / df.impressions * 1000).round(2).astype(str)\n",
    "    df['CPC'] = (df.total_cost / df.clicks).round(2).astype(str)\n",
    "    return df\n",
    "\n"
   ]
  },
  {
   "cell_type": "code",
   "execution_count": 20,
   "metadata": {
    "collapsed": true
   },
   "outputs": [],
   "source": [
    "Combinedctr = np.asarray(prob)"
   ]
  },
  {
   "cell_type": "code",
   "execution_count": 21,
   "metadata": {
    "collapsed": true
   },
   "outputs": [],
   "source": [
    "ortb1result = get_results(ortb1)"
   ]
  },
  {
   "cell_type": "code",
   "execution_count": 22,
   "metadata": {
    "collapsed": false
   },
   "outputs": [
    {
     "data": {
      "text/html": [
       "<div>\n",
       "<table border=\"1\" class=\"dataframe\">\n",
       "  <thead>\n",
       "    <tr style=\"text-align: right;\">\n",
       "      <th></th>\n",
       "      <th>C_Lambda</th>\n",
       "      <th>impressions</th>\n",
       "      <th>total_cost</th>\n",
       "      <th>clicks</th>\n",
       "      <th>CTR</th>\n",
       "      <th>CPM</th>\n",
       "      <th>CPC</th>\n",
       "    </tr>\n",
       "  </thead>\n",
       "  <tbody>\n",
       "    <tr>\n",
       "      <th>94</th>\n",
       "      <td>(100, 5.2e-06)</td>\n",
       "      <td>71852.0</td>\n",
       "      <td>2333157.0</td>\n",
       "      <td>130</td>\n",
       "      <td>0.18</td>\n",
       "      <td>32471.71</td>\n",
       "      <td>17947.36</td>\n",
       "    </tr>\n",
       "    <tr>\n",
       "      <th>84</th>\n",
       "      <td>(90, 5.2e-06)</td>\n",
       "      <td>70925.0</td>\n",
       "      <td>2271243.0</td>\n",
       "      <td>127</td>\n",
       "      <td>0.18</td>\n",
       "      <td>32023.17</td>\n",
       "      <td>17883.8</td>\n",
       "    </tr>\n",
       "    <tr>\n",
       "      <th>74</th>\n",
       "      <td>(80, 5.2e-06)</td>\n",
       "      <td>69823.0</td>\n",
       "      <td>2208114.0</td>\n",
       "      <td>126</td>\n",
       "      <td>0.18</td>\n",
       "      <td>31624.45</td>\n",
       "      <td>17524.71</td>\n",
       "    </tr>\n",
       "    <tr>\n",
       "      <th>64</th>\n",
       "      <td>(70, 5.2e-06)</td>\n",
       "      <td>68053.0</td>\n",
       "      <td>2108774.0</td>\n",
       "      <td>124</td>\n",
       "      <td>0.18</td>\n",
       "      <td>30987.23</td>\n",
       "      <td>17006.24</td>\n",
       "    </tr>\n",
       "    <tr>\n",
       "      <th>54</th>\n",
       "      <td>(60, 5.2e-06)</td>\n",
       "      <td>66039.0</td>\n",
       "      <td>1992737.0</td>\n",
       "      <td>123</td>\n",
       "      <td>0.19</td>\n",
       "      <td>30175.15</td>\n",
       "      <td>16201.11</td>\n",
       "    </tr>\n",
       "    <tr>\n",
       "      <th>44</th>\n",
       "      <td>(50, 5.2e-06)</td>\n",
       "      <td>62783.0</td>\n",
       "      <td>1839208.0</td>\n",
       "      <td>116</td>\n",
       "      <td>0.18</td>\n",
       "      <td>29294.68</td>\n",
       "      <td>15855.24</td>\n",
       "    </tr>\n",
       "    <tr>\n",
       "      <th>34</th>\n",
       "      <td>(40, 5.2e-06)</td>\n",
       "      <td>59874.0</td>\n",
       "      <td>1662283.0</td>\n",
       "      <td>110</td>\n",
       "      <td>0.18</td>\n",
       "      <td>27763.02</td>\n",
       "      <td>15111.66</td>\n",
       "    </tr>\n",
       "    <tr>\n",
       "      <th>24</th>\n",
       "      <td>(30, 5.2e-06)</td>\n",
       "      <td>54950.0</td>\n",
       "      <td>1427057.0</td>\n",
       "      <td>97</td>\n",
       "      <td>0.18</td>\n",
       "      <td>25970.1</td>\n",
       "      <td>14711.93</td>\n",
       "    </tr>\n",
       "    <tr>\n",
       "      <th>14</th>\n",
       "      <td>(20, 5.2e-06)</td>\n",
       "      <td>48716.0</td>\n",
       "      <td>1150756.0</td>\n",
       "      <td>91</td>\n",
       "      <td>0.19</td>\n",
       "      <td>23621.73</td>\n",
       "      <td>12645.67</td>\n",
       "    </tr>\n",
       "    <tr>\n",
       "      <th>4</th>\n",
       "      <td>(10, 5.2e-06)</td>\n",
       "      <td>38227.0</td>\n",
       "      <td>773705.0</td>\n",
       "      <td>68</td>\n",
       "      <td>0.18</td>\n",
       "      <td>20239.75</td>\n",
       "      <td>11378.01</td>\n",
       "    </tr>\n",
       "  </tbody>\n",
       "</table>\n",
       "</div>"
      ],
      "text/plain": [
       "          C_Lambda  impressions  total_cost  clicks   CTR       CPM       CPC\n",
       "94  (100, 5.2e-06)      71852.0   2333157.0     130  0.18  32471.71  17947.36\n",
       "84   (90, 5.2e-06)      70925.0   2271243.0     127  0.18  32023.17   17883.8\n",
       "74   (80, 5.2e-06)      69823.0   2208114.0     126  0.18  31624.45  17524.71\n",
       "64   (70, 5.2e-06)      68053.0   2108774.0     124  0.18  30987.23  17006.24\n",
       "54   (60, 5.2e-06)      66039.0   1992737.0     123  0.19  30175.15  16201.11\n",
       "44   (50, 5.2e-06)      62783.0   1839208.0     116  0.18  29294.68  15855.24\n",
       "34   (40, 5.2e-06)      59874.0   1662283.0     110  0.18  27763.02  15111.66\n",
       "24   (30, 5.2e-06)      54950.0   1427057.0      97  0.18   25970.1  14711.93\n",
       "14   (20, 5.2e-06)      48716.0   1150756.0      91  0.19  23621.73  12645.67\n",
       "4    (10, 5.2e-06)      38227.0    773705.0      68  0.18  20239.75  11378.01"
      ]
     },
     "execution_count": 22,
     "metadata": {},
     "output_type": "execute_result"
    }
   ],
   "source": [
    "ortb1result.sort_values(\"clicks\",ascending = False)[:10]\n"
   ]
  },
  {
   "cell_type": "markdown",
   "metadata": {},
   "source": [
    "# Squared bidding"
   ]
  },
  {
   "cell_type": "code",
   "execution_count": null,
   "metadata": {
    "collapsed": false
   },
   "outputs": [],
   "source": [
    "# calculate squared bidding\n",
    "averageCTR = (train.click.sum() / train.logtype.sum())\n",
    "print(averageCTR)# this is the average CTR for training data\n",
    "\n",
    "base_bids = np.arange(10,300,5) #self defined base bids\n",
    "\n",
    "square_bids = []\n",
    "for i in base_bids:\n",
    "        square_bid = i * (((Combinedctr / averageCTR))**2)\n",
    "        square_bids.append(square_bid)\n",
    "\n",
    "segments_square = [square_bids[x:x+len(pClick)] for x in range(0, len(square_bids), len(pClick))] # lump all possible bids according to base bids in segments together\n",
    "print(square_bids[:5])\n",
    "def square_bids(bids):\n",
    "    impression = 0.0\n",
    "    clicks = 0\n",
    "    cost = 0.0\n",
    "\n",
    "\n",
    "    budget = 2500000 # 1/10 budget of 25,000,000\n",
    "\n",
    "    true_bids = bids >= validation.payprice\n",
    "    for i in range(0, len(true_bids)):\n",
    "        if true_bids[i] == True:\n",
    "            impression += 1.0\n",
    "            clicks += validation.click[i]\n",
    "            cost += validation.payprice[i]\n",
    "        if cost >= budget:\n",
    "            break\n",
    "    return impression, clicks, cost\n",
    "\n",
    "df2 = pd.DataFrame()\n",
    "df2['bid'] = base_bids\n",
    "\n",
    "\n",
    "imp = []\n",
    "clik = []\n",
    "ct = []\n",
    "\n",
    "\n",
    "for bids in segments_square[0]:\n",
    "    [imps, clicks, cost] = square_bids(bids)\n",
    "    imp.append(imps)\n",
    "    clik.append(clicks)\n",
    "    ct.append(cost)\n",
    "df2['impressions'] = imp\n",
    "df2['total_cost'] = ct\n",
    "df2['clicks'] = clik\n",
    "df2['CTR'] = (df2.clicks / df2.impressions * 100).round(2).astype(str)\n",
    "df2['CPM'] = (df2.total_cost / df2.impressions * 1000).round(2).astype(str)\n",
    "df2['CPC'] = (df2.total_cost / df2.clicks).round(2).astype(str)"
   ]
  },
  {
   "cell_type": "code",
   "execution_count": 25,
   "metadata": {
    "collapsed": false
   },
   "outputs": [
    {
     "data": {
      "text/html": [
       "<div>\n",
       "<table border=\"1\" class=\"dataframe\">\n",
       "  <thead>\n",
       "    <tr style=\"text-align: right;\">\n",
       "      <th></th>\n",
       "      <th>bid</th>\n",
       "      <th>impressions</th>\n",
       "      <th>total_cost</th>\n",
       "      <th>clicks</th>\n",
       "      <th>CTR</th>\n",
       "      <th>CPM</th>\n",
       "      <th>CPC</th>\n",
       "    </tr>\n",
       "  </thead>\n",
       "  <tbody>\n",
       "    <tr>\n",
       "      <th>7</th>\n",
       "      <td>45</td>\n",
       "      <td>40880.0</td>\n",
       "      <td>2273716.0</td>\n",
       "      <td>142</td>\n",
       "      <td>0.35</td>\n",
       "      <td>55619.28</td>\n",
       "      <td>16012.08</td>\n",
       "    </tr>\n",
       "    <tr>\n",
       "      <th>6</th>\n",
       "      <td>40</td>\n",
       "      <td>38531.0</td>\n",
       "      <td>2159908.0</td>\n",
       "      <td>141</td>\n",
       "      <td>0.37</td>\n",
       "      <td>56056.37</td>\n",
       "      <td>15318.5</td>\n",
       "    </tr>\n",
       "    <tr>\n",
       "      <th>8</th>\n",
       "      <td>50</td>\n",
       "      <td>47186.0</td>\n",
       "      <td>2500068.0</td>\n",
       "      <td>140</td>\n",
       "      <td>0.3</td>\n",
       "      <td>52983.26</td>\n",
       "      <td>17857.63</td>\n",
       "    </tr>\n",
       "    <tr>\n",
       "      <th>5</th>\n",
       "      <td>35</td>\n",
       "      <td>35539.0</td>\n",
       "      <td>2007967.0</td>\n",
       "      <td>137</td>\n",
       "      <td>0.39</td>\n",
       "      <td>56500.38</td>\n",
       "      <td>14656.69</td>\n",
       "    </tr>\n",
       "    <tr>\n",
       "      <th>3</th>\n",
       "      <td>25</td>\n",
       "      <td>29313.0</td>\n",
       "      <td>1688318.0</td>\n",
       "      <td>132</td>\n",
       "      <td>0.45</td>\n",
       "      <td>57596.22</td>\n",
       "      <td>12790.29</td>\n",
       "    </tr>\n",
       "    <tr>\n",
       "      <th>4</th>\n",
       "      <td>30</td>\n",
       "      <td>32724.0</td>\n",
       "      <td>1858539.0</td>\n",
       "      <td>132</td>\n",
       "      <td>0.4</td>\n",
       "      <td>56794.37</td>\n",
       "      <td>14079.84</td>\n",
       "    </tr>\n",
       "    <tr>\n",
       "      <th>2</th>\n",
       "      <td>20</td>\n",
       "      <td>25701.0</td>\n",
       "      <td>1485155.0</td>\n",
       "      <td>129</td>\n",
       "      <td>0.5</td>\n",
       "      <td>57785.88</td>\n",
       "      <td>11512.83</td>\n",
       "    </tr>\n",
       "    <tr>\n",
       "      <th>9</th>\n",
       "      <td>55</td>\n",
       "      <td>47084.0</td>\n",
       "      <td>2500138.0</td>\n",
       "      <td>128</td>\n",
       "      <td>0.27</td>\n",
       "      <td>53099.52</td>\n",
       "      <td>19532.33</td>\n",
       "    </tr>\n",
       "    <tr>\n",
       "      <th>1</th>\n",
       "      <td>15</td>\n",
       "      <td>21646.0</td>\n",
       "      <td>1226661.0</td>\n",
       "      <td>121</td>\n",
       "      <td>0.56</td>\n",
       "      <td>56669.18</td>\n",
       "      <td>10137.69</td>\n",
       "    </tr>\n",
       "    <tr>\n",
       "      <th>10</th>\n",
       "      <td>60</td>\n",
       "      <td>47226.0</td>\n",
       "      <td>2500007.0</td>\n",
       "      <td>120</td>\n",
       "      <td>0.25</td>\n",
       "      <td>52937.09</td>\n",
       "      <td>20833.39</td>\n",
       "    </tr>\n",
       "  </tbody>\n",
       "</table>\n",
       "</div>"
      ],
      "text/plain": [
       "    bid  impressions  total_cost  clicks   CTR       CPM       CPC\n",
       "7    45      40880.0   2273716.0     142  0.35  55619.28  16012.08\n",
       "6    40      38531.0   2159908.0     141  0.37  56056.37   15318.5\n",
       "8    50      47186.0   2500068.0     140   0.3  52983.26  17857.63\n",
       "5    35      35539.0   2007967.0     137  0.39  56500.38  14656.69\n",
       "3    25      29313.0   1688318.0     132  0.45  57596.22  12790.29\n",
       "4    30      32724.0   1858539.0     132   0.4  56794.37  14079.84\n",
       "2    20      25701.0   1485155.0     129   0.5  57785.88  11512.83\n",
       "9    55      47084.0   2500138.0     128  0.27  53099.52  19532.33\n",
       "1    15      21646.0   1226661.0     121  0.56  56669.18  10137.69\n",
       "10   60      47226.0   2500007.0     120  0.25  52937.09  20833.39"
      ]
     },
     "execution_count": 25,
     "metadata": {},
     "output_type": "execute_result"
    }
   ],
   "source": [
    "df2.sort_values(\"clicks\",ascending =False)[:10]"
   ]
  },
  {
   "cell_type": "code",
   "execution_count": 27,
   "metadata": {
    "collapsed": false
   },
   "outputs": [],
   "source": [
    "df2.sort_values(\"clicks\",ascending = False)[:10].to_csv(path+\"square_bid_combined.csv\")"
   ]
  },
  {
   "cell_type": "code",
   "execution_count": 19,
   "metadata": {
    "collapsed": false
   },
   "outputs": [
    {
     "data": {
      "text/html": [
       "<div>\n",
       "<table border=\"1\" class=\"dataframe\">\n",
       "  <thead>\n",
       "    <tr style=\"text-align: right;\">\n",
       "      <th></th>\n",
       "      <th>bid</th>\n",
       "      <th>impressions</th>\n",
       "      <th>total_cost</th>\n",
       "      <th>clicks</th>\n",
       "      <th>CTR</th>\n",
       "      <th>CPM</th>\n",
       "      <th>CPC</th>\n",
       "    </tr>\n",
       "  </thead>\n",
       "  <tbody>\n",
       "    <tr>\n",
       "      <th>7</th>\n",
       "      <td>45</td>\n",
       "      <td>40880.0</td>\n",
       "      <td>2273728.0</td>\n",
       "      <td>142</td>\n",
       "      <td>0.35</td>\n",
       "      <td>55619.57</td>\n",
       "      <td>16012.17</td>\n",
       "    </tr>\n",
       "    <tr>\n",
       "      <th>6</th>\n",
       "      <td>40</td>\n",
       "      <td>38530.0</td>\n",
       "      <td>2159828.0</td>\n",
       "      <td>141</td>\n",
       "      <td>0.37</td>\n",
       "      <td>56055.75</td>\n",
       "      <td>15317.93</td>\n",
       "    </tr>\n",
       "    <tr>\n",
       "      <th>8</th>\n",
       "      <td>50</td>\n",
       "      <td>47186.0</td>\n",
       "      <td>2500068.0</td>\n",
       "      <td>140</td>\n",
       "      <td>0.3</td>\n",
       "      <td>52983.26</td>\n",
       "      <td>17857.63</td>\n",
       "    </tr>\n",
       "    <tr>\n",
       "      <th>5</th>\n",
       "      <td>35</td>\n",
       "      <td>35539.0</td>\n",
       "      <td>2007967.0</td>\n",
       "      <td>137</td>\n",
       "      <td>0.39</td>\n",
       "      <td>56500.38</td>\n",
       "      <td>14656.69</td>\n",
       "    </tr>\n",
       "    <tr>\n",
       "      <th>3</th>\n",
       "      <td>25</td>\n",
       "      <td>29313.0</td>\n",
       "      <td>1688318.0</td>\n",
       "      <td>132</td>\n",
       "      <td>0.45</td>\n",
       "      <td>57596.22</td>\n",
       "      <td>12790.29</td>\n",
       "    </tr>\n",
       "    <tr>\n",
       "      <th>4</th>\n",
       "      <td>30</td>\n",
       "      <td>32724.0</td>\n",
       "      <td>1858539.0</td>\n",
       "      <td>132</td>\n",
       "      <td>0.4</td>\n",
       "      <td>56794.37</td>\n",
       "      <td>14079.84</td>\n",
       "    </tr>\n",
       "    <tr>\n",
       "      <th>2</th>\n",
       "      <td>20</td>\n",
       "      <td>25701.0</td>\n",
       "      <td>1485155.0</td>\n",
       "      <td>129</td>\n",
       "      <td>0.5</td>\n",
       "      <td>57785.88</td>\n",
       "      <td>11512.83</td>\n",
       "    </tr>\n",
       "    <tr>\n",
       "      <th>9</th>\n",
       "      <td>55</td>\n",
       "      <td>47084.0</td>\n",
       "      <td>2500138.0</td>\n",
       "      <td>128</td>\n",
       "      <td>0.27</td>\n",
       "      <td>53099.52</td>\n",
       "      <td>19532.33</td>\n",
       "    </tr>\n",
       "    <tr>\n",
       "      <th>1</th>\n",
       "      <td>15</td>\n",
       "      <td>21646.0</td>\n",
       "      <td>1226661.0</td>\n",
       "      <td>121</td>\n",
       "      <td>0.56</td>\n",
       "      <td>56669.18</td>\n",
       "      <td>10137.69</td>\n",
       "    </tr>\n",
       "    <tr>\n",
       "      <th>10</th>\n",
       "      <td>60</td>\n",
       "      <td>47226.0</td>\n",
       "      <td>2500007.0</td>\n",
       "      <td>120</td>\n",
       "      <td>0.25</td>\n",
       "      <td>52937.09</td>\n",
       "      <td>20833.39</td>\n",
       "    </tr>\n",
       "  </tbody>\n",
       "</table>\n",
       "</div>"
      ],
      "text/plain": [
       "    bid  impressions  total_cost  clicks   CTR       CPM       CPC\n",
       "7    45      40880.0   2273728.0     142  0.35  55619.57  16012.17\n",
       "6    40      38530.0   2159828.0     141  0.37  56055.75  15317.93\n",
       "8    50      47186.0   2500068.0     140   0.3  52983.26  17857.63\n",
       "5    35      35539.0   2007967.0     137  0.39  56500.38  14656.69\n",
       "3    25      29313.0   1688318.0     132  0.45  57596.22  12790.29\n",
       "4    30      32724.0   1858539.0     132   0.4  56794.37  14079.84\n",
       "2    20      25701.0   1485155.0     129   0.5  57785.88  11512.83\n",
       "9    55      47084.0   2500138.0     128  0.27  53099.52  19532.33\n",
       "1    15      21646.0   1226661.0     121  0.56  56669.18  10137.69\n",
       "10   60      47226.0   2500007.0     120  0.25  52937.09  20833.39"
      ]
     },
     "execution_count": 19,
     "metadata": {},
     "output_type": "execute_result"
    }
   ],
   "source": [
    "#optimised lr\n",
    "df2.sort_values(\"clicks\",ascending =False)[:10]"
   ]
  },
  {
   "cell_type": "code",
   "execution_count": 28,
   "metadata": {
    "collapsed": false
   },
   "outputs": [
    {
     "data": {
      "image/png": "[encoded data removed]",
      "text/plain": [
       "<matplotlib.figure.Figure at 0x1e330a039e8>"
      ]
     },
     "metadata": {},
     "output_type": "display_data"
    }
   ],
   "source": [
    "b = df2[['clicks','bid']]\n",
    "a = df2[['bid','CTR']]\n",
    "b = b.astype(float)\n",
    "a = a.astype(float)\n",
    "fig, ax1 = plt.subplots()\n",
    "ax1.plot(b.bid,b.clicks,color = 'r')\n",
    "ax1.set_xlabel('squared bid')\n",
    "ax1.set_ylabel('clicks', color='r')\n",
    "\n",
    "ax2 = ax1.twinx()\n",
    "ax2.plot(a.bid, a.CTR,color='g')\n",
    "ax2.set_ylabel('CTR', color='g')\n",
    "fig.set_size_inches(10, 5)\n",
    "fig.savefig(path+'squared_combined.PNG', dpi=200)\n",
    "plt.show()"
   ]
  },
  {
   "cell_type": "code",
   "execution_count": 29,
   "metadata": {
    "collapsed": true
   },
   "outputs": [],
   "source": [
    "#predict test set\n",
    "xtest = pd.read_csv(path+\"test_data.csv\")"
   ]
  },
  {
   "cell_type": "code",
   "execution_count": 37,
   "metadata": {
    "collapsed": false
   },
   "outputs": [],
   "source": [
    "xtest = np.array(xtest)\n",
    "new_test = xtest[:, index]"
   ]
  },
  {
   "cell_type": "code",
   "execution_count": 40,
   "metadata": {
    "collapsed": false
   },
   "outputs": [],
   "source": [
    "prob = trainedlr.predict_proba(new_test)"
   ]
  },
  {
   "cell_type": "code",
   "execution_count": 43,
   "metadata": {
    "collapsed": false
   },
   "outputs": [],
   "source": [
    "\n",
    "\n",
    "testClick = pd.DataFrame(prob)\n"
   ]
  },
  {
   "cell_type": "code",
   "execution_count": null,
   "metadata": {
    "collapsed": false
   },
   "outputs": [],
   "source": [
    "temp = len(train) / (2 * np.bincount(train.click))\n",
    "w = temp[0]/temp[1]\n",
    "print(w)\n",
    "\n",
    "prob =[]\n",
    "for p in testClick[1]:\n",
    "    prob.append( p / (p + ((1-p)/w)))\n",
    "prob[:5]"
   ]
  },
  {
   "cell_type": "code",
   "execution_count": 50,
   "metadata": {
    "collapsed": false
   },
   "outputs": [],
   "source": [
    "#get the best metric with the most clicks to use to calculate test data bidprice\n",
    "best_clickrate = pd.DataFrame(df2.loc[df2['clicks'] == df2.clicks.max()])\n",
    "bestbid = best_clickrate[\"bid\"].values\n",
    "bestbid = bestbid[0]\n",
    "\n",
    "bestbidprice = bestbid * ((np.asarray(prob) / averageCTR)**2)"
   ]
  },
  {
   "cell_type": "code",
   "execution_count": 51,
   "metadata": {
    "collapsed": false
   },
   "outputs": [
    {
     "data": {
      "text/plain": [
       "array([ 44.73791948,   8.6506933 ,   3.15976699, ...,  57.21828486,\n",
       "         4.87278312,  19.25324647])"
      ]
     },
     "execution_count": 51,
     "metadata": {},
     "output_type": "execute_result"
    }
   ],
   "source": [
    "bestbidprice"
   ]
  },
  {
   "cell_type": "code",
   "execution_count": 52,
   "metadata": {
    "collapsed": true
   },
   "outputs": [],
   "source": [
    "test = pd.read_csv(path+\"test.csv\")"
   ]
  },
  {
   "cell_type": "code",
   "execution_count": 63,
   "metadata": {
    "collapsed": false
   },
   "outputs": [],
   "source": [
    "bidid = test.bidid"
   ]
  },
  {
   "cell_type": "code",
   "execution_count": 67,
   "metadata": {
    "collapsed": false
   },
   "outputs": [],
   "source": [
    "testbid = pd.DataFrame({\"bidid\":bidid,\"bidprice\":bestbidprice})"
   ]
  },
  {
   "cell_type": "code",
   "execution_count": 70,
   "metadata": {
    "collapsed": false
   },
   "outputs": [],
   "source": [
    "testbid.to_csv(path+\"testbid.csv\",index=False)"
   ]
  },
  {
   "cell_type": "code",
   "execution_count": null,
   "metadata": {
    "collapsed": true
   },
   "outputs": [],
   "source": []
  }
 ],
 "metadata": {
  "kernelspec": {
   "display_name": "Python 3",
   "language": "python",
   "name": "python3"
  },
  "language_info": {
   "codemirror_mode": {
    "name": "ipython",
    "version": 3
   },
   "file_extension": ".py",
   "mimetype": "text/x-python",
   "name": "python",
   "nbconvert_exporter": "python",
   "pygments_lexer": "ipython3",
   "version": "3.6.0"
  }
 },
 "nbformat": 4,
 "nbformat_minor": 2
}
