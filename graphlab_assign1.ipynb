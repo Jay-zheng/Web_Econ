{
 "cells": [
  {
   "cell_type": "code",
   "execution_count": 130,
   "metadata": {
    "collapsed": false
   },
   "outputs": [],
   "source": [
    "import graphlab as gl\n",
    "from random import randrange\n",
    "import pandas as pd\n",
    "import numpy as np\n",
    "import matplotlib.pyplot as plt\n",
    "%matplotlib inline"
   ]
  },
  {
   "cell_type": "markdown",
   "metadata": {},
   "source": [
    "# 1. Basic analysis"
   ]
  },
  {
   "cell_type": "code",
   "execution_count": 3,
   "metadata": {
    "collapsed": false,
    "scrolled": true
   },
   "outputs": [
    {
     "name": "stdout",
     "output_type": "stream",
     "text": [
      "This non-commercial license of GraphLab Create for academic use is assigned to zcahgj8@ucl.ac.uk and will expire on March 08, 2018.\n"
     ]
    },
    {
     "name": "stderr",
     "output_type": "stream",
     "text": [
      "[INFO] graphlab.cython.cy_server: GraphLab Create v2.1 started. Logging: C:\\Users\\JayZheng\\AppData\\Local\\Temp\\graphlab_server_1489344790.log.0\n"
     ]
    },
    {
     "data": {
      "text/html": [
       "<pre>Finished parsing file C:\\Users\\JayZheng\\Documents\\Data Science\\web economics\\assignment 1\\dataset\\train.csv</pre>"
      ],
      "text/plain": [
       "Finished parsing file C:\\Users\\JayZheng\\Documents\\Data Science\\web economics\\assignment 1\\dataset\\train.csv"
      ]
     },
     "metadata": {},
     "output_type": "display_data"
    },
    {
     "data": {
      "text/html": [
       "<pre>Parsing completed. Parsed 100 lines in 0.961304 secs.</pre>"
      ],
      "text/plain": [
       "Parsing completed. Parsed 100 lines in 0.961304 secs."
      ]
     },
     "metadata": {},
     "output_type": "display_data"
    },
    {
     "name": "stdout",
     "output_type": "stream",
     "text": [
      "------------------------------------------------------\n",
      "Inferred types from first 100 line(s) of file as \n",
      "column_type_hints=[long,long,long,str,long,str,str,str,long,long,str,str,str,str,str,long,long,str,str,long,str,long,long,str,long,str]\n",
      "If parsing fails due to incorrect types, you can correct\n",
      "the inferred type list above and pass it to read_csv in\n",
      "the column_type_hints argument\n",
      "------------------------------------------------------\n"
     ]
    },
    {
     "data": {
      "text/html": [
       "<pre>Read 186256 lines. Lines per second: 176112</pre>"
      ],
      "text/plain": [
       "Read 186256 lines. Lines per second: 176112"
      ]
     },
     "metadata": {},
     "output_type": "display_data"
    },
    {
     "data": {
      "text/html": [
       "<pre>Read 1489808 lines. Lines per second: 244575</pre>"
      ],
      "text/plain": [
       "Read 1489808 lines. Lines per second: 244575"
      ]
     },
     "metadata": {},
     "output_type": "display_data"
    },
    {
     "data": {
      "text/html": [
       "<pre>Finished parsing file C:\\Users\\JayZheng\\Documents\\Data Science\\web economics\\assignment 1\\dataset\\train.csv</pre>"
      ],
      "text/plain": [
       "Finished parsing file C:\\Users\\JayZheng\\Documents\\Data Science\\web economics\\assignment 1\\dataset\\train.csv"
      ]
     },
     "metadata": {},
     "output_type": "display_data"
    },
    {
     "data": {
      "text/html": [
       "<pre>Parsing completed. Parsed 2697738 lines in 10.4272 secs.</pre>"
      ],
      "text/plain": [
       "Parsing completed. Parsed 2697738 lines in 10.4272 secs."
      ]
     },
     "metadata": {},
     "output_type": "display_data"
    }
   ],
   "source": [
    "sf = gl.SFrame.read_csv(\"C:/Users/JayZheng/Documents/Data Science/web economics/assignment 1/dataset/train.csv\")"
   ]
  },
  {
   "cell_type": "code",
   "execution_count": null,
   "metadata": {
    "collapsed": false
   },
   "outputs": [],
   "source": [
    "# quick summary of data\n",
    "sf.head(5)"
   ]
  },
  {
   "cell_type": "code",
   "execution_count": null,
   "metadata": {
    "collapsed": false
   },
   "outputs": [],
   "source": [
    "# web browser based interactive visualization, can be access with the below URL\n",
    "sf.show()"
   ]
  },
  {
   "cell_type": "code",
   "execution_count": 4,
   "metadata": {
    "collapsed": false
   },
   "outputs": [],
   "source": [
    "# create function to group data and calculate CTR,CPM,payprice and eCPC. \n",
    "def group(variable):\n",
    "    variable = sf.groupby(variable,\n",
    "                              {'count': gl.aggregate.COUNT(variable)}).sort('count', ascending=False)\n",
    "    return variable"
   ]
  },
  {
   "cell_type": "code",
   "execution_count": 5,
   "metadata": {
    "collapsed": false,
    "scrolled": true
   },
   "outputs": [],
   "source": [
    "def CTR(variable):\n",
    "    variable = sf.groupby(variable,\n",
    "                            {'CTR': gl.aggregate.MEAN('click')},\n",
    "                            {'count': gl.aggregate.COUNT(variable)}).sort('CTR', ascending=False)\n",
    "    variable[\"CTR\"]= variable[\"CTR\"]*100\n",
    "    return variable"
   ]
  },
  {
   "cell_type": "code",
   "execution_count": 6,
   "metadata": {
    "collapsed": true
   },
   "outputs": [],
   "source": [
    "def CPM(variable):\n",
    "    variable = sf.groupby(variable,\n",
    "                         {'CPM':gl.aggregate.MEAN('payprice')},\n",
    "                         {'count':gl.aggregate.COUNT(variable)}).sort('CPM',ascending = False)\n",
    "    return variable"
   ]
  },
  {
   "cell_type": "code",
   "execution_count": 7,
   "metadata": {
    "collapsed": false
   },
   "outputs": [],
   "source": [
    "def PayPrice(variable):\n",
    "    variable = sf.groupby(variable,\n",
    "                            {'cost': gl.aggregate.SUM('payprice')},\n",
    "                            {'count': gl.aggregate.COUNT(variable)}).sort('cost', ascending=False)\n",
    "    return variable\n"
   ]
  },
  {
   "cell_type": "code",
   "execution_count": 8,
   "metadata": {
    "collapsed": false
   },
   "outputs": [],
   "source": [
    "def eCPC(variable):\n",
    "    df = sf.groupby(variable,\n",
    "                            {'cost': gl.aggregate.SUM('payprice')},\n",
    "                           {'click': gl.aggregate.SUM('click')})\n",
    "\n",
    "    \n",
    "\n",
    "    return df\n",
    "\n"
   ]
  },
  {
   "cell_type": "code",
   "execution_count": 9,
   "metadata": {
    "collapsed": false
   },
   "outputs": [],
   "source": [
    "eCPC = eCPC(\"advertiser\")\n",
    "eCPC[\"eCPC\"]=eCPC[\"cost\"]/eCPC[\"click\"]/1000"
   ]
  },
  {
   "cell_type": "code",
   "execution_count": 10,
   "metadata": {
    "collapsed": false
   },
   "outputs": [
    {
     "data": {
      "text/html": [
       "<div style=\"max-height:1000px;max-width:1500px;overflow:auto;\"><table frame=\"box\" rules=\"cols\">\n",
       "    <tr>\n",
       "        <th style=\"padding-left: 1em; padding-right: 1em; text-align: center\">advertiser</th>\n",
       "        <th style=\"padding-left: 1em; padding-right: 1em; text-align: center\">count</th>\n",
       "    </tr>\n",
       "    <tr>\n",
       "        <td style=\"padding-left: 1em; padding-right: 1em; text-align: center; vertical-align: top\">1458</td>\n",
       "        <td style=\"padding-left: 1em; padding-right: 1em; text-align: center; vertical-align: top\">540293</td>\n",
       "    </tr>\n",
       "    <tr>\n",
       "        <td style=\"padding-left: 1em; padding-right: 1em; text-align: center; vertical-align: top\">3386</td>\n",
       "        <td style=\"padding-left: 1em; padding-right: 1em; text-align: center; vertical-align: top\">498554</td>\n",
       "    </tr>\n",
       "    <tr>\n",
       "        <td style=\"padding-left: 1em; padding-right: 1em; text-align: center; vertical-align: top\">3427</td>\n",
       "        <td style=\"padding-left: 1em; padding-right: 1em; text-align: center; vertical-align: top\">454031</td>\n",
       "    </tr>\n",
       "    <tr>\n",
       "        <td style=\"padding-left: 1em; padding-right: 1em; text-align: center; vertical-align: top\">3476</td>\n",
       "        <td style=\"padding-left: 1em; padding-right: 1em; text-align: center; vertical-align: top\">346778</td>\n",
       "    </tr>\n",
       "    <tr>\n",
       "        <td style=\"padding-left: 1em; padding-right: 1em; text-align: center; vertical-align: top\">3358</td>\n",
       "        <td style=\"padding-left: 1em; padding-right: 1em; text-align: center; vertical-align: top\">304782</td>\n",
       "    </tr>\n",
       "    <tr>\n",
       "        <td style=\"padding-left: 1em; padding-right: 1em; text-align: center; vertical-align: top\">2821</td>\n",
       "        <td style=\"padding-left: 1em; padding-right: 1em; text-align: center; vertical-align: top\">231416</td>\n",
       "    </tr>\n",
       "    <tr>\n",
       "        <td style=\"padding-left: 1em; padding-right: 1em; text-align: center; vertical-align: top\">2259</td>\n",
       "        <td style=\"padding-left: 1em; padding-right: 1em; text-align: center; vertical-align: top\">146778</td>\n",
       "    </tr>\n",
       "    <tr>\n",
       "        <td style=\"padding-left: 1em; padding-right: 1em; text-align: center; vertical-align: top\">2261</td>\n",
       "        <td style=\"padding-left: 1em; padding-right: 1em; text-align: center; vertical-align: top\">120619</td>\n",
       "    </tr>\n",
       "    <tr>\n",
       "        <td style=\"padding-left: 1em; padding-right: 1em; text-align: center; vertical-align: top\">2997</td>\n",
       "        <td style=\"padding-left: 1em; padding-right: 1em; text-align: center; vertical-align: top\">54487</td>\n",
       "    </tr>\n",
       "</table>\n",
       "[9 rows x 2 columns]<br/>\n",
       "</div>"
      ],
      "text/plain": [
       "Columns:\n",
       "\tadvertiser\tint\n",
       "\tcount\tint\n",
       "\n",
       "Rows: 9\n",
       "\n",
       "Data:\n",
       "+------------+--------+\n",
       "| advertiser | count  |\n",
       "+------------+--------+\n",
       "|    1458    | 540293 |\n",
       "|    3386    | 498554 |\n",
       "|    3427    | 454031 |\n",
       "|    3476    | 346778 |\n",
       "|    3358    | 304782 |\n",
       "|    2821    | 231416 |\n",
       "|    2259    | 146778 |\n",
       "|    2261    | 120619 |\n",
       "|    2997    | 54487  |\n",
       "+------------+--------+\n",
       "[9 rows x 2 columns]"
      ]
     },
     "execution_count": 10,
     "metadata": {},
     "output_type": "execute_result"
    }
   ],
   "source": [
    "group(\"advertiser\")"
   ]
  },
  {
   "cell_type": "code",
   "execution_count": 11,
   "metadata": {
    "collapsed": false
   },
   "outputs": [
    {
     "data": {
      "text/html": [
       "<div style=\"max-height:1000px;max-width:1500px;overflow:auto;\"><table frame=\"box\" rules=\"cols\">\n",
       "    <tr>\n",
       "        <th style=\"padding-left: 1em; padding-right: 1em; text-align: center\">advertiser</th>\n",
       "        <th style=\"padding-left: 1em; padding-right: 1em; text-align: center\">cost</th>\n",
       "        <th style=\"padding-left: 1em; padding-right: 1em; text-align: center\">click</th>\n",
       "        <th style=\"padding-left: 1em; padding-right: 1em; text-align: center\">eCPC</th>\n",
       "    </tr>\n",
       "    <tr>\n",
       "        <td style=\"padding-left: 1em; padding-right: 1em; text-align: center; vertical-align: top\">2261</td>\n",
       "        <td style=\"padding-left: 1em; padding-right: 1em; text-align: center; vertical-align: top\">10789152</td>\n",
       "        <td style=\"padding-left: 1em; padding-right: 1em; text-align: center; vertical-align: top\">37</td>\n",
       "        <td style=\"padding-left: 1em; padding-right: 1em; text-align: center; vertical-align: top\">291.598702703</td>\n",
       "    </tr>\n",
       "    <tr>\n",
       "        <td style=\"padding-left: 1em; padding-right: 1em; text-align: center; vertical-align: top\">3427</td>\n",
       "        <td style=\"padding-left: 1em; padding-right: 1em; text-align: center; vertical-align: top\">36820111</td>\n",
       "        <td style=\"padding-left: 1em; padding-right: 1em; text-align: center; vertical-align: top\">340</td>\n",
       "        <td style=\"padding-left: 1em; padding-right: 1em; text-align: center; vertical-align: top\">108.294444118</td>\n",
       "    </tr>\n",
       "    <tr>\n",
       "        <td style=\"padding-left: 1em; padding-right: 1em; text-align: center; vertical-align: top\">3358</td>\n",
       "        <td style=\"padding-left: 1em; padding-right: 1em; text-align: center; vertical-align: top\">28145288</td>\n",
       "        <td style=\"padding-left: 1em; padding-right: 1em; text-align: center; vertical-align: top\">233</td>\n",
       "        <td style=\"padding-left: 1em; padding-right: 1em; text-align: center; vertical-align: top\">120.795227468</td>\n",
       "    </tr>\n",
       "    <tr>\n",
       "        <td style=\"padding-left: 1em; padding-right: 1em; text-align: center; vertical-align: top\">3476</td>\n",
       "        <td style=\"padding-left: 1em; padding-right: 1em; text-align: center; vertical-align: top\">27481402</td>\n",
       "        <td style=\"padding-left: 1em; padding-right: 1em; text-align: center; vertical-align: top\">175</td>\n",
       "        <td style=\"padding-left: 1em; padding-right: 1em; text-align: center; vertical-align: top\">157.036582857</td>\n",
       "    </tr>\n",
       "    <tr>\n",
       "        <td style=\"padding-left: 1em; padding-right: 1em; text-align: center; vertical-align: top\">2997</td>\n",
       "        <td style=\"padding-left: 1em; padding-right: 1em; text-align: center; vertical-align: top\">3413227</td>\n",
       "        <td style=\"padding-left: 1em; padding-right: 1em; text-align: center; vertical-align: top\">251</td>\n",
       "        <td style=\"padding-left: 1em; padding-right: 1em; text-align: center; vertical-align: top\">13.5985139442</td>\n",
       "    </tr>\n",
       "    <tr>\n",
       "        <td style=\"padding-left: 1em; padding-right: 1em; text-align: center; vertical-align: top\">3386</td>\n",
       "        <td style=\"padding-left: 1em; padding-right: 1em; text-align: center; vertical-align: top\">38341028</td>\n",
       "        <td style=\"padding-left: 1em; padding-right: 1em; text-align: center; vertical-align: top\">358</td>\n",
       "        <td style=\"padding-left: 1em; padding-right: 1em; text-align: center; vertical-align: top\">107.097843575</td>\n",
       "    </tr>\n",
       "    <tr>\n",
       "        <td style=\"padding-left: 1em; padding-right: 1em; text-align: center; vertical-align: top\">1458</td>\n",
       "        <td style=\"padding-left: 1em; padding-right: 1em; text-align: center; vertical-align: top\">37231239</td>\n",
       "        <td style=\"padding-left: 1em; padding-right: 1em; text-align: center; vertical-align: top\">451</td>\n",
       "        <td style=\"padding-left: 1em; padding-right: 1em; text-align: center; vertical-align: top\">82.5526363636</td>\n",
       "    </tr>\n",
       "    <tr>\n",
       "        <td style=\"padding-left: 1em; padding-right: 1em; text-align: center; vertical-align: top\">2821</td>\n",
       "        <td style=\"padding-left: 1em; padding-right: 1em; text-align: center; vertical-align: top\">20625766</td>\n",
       "        <td style=\"padding-left: 1em; padding-right: 1em; text-align: center; vertical-align: top\">144</td>\n",
       "        <td style=\"padding-left: 1em; padding-right: 1em; text-align: center; vertical-align: top\">143.234486111</td>\n",
       "    </tr>\n",
       "    <tr>\n",
       "        <td style=\"padding-left: 1em; padding-right: 1em; text-align: center; vertical-align: top\">2259</td>\n",
       "        <td style=\"padding-left: 1em; padding-right: 1em; text-align: center; vertical-align: top\">13649026</td>\n",
       "        <td style=\"padding-left: 1em; padding-right: 1em; text-align: center; vertical-align: top\">45</td>\n",
       "        <td style=\"padding-left: 1em; padding-right: 1em; text-align: center; vertical-align: top\">303.311688889</td>\n",
       "    </tr>\n",
       "</table>\n",
       "[9 rows x 4 columns]<br/>\n",
       "</div>"
      ],
      "text/plain": [
       "Columns:\n",
       "\tadvertiser\tint\n",
       "\tcost\tint\n",
       "\tclick\tint\n",
       "\teCPC\tfloat\n",
       "\n",
       "Rows: 9\n",
       "\n",
       "Data:\n",
       "+------------+----------+-------+---------------+\n",
       "| advertiser |   cost   | click |      eCPC     |\n",
       "+------------+----------+-------+---------------+\n",
       "|    2261    | 10789152 |   37  | 291.598702703 |\n",
       "|    3427    | 36820111 |  340  | 108.294444118 |\n",
       "|    3358    | 28145288 |  233  | 120.795227468 |\n",
       "|    3476    | 27481402 |  175  | 157.036582857 |\n",
       "|    2997    | 3413227  |  251  | 13.5985139442 |\n",
       "|    3386    | 38341028 |  358  | 107.097843575 |\n",
       "|    1458    | 37231239 |  451  | 82.5526363636 |\n",
       "|    2821    | 20625766 |  144  | 143.234486111 |\n",
       "|    2259    | 13649026 |   45  | 303.311688889 |\n",
       "+------------+----------+-------+---------------+\n",
       "[9 rows x 4 columns]"
      ]
     },
     "execution_count": 11,
     "metadata": {},
     "output_type": "execute_result"
    }
   ],
   "source": [
    "eCPC"
   ]
  },
  {
   "cell_type": "code",
   "execution_count": 12,
   "metadata": {
    "collapsed": false
   },
   "outputs": [
    {
     "data": {
      "text/html": [
       "<div style=\"max-height:1000px;max-width:1500px;overflow:auto;\"><table frame=\"box\" rules=\"cols\">\n",
       "    <tr>\n",
       "        <th style=\"padding-left: 1em; padding-right: 1em; text-align: center\">click</th>\n",
       "        <th style=\"padding-left: 1em; padding-right: 1em; text-align: center\">count</th>\n",
       "    </tr>\n",
       "    <tr>\n",
       "        <td style=\"padding-left: 1em; padding-right: 1em; text-align: center; vertical-align: top\">0</td>\n",
       "        <td style=\"padding-left: 1em; padding-right: 1em; text-align: center; vertical-align: top\">2695704</td>\n",
       "    </tr>\n",
       "    <tr>\n",
       "        <td style=\"padding-left: 1em; padding-right: 1em; text-align: center; vertical-align: top\">1</td>\n",
       "        <td style=\"padding-left: 1em; padding-right: 1em; text-align: center; vertical-align: top\">2034</td>\n",
       "    </tr>\n",
       "</table>\n",
       "[2 rows x 2 columns]<br/>\n",
       "</div>"
      ],
      "text/plain": [
       "Columns:\n",
       "\tclick\tint\n",
       "\tcount\tint\n",
       "\n",
       "Rows: 2\n",
       "\n",
       "Data:\n",
       "+-------+---------+\n",
       "| click |  count  |\n",
       "+-------+---------+\n",
       "|   0   | 2695704 |\n",
       "|   1   |   2034  |\n",
       "+-------+---------+\n",
       "[2 rows x 2 columns]"
      ]
     },
     "execution_count": 12,
     "metadata": {},
     "output_type": "execute_result"
    }
   ],
   "source": [
    "group(\"click\")"
   ]
  },
  {
   "cell_type": "code",
   "execution_count": 13,
   "metadata": {
    "collapsed": false
   },
   "outputs": [
    {
     "data": {
      "text/html": [
       "<div style=\"max-height:1000px;max-width:1500px;overflow:auto;\"><table frame=\"box\" rules=\"cols\">\n",
       "    <tr>\n",
       "        <th style=\"padding-left: 1em; padding-right: 1em; text-align: center\">hour</th>\n",
       "        <th style=\"padding-left: 1em; padding-right: 1em; text-align: center\">count</th>\n",
       "    </tr>\n",
       "    <tr>\n",
       "        <td style=\"padding-left: 1em; padding-right: 1em; text-align: center; vertical-align: top\">0</td>\n",
       "        <td style=\"padding-left: 1em; padding-right: 1em; text-align: center; vertical-align: top\">202239</td>\n",
       "    </tr>\n",
       "    <tr>\n",
       "        <td style=\"padding-left: 1em; padding-right: 1em; text-align: center; vertical-align: top\">22</td>\n",
       "        <td style=\"padding-left: 1em; padding-right: 1em; text-align: center; vertical-align: top\">172076</td>\n",
       "    </tr>\n",
       "    <tr>\n",
       "        <td style=\"padding-left: 1em; padding-right: 1em; text-align: center; vertical-align: top\">18</td>\n",
       "        <td style=\"padding-left: 1em; padding-right: 1em; text-align: center; vertical-align: top\">171748</td>\n",
       "    </tr>\n",
       "    <tr>\n",
       "        <td style=\"padding-left: 1em; padding-right: 1em; text-align: center; vertical-align: top\">16</td>\n",
       "        <td style=\"padding-left: 1em; padding-right: 1em; text-align: center; vertical-align: top\">166315</td>\n",
       "    </tr>\n",
       "    <tr>\n",
       "        <td style=\"padding-left: 1em; padding-right: 1em; text-align: center; vertical-align: top\">15</td>\n",
       "        <td style=\"padding-left: 1em; padding-right: 1em; text-align: center; vertical-align: top\">166252</td>\n",
       "    </tr>\n",
       "    <tr>\n",
       "        <td style=\"padding-left: 1em; padding-right: 1em; text-align: center; vertical-align: top\">17</td>\n",
       "        <td style=\"padding-left: 1em; padding-right: 1em; text-align: center; vertical-align: top\">159044</td>\n",
       "    </tr>\n",
       "    <tr>\n",
       "        <td style=\"padding-left: 1em; padding-right: 1em; text-align: center; vertical-align: top\">13</td>\n",
       "        <td style=\"padding-left: 1em; padding-right: 1em; text-align: center; vertical-align: top\">155792</td>\n",
       "    </tr>\n",
       "    <tr>\n",
       "        <td style=\"padding-left: 1em; padding-right: 1em; text-align: center; vertical-align: top\">14</td>\n",
       "        <td style=\"padding-left: 1em; padding-right: 1em; text-align: center; vertical-align: top\">145782</td>\n",
       "    </tr>\n",
       "    <tr>\n",
       "        <td style=\"padding-left: 1em; padding-right: 1em; text-align: center; vertical-align: top\">11</td>\n",
       "        <td style=\"padding-left: 1em; padding-right: 1em; text-align: center; vertical-align: top\">143110</td>\n",
       "    </tr>\n",
       "    <tr>\n",
       "        <td style=\"padding-left: 1em; padding-right: 1em; text-align: center; vertical-align: top\">12</td>\n",
       "        <td style=\"padding-left: 1em; padding-right: 1em; text-align: center; vertical-align: top\">142075</td>\n",
       "    </tr>\n",
       "</table>\n",
       "[24 rows x 2 columns]<br/>Note: Only the head of the SFrame is printed.<br/>You can use print_rows(num_rows=m, num_columns=n) to print more rows and columns.\n",
       "</div>"
      ],
      "text/plain": [
       "Columns:\n",
       "\thour\tint\n",
       "\tcount\tint\n",
       "\n",
       "Rows: 24\n",
       "\n",
       "Data:\n",
       "+------+--------+\n",
       "| hour | count  |\n",
       "+------+--------+\n",
       "|  0   | 202239 |\n",
       "|  22  | 172076 |\n",
       "|  18  | 171748 |\n",
       "|  16  | 166315 |\n",
       "|  15  | 166252 |\n",
       "|  17  | 159044 |\n",
       "|  13  | 155792 |\n",
       "|  14  | 145782 |\n",
       "|  11  | 143110 |\n",
       "|  12  | 142075 |\n",
       "+------+--------+\n",
       "[24 rows x 2 columns]\n",
       "Note: Only the head of the SFrame is printed.\n",
       "You can use print_rows(num_rows=m, num_columns=n) to print more rows and columns."
      ]
     },
     "execution_count": 13,
     "metadata": {},
     "output_type": "execute_result"
    }
   ],
   "source": [
    "group(\"hour\")"
   ]
  },
  {
   "cell_type": "code",
   "execution_count": 14,
   "metadata": {
    "collapsed": false
   },
   "outputs": [
    {
     "data": {
      "text/html": [
       "<div style=\"max-height:1000px;max-width:1500px;overflow:auto;\"><table frame=\"box\" rules=\"cols\">\n",
       "    <tr>\n",
       "        <th style=\"padding-left: 1em; padding-right: 1em; text-align: center\">click</th>\n",
       "        <th style=\"padding-left: 1em; padding-right: 1em; text-align: center\">count</th>\n",
       "    </tr>\n",
       "    <tr>\n",
       "        <td style=\"padding-left: 1em; padding-right: 1em; text-align: center; vertical-align: top\">0</td>\n",
       "        <td style=\"padding-left: 1em; padding-right: 1em; text-align: center; vertical-align: top\">2695704</td>\n",
       "    </tr>\n",
       "    <tr>\n",
       "        <td style=\"padding-left: 1em; padding-right: 1em; text-align: center; vertical-align: top\">1</td>\n",
       "        <td style=\"padding-left: 1em; padding-right: 1em; text-align: center; vertical-align: top\">2034</td>\n",
       "    </tr>\n",
       "</table>\n",
       "[2 rows x 2 columns]<br/>\n",
       "</div>"
      ],
      "text/plain": [
       "Columns:\n",
       "\tclick\tint\n",
       "\tcount\tint\n",
       "\n",
       "Rows: 2\n",
       "\n",
       "Data:\n",
       "+-------+---------+\n",
       "| click |  count  |\n",
       "+-------+---------+\n",
       "|   0   | 2695704 |\n",
       "|   1   |   2034  |\n",
       "+-------+---------+\n",
       "[2 rows x 2 columns]"
      ]
     },
     "execution_count": 14,
     "metadata": {},
     "output_type": "execute_result"
    }
   ],
   "source": [
    "group(\"click\")"
   ]
  },
  {
   "cell_type": "code",
   "execution_count": 15,
   "metadata": {
    "collapsed": false
   },
   "outputs": [
    {
     "data": {
      "text/html": [
       "<div style=\"max-height:1000px;max-width:1500px;overflow:auto;\"><table frame=\"box\" rules=\"cols\">\n",
       "    <tr>\n",
       "        <th style=\"padding-left: 1em; padding-right: 1em; text-align: center\">weekday</th>\n",
       "        <th style=\"padding-left: 1em; padding-right: 1em; text-align: center\">count</th>\n",
       "    </tr>\n",
       "    <tr>\n",
       "        <td style=\"padding-left: 1em; padding-right: 1em; text-align: center; vertical-align: top\">0</td>\n",
       "        <td style=\"padding-left: 1em; padding-right: 1em; text-align: center; vertical-align: top\">465241</td>\n",
       "    </tr>\n",
       "    <tr>\n",
       "        <td style=\"padding-left: 1em; padding-right: 1em; text-align: center; vertical-align: top\">1</td>\n",
       "        <td style=\"padding-left: 1em; padding-right: 1em; text-align: center; vertical-align: top\">408417</td>\n",
       "    </tr>\n",
       "    <tr>\n",
       "        <td style=\"padding-left: 1em; padding-right: 1em; text-align: center; vertical-align: top\">3</td>\n",
       "        <td style=\"padding-left: 1em; padding-right: 1em; text-align: center; vertical-align: top\">380111</td>\n",
       "    </tr>\n",
       "    <tr>\n",
       "        <td style=\"padding-left: 1em; padding-right: 1em; text-align: center; vertical-align: top\">5</td>\n",
       "        <td style=\"padding-left: 1em; padding-right: 1em; text-align: center; vertical-align: top\">378028</td>\n",
       "    </tr>\n",
       "    <tr>\n",
       "        <td style=\"padding-left: 1em; padding-right: 1em; text-align: center; vertical-align: top\">6</td>\n",
       "        <td style=\"padding-left: 1em; padding-right: 1em; text-align: center; vertical-align: top\">376514</td>\n",
       "    </tr>\n",
       "    <tr>\n",
       "        <td style=\"padding-left: 1em; padding-right: 1em; text-align: center; vertical-align: top\">4</td>\n",
       "        <td style=\"padding-left: 1em; padding-right: 1em; text-align: center; vertical-align: top\">361376</td>\n",
       "    </tr>\n",
       "    <tr>\n",
       "        <td style=\"padding-left: 1em; padding-right: 1em; text-align: center; vertical-align: top\">2</td>\n",
       "        <td style=\"padding-left: 1em; padding-right: 1em; text-align: center; vertical-align: top\">328051</td>\n",
       "    </tr>\n",
       "</table>\n",
       "[7 rows x 2 columns]<br/>\n",
       "</div>"
      ],
      "text/plain": [
       "Columns:\n",
       "\tweekday\tint\n",
       "\tcount\tint\n",
       "\n",
       "Rows: 7\n",
       "\n",
       "Data:\n",
       "+---------+--------+\n",
       "| weekday | count  |\n",
       "+---------+--------+\n",
       "|    0    | 465241 |\n",
       "|    1    | 408417 |\n",
       "|    3    | 380111 |\n",
       "|    5    | 378028 |\n",
       "|    6    | 376514 |\n",
       "|    4    | 361376 |\n",
       "|    2    | 328051 |\n",
       "+---------+--------+\n",
       "[7 rows x 2 columns]"
      ]
     },
     "execution_count": 15,
     "metadata": {},
     "output_type": "execute_result"
    }
   ],
   "source": [
    "group(\"weekday\")"
   ]
  },
  {
   "cell_type": "code",
   "execution_count": 16,
   "metadata": {
    "collapsed": false
   },
   "outputs": [
    {
     "data": {
      "text/html": [
       "<div>\n",
       "<table border=\"1\" class=\"dataframe\">\n",
       "  <thead>\n",
       "    <tr style=\"text-align: right;\">\n",
       "      <th></th>\n",
       "      <th>weekday</th>\n",
       "      <th>CTR</th>\n",
       "      <th>count</th>\n",
       "    </tr>\n",
       "  </thead>\n",
       "  <tbody>\n",
       "    <tr>\n",
       "      <th>0</th>\n",
       "      <td>2</td>\n",
       "      <td>0.091</td>\n",
       "      <td>328051</td>\n",
       "    </tr>\n",
       "    <tr>\n",
       "      <th>1</th>\n",
       "      <td>3</td>\n",
       "      <td>0.091</td>\n",
       "      <td>380111</td>\n",
       "    </tr>\n",
       "    <tr>\n",
       "      <th>2</th>\n",
       "      <td>4</td>\n",
       "      <td>0.086</td>\n",
       "      <td>361376</td>\n",
       "    </tr>\n",
       "    <tr>\n",
       "      <th>3</th>\n",
       "      <td>5</td>\n",
       "      <td>0.079</td>\n",
       "      <td>378028</td>\n",
       "    </tr>\n",
       "    <tr>\n",
       "      <th>4</th>\n",
       "      <td>1</td>\n",
       "      <td>0.068</td>\n",
       "      <td>408417</td>\n",
       "    </tr>\n",
       "    <tr>\n",
       "      <th>5</th>\n",
       "      <td>0</td>\n",
       "      <td>0.063</td>\n",
       "      <td>465241</td>\n",
       "    </tr>\n",
       "    <tr>\n",
       "      <th>6</th>\n",
       "      <td>6</td>\n",
       "      <td>0.056</td>\n",
       "      <td>376514</td>\n",
       "    </tr>\n",
       "  </tbody>\n",
       "</table>\n",
       "</div>"
      ],
      "text/plain": [
       "   weekday    CTR   count\n",
       "0        2  0.091  328051\n",
       "1        3  0.091  380111\n",
       "2        4  0.086  361376\n",
       "3        5  0.079  378028\n",
       "4        1  0.068  408417\n",
       "5        0  0.063  465241\n",
       "6        6  0.056  376514"
      ]
     },
     "execution_count": 16,
     "metadata": {},
     "output_type": "execute_result"
    }
   ],
   "source": [
    "CTR(\"weekday\").to_dataframe().round(3)"
   ]
  },
  {
   "cell_type": "code",
   "execution_count": 149,
   "metadata": {
    "collapsed": false
   },
   "outputs": [],
   "source": [
    "CTR = CTR(\"advertiser\").to_dataframe().round(3)"
   ]
  },
  {
   "cell_type": "code",
   "execution_count": 18,
   "metadata": {
    "collapsed": false
   },
   "outputs": [
    {
     "data": {
      "text/html": [
       "<div>\n",
       "<table border=\"1\" class=\"dataframe\">\n",
       "  <thead>\n",
       "    <tr style=\"text-align: right;\">\n",
       "      <th></th>\n",
       "      <th>hour</th>\n",
       "      <th>CTR</th>\n",
       "      <th>count</th>\n",
       "    </tr>\n",
       "  </thead>\n",
       "  <tbody>\n",
       "    <tr>\n",
       "      <th>0</th>\n",
       "      <td>21</td>\n",
       "      <td>0.105</td>\n",
       "      <td>112438</td>\n",
       "    </tr>\n",
       "    <tr>\n",
       "      <th>1</th>\n",
       "      <td>18</td>\n",
       "      <td>0.100</td>\n",
       "      <td>171748</td>\n",
       "    </tr>\n",
       "    <tr>\n",
       "      <th>2</th>\n",
       "      <td>17</td>\n",
       "      <td>0.097</td>\n",
       "      <td>159044</td>\n",
       "    </tr>\n",
       "    <tr>\n",
       "      <th>3</th>\n",
       "      <td>23</td>\n",
       "      <td>0.090</td>\n",
       "      <td>126138</td>\n",
       "    </tr>\n",
       "    <tr>\n",
       "      <th>4</th>\n",
       "      <td>19</td>\n",
       "      <td>0.089</td>\n",
       "      <td>132278</td>\n",
       "    </tr>\n",
       "  </tbody>\n",
       "</table>\n",
       "</div>"
      ],
      "text/plain": [
       "   hour    CTR   count\n",
       "0    21  0.105  112438\n",
       "1    18  0.100  171748\n",
       "2    17  0.097  159044\n",
       "3    23  0.090  126138\n",
       "4    19  0.089  132278"
      ]
     },
     "execution_count": 18,
     "metadata": {},
     "output_type": "execute_result"
    }
   ],
   "source": [
    "CTR(\"hour\").to_dataframe().round(3).head(5)"
   ]
  },
  {
   "cell_type": "code",
   "execution_count": 19,
   "metadata": {
    "collapsed": false
   },
   "outputs": [
    {
     "data": {
      "text/html": [
       "<div>\n",
       "<table border=\"1\" class=\"dataframe\">\n",
       "  <thead>\n",
       "    <tr style=\"text-align: right;\">\n",
       "      <th></th>\n",
       "      <th>useragent</th>\n",
       "      <th>CTR</th>\n",
       "      <th>count</th>\n",
       "    </tr>\n",
       "  </thead>\n",
       "  <tbody>\n",
       "    <tr>\n",
       "      <th>0</th>\n",
       "      <td>android_other</td>\n",
       "      <td>0.665</td>\n",
       "      <td>1956</td>\n",
       "    </tr>\n",
       "    <tr>\n",
       "      <th>1</th>\n",
       "      <td>android_chrome</td>\n",
       "      <td>0.588</td>\n",
       "      <td>510</td>\n",
       "    </tr>\n",
       "    <tr>\n",
       "      <th>2</th>\n",
       "      <td>android_safari</td>\n",
       "      <td>0.481</td>\n",
       "      <td>67728</td>\n",
       "    </tr>\n",
       "    <tr>\n",
       "      <th>3</th>\n",
       "      <td>ios_safari</td>\n",
       "      <td>0.462</td>\n",
       "      <td>433</td>\n",
       "    </tr>\n",
       "    <tr>\n",
       "      <th>4</th>\n",
       "      <td>mac_other</td>\n",
       "      <td>0.356</td>\n",
       "      <td>8700</td>\n",
       "    </tr>\n",
       "  </tbody>\n",
       "</table>\n",
       "</div>"
      ],
      "text/plain": [
       "        useragent    CTR  count\n",
       "0   android_other  0.665   1956\n",
       "1  android_chrome  0.588    510\n",
       "2  android_safari  0.481  67728\n",
       "3      ios_safari  0.462    433\n",
       "4       mac_other  0.356   8700"
      ]
     },
     "execution_count": 19,
     "metadata": {},
     "output_type": "execute_result"
    }
   ],
   "source": [
    "CTR(\"useragent\").to_dataframe().round(3).head(5)"
   ]
  },
  {
   "cell_type": "code",
   "execution_count": 20,
   "metadata": {
    "collapsed": false
   },
   "outputs": [
    {
     "data": {
      "text/html": [
       "<div>\n",
       "<table border=\"1\" class=\"dataframe\">\n",
       "  <thead>\n",
       "    <tr style=\"text-align: right;\">\n",
       "      <th></th>\n",
       "      <th>adexchange</th>\n",
       "      <th>CTR</th>\n",
       "      <th>count</th>\n",
       "    </tr>\n",
       "  </thead>\n",
       "  <tbody>\n",
       "    <tr>\n",
       "      <th>0</th>\n",
       "      <td>null</td>\n",
       "      <td>0.461</td>\n",
       "      <td>54487</td>\n",
       "    </tr>\n",
       "    <tr>\n",
       "      <th>1</th>\n",
       "      <td>1</td>\n",
       "      <td>0.081</td>\n",
       "      <td>815403</td>\n",
       "    </tr>\n",
       "    <tr>\n",
       "      <th>2</th>\n",
       "      <td>3</td>\n",
       "      <td>0.071</td>\n",
       "      <td>900222</td>\n",
       "    </tr>\n",
       "    <tr>\n",
       "      <th>3</th>\n",
       "      <td>4</td>\n",
       "      <td>0.055</td>\n",
       "      <td>87521</td>\n",
       "    </tr>\n",
       "    <tr>\n",
       "      <th>4</th>\n",
       "      <td>2</td>\n",
       "      <td>0.052</td>\n",
       "      <td>840105</td>\n",
       "    </tr>\n",
       "  </tbody>\n",
       "</table>\n",
       "</div>"
      ],
      "text/plain": [
       "  adexchange    CTR   count\n",
       "0       null  0.461   54487\n",
       "1          1  0.081  815403\n",
       "2          3  0.071  900222\n",
       "3          4  0.055   87521\n",
       "4          2  0.052  840105"
      ]
     },
     "execution_count": 20,
     "metadata": {},
     "output_type": "execute_result"
    }
   ],
   "source": [
    "CTR(\"adexchange\").to_dataframe().round(3)"
   ]
  },
  {
   "cell_type": "code",
   "execution_count": null,
   "metadata": {
    "collapsed": true
   },
   "outputs": [],
   "source": []
  },
  {
   "cell_type": "markdown",
   "metadata": {},
   "source": [
    "# 2. Basic bidding strategies"
   ]
  },
  {
   "cell_type": "code",
   "execution_count": 21,
   "metadata": {
    "collapsed": false
   },
   "outputs": [],
   "source": [
    "validation = pd.read_csv(\"C:/Users/JayZheng/Documents/Data Science/web economics/assignment 1/dataset/validation.csv\")"
   ]
  },
  {
   "cell_type": "code",
   "execution_count": 22,
   "metadata": {
    "collapsed": false
   },
   "outputs": [
    {
     "data": {
      "text/html": [
       "<div>\n",
       "<table border=\"1\" class=\"dataframe\">\n",
       "  <thead>\n",
       "    <tr style=\"text-align: right;\">\n",
       "      <th></th>\n",
       "      <th>click</th>\n",
       "      <th>weekday</th>\n",
       "      <th>hour</th>\n",
       "      <th>bidid</th>\n",
       "      <th>logtype</th>\n",
       "      <th>userid</th>\n",
       "      <th>useragent</th>\n",
       "      <th>IP</th>\n",
       "      <th>region</th>\n",
       "      <th>city</th>\n",
       "      <th>...</th>\n",
       "      <th>slotheight</th>\n",
       "      <th>slotvisibility</th>\n",
       "      <th>slotformat</th>\n",
       "      <th>slotprice</th>\n",
       "      <th>creative</th>\n",
       "      <th>bidprice</th>\n",
       "      <th>payprice</th>\n",
       "      <th>keypage</th>\n",
       "      <th>advertiser</th>\n",
       "      <th>usertag</th>\n",
       "    </tr>\n",
       "  </thead>\n",
       "  <tbody>\n",
       "    <tr>\n",
       "      <th>0</th>\n",
       "      <td>0</td>\n",
       "      <td>5</td>\n",
       "      <td>14</td>\n",
       "      <td>91c6a6b9e90c0f54d3230815a5a3e22e</td>\n",
       "      <td>1</td>\n",
       "      <td>u_Vhk7C5STO8TZ3s8</td>\n",
       "      <td>windows_ie</td>\n",
       "      <td>14.122.240.*</td>\n",
       "      <td>216</td>\n",
       "      <td>232</td>\n",
       "      <td>...</td>\n",
       "      <td>250</td>\n",
       "      <td>0</td>\n",
       "      <td>1</td>\n",
       "      <td>0</td>\n",
       "      <td>449a22cd91d9042eda3d3a1b89a22ea8</td>\n",
       "      <td>227</td>\n",
       "      <td>102</td>\n",
       "      <td>0f951a030abdaedd733ee8d114ce2944</td>\n",
       "      <td>3427</td>\n",
       "      <td>10006,10063,10059,10111</td>\n",
       "    </tr>\n",
       "    <tr>\n",
       "      <th>1</th>\n",
       "      <td>0</td>\n",
       "      <td>3</td>\n",
       "      <td>14</td>\n",
       "      <td>24b3621ad3b063b6c09c541781d534b3</td>\n",
       "      <td>1</td>\n",
       "      <td>u_DANDbCAksMy</td>\n",
       "      <td>android_safari</td>\n",
       "      <td>116.22.55.*</td>\n",
       "      <td>216</td>\n",
       "      <td>217</td>\n",
       "      <td>...</td>\n",
       "      <td>50</td>\n",
       "      <td>FirstView</td>\n",
       "      <td>Na</td>\n",
       "      <td>118</td>\n",
       "      <td>11908</td>\n",
       "      <td>277</td>\n",
       "      <td>118</td>\n",
       "      <td>null</td>\n",
       "      <td>2997</td>\n",
       "      <td>null</td>\n",
       "    </tr>\n",
       "    <tr>\n",
       "      <th>2</th>\n",
       "      <td>0</td>\n",
       "      <td>1</td>\n",
       "      <td>13</td>\n",
       "      <td>6e7bce0a9ad42f479827d37bf9618a9d</td>\n",
       "      <td>1</td>\n",
       "      <td>u_VhkxPnKHPo1H3Vb</td>\n",
       "      <td>windows_ie</td>\n",
       "      <td>60.215.242.*</td>\n",
       "      <td>146</td>\n",
       "      <td>149</td>\n",
       "      <td>...</td>\n",
       "      <td>90</td>\n",
       "      <td>0</td>\n",
       "      <td>0</td>\n",
       "      <td>70</td>\n",
       "      <td>d01411218cc79bc49d2a4078c4093b76</td>\n",
       "      <td>241</td>\n",
       "      <td>77</td>\n",
       "      <td>b2e35064f3549d447edbbdfb1f707c8c</td>\n",
       "      <td>3427</td>\n",
       "      <td>null</td>\n",
       "    </tr>\n",
       "    <tr>\n",
       "      <th>3</th>\n",
       "      <td>0</td>\n",
       "      <td>5</td>\n",
       "      <td>18</td>\n",
       "      <td>6873feca381b8293bf418ba8408a014c</td>\n",
       "      <td>1</td>\n",
       "      <td>u_Vh5zL3B83ln9Xbl</td>\n",
       "      <td>windows_chrome</td>\n",
       "      <td>27.193.87.*</td>\n",
       "      <td>146</td>\n",
       "      <td>148</td>\n",
       "      <td>...</td>\n",
       "      <td>90</td>\n",
       "      <td>0</td>\n",
       "      <td>0</td>\n",
       "      <td>70</td>\n",
       "      <td>c46090c887c257b61ab1fa11baee91d8</td>\n",
       "      <td>241</td>\n",
       "      <td>77</td>\n",
       "      <td>0f951a030abdaedd733ee8d114ce2944</td>\n",
       "      <td>3427</td>\n",
       "      <td>null</td>\n",
       "    </tr>\n",
       "    <tr>\n",
       "      <th>4</th>\n",
       "      <td>0</td>\n",
       "      <td>5</td>\n",
       "      <td>14</td>\n",
       "      <td>7e6430333c552cf0b32bb21dc792d2df</td>\n",
       "      <td>1</td>\n",
       "      <td>u_VhKPOr5wOt9HQsj</td>\n",
       "      <td>windows_ie</td>\n",
       "      <td>183.228.214.*</td>\n",
       "      <td>275</td>\n",
       "      <td>275</td>\n",
       "      <td>...</td>\n",
       "      <td>280</td>\n",
       "      <td>2</td>\n",
       "      <td>0</td>\n",
       "      <td>5</td>\n",
       "      <td>ff5123fb9333ca095034c62fdaaf51aa</td>\n",
       "      <td>300</td>\n",
       "      <td>178</td>\n",
       "      <td>361e128affece850342293213691a043</td>\n",
       "      <td>3386</td>\n",
       "      <td>null</td>\n",
       "    </tr>\n",
       "  </tbody>\n",
       "</table>\n",
       "<p>5 rows × 26 columns</p>\n",
       "</div>"
      ],
      "text/plain": [
       "   click  weekday  hour                             bidid  logtype  \\\n",
       "0      0        5    14  91c6a6b9e90c0f54d3230815a5a3e22e        1   \n",
       "1      0        3    14  24b3621ad3b063b6c09c541781d534b3        1   \n",
       "2      0        1    13  6e7bce0a9ad42f479827d37bf9618a9d        1   \n",
       "3      0        5    18  6873feca381b8293bf418ba8408a014c        1   \n",
       "4      0        5    14  7e6430333c552cf0b32bb21dc792d2df        1   \n",
       "\n",
       "              userid       useragent             IP  region  city  \\\n",
       "0  u_Vhk7C5STO8TZ3s8      windows_ie   14.122.240.*     216   232   \n",
       "1      u_DANDbCAksMy  android_safari    116.22.55.*     216   217   \n",
       "2  u_VhkxPnKHPo1H3Vb      windows_ie   60.215.242.*     146   149   \n",
       "3  u_Vh5zL3B83ln9Xbl  windows_chrome    27.193.87.*     146   148   \n",
       "4  u_VhKPOr5wOt9HQsj      windows_ie  183.228.214.*     275   275   \n",
       "\n",
       "            ...            slotheight slotvisibility slotformat slotprice  \\\n",
       "0           ...                   250              0          1         0   \n",
       "1           ...                    50      FirstView         Na       118   \n",
       "2           ...                    90              0          0        70   \n",
       "3           ...                    90              0          0        70   \n",
       "4           ...                   280              2          0         5   \n",
       "\n",
       "                           creative  bidprice  payprice  \\\n",
       "0  449a22cd91d9042eda3d3a1b89a22ea8       227       102   \n",
       "1                             11908       277       118   \n",
       "2  d01411218cc79bc49d2a4078c4093b76       241        77   \n",
       "3  c46090c887c257b61ab1fa11baee91d8       241        77   \n",
       "4  ff5123fb9333ca095034c62fdaaf51aa       300       178   \n",
       "\n",
       "                            keypage advertiser                  usertag  \n",
       "0  0f951a030abdaedd733ee8d114ce2944       3427  10006,10063,10059,10111  \n",
       "1                              null       2997                     null  \n",
       "2  b2e35064f3549d447edbbdfb1f707c8c       3427                     null  \n",
       "3  0f951a030abdaedd733ee8d114ce2944       3427                     null  \n",
       "4  361e128affece850342293213691a043       3386                     null  \n",
       "\n",
       "[5 rows x 26 columns]"
      ]
     },
     "execution_count": 22,
     "metadata": {},
     "output_type": "execute_result"
    }
   ],
   "source": [
    "validation.head(5)"
   ]
  },
  {
   "cell_type": "code",
   "execution_count": 92,
   "metadata": {
    "collapsed": false
   },
   "outputs": [],
   "source": [
    "def constant_bid(bid):\n",
    "    impression = 0.0\n",
    "    clicks = 0\n",
    "    cost = 0.0\n",
    "    budget = 100000\n",
    "\n",
    "    \n",
    "    for click, pay_price in validation[['click','payprice']].values:\n",
    "            if bid > pay_price:\n",
    "                impression += 1.0\n",
    "                clicks += click\n",
    "                cost += pay_price\n",
    "            if cost>= budget:\n",
    "                break\n",
    "        \n",
    "    return impression, clicks, cost"
   ]
  },
  {
   "cell_type": "code",
   "execution_count": 93,
   "metadata": {
    "collapsed": false
   },
   "outputs": [],
   "source": [
    "my_bid = [10,20,50,100,150,200,250,300]"
   ]
  },
  {
   "cell_type": "code",
   "execution_count": 94,
   "metadata": {
    "collapsed": false
   },
   "outputs": [],
   "source": [
    "df = pd.DataFrame()\n",
    "df[\"constand_bid\"]=my_bid\n",
    "imp_temp = []\n",
    "cost_temp = []\n",
    "click_temp = []\n",
    "\n",
    "for i in my_bid:\n",
    "    [impression,click,cost] = constant_bid(i)\n",
    "    imp_temp.append(impression)\n",
    "    cost_temp.append(cost)\n",
    "    click_temp.append(click)\n",
    "\n",
    "df[\"impressions\"]=imp_temp\n",
    "df[\"click\"]=click_temp\n",
    "df[\"cost\"]= cost_temp\n",
    "df[\"CTR\"]= (df[\"click\"]/df[\"impressions\"]*100).round(4)\n",
    "df[\"CPM\"]= (df[\"impressions\"]/df[\"cost\"]*1000).round(4)\n",
    "df[\"CPC\"]= (df[\"cost\"]/df[\"click\"]).round(4)"
   ]
  },
  {
   "cell_type": "code",
   "execution_count": 95,
   "metadata": {
    "collapsed": false
   },
   "outputs": [],
   "source": [
    "df_CTR = df.sort_values(\"CTR\",ascending=False)"
   ]
  },
  {
   "cell_type": "code",
   "execution_count": 96,
   "metadata": {
    "collapsed": false
   },
   "outputs": [
    {
     "data": {
      "text/html": [
       "<div>\n",
       "<table border=\"1\" class=\"dataframe\">\n",
       "  <thead>\n",
       "    <tr style=\"text-align: right;\">\n",
       "      <th></th>\n",
       "      <th>constand_bid</th>\n",
       "      <th>impressions</th>\n",
       "      <th>click</th>\n",
       "      <th>cost</th>\n",
       "      <th>CTR</th>\n",
       "      <th>CPM</th>\n",
       "      <th>CPC</th>\n",
       "    </tr>\n",
       "  </thead>\n",
       "  <tbody>\n",
       "    <tr>\n",
       "      <th>7</th>\n",
       "      <td>300</td>\n",
       "      <td>1294.0</td>\n",
       "      <td>1</td>\n",
       "      <td>100004.0</td>\n",
       "      <td>0.0773</td>\n",
       "      <td>12.9395</td>\n",
       "      <td>100004.00</td>\n",
       "    </tr>\n",
       "    <tr>\n",
       "      <th>6</th>\n",
       "      <td>250</td>\n",
       "      <td>1365.0</td>\n",
       "      <td>1</td>\n",
       "      <td>100023.0</td>\n",
       "      <td>0.0733</td>\n",
       "      <td>13.6469</td>\n",
       "      <td>100023.00</td>\n",
       "    </tr>\n",
       "    <tr>\n",
       "      <th>5</th>\n",
       "      <td>200</td>\n",
       "      <td>1483.0</td>\n",
       "      <td>1</td>\n",
       "      <td>100056.0</td>\n",
       "      <td>0.0674</td>\n",
       "      <td>14.8217</td>\n",
       "      <td>100056.00</td>\n",
       "    </tr>\n",
       "    <tr>\n",
       "      <th>0</th>\n",
       "      <td>10</td>\n",
       "      <td>13364.0</td>\n",
       "      <td>8</td>\n",
       "      <td>76078.0</td>\n",
       "      <td>0.0599</td>\n",
       "      <td>175.6618</td>\n",
       "      <td>9509.75</td>\n",
       "    </tr>\n",
       "    <tr>\n",
       "      <th>4</th>\n",
       "      <td>150</td>\n",
       "      <td>1725.0</td>\n",
       "      <td>1</td>\n",
       "      <td>100044.0</td>\n",
       "      <td>0.0580</td>\n",
       "      <td>17.2424</td>\n",
       "      <td>100044.00</td>\n",
       "    </tr>\n",
       "    <tr>\n",
       "      <th>1</th>\n",
       "      <td>20</td>\n",
       "      <td>9222.0</td>\n",
       "      <td>5</td>\n",
       "      <td>100010.0</td>\n",
       "      <td>0.0542</td>\n",
       "      <td>92.2108</td>\n",
       "      <td>20002.00</td>\n",
       "    </tr>\n",
       "    <tr>\n",
       "      <th>3</th>\n",
       "      <td>100</td>\n",
       "      <td>2019.0</td>\n",
       "      <td>1</td>\n",
       "      <td>100022.0</td>\n",
       "      <td>0.0495</td>\n",
       "      <td>20.1856</td>\n",
       "      <td>100022.00</td>\n",
       "    </tr>\n",
       "    <tr>\n",
       "      <th>2</th>\n",
       "      <td>50</td>\n",
       "      <td>4155.0</td>\n",
       "      <td>1</td>\n",
       "      <td>100021.0</td>\n",
       "      <td>0.0241</td>\n",
       "      <td>41.5413</td>\n",
       "      <td>100021.00</td>\n",
       "    </tr>\n",
       "  </tbody>\n",
       "</table>\n",
       "</div>"
      ],
      "text/plain": [
       "   constand_bid  impressions  click      cost     CTR       CPM        CPC\n",
       "7           300       1294.0      1  100004.0  0.0773   12.9395  100004.00\n",
       "6           250       1365.0      1  100023.0  0.0733   13.6469  100023.00\n",
       "5           200       1483.0      1  100056.0  0.0674   14.8217  100056.00\n",
       "0            10      13364.0      8   76078.0  0.0599  175.6618    9509.75\n",
       "4           150       1725.0      1  100044.0  0.0580   17.2424  100044.00\n",
       "1            20       9222.0      5  100010.0  0.0542   92.2108   20002.00\n",
       "3           100       2019.0      1  100022.0  0.0495   20.1856  100022.00\n",
       "2            50       4155.0      1  100021.0  0.0241   41.5413  100021.00"
      ]
     },
     "execution_count": 96,
     "metadata": {},
     "output_type": "execute_result"
    }
   ],
   "source": [
    "df_CTR #best CTR"
   ]
  },
  {
   "cell_type": "code",
   "execution_count": 103,
   "metadata": {
    "collapsed": false
   },
   "outputs": [],
   "source": [
    "df_CPC = df.sort_values(\"CPC\",ascending=True)"
   ]
  },
  {
   "cell_type": "code",
   "execution_count": 104,
   "metadata": {
    "collapsed": false
   },
   "outputs": [
    {
     "data": {
      "text/html": [
       "<div>\n",
       "<table border=\"1\" class=\"dataframe\">\n",
       "  <thead>\n",
       "    <tr style=\"text-align: right;\">\n",
       "      <th></th>\n",
       "      <th>constand_bid</th>\n",
       "      <th>impressions</th>\n",
       "      <th>click</th>\n",
       "      <th>cost</th>\n",
       "      <th>CTR</th>\n",
       "      <th>CPM</th>\n",
       "      <th>CPC</th>\n",
       "    </tr>\n",
       "  </thead>\n",
       "  <tbody>\n",
       "    <tr>\n",
       "      <th>0</th>\n",
       "      <td>10</td>\n",
       "      <td>13364.0</td>\n",
       "      <td>8</td>\n",
       "      <td>76078.0</td>\n",
       "      <td>0.0599</td>\n",
       "      <td>175.6618</td>\n",
       "      <td>9509.75</td>\n",
       "    </tr>\n",
       "    <tr>\n",
       "      <th>1</th>\n",
       "      <td>20</td>\n",
       "      <td>9222.0</td>\n",
       "      <td>5</td>\n",
       "      <td>100010.0</td>\n",
       "      <td>0.0542</td>\n",
       "      <td>92.2108</td>\n",
       "      <td>20002.00</td>\n",
       "    </tr>\n",
       "    <tr>\n",
       "      <th>7</th>\n",
       "      <td>300</td>\n",
       "      <td>1294.0</td>\n",
       "      <td>1</td>\n",
       "      <td>100004.0</td>\n",
       "      <td>0.0773</td>\n",
       "      <td>12.9395</td>\n",
       "      <td>100004.00</td>\n",
       "    </tr>\n",
       "    <tr>\n",
       "      <th>2</th>\n",
       "      <td>50</td>\n",
       "      <td>4155.0</td>\n",
       "      <td>1</td>\n",
       "      <td>100021.0</td>\n",
       "      <td>0.0241</td>\n",
       "      <td>41.5413</td>\n",
       "      <td>100021.00</td>\n",
       "    </tr>\n",
       "    <tr>\n",
       "      <th>3</th>\n",
       "      <td>100</td>\n",
       "      <td>2019.0</td>\n",
       "      <td>1</td>\n",
       "      <td>100022.0</td>\n",
       "      <td>0.0495</td>\n",
       "      <td>20.1856</td>\n",
       "      <td>100022.00</td>\n",
       "    </tr>\n",
       "    <tr>\n",
       "      <th>6</th>\n",
       "      <td>250</td>\n",
       "      <td>1365.0</td>\n",
       "      <td>1</td>\n",
       "      <td>100023.0</td>\n",
       "      <td>0.0733</td>\n",
       "      <td>13.6469</td>\n",
       "      <td>100023.00</td>\n",
       "    </tr>\n",
       "    <tr>\n",
       "      <th>4</th>\n",
       "      <td>150</td>\n",
       "      <td>1725.0</td>\n",
       "      <td>1</td>\n",
       "      <td>100044.0</td>\n",
       "      <td>0.0580</td>\n",
       "      <td>17.2424</td>\n",
       "      <td>100044.00</td>\n",
       "    </tr>\n",
       "    <tr>\n",
       "      <th>5</th>\n",
       "      <td>200</td>\n",
       "      <td>1483.0</td>\n",
       "      <td>1</td>\n",
       "      <td>100056.0</td>\n",
       "      <td>0.0674</td>\n",
       "      <td>14.8217</td>\n",
       "      <td>100056.00</td>\n",
       "    </tr>\n",
       "  </tbody>\n",
       "</table>\n",
       "</div>"
      ],
      "text/plain": [
       "   constand_bid  impressions  click      cost     CTR       CPM        CPC\n",
       "0            10      13364.0      8   76078.0  0.0599  175.6618    9509.75\n",
       "1            20       9222.0      5  100010.0  0.0542   92.2108   20002.00\n",
       "7           300       1294.0      1  100004.0  0.0773   12.9395  100004.00\n",
       "2            50       4155.0      1  100021.0  0.0241   41.5413  100021.00\n",
       "3           100       2019.0      1  100022.0  0.0495   20.1856  100022.00\n",
       "6           250       1365.0      1  100023.0  0.0733   13.6469  100023.00\n",
       "4           150       1725.0      1  100044.0  0.0580   17.2424  100044.00\n",
       "5           200       1483.0      1  100056.0  0.0674   14.8217  100056.00"
      ]
     },
     "execution_count": 104,
     "metadata": {},
     "output_type": "execute_result"
    }
   ],
   "source": [
    "df_CPC # by CPC"
   ]
  },
  {
   "cell_type": "code",
   "execution_count": 101,
   "metadata": {
    "collapsed": true
   },
   "outputs": [],
   "source": [
    "df_CPM = df.sort_values(\"CPM\",ascending=True)"
   ]
  },
  {
   "cell_type": "code",
   "execution_count": 102,
   "metadata": {
    "collapsed": false
   },
   "outputs": [
    {
     "data": {
      "text/html": [
       "<div>\n",
       "<table border=\"1\" class=\"dataframe\">\n",
       "  <thead>\n",
       "    <tr style=\"text-align: right;\">\n",
       "      <th></th>\n",
       "      <th>constand_bid</th>\n",
       "      <th>impressions</th>\n",
       "      <th>click</th>\n",
       "      <th>cost</th>\n",
       "      <th>CTR</th>\n",
       "      <th>CPM</th>\n",
       "      <th>CPC</th>\n",
       "    </tr>\n",
       "  </thead>\n",
       "  <tbody>\n",
       "    <tr>\n",
       "      <th>7</th>\n",
       "      <td>300</td>\n",
       "      <td>1294.0</td>\n",
       "      <td>1</td>\n",
       "      <td>100004.0</td>\n",
       "      <td>0.0773</td>\n",
       "      <td>12.9395</td>\n",
       "      <td>100004.00</td>\n",
       "    </tr>\n",
       "    <tr>\n",
       "      <th>6</th>\n",
       "      <td>250</td>\n",
       "      <td>1365.0</td>\n",
       "      <td>1</td>\n",
       "      <td>100023.0</td>\n",
       "      <td>0.0733</td>\n",
       "      <td>13.6469</td>\n",
       "      <td>100023.00</td>\n",
       "    </tr>\n",
       "    <tr>\n",
       "      <th>5</th>\n",
       "      <td>200</td>\n",
       "      <td>1483.0</td>\n",
       "      <td>1</td>\n",
       "      <td>100056.0</td>\n",
       "      <td>0.0674</td>\n",
       "      <td>14.8217</td>\n",
       "      <td>100056.00</td>\n",
       "    </tr>\n",
       "    <tr>\n",
       "      <th>4</th>\n",
       "      <td>150</td>\n",
       "      <td>1725.0</td>\n",
       "      <td>1</td>\n",
       "      <td>100044.0</td>\n",
       "      <td>0.0580</td>\n",
       "      <td>17.2424</td>\n",
       "      <td>100044.00</td>\n",
       "    </tr>\n",
       "    <tr>\n",
       "      <th>3</th>\n",
       "      <td>100</td>\n",
       "      <td>2019.0</td>\n",
       "      <td>1</td>\n",
       "      <td>100022.0</td>\n",
       "      <td>0.0495</td>\n",
       "      <td>20.1856</td>\n",
       "      <td>100022.00</td>\n",
       "    </tr>\n",
       "    <tr>\n",
       "      <th>2</th>\n",
       "      <td>50</td>\n",
       "      <td>4155.0</td>\n",
       "      <td>1</td>\n",
       "      <td>100021.0</td>\n",
       "      <td>0.0241</td>\n",
       "      <td>41.5413</td>\n",
       "      <td>100021.00</td>\n",
       "    </tr>\n",
       "    <tr>\n",
       "      <th>1</th>\n",
       "      <td>20</td>\n",
       "      <td>9222.0</td>\n",
       "      <td>5</td>\n",
       "      <td>100010.0</td>\n",
       "      <td>0.0542</td>\n",
       "      <td>92.2108</td>\n",
       "      <td>20002.00</td>\n",
       "    </tr>\n",
       "    <tr>\n",
       "      <th>0</th>\n",
       "      <td>10</td>\n",
       "      <td>13364.0</td>\n",
       "      <td>8</td>\n",
       "      <td>76078.0</td>\n",
       "      <td>0.0599</td>\n",
       "      <td>175.6618</td>\n",
       "      <td>9509.75</td>\n",
       "    </tr>\n",
       "  </tbody>\n",
       "</table>\n",
       "</div>"
      ],
      "text/plain": [
       "   constand_bid  impressions  click      cost     CTR       CPM        CPC\n",
       "7           300       1294.0      1  100004.0  0.0773   12.9395  100004.00\n",
       "6           250       1365.0      1  100023.0  0.0733   13.6469  100023.00\n",
       "5           200       1483.0      1  100056.0  0.0674   14.8217  100056.00\n",
       "4           150       1725.0      1  100044.0  0.0580   17.2424  100044.00\n",
       "3           100       2019.0      1  100022.0  0.0495   20.1856  100022.00\n",
       "2            50       4155.0      1  100021.0  0.0241   41.5413  100021.00\n",
       "1            20       9222.0      5  100010.0  0.0542   92.2108   20002.00\n",
       "0            10      13364.0      8   76078.0  0.0599  175.6618    9509.75"
      ]
     },
     "execution_count": 102,
     "metadata": {},
     "output_type": "execute_result"
    }
   ],
   "source": [
    "df_CPM"
   ]
  },
  {
   "cell_type": "code",
   "execution_count": 134,
   "metadata": {
    "collapsed": true
   },
   "outputs": [],
   "source": [
    "def random_bid(bid):\n",
    "    impression = 0.0\n",
    "    clicks = 0\n",
    "    cost = 0.0\n",
    "    budget = 100000\n",
    "    bid = randrange(bid)\n",
    "\n",
    "    \n",
    "    for click, pay_price in validation[['click','payprice']].values:\n",
    "            if bid > pay_price:\n",
    "                impression += 1.0\n",
    "                clicks += click\n",
    "                cost += pay_price\n",
    "            if cost>= budget:\n",
    "                break\n",
    "        \n",
    "    return bid,impression, clicks, cost"
   ]
  },
  {
   "cell_type": "code",
   "execution_count": 138,
   "metadata": {
    "collapsed": false
   },
   "outputs": [
    {
     "data": {
      "text/plain": [
       "(38, 5049.0, 3, 100000.0)"
      ]
     },
     "execution_count": 138,
     "metadata": {},
     "output_type": "execute_result"
    }
   ],
   "source": [
    "random_bid(50)"
   ]
  },
  {
   "cell_type": "code",
   "execution_count": 135,
   "metadata": {
    "collapsed": true
   },
   "outputs": [],
   "source": [
    "random = [20,50,100,150,200,250,300]"
   ]
  },
  {
   "cell_type": "code",
   "execution_count": 147,
   "metadata": {
    "collapsed": false
   },
   "outputs": [],
   "source": [
    "df_rand = pd.DataFrame()\n",
    "imp_temp = []\n",
    "cost_temp = []\n",
    "click_temp = []\n",
    "bid_temp = []\n",
    "\n",
    "for i in random:\n",
    "    [bid,impression,click,cost] = random_bid(i)\n",
    "    imp_temp.append(impression)\n",
    "    cost_temp.append(cost)\n",
    "    click_temp.append(click)\n",
    "    bid_temp.append(bid)\n",
    "df_rand[\"bid\"]=bid_temp\n",
    "df_rand[\"impressions\"]=imp_temp\n",
    "df_rand[\"click\"]=click_temp\n",
    "df_rand[\"cost\"]= cost_temp\n",
    "df_rand[\"CTR\"]= (df[\"click\"]/df[\"impressions\"]*100).round(4)\n",
    "df_rand[\"CPM\"]= (df[\"impressions\"]/df[\"cost\"]*1000).round(4)\n",
    "df_rand[\"CPC\"]= (df[\"cost\"]/df[\"click\"]).round(4)"
   ]
  },
  {
   "cell_type": "code",
   "execution_count": 148,
   "metadata": {
    "collapsed": false
   },
   "outputs": [
    {
     "data": {
      "text/html": [
       "<div>\n",
       "<table border=\"1\" class=\"dataframe\">\n",
       "  <thead>\n",
       "    <tr style=\"text-align: right;\">\n",
       "      <th></th>\n",
       "      <th>bid</th>\n",
       "      <th>impressions</th>\n",
       "      <th>click</th>\n",
       "      <th>cost</th>\n",
       "      <th>CTR</th>\n",
       "      <th>CPM</th>\n",
       "      <th>CPC</th>\n",
       "    </tr>\n",
       "  </thead>\n",
       "  <tbody>\n",
       "    <tr>\n",
       "      <th>6</th>\n",
       "      <td>25</td>\n",
       "      <td>6591.0</td>\n",
       "      <td>3</td>\n",
       "      <td>100003.0</td>\n",
       "      <td>0.0733</td>\n",
       "      <td>13.6469</td>\n",
       "      <td>100023.00</td>\n",
       "    </tr>\n",
       "    <tr>\n",
       "      <th>5</th>\n",
       "      <td>183</td>\n",
       "      <td>1543.0</td>\n",
       "      <td>1</td>\n",
       "      <td>100040.0</td>\n",
       "      <td>0.0674</td>\n",
       "      <td>14.8217</td>\n",
       "      <td>100056.00</td>\n",
       "    </tr>\n",
       "    <tr>\n",
       "      <th>0</th>\n",
       "      <td>11</td>\n",
       "      <td>15627.0</td>\n",
       "      <td>7</td>\n",
       "      <td>100001.0</td>\n",
       "      <td>0.0599</td>\n",
       "      <td>175.6618</td>\n",
       "      <td>9509.75</td>\n",
       "    </tr>\n",
       "    <tr>\n",
       "      <th>4</th>\n",
       "      <td>156</td>\n",
       "      <td>1696.0</td>\n",
       "      <td>1</td>\n",
       "      <td>100049.0</td>\n",
       "      <td>0.0580</td>\n",
       "      <td>17.2424</td>\n",
       "      <td>100044.00</td>\n",
       "    </tr>\n",
       "    <tr>\n",
       "      <th>1</th>\n",
       "      <td>9</td>\n",
       "      <td>12051.0</td>\n",
       "      <td>8</td>\n",
       "      <td>64261.0</td>\n",
       "      <td>0.0542</td>\n",
       "      <td>92.2108</td>\n",
       "      <td>20002.00</td>\n",
       "    </tr>\n",
       "    <tr>\n",
       "      <th>3</th>\n",
       "      <td>25</td>\n",
       "      <td>6591.0</td>\n",
       "      <td>3</td>\n",
       "      <td>100003.0</td>\n",
       "      <td>0.0495</td>\n",
       "      <td>20.1856</td>\n",
       "      <td>100022.00</td>\n",
       "    </tr>\n",
       "    <tr>\n",
       "      <th>2</th>\n",
       "      <td>76</td>\n",
       "      <td>2519.0</td>\n",
       "      <td>1</td>\n",
       "      <td>100024.0</td>\n",
       "      <td>0.0241</td>\n",
       "      <td>41.5413</td>\n",
       "      <td>100021.00</td>\n",
       "    </tr>\n",
       "  </tbody>\n",
       "</table>\n",
       "</div>"
      ],
      "text/plain": [
       "   bid  impressions  click      cost     CTR       CPM        CPC\n",
       "6   25       6591.0      3  100003.0  0.0733   13.6469  100023.00\n",
       "5  183       1543.0      1  100040.0  0.0674   14.8217  100056.00\n",
       "0   11      15627.0      7  100001.0  0.0599  175.6618    9509.75\n",
       "4  156       1696.0      1  100049.0  0.0580   17.2424  100044.00\n",
       "1    9      12051.0      8   64261.0  0.0542   92.2108   20002.00\n",
       "3   25       6591.0      3  100003.0  0.0495   20.1856  100022.00\n",
       "2   76       2519.0      1  100024.0  0.0241   41.5413  100021.00"
      ]
     },
     "execution_count": 148,
     "metadata": {},
     "output_type": "execute_result"
    }
   ],
   "source": [
    "df_rand = df_rand.sort_values(\"CTR\",ascending=False)\n",
    "df_rand"
   ]
  },
  {
   "cell_type": "markdown",
   "metadata": {},
   "source": [
    "# 3. Linear bidding strategy"
   ]
  },
  {
   "cell_type": "code",
   "execution_count": 156,
   "metadata": {
    "collapsed": false
   },
   "outputs": [],
   "source": [
    "average_CTR = CTR[\"CTR\"].mean()"
   ]
  },
  {
   "cell_type": "code",
   "execution_count": 155,
   "metadata": {
    "collapsed": false
   },
   "outputs": [
    {
     "data": {
      "text/html": [
       "<div>\n",
       "<table border=\"1\" class=\"dataframe\">\n",
       "  <thead>\n",
       "    <tr style=\"text-align: right;\">\n",
       "      <th></th>\n",
       "      <th>advertiser</th>\n",
       "      <th>CTR</th>\n",
       "      <th>count</th>\n",
       "    </tr>\n",
       "  </thead>\n",
       "  <tbody>\n",
       "    <tr>\n",
       "      <th>0</th>\n",
       "      <td>2997</td>\n",
       "      <td>0.461</td>\n",
       "      <td>54487</td>\n",
       "    </tr>\n",
       "    <tr>\n",
       "      <th>1</th>\n",
       "      <td>1458</td>\n",
       "      <td>0.083</td>\n",
       "      <td>540293</td>\n",
       "    </tr>\n",
       "    <tr>\n",
       "      <th>2</th>\n",
       "      <td>3358</td>\n",
       "      <td>0.076</td>\n",
       "      <td>304782</td>\n",
       "    </tr>\n",
       "    <tr>\n",
       "      <th>3</th>\n",
       "      <td>3427</td>\n",
       "      <td>0.075</td>\n",
       "      <td>454031</td>\n",
       "    </tr>\n",
       "    <tr>\n",
       "      <th>4</th>\n",
       "      <td>3386</td>\n",
       "      <td>0.072</td>\n",
       "      <td>498554</td>\n",
       "    </tr>\n",
       "    <tr>\n",
       "      <th>5</th>\n",
       "      <td>2821</td>\n",
       "      <td>0.062</td>\n",
       "      <td>231416</td>\n",
       "    </tr>\n",
       "    <tr>\n",
       "      <th>6</th>\n",
       "      <td>3476</td>\n",
       "      <td>0.050</td>\n",
       "      <td>346778</td>\n",
       "    </tr>\n",
       "    <tr>\n",
       "      <th>7</th>\n",
       "      <td>2261</td>\n",
       "      <td>0.031</td>\n",
       "      <td>120619</td>\n",
       "    </tr>\n",
       "    <tr>\n",
       "      <th>8</th>\n",
       "      <td>2259</td>\n",
       "      <td>0.031</td>\n",
       "      <td>146778</td>\n",
       "    </tr>\n",
       "  </tbody>\n",
       "</table>\n",
       "</div>"
      ],
      "text/plain": [
       "   advertiser    CTR   count\n",
       "0        2997  0.461   54487\n",
       "1        1458  0.083  540293\n",
       "2        3358  0.076  304782\n",
       "3        3427  0.075  454031\n",
       "4        3386  0.072  498554\n",
       "5        2821  0.062  231416\n",
       "6        3476  0.050  346778\n",
       "7        2261  0.031  120619\n",
       "8        2259  0.031  146778"
      ]
     },
     "execution_count": 155,
     "metadata": {},
     "output_type": "execute_result"
    }
   ],
   "source": [
    "CTR"
   ]
  },
  {
   "cell_type": "code",
   "execution_count": null,
   "metadata": {
    "collapsed": true
   },
   "outputs": [],
   "source": [
    "def linear_bid(bid):\n",
    "    impression = 0.0\n",
    "    clicks = 0\n",
    "    cost = 0.0\n",
    "    budget = 100000\n",
    "    bid = bid*CTR\n",
    "\n",
    "    \n",
    "    for click, pay_price in validation[['click','payprice']].values:\n",
    "            if bid > pay_price:\n",
    "                impression += 1.0\n",
    "                clicks += click\n",
    "                cost += pay_price\n",
    "            if cost>= budget:\n",
    "                break\n",
    "        \n",
    "    return bid,impression, clicks, cost"
   ]
  }
 ],
 "metadata": {
  "kernelspec": {
   "display_name": "Python 2",
   "language": "python",
   "name": "python2"
  },
  "language_info": {
   "codemirror_mode": {
    "name": "ipython",
    "version": 2
   },
   "file_extension": ".py",
   "mimetype": "text/x-python",
   "name": "python",
   "nbconvert_exporter": "python",
   "pygments_lexer": "ipython2",
   "version": "2.7.13"
  }
 },
 "nbformat": 4,
 "nbformat_minor": 0
}
