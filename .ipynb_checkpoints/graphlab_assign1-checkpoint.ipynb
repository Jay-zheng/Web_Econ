{
 "cells": [
  {
   "cell_type": "code",
   "execution_count": 1,
   "metadata": {
    "collapsed": false
   },
   "outputs": [],
   "source": [
    "import graphlab as gl\n",
    "from random import randrange\n",
    "import pandas as pd\n",
    "import numpy as np\n",
    "import matplotlib.pyplot as plt\n",
    "%matplotlib inline"
   ]
  },
  {
   "cell_type": "markdown",
   "metadata": {},
   "source": [
    "# 1. Basic analysis"
   ]
  },
  {
   "cell_type": "code",
   "execution_count": 104,
   "metadata": {
    "collapsed": false,
    "scrolled": true
   },
   "outputs": [
    {
     "data": {
      "text/html": [
       "<pre>Finished parsing file C:\\Users\\JayZheng\\Documents\\Data Science\\web economics\\assignment 1\\dataset\\train.csv</pre>"
      ],
      "text/plain": [
       "Finished parsing file C:\\Users\\JayZheng\\Documents\\Data Science\\web economics\\assignment 1\\dataset\\train.csv"
      ]
     },
     "metadata": {},
     "output_type": "display_data"
    },
    {
     "data": {
      "text/html": [
       "<pre>Parsing completed. Parsed 100 lines in 0.640959 secs.</pre>"
      ],
      "text/plain": [
       "Parsing completed. Parsed 100 lines in 0.640959 secs."
      ]
     },
     "metadata": {},
     "output_type": "display_data"
    },
    {
     "name": "stdout",
     "output_type": "stream",
     "text": [
      "------------------------------------------------------\n",
      "Inferred types from first 100 line(s) of file as \n",
      "column_type_hints=[long,long,long,str,long,str,str,str,long,long,str,str,str,str,str,long,long,str,str,long,str,long,long,str,long,str]\n",
      "If parsing fails due to incorrect types, you can correct\n",
      "the inferred type list above and pass it to read_csv in\n",
      "the column_type_hints argument\n",
      "------------------------------------------------------\n"
     ]
    },
    {
     "data": {
      "text/html": [
       "<pre>Read 186256 lines. Lines per second: 184531</pre>"
      ],
      "text/plain": [
       "Read 186256 lines. Lines per second: 184531"
      ]
     },
     "metadata": {},
     "output_type": "display_data"
    },
    {
     "data": {
      "text/html": [
       "<pre>Read 1303583 lines. Lines per second: 216873</pre>"
      ],
      "text/plain": [
       "Read 1303583 lines. Lines per second: 216873"
      ]
     },
     "metadata": {},
     "output_type": "display_data"
    },
    {
     "data": {
      "text/html": [
       "<pre>Read 2234670 lines. Lines per second: 183770</pre>"
      ],
      "text/plain": [
       "Read 2234670 lines. Lines per second: 183770"
      ]
     },
     "metadata": {},
     "output_type": "display_data"
    },
    {
     "data": {
      "text/html": [
       "<pre>Finished parsing file C:\\Users\\JayZheng\\Documents\\Data Science\\web economics\\assignment 1\\dataset\\train.csv</pre>"
      ],
      "text/plain": [
       "Finished parsing file C:\\Users\\JayZheng\\Documents\\Data Science\\web economics\\assignment 1\\dataset\\train.csv"
      ]
     },
     "metadata": {},
     "output_type": "display_data"
    },
    {
     "data": {
      "text/html": [
       "<pre>Parsing completed. Parsed 2697738 lines in 13.9045 secs.</pre>"
      ],
      "text/plain": [
       "Parsing completed. Parsed 2697738 lines in 13.9045 secs."
      ]
     },
     "metadata": {},
     "output_type": "display_data"
    },
    {
     "data": {
      "text/html": [
       "<pre>Finished parsing file C:\\Users\\JayZheng\\Documents\\Data Science\\web economics\\assignment 1\\dataset\\validation.csv</pre>"
      ],
      "text/plain": [
       "Finished parsing file C:\\Users\\JayZheng\\Documents\\Data Science\\web economics\\assignment 1\\dataset\\validation.csv"
      ]
     },
     "metadata": {},
     "output_type": "display_data"
    },
    {
     "data": {
      "text/html": [
       "<pre>Parsing completed. Parsed 100 lines in 0.599041 secs.</pre>"
      ],
      "text/plain": [
       "Parsing completed. Parsed 100 lines in 0.599041 secs."
      ]
     },
     "metadata": {},
     "output_type": "display_data"
    },
    {
     "name": "stdout",
     "output_type": "stream",
     "text": [
      "------------------------------------------------------\n",
      "Inferred types from first 100 line(s) of file as \n",
      "column_type_hints=[long,long,long,str,long,str,str,str,long,long,str,str,str,str,str,long,long,str,str,long,str,long,long,str,long,str]\n",
      "If parsing fails due to incorrect types, you can correct\n",
      "the inferred type list above and pass it to read_csv in\n",
      "the column_type_hints argument\n",
      "------------------------------------------------------\n"
     ]
    },
    {
     "data": {
      "text/html": [
       "<pre>Finished parsing file C:\\Users\\JayZheng\\Documents\\Data Science\\web economics\\assignment 1\\dataset\\validation.csv</pre>"
      ],
      "text/plain": [
       "Finished parsing file C:\\Users\\JayZheng\\Documents\\Data Science\\web economics\\assignment 1\\dataset\\validation.csv"
      ]
     },
     "metadata": {},
     "output_type": "display_data"
    },
    {
     "data": {
      "text/html": [
       "<pre>Parsing completed. Parsed 299749 lines in 1.20682 secs.</pre>"
      ],
      "text/plain": [
       "Parsing completed. Parsed 299749 lines in 1.20682 secs."
      ]
     },
     "metadata": {},
     "output_type": "display_data"
    }
   ],
   "source": [
    "train = gl.SFrame.read_csv(\"C:/Users/JayZheng/Documents/Data Science/web economics/assignment 1/dataset/train.csv\")\n",
    "validation = gl.SFrame.read_csv(\"C:/Users/JayZheng/Documents/Data Science/web economics/assignment 1/dataset/validation.csv\")"
   ]
  },
  {
   "cell_type": "code",
   "execution_count": 6,
   "metadata": {
    "collapsed": false
   },
   "outputs": [
    {
     "data": {
      "text/html": [
       "<div style=\"max-height:1000px;max-width:1500px;overflow:auto;\"><table frame=\"box\" rules=\"cols\">\n",
       "    <tr>\n",
       "        <th style=\"padding-left: 1em; padding-right: 1em; text-align: center\">click</th>\n",
       "        <th style=\"padding-left: 1em; padding-right: 1em; text-align: center\">weekday</th>\n",
       "        <th style=\"padding-left: 1em; padding-right: 1em; text-align: center\">hour</th>\n",
       "        <th style=\"padding-left: 1em; padding-right: 1em; text-align: center\">bidid</th>\n",
       "        <th style=\"padding-left: 1em; padding-right: 1em; text-align: center\">logtype</th>\n",
       "        <th style=\"padding-left: 1em; padding-right: 1em; text-align: center\">userid</th>\n",
       "        <th style=\"padding-left: 1em; padding-right: 1em; text-align: center\">useragent</th>\n",
       "        <th style=\"padding-left: 1em; padding-right: 1em; text-align: center\">IP</th>\n",
       "    </tr>\n",
       "    <tr>\n",
       "        <td style=\"padding-left: 1em; padding-right: 1em; text-align: center; vertical-align: top\">0</td>\n",
       "        <td style=\"padding-left: 1em; padding-right: 1em; text-align: center; vertical-align: top\">1</td>\n",
       "        <td style=\"padding-left: 1em; padding-right: 1em; text-align: center; vertical-align: top\">14</td>\n",
       "        <td style=\"padding-left: 1em; padding-right: 1em; text-align: center; vertical-align: top\">fdfae6789b787899f1b875de3<br>ab8b21a ...</td>\n",
       "        <td style=\"padding-left: 1em; padding-right: 1em; text-align: center; vertical-align: top\">1</td>\n",
       "        <td style=\"padding-left: 1em; padding-right: 1em; text-align: center; vertical-align: top\">u_Vh1OPkFv3q5CFdR</td>\n",
       "        <td style=\"padding-left: 1em; padding-right: 1em; text-align: center; vertical-align: top\">windows_ie</td>\n",
       "        <td style=\"padding-left: 1em; padding-right: 1em; text-align: center; vertical-align: top\">180.107.112.*</td>\n",
       "    </tr>\n",
       "    <tr>\n",
       "        <td style=\"padding-left: 1em; padding-right: 1em; text-align: center; vertical-align: top\">0</td>\n",
       "        <td style=\"padding-left: 1em; padding-right: 1em; text-align: center; vertical-align: top\">2</td>\n",
       "        <td style=\"padding-left: 1em; padding-right: 1em; text-align: center; vertical-align: top\">20</td>\n",
       "        <td style=\"padding-left: 1em; padding-right: 1em; text-align: center; vertical-align: top\">372883147cdefbc495fb5082f<br>79dde9b ...</td>\n",
       "        <td style=\"padding-left: 1em; padding-right: 1em; text-align: center; vertical-align: top\">1</td>\n",
       "        <td style=\"padding-left: 1em; padding-right: 1em; text-align: center; vertical-align: top\">u_VhkRL6dCOTLsq-c</td>\n",
       "        <td style=\"padding-left: 1em; padding-right: 1em; text-align: center; vertical-align: top\">windows_chrome</td>\n",
       "        <td style=\"padding-left: 1em; padding-right: 1em; text-align: center; vertical-align: top\">125.120.199.*</td>\n",
       "    </tr>\n",
       "    <tr>\n",
       "        <td style=\"padding-left: 1em; padding-right: 1em; text-align: center; vertical-align: top\">0</td>\n",
       "        <td style=\"padding-left: 1em; padding-right: 1em; text-align: center; vertical-align: top\">5</td>\n",
       "        <td style=\"padding-left: 1em; padding-right: 1em; text-align: center; vertical-align: top\">9</td>\n",
       "        <td style=\"padding-left: 1em; padding-right: 1em; text-align: center; vertical-align: top\">2912cb5947e1fad450e2473c2<br>f61ef75 ...</td>\n",
       "        <td style=\"padding-left: 1em; padding-right: 1em; text-align: center; vertical-align: top\">1</td>\n",
       "        <td style=\"padding-left: 1em; padding-right: 1em; text-align: center; vertical-align: top\">u_VhkyORMrD8TP3GL</td>\n",
       "        <td style=\"padding-left: 1em; padding-right: 1em; text-align: center; vertical-align: top\">windows_ie</td>\n",
       "        <td style=\"padding-left: 1em; padding-right: 1em; text-align: center; vertical-align: top\">120.196.64.*</td>\n",
       "    </tr>\n",
       "    <tr>\n",
       "        <td style=\"padding-left: 1em; padding-right: 1em; text-align: center; vertical-align: top\">0</td>\n",
       "        <td style=\"padding-left: 1em; padding-right: 1em; text-align: center; vertical-align: top\">2</td>\n",
       "        <td style=\"padding-left: 1em; padding-right: 1em; text-align: center; vertical-align: top\">20</td>\n",
       "        <td style=\"padding-left: 1em; padding-right: 1em; text-align: center; vertical-align: top\">d7b7d61d1e50e1d27d210928d<br>28a9b61 ...</td>\n",
       "        <td style=\"padding-left: 1em; padding-right: 1em; text-align: center; vertical-align: top\">1</td>\n",
       "        <td style=\"padding-left: 1em; padding-right: 1em; text-align: center; vertical-align: top\">u_VhkyLRqVL2a4eWL</td>\n",
       "        <td style=\"padding-left: 1em; padding-right: 1em; text-align: center; vertical-align: top\">windows_ie</td>\n",
       "        <td style=\"padding-left: 1em; padding-right: 1em; text-align: center; vertical-align: top\">219.131.122.*</td>\n",
       "    </tr>\n",
       "    <tr>\n",
       "        <td style=\"padding-left: 1em; padding-right: 1em; text-align: center; vertical-align: top\">0</td>\n",
       "        <td style=\"padding-left: 1em; padding-right: 1em; text-align: center; vertical-align: top\">6</td>\n",
       "        <td style=\"padding-left: 1em; padding-right: 1em; text-align: center; vertical-align: top\">9</td>\n",
       "        <td style=\"padding-left: 1em; padding-right: 1em; text-align: center; vertical-align: top\">657d317dc4045bb79c2652abb<br>ea07530 ...</td>\n",
       "        <td style=\"padding-left: 1em; padding-right: 1em; text-align: center; vertical-align: top\">1</td>\n",
       "        <td style=\"padding-left: 1em; padding-right: 1em; text-align: center; vertical-align: top\">u_Vh1zOJuQOtTCBgL</td>\n",
       "        <td style=\"padding-left: 1em; padding-right: 1em; text-align: center; vertical-align: top\">windows_chrome</td>\n",
       "        <td style=\"padding-left: 1em; padding-right: 1em; text-align: center; vertical-align: top\">123.190.78.*</td>\n",
       "    </tr>\n",
       "</table>\n",
       "<table frame=\"box\" rules=\"cols\">\n",
       "    <tr>\n",
       "        <th style=\"padding-left: 1em; padding-right: 1em; text-align: center\">region</th>\n",
       "        <th style=\"padding-left: 1em; padding-right: 1em; text-align: center\">city</th>\n",
       "        <th style=\"padding-left: 1em; padding-right: 1em; text-align: center\">adexchange</th>\n",
       "        <th style=\"padding-left: 1em; padding-right: 1em; text-align: center\">domain</th>\n",
       "        <th style=\"padding-left: 1em; padding-right: 1em; text-align: center\">url</th>\n",
       "        <th style=\"padding-left: 1em; padding-right: 1em; text-align: center\">urlid</th>\n",
       "        <th style=\"padding-left: 1em; padding-right: 1em; text-align: center\">slotid</th>\n",
       "    </tr>\n",
       "    <tr>\n",
       "        <td style=\"padding-left: 1em; padding-right: 1em; text-align: center; vertical-align: top\">80</td>\n",
       "        <td style=\"padding-left: 1em; padding-right: 1em; text-align: center; vertical-align: top\">85</td>\n",
       "        <td style=\"padding-left: 1em; padding-right: 1em; text-align: center; vertical-align: top\">2</td>\n",
       "        <td style=\"padding-left: 1em; padding-right: 1em; text-align: center; vertical-align: top\">trqRTuToMTNUjM9r5rMi</td>\n",
       "        <td style=\"padding-left: 1em; padding-right: 1em; text-align: center; vertical-align: top\">d48a96ab59d7ad741a48e781d<br>e44efeb ...</td>\n",
       "        <td style=\"padding-left: 1em; padding-right: 1em; text-align: center; vertical-align: top\">null</td>\n",
       "        <td style=\"padding-left: 1em; padding-right: 1em; text-align: center; vertical-align: top\">433287550</td>\n",
       "    </tr>\n",
       "    <tr>\n",
       "        <td style=\"padding-left: 1em; padding-right: 1em; text-align: center; vertical-align: top\">94</td>\n",
       "        <td style=\"padding-left: 1em; padding-right: 1em; text-align: center; vertical-align: top\">95</td>\n",
       "        <td style=\"padding-left: 1em; padding-right: 1em; text-align: center; vertical-align: top\">2</td>\n",
       "        <td style=\"padding-left: 1em; padding-right: 1em; text-align: center; vertical-align: top\">trqRTv14MqTR1m58uG</td>\n",
       "        <td style=\"padding-left: 1em; padding-right: 1em; text-align: center; vertical-align: top\">313e110c149d24b3236165d30<br>879c595 ...</td>\n",
       "        <td style=\"padding-left: 1em; padding-right: 1em; text-align: center; vertical-align: top\">null</td>\n",
       "        <td style=\"padding-left: 1em; padding-right: 1em; text-align: center; vertical-align: top\">2264242698</td>\n",
       "    </tr>\n",
       "    <tr>\n",
       "        <td style=\"padding-left: 1em; padding-right: 1em; text-align: center; vertical-align: top\">216</td>\n",
       "        <td style=\"padding-left: 1em; padding-right: 1em; text-align: center; vertical-align: top\">217</td>\n",
       "        <td style=\"padding-left: 1em; padding-right: 1em; text-align: center; vertical-align: top\">1</td>\n",
       "        <td style=\"padding-left: 1em; padding-right: 1em; text-align: center; vertical-align: top\">trqRTJTxX5scg4</td>\n",
       "        <td style=\"padding-left: 1em; padding-right: 1em; text-align: center; vertical-align: top\">845b72208c27b993daa11c810<br>4449e22 ...</td>\n",
       "        <td style=\"padding-left: 1em; padding-right: 1em; text-align: center; vertical-align: top\">null</td>\n",
       "        <td style=\"padding-left: 1em; padding-right: 1em; text-align: center; vertical-align: top\">mm_40135906_3486753_11388<br>735 ...</td>\n",
       "    </tr>\n",
       "    <tr>\n",
       "        <td style=\"padding-left: 1em; padding-right: 1em; text-align: center; vertical-align: top\">216</td>\n",
       "        <td style=\"padding-left: 1em; padding-right: 1em; text-align: center; vertical-align: top\">221</td>\n",
       "        <td style=\"padding-left: 1em; padding-right: 1em; text-align: center; vertical-align: top\">2</td>\n",
       "        <td style=\"padding-left: 1em; padding-right: 1em; text-align: center; vertical-align: top\">trqRTuMvjTN7X9KbuKz</td>\n",
       "        <td style=\"padding-left: 1em; padding-right: 1em; text-align: center; vertical-align: top\">ea6709db2703ae8698755629f<br>1f9df32 ...</td>\n",
       "        <td style=\"padding-left: 1em; padding-right: 1em; text-align: center; vertical-align: top\">null</td>\n",
       "        <td style=\"padding-left: 1em; padding-right: 1em; text-align: center; vertical-align: top\">2536830969</td>\n",
       "    </tr>\n",
       "    <tr>\n",
       "        <td style=\"padding-left: 1em; padding-right: 1em; text-align: center; vertical-align: top\">40</td>\n",
       "        <td style=\"padding-left: 1em; padding-right: 1em; text-align: center; vertical-align: top\">48</td>\n",
       "        <td style=\"padding-left: 1em; padding-right: 1em; text-align: center; vertical-align: top\">1</td>\n",
       "        <td style=\"padding-left: 1em; padding-right: 1em; text-align: center; vertical-align: top\">trqRTu1YP5scFsf</td>\n",
       "        <td style=\"padding-left: 1em; padding-right: 1em; text-align: center; vertical-align: top\">b7b8e74eefbdd5cc1a9f0acb2<br>e5c0d6c ...</td>\n",
       "        <td style=\"padding-left: 1em; padding-right: 1em; text-align: center; vertical-align: top\">null</td>\n",
       "        <td style=\"padding-left: 1em; padding-right: 1em; text-align: center; vertical-align: top\">mm_10075660_3500949_11453<br>278 ...</td>\n",
       "    </tr>\n",
       "</table>\n",
       "<table frame=\"box\" rules=\"cols\">\n",
       "    <tr>\n",
       "        <th style=\"padding-left: 1em; padding-right: 1em; text-align: center\">slotwidth</th>\n",
       "        <th style=\"padding-left: 1em; padding-right: 1em; text-align: center\">slotheight</th>\n",
       "        <th style=\"padding-left: 1em; padding-right: 1em; text-align: center\">slotvisibility</th>\n",
       "        <th style=\"padding-left: 1em; padding-right: 1em; text-align: center\">slotformat</th>\n",
       "        <th style=\"padding-left: 1em; padding-right: 1em; text-align: center\">slotprice</th>\n",
       "        <th style=\"padding-left: 1em; padding-right: 1em; text-align: center\">creative</th>\n",
       "        <th style=\"padding-left: 1em; padding-right: 1em; text-align: center\">bidprice</th>\n",
       "        <th style=\"padding-left: 1em; padding-right: 1em; text-align: center\">payprice</th>\n",
       "    </tr>\n",
       "    <tr>\n",
       "        <td style=\"padding-left: 1em; padding-right: 1em; text-align: center; vertical-align: top\">468</td>\n",
       "        <td style=\"padding-left: 1em; padding-right: 1em; text-align: center; vertical-align: top\">60</td>\n",
       "        <td style=\"padding-left: 1em; padding-right: 1em; text-align: center; vertical-align: top\">1</td>\n",
       "        <td style=\"padding-left: 1em; padding-right: 1em; text-align: center; vertical-align: top\">0</td>\n",
       "        <td style=\"padding-left: 1em; padding-right: 1em; text-align: center; vertical-align: top\">5</td>\n",
       "        <td style=\"padding-left: 1em; padding-right: 1em; text-align: center; vertical-align: top\">612599432d200b093719dd1f3<br>72f7a30 ...</td>\n",
       "        <td style=\"padding-left: 1em; padding-right: 1em; text-align: center; vertical-align: top\">300</td>\n",
       "        <td style=\"padding-left: 1em; padding-right: 1em; text-align: center; vertical-align: top\">54</td>\n",
       "    </tr>\n",
       "    <tr>\n",
       "        <td style=\"padding-left: 1em; padding-right: 1em; text-align: center; vertical-align: top\">250</td>\n",
       "        <td style=\"padding-left: 1em; padding-right: 1em; text-align: center; vertical-align: top\">250</td>\n",
       "        <td style=\"padding-left: 1em; padding-right: 1em; text-align: center; vertical-align: top\">1</td>\n",
       "        <td style=\"padding-left: 1em; padding-right: 1em; text-align: center; vertical-align: top\">0</td>\n",
       "        <td style=\"padding-left: 1em; padding-right: 1em; text-align: center; vertical-align: top\">5</td>\n",
       "        <td style=\"padding-left: 1em; padding-right: 1em; text-align: center; vertical-align: top\">8dff45ed862a740986dbe688a<br>afee7e5 ...</td>\n",
       "        <td style=\"padding-left: 1em; padding-right: 1em; text-align: center; vertical-align: top\">249</td>\n",
       "        <td style=\"padding-left: 1em; padding-right: 1em; text-align: center; vertical-align: top\">42</td>\n",
       "    </tr>\n",
       "    <tr>\n",
       "        <td style=\"padding-left: 1em; padding-right: 1em; text-align: center; vertical-align: top\">336</td>\n",
       "        <td style=\"padding-left: 1em; padding-right: 1em; text-align: center; vertical-align: top\">280</td>\n",
       "        <td style=\"padding-left: 1em; padding-right: 1em; text-align: center; vertical-align: top\">0</td>\n",
       "        <td style=\"padding-left: 1em; padding-right: 1em; text-align: center; vertical-align: top\">1</td>\n",
       "        <td style=\"padding-left: 1em; padding-right: 1em; text-align: center; vertical-align: top\">0</td>\n",
       "        <td style=\"padding-left: 1em; padding-right: 1em; text-align: center; vertical-align: top\">77819d3e0b3467fe5c7b16d68<br>ad923a1 ...</td>\n",
       "        <td style=\"padding-left: 1em; padding-right: 1em; text-align: center; vertical-align: top\">300</td>\n",
       "        <td style=\"padding-left: 1em; padding-right: 1em; text-align: center; vertical-align: top\">76</td>\n",
       "    </tr>\n",
       "    <tr>\n",
       "        <td style=\"padding-left: 1em; padding-right: 1em; text-align: center; vertical-align: top\">728</td>\n",
       "        <td style=\"padding-left: 1em; padding-right: 1em; text-align: center; vertical-align: top\">90</td>\n",
       "        <td style=\"padding-left: 1em; padding-right: 1em; text-align: center; vertical-align: top\">0</td>\n",
       "        <td style=\"padding-left: 1em; padding-right: 1em; text-align: center; vertical-align: top\">0</td>\n",
       "        <td style=\"padding-left: 1em; padding-right: 1em; text-align: center; vertical-align: top\">162</td>\n",
       "        <td style=\"padding-left: 1em; padding-right: 1em; text-align: center; vertical-align: top\">7184c9560e68e977187e67e45<br>a4f3198 ...</td>\n",
       "        <td style=\"padding-left: 1em; padding-right: 1em; text-align: center; vertical-align: top\">238</td>\n",
       "        <td style=\"padding-left: 1em; padding-right: 1em; text-align: center; vertical-align: top\">182</td>\n",
       "    </tr>\n",
       "    <tr>\n",
       "        <td style=\"padding-left: 1em; padding-right: 1em; text-align: center; vertical-align: top\">950</td>\n",
       "        <td style=\"padding-left: 1em; padding-right: 1em; text-align: center; vertical-align: top\">90</td>\n",
       "        <td style=\"padding-left: 1em; padding-right: 1em; text-align: center; vertical-align: top\">0</td>\n",
       "        <td style=\"padding-left: 1em; padding-right: 1em; text-align: center; vertical-align: top\">1</td>\n",
       "        <td style=\"padding-left: 1em; padding-right: 1em; text-align: center; vertical-align: top\">0</td>\n",
       "        <td style=\"padding-left: 1em; padding-right: 1em; text-align: center; vertical-align: top\">c938195f9e404b4f38c7e71bf<br>50263e5 ...</td>\n",
       "        <td style=\"padding-left: 1em; padding-right: 1em; text-align: center; vertical-align: top\">238</td>\n",
       "        <td style=\"padding-left: 1em; padding-right: 1em; text-align: center; vertical-align: top\">34</td>\n",
       "    </tr>\n",
       "</table>\n",
       "<table frame=\"box\" rules=\"cols\">\n",
       "    <tr>\n",
       "        <th style=\"padding-left: 1em; padding-right: 1em; text-align: center\">keypage</th>\n",
       "        <th style=\"padding-left: 1em; padding-right: 1em; text-align: center\">advertiser</th>\n",
       "        <th style=\"padding-left: 1em; padding-right: 1em; text-align: center\">usertag</th>\n",
       "    </tr>\n",
       "    <tr>\n",
       "        <td style=\"padding-left: 1em; padding-right: 1em; text-align: center; vertical-align: top\">bebefa5efe83beee17a3d245e<br>7c5085b ...</td>\n",
       "        <td style=\"padding-left: 1em; padding-right: 1em; text-align: center; vertical-align: top\">1458</td>\n",
       "        <td style=\"padding-left: 1em; padding-right: 1em; text-align: center; vertical-align: top\">13866,10063</td>\n",
       "    </tr>\n",
       "    <tr>\n",
       "        <td style=\"padding-left: 1em; padding-right: 1em; text-align: center; vertical-align: top\">15b749127478946f161a54dc0<br>dad27c8 ...</td>\n",
       "        <td style=\"padding-left: 1em; padding-right: 1em; text-align: center; vertical-align: top\">3476</td>\n",
       "        <td style=\"padding-left: 1em; padding-right: 1em; text-align: center; vertical-align: top\">10063,10111</td>\n",
       "    </tr>\n",
       "    <tr>\n",
       "        <td style=\"padding-left: 1em; padding-right: 1em; text-align: center; vertical-align: top\">bebefa5efe83beee17a3d245e<br>7c5085b ...</td>\n",
       "        <td style=\"padding-left: 1em; padding-right: 1em; text-align: center; vertical-align: top\">1458</td>\n",
       "        <td style=\"padding-left: 1em; padding-right: 1em; text-align: center; vertical-align: top\">10063</td>\n",
       "    </tr>\n",
       "    <tr>\n",
       "        <td style=\"padding-left: 1em; padding-right: 1em; text-align: center; vertical-align: top\">0f951a030abdaedd733ee8d11<br>4ce2944 ...</td>\n",
       "        <td style=\"padding-left: 1em; padding-right: 1em; text-align: center; vertical-align: top\">3427</td>\n",
       "        <td style=\"padding-left: 1em; padding-right: 1em; text-align: center; vertical-align: top\">10077,10111</td>\n",
       "    </tr>\n",
       "    <tr>\n",
       "        <td style=\"padding-left: 1em; padding-right: 1em; text-align: center; vertical-align: top\">a3becb967c015e9acb5e72f22<br>b100ef8 ...</td>\n",
       "        <td style=\"padding-left: 1em; padding-right: 1em; text-align: center; vertical-align: top\">3476</td>\n",
       "        <td style=\"padding-left: 1em; padding-right: 1em; text-align: center; vertical-align: top\">10031,13042,10006,10057,1<br>3866,10063,14273,1005 ...</td>\n",
       "    </tr>\n",
       "</table>\n",
       "[5 rows x 26 columns]<br/>\n",
       "</div>"
      ],
      "text/plain": [
       "Columns:\n",
       "\tclick\tint\n",
       "\tweekday\tint\n",
       "\thour\tint\n",
       "\tbidid\tstr\n",
       "\tlogtype\tint\n",
       "\tuserid\tstr\n",
       "\tuseragent\tstr\n",
       "\tIP\tstr\n",
       "\tregion\tint\n",
       "\tcity\tint\n",
       "\tadexchange\tstr\n",
       "\tdomain\tstr\n",
       "\turl\tstr\n",
       "\turlid\tstr\n",
       "\tslotid\tstr\n",
       "\tslotwidth\tint\n",
       "\tslotheight\tint\n",
       "\tslotvisibility\tstr\n",
       "\tslotformat\tstr\n",
       "\tslotprice\tint\n",
       "\tcreative\tstr\n",
       "\tbidprice\tint\n",
       "\tpayprice\tint\n",
       "\tkeypage\tstr\n",
       "\tadvertiser\tint\n",
       "\tusertag\tstr\n",
       "\n",
       "Rows: 5\n",
       "\n",
       "Data:\n",
       "+-------+---------+------+-------------------------------+---------+\n",
       "| click | weekday | hour |             bidid             | logtype |\n",
       "+-------+---------+------+-------------------------------+---------+\n",
       "|   0   |    1    |  14  | fdfae6789b787899f1b875de3a... |    1    |\n",
       "|   0   |    2    |  20  | 372883147cdefbc495fb5082f7... |    1    |\n",
       "|   0   |    5    |  9   | 2912cb5947e1fad450e2473c2f... |    1    |\n",
       "|   0   |    2    |  20  | d7b7d61d1e50e1d27d210928d2... |    1    |\n",
       "|   0   |    6    |  9   | 657d317dc4045bb79c2652abbe... |    1    |\n",
       "+-------+---------+------+-------------------------------+---------+\n",
       "+-------------------+----------------+---------------+--------+------+------------+\n",
       "|       userid      |   useragent    |       IP      | region | city | adexchange |\n",
       "+-------------------+----------------+---------------+--------+------+------------+\n",
       "| u_Vh1OPkFv3q5CFdR |   windows_ie   | 180.107.112.* |   80   |  85  |     2      |\n",
       "| u_VhkRL6dCOTLsq-c | windows_chrome | 125.120.199.* |   94   |  95  |     2      |\n",
       "| u_VhkyORMrD8TP3GL |   windows_ie   |  120.196.64.* |  216   | 217  |     1      |\n",
       "| u_VhkyLRqVL2a4eWL |   windows_ie   | 219.131.122.* |  216   | 221  |     2      |\n",
       "| u_Vh1zOJuQOtTCBgL | windows_chrome |  123.190.78.* |   40   |  48  |     1      |\n",
       "+-------------------+----------------+---------------+--------+------+------------+\n",
       "+----------------------+-------------------------------+-------+\n",
       "|        domain        |              url              | urlid |\n",
       "+----------------------+-------------------------------+-------+\n",
       "| trqRTuToMTNUjM9r5rMi | d48a96ab59d7ad741a48e781de... |  null |\n",
       "|  trqRTv14MqTR1m58uG  | 313e110c149d24b3236165d308... |  null |\n",
       "|    trqRTJTxX5scg4    | 845b72208c27b993daa11c8104... |  null |\n",
       "| trqRTuMvjTN7X9KbuKz  | ea6709db2703ae8698755629f1... |  null |\n",
       "|   trqRTu1YP5scFsf    | b7b8e74eefbdd5cc1a9f0acb2e... |  null |\n",
       "+----------------------+-------------------------------+-------+\n",
       "+------------------------------+-----------+------------+----------------+------------+\n",
       "|            slotid            | slotwidth | slotheight | slotvisibility | slotformat |\n",
       "+------------------------------+-----------+------------+----------------+------------+\n",
       "|          433287550           |    468    |     60     |       1        |     0      |\n",
       "|          2264242698          |    250    |    250     |       1        |     0      |\n",
       "| mm_40135906_3486753_11388735 |    336    |    280     |       0        |     1      |\n",
       "|          2536830969          |    728    |     90     |       0        |     0      |\n",
       "| mm_10075660_3500949_11453278 |    950    |     90     |       0        |     1      |\n",
       "+------------------------------+-----------+------------+----------------+------------+\n",
       "+-----------+-----+\n",
       "| slotprice | ... |\n",
       "+-----------+-----+\n",
       "|     5     | ... |\n",
       "|     5     | ... |\n",
       "|     0     | ... |\n",
       "|    162    | ... |\n",
       "|     0     | ... |\n",
       "+-----------+-----+\n",
       "[5 rows x 26 columns]"
      ]
     },
     "execution_count": 6,
     "metadata": {},
     "output_type": "execute_result"
    }
   ],
   "source": [
    "# quick summary of data\n",
    "train.head(5)"
   ]
  },
  {
   "cell_type": "code",
   "execution_count": null,
   "metadata": {
    "collapsed": false
   },
   "outputs": [],
   "source": [
    "# web browser based interactive visualization, can be access with the below URL\n",
    "train.show()"
   ]
  },
  {
   "cell_type": "code",
   "execution_count": 4,
   "metadata": {
    "collapsed": false
   },
   "outputs": [],
   "source": [
    "# create function to group data and calculate CTR,CPM,payprice and eCPC. \n",
    "def group(variable):\n",
    "    variable = train.groupby(variable,\n",
    "                              {'count': gl.aggregate.COUNT(variable)}).sort('count', ascending=False)\n",
    "    return variable"
   ]
  },
  {
   "cell_type": "code",
   "execution_count": 5,
   "metadata": {
    "collapsed": false,
    "scrolled": true
   },
   "outputs": [],
   "source": [
    "def CTR(variable):\n",
    "    variable = train.groupby(variable,\n",
    "                            {'CTR': gl.aggregate.MEAN('click')},\n",
    "                            {'count': gl.aggregate.COUNT(variable)}).sort('CTR', ascending=False)\n",
    "    variable[\"CTR\"]= variable[\"CTR\"]*100\n",
    "    return variable"
   ]
  },
  {
   "cell_type": "code",
   "execution_count": 6,
   "metadata": {
    "collapsed": true
   },
   "outputs": [],
   "source": [
    "def CPM(variable):\n",
    "    variable = train.groupby(variable,\n",
    "                         {'CPM':gl.aggregate.MEAN('payprice')},\n",
    "                         {'count':gl.aggregate.COUNT(variable)}).sort('CPM',ascending = False)\n",
    "    return variable"
   ]
  },
  {
   "cell_type": "code",
   "execution_count": 7,
   "metadata": {
    "collapsed": false
   },
   "outputs": [],
   "source": [
    "def PayPrice(variable):\n",
    "    variable = train.groupby(variable,\n",
    "                            {'cost': gl.aggregate.SUM('payprice')},\n",
    "                            {'count': gl.aggregate.COUNT(variable)}).sort('cost', ascending=False)\n",
    "    return variable\n"
   ]
  },
  {
   "cell_type": "code",
   "execution_count": 8,
   "metadata": {
    "collapsed": false
   },
   "outputs": [],
   "source": [
    "def eCPC(variable):\n",
    "    df = train.groupby(variable,\n",
    "                            {'cost': gl.aggregate.SUM('payprice')},\n",
    "                           {'click': gl.aggregate.SUM('click')})\n",
    "\n",
    "    \n",
    "\n",
    "    return df\n",
    "\n"
   ]
  },
  {
   "cell_type": "code",
   "execution_count": 9,
   "metadata": {
    "collapsed": false
   },
   "outputs": [],
   "source": [
    "eCPC = eCPC(\"advertiser\")\n",
    "eCPC[\"eCPC\"]=eCPC[\"cost\"]/eCPC[\"click\"]/1000"
   ]
  },
  {
   "cell_type": "code",
   "execution_count": 10,
   "metadata": {
    "collapsed": false
   },
   "outputs": [
    {
     "data": {
      "text/html": [
       "<div style=\"max-height:1000px;max-width:1500px;overflow:auto;\"><table frame=\"box\" rules=\"cols\">\n",
       "    <tr>\n",
       "        <th style=\"padding-left: 1em; padding-right: 1em; text-align: center\">advertiser</th>\n",
       "        <th style=\"padding-left: 1em; padding-right: 1em; text-align: center\">count</th>\n",
       "    </tr>\n",
       "    <tr>\n",
       "        <td style=\"padding-left: 1em; padding-right: 1em; text-align: center; vertical-align: top\">1458</td>\n",
       "        <td style=\"padding-left: 1em; padding-right: 1em; text-align: center; vertical-align: top\">540293</td>\n",
       "    </tr>\n",
       "    <tr>\n",
       "        <td style=\"padding-left: 1em; padding-right: 1em; text-align: center; vertical-align: top\">3386</td>\n",
       "        <td style=\"padding-left: 1em; padding-right: 1em; text-align: center; vertical-align: top\">498554</td>\n",
       "    </tr>\n",
       "    <tr>\n",
       "        <td style=\"padding-left: 1em; padding-right: 1em; text-align: center; vertical-align: top\">3427</td>\n",
       "        <td style=\"padding-left: 1em; padding-right: 1em; text-align: center; vertical-align: top\">454031</td>\n",
       "    </tr>\n",
       "    <tr>\n",
       "        <td style=\"padding-left: 1em; padding-right: 1em; text-align: center; vertical-align: top\">3476</td>\n",
       "        <td style=\"padding-left: 1em; padding-right: 1em; text-align: center; vertical-align: top\">346778</td>\n",
       "    </tr>\n",
       "    <tr>\n",
       "        <td style=\"padding-left: 1em; padding-right: 1em; text-align: center; vertical-align: top\">3358</td>\n",
       "        <td style=\"padding-left: 1em; padding-right: 1em; text-align: center; vertical-align: top\">304782</td>\n",
       "    </tr>\n",
       "    <tr>\n",
       "        <td style=\"padding-left: 1em; padding-right: 1em; text-align: center; vertical-align: top\">2821</td>\n",
       "        <td style=\"padding-left: 1em; padding-right: 1em; text-align: center; vertical-align: top\">231416</td>\n",
       "    </tr>\n",
       "    <tr>\n",
       "        <td style=\"padding-left: 1em; padding-right: 1em; text-align: center; vertical-align: top\">2259</td>\n",
       "        <td style=\"padding-left: 1em; padding-right: 1em; text-align: center; vertical-align: top\">146778</td>\n",
       "    </tr>\n",
       "    <tr>\n",
       "        <td style=\"padding-left: 1em; padding-right: 1em; text-align: center; vertical-align: top\">2261</td>\n",
       "        <td style=\"padding-left: 1em; padding-right: 1em; text-align: center; vertical-align: top\">120619</td>\n",
       "    </tr>\n",
       "    <tr>\n",
       "        <td style=\"padding-left: 1em; padding-right: 1em; text-align: center; vertical-align: top\">2997</td>\n",
       "        <td style=\"padding-left: 1em; padding-right: 1em; text-align: center; vertical-align: top\">54487</td>\n",
       "    </tr>\n",
       "</table>\n",
       "[9 rows x 2 columns]<br/>\n",
       "</div>"
      ],
      "text/plain": [
       "Columns:\n",
       "\tadvertiser\tint\n",
       "\tcount\tint\n",
       "\n",
       "Rows: 9\n",
       "\n",
       "Data:\n",
       "+------------+--------+\n",
       "| advertiser | count  |\n",
       "+------------+--------+\n",
       "|    1458    | 540293 |\n",
       "|    3386    | 498554 |\n",
       "|    3427    | 454031 |\n",
       "|    3476    | 346778 |\n",
       "|    3358    | 304782 |\n",
       "|    2821    | 231416 |\n",
       "|    2259    | 146778 |\n",
       "|    2261    | 120619 |\n",
       "|    2997    | 54487  |\n",
       "+------------+--------+\n",
       "[9 rows x 2 columns]"
      ]
     },
     "execution_count": 10,
     "metadata": {},
     "output_type": "execute_result"
    }
   ],
   "source": [
    "group(\"advertiser\")"
   ]
  },
  {
   "cell_type": "code",
   "execution_count": 11,
   "metadata": {
    "collapsed": false
   },
   "outputs": [
    {
     "data": {
      "text/html": [
       "<div style=\"max-height:1000px;max-width:1500px;overflow:auto;\"><table frame=\"box\" rules=\"cols\">\n",
       "    <tr>\n",
       "        <th style=\"padding-left: 1em; padding-right: 1em; text-align: center\">advertiser</th>\n",
       "        <th style=\"padding-left: 1em; padding-right: 1em; text-align: center\">cost</th>\n",
       "        <th style=\"padding-left: 1em; padding-right: 1em; text-align: center\">click</th>\n",
       "        <th style=\"padding-left: 1em; padding-right: 1em; text-align: center\">eCPC</th>\n",
       "    </tr>\n",
       "    <tr>\n",
       "        <td style=\"padding-left: 1em; padding-right: 1em; text-align: center; vertical-align: top\">2261</td>\n",
       "        <td style=\"padding-left: 1em; padding-right: 1em; text-align: center; vertical-align: top\">10789152</td>\n",
       "        <td style=\"padding-left: 1em; padding-right: 1em; text-align: center; vertical-align: top\">37</td>\n",
       "        <td style=\"padding-left: 1em; padding-right: 1em; text-align: center; vertical-align: top\">291.598702703</td>\n",
       "    </tr>\n",
       "    <tr>\n",
       "        <td style=\"padding-left: 1em; padding-right: 1em; text-align: center; vertical-align: top\">3427</td>\n",
       "        <td style=\"padding-left: 1em; padding-right: 1em; text-align: center; vertical-align: top\">36820111</td>\n",
       "        <td style=\"padding-left: 1em; padding-right: 1em; text-align: center; vertical-align: top\">340</td>\n",
       "        <td style=\"padding-left: 1em; padding-right: 1em; text-align: center; vertical-align: top\">108.294444118</td>\n",
       "    </tr>\n",
       "    <tr>\n",
       "        <td style=\"padding-left: 1em; padding-right: 1em; text-align: center; vertical-align: top\">3358</td>\n",
       "        <td style=\"padding-left: 1em; padding-right: 1em; text-align: center; vertical-align: top\">28145288</td>\n",
       "        <td style=\"padding-left: 1em; padding-right: 1em; text-align: center; vertical-align: top\">233</td>\n",
       "        <td style=\"padding-left: 1em; padding-right: 1em; text-align: center; vertical-align: top\">120.795227468</td>\n",
       "    </tr>\n",
       "    <tr>\n",
       "        <td style=\"padding-left: 1em; padding-right: 1em; text-align: center; vertical-align: top\">3476</td>\n",
       "        <td style=\"padding-left: 1em; padding-right: 1em; text-align: center; vertical-align: top\">27481402</td>\n",
       "        <td style=\"padding-left: 1em; padding-right: 1em; text-align: center; vertical-align: top\">175</td>\n",
       "        <td style=\"padding-left: 1em; padding-right: 1em; text-align: center; vertical-align: top\">157.036582857</td>\n",
       "    </tr>\n",
       "    <tr>\n",
       "        <td style=\"padding-left: 1em; padding-right: 1em; text-align: center; vertical-align: top\">2997</td>\n",
       "        <td style=\"padding-left: 1em; padding-right: 1em; text-align: center; vertical-align: top\">3413227</td>\n",
       "        <td style=\"padding-left: 1em; padding-right: 1em; text-align: center; vertical-align: top\">251</td>\n",
       "        <td style=\"padding-left: 1em; padding-right: 1em; text-align: center; vertical-align: top\">13.5985139442</td>\n",
       "    </tr>\n",
       "    <tr>\n",
       "        <td style=\"padding-left: 1em; padding-right: 1em; text-align: center; vertical-align: top\">3386</td>\n",
       "        <td style=\"padding-left: 1em; padding-right: 1em; text-align: center; vertical-align: top\">38341028</td>\n",
       "        <td style=\"padding-left: 1em; padding-right: 1em; text-align: center; vertical-align: top\">358</td>\n",
       "        <td style=\"padding-left: 1em; padding-right: 1em; text-align: center; vertical-align: top\">107.097843575</td>\n",
       "    </tr>\n",
       "    <tr>\n",
       "        <td style=\"padding-left: 1em; padding-right: 1em; text-align: center; vertical-align: top\">1458</td>\n",
       "        <td style=\"padding-left: 1em; padding-right: 1em; text-align: center; vertical-align: top\">37231239</td>\n",
       "        <td style=\"padding-left: 1em; padding-right: 1em; text-align: center; vertical-align: top\">451</td>\n",
       "        <td style=\"padding-left: 1em; padding-right: 1em; text-align: center; vertical-align: top\">82.5526363636</td>\n",
       "    </tr>\n",
       "    <tr>\n",
       "        <td style=\"padding-left: 1em; padding-right: 1em; text-align: center; vertical-align: top\">2821</td>\n",
       "        <td style=\"padding-left: 1em; padding-right: 1em; text-align: center; vertical-align: top\">20625766</td>\n",
       "        <td style=\"padding-left: 1em; padding-right: 1em; text-align: center; vertical-align: top\">144</td>\n",
       "        <td style=\"padding-left: 1em; padding-right: 1em; text-align: center; vertical-align: top\">143.234486111</td>\n",
       "    </tr>\n",
       "    <tr>\n",
       "        <td style=\"padding-left: 1em; padding-right: 1em; text-align: center; vertical-align: top\">2259</td>\n",
       "        <td style=\"padding-left: 1em; padding-right: 1em; text-align: center; vertical-align: top\">13649026</td>\n",
       "        <td style=\"padding-left: 1em; padding-right: 1em; text-align: center; vertical-align: top\">45</td>\n",
       "        <td style=\"padding-left: 1em; padding-right: 1em; text-align: center; vertical-align: top\">303.311688889</td>\n",
       "    </tr>\n",
       "</table>\n",
       "[9 rows x 4 columns]<br/>\n",
       "</div>"
      ],
      "text/plain": [
       "Columns:\n",
       "\tadvertiser\tint\n",
       "\tcost\tint\n",
       "\tclick\tint\n",
       "\teCPC\tfloat\n",
       "\n",
       "Rows: 9\n",
       "\n",
       "Data:\n",
       "+------------+----------+-------+---------------+\n",
       "| advertiser |   cost   | click |      eCPC     |\n",
       "+------------+----------+-------+---------------+\n",
       "|    2261    | 10789152 |   37  | 291.598702703 |\n",
       "|    3427    | 36820111 |  340  | 108.294444118 |\n",
       "|    3358    | 28145288 |  233  | 120.795227468 |\n",
       "|    3476    | 27481402 |  175  | 157.036582857 |\n",
       "|    2997    | 3413227  |  251  | 13.5985139442 |\n",
       "|    3386    | 38341028 |  358  | 107.097843575 |\n",
       "|    1458    | 37231239 |  451  | 82.5526363636 |\n",
       "|    2821    | 20625766 |  144  | 143.234486111 |\n",
       "|    2259    | 13649026 |   45  | 303.311688889 |\n",
       "+------------+----------+-------+---------------+\n",
       "[9 rows x 4 columns]"
      ]
     },
     "execution_count": 11,
     "metadata": {},
     "output_type": "execute_result"
    }
   ],
   "source": [
    "eCPC"
   ]
  },
  {
   "cell_type": "code",
   "execution_count": 12,
   "metadata": {
    "collapsed": false
   },
   "outputs": [
    {
     "data": {
      "text/html": [
       "<div style=\"max-height:1000px;max-width:1500px;overflow:auto;\"><table frame=\"box\" rules=\"cols\">\n",
       "    <tr>\n",
       "        <th style=\"padding-left: 1em; padding-right: 1em; text-align: center\">click</th>\n",
       "        <th style=\"padding-left: 1em; padding-right: 1em; text-align: center\">count</th>\n",
       "    </tr>\n",
       "    <tr>\n",
       "        <td style=\"padding-left: 1em; padding-right: 1em; text-align: center; vertical-align: top\">0</td>\n",
       "        <td style=\"padding-left: 1em; padding-right: 1em; text-align: center; vertical-align: top\">2695704</td>\n",
       "    </tr>\n",
       "    <tr>\n",
       "        <td style=\"padding-left: 1em; padding-right: 1em; text-align: center; vertical-align: top\">1</td>\n",
       "        <td style=\"padding-left: 1em; padding-right: 1em; text-align: center; vertical-align: top\">2034</td>\n",
       "    </tr>\n",
       "</table>\n",
       "[2 rows x 2 columns]<br/>\n",
       "</div>"
      ],
      "text/plain": [
       "Columns:\n",
       "\tclick\tint\n",
       "\tcount\tint\n",
       "\n",
       "Rows: 2\n",
       "\n",
       "Data:\n",
       "+-------+---------+\n",
       "| click |  count  |\n",
       "+-------+---------+\n",
       "|   0   | 2695704 |\n",
       "|   1   |   2034  |\n",
       "+-------+---------+\n",
       "[2 rows x 2 columns]"
      ]
     },
     "execution_count": 12,
     "metadata": {},
     "output_type": "execute_result"
    }
   ],
   "source": [
    "group(\"click\")"
   ]
  },
  {
   "cell_type": "code",
   "execution_count": 13,
   "metadata": {
    "collapsed": false
   },
   "outputs": [
    {
     "data": {
      "text/html": [
       "<div style=\"max-height:1000px;max-width:1500px;overflow:auto;\"><table frame=\"box\" rules=\"cols\">\n",
       "    <tr>\n",
       "        <th style=\"padding-left: 1em; padding-right: 1em; text-align: center\">hour</th>\n",
       "        <th style=\"padding-left: 1em; padding-right: 1em; text-align: center\">count</th>\n",
       "    </tr>\n",
       "    <tr>\n",
       "        <td style=\"padding-left: 1em; padding-right: 1em; text-align: center; vertical-align: top\">0</td>\n",
       "        <td style=\"padding-left: 1em; padding-right: 1em; text-align: center; vertical-align: top\">202239</td>\n",
       "    </tr>\n",
       "    <tr>\n",
       "        <td style=\"padding-left: 1em; padding-right: 1em; text-align: center; vertical-align: top\">22</td>\n",
       "        <td style=\"padding-left: 1em; padding-right: 1em; text-align: center; vertical-align: top\">172076</td>\n",
       "    </tr>\n",
       "    <tr>\n",
       "        <td style=\"padding-left: 1em; padding-right: 1em; text-align: center; vertical-align: top\">18</td>\n",
       "        <td style=\"padding-left: 1em; padding-right: 1em; text-align: center; vertical-align: top\">171748</td>\n",
       "    </tr>\n",
       "    <tr>\n",
       "        <td style=\"padding-left: 1em; padding-right: 1em; text-align: center; vertical-align: top\">16</td>\n",
       "        <td style=\"padding-left: 1em; padding-right: 1em; text-align: center; vertical-align: top\">166315</td>\n",
       "    </tr>\n",
       "    <tr>\n",
       "        <td style=\"padding-left: 1em; padding-right: 1em; text-align: center; vertical-align: top\">15</td>\n",
       "        <td style=\"padding-left: 1em; padding-right: 1em; text-align: center; vertical-align: top\">166252</td>\n",
       "    </tr>\n",
       "    <tr>\n",
       "        <td style=\"padding-left: 1em; padding-right: 1em; text-align: center; vertical-align: top\">17</td>\n",
       "        <td style=\"padding-left: 1em; padding-right: 1em; text-align: center; vertical-align: top\">159044</td>\n",
       "    </tr>\n",
       "    <tr>\n",
       "        <td style=\"padding-left: 1em; padding-right: 1em; text-align: center; vertical-align: top\">13</td>\n",
       "        <td style=\"padding-left: 1em; padding-right: 1em; text-align: center; vertical-align: top\">155792</td>\n",
       "    </tr>\n",
       "    <tr>\n",
       "        <td style=\"padding-left: 1em; padding-right: 1em; text-align: center; vertical-align: top\">14</td>\n",
       "        <td style=\"padding-left: 1em; padding-right: 1em; text-align: center; vertical-align: top\">145782</td>\n",
       "    </tr>\n",
       "    <tr>\n",
       "        <td style=\"padding-left: 1em; padding-right: 1em; text-align: center; vertical-align: top\">11</td>\n",
       "        <td style=\"padding-left: 1em; padding-right: 1em; text-align: center; vertical-align: top\">143110</td>\n",
       "    </tr>\n",
       "    <tr>\n",
       "        <td style=\"padding-left: 1em; padding-right: 1em; text-align: center; vertical-align: top\">12</td>\n",
       "        <td style=\"padding-left: 1em; padding-right: 1em; text-align: center; vertical-align: top\">142075</td>\n",
       "    </tr>\n",
       "</table>\n",
       "[24 rows x 2 columns]<br/>Note: Only the head of the SFrame is printed.<br/>You can use print_rows(num_rows=m, num_columns=n) to print more rows and columns.\n",
       "</div>"
      ],
      "text/plain": [
       "Columns:\n",
       "\thour\tint\n",
       "\tcount\tint\n",
       "\n",
       "Rows: 24\n",
       "\n",
       "Data:\n",
       "+------+--------+\n",
       "| hour | count  |\n",
       "+------+--------+\n",
       "|  0   | 202239 |\n",
       "|  22  | 172076 |\n",
       "|  18  | 171748 |\n",
       "|  16  | 166315 |\n",
       "|  15  | 166252 |\n",
       "|  17  | 159044 |\n",
       "|  13  | 155792 |\n",
       "|  14  | 145782 |\n",
       "|  11  | 143110 |\n",
       "|  12  | 142075 |\n",
       "+------+--------+\n",
       "[24 rows x 2 columns]\n",
       "Note: Only the head of the SFrame is printed.\n",
       "You can use print_rows(num_rows=m, num_columns=n) to print more rows and columns."
      ]
     },
     "execution_count": 13,
     "metadata": {},
     "output_type": "execute_result"
    }
   ],
   "source": [
    "group(\"hour\")"
   ]
  },
  {
   "cell_type": "code",
   "execution_count": 14,
   "metadata": {
    "collapsed": false
   },
   "outputs": [
    {
     "data": {
      "text/html": [
       "<div style=\"max-height:1000px;max-width:1500px;overflow:auto;\"><table frame=\"box\" rules=\"cols\">\n",
       "    <tr>\n",
       "        <th style=\"padding-left: 1em; padding-right: 1em; text-align: center\">click</th>\n",
       "        <th style=\"padding-left: 1em; padding-right: 1em; text-align: center\">count</th>\n",
       "    </tr>\n",
       "    <tr>\n",
       "        <td style=\"padding-left: 1em; padding-right: 1em; text-align: center; vertical-align: top\">0</td>\n",
       "        <td style=\"padding-left: 1em; padding-right: 1em; text-align: center; vertical-align: top\">2695704</td>\n",
       "    </tr>\n",
       "    <tr>\n",
       "        <td style=\"padding-left: 1em; padding-right: 1em; text-align: center; vertical-align: top\">1</td>\n",
       "        <td style=\"padding-left: 1em; padding-right: 1em; text-align: center; vertical-align: top\">2034</td>\n",
       "    </tr>\n",
       "</table>\n",
       "[2 rows x 2 columns]<br/>\n",
       "</div>"
      ],
      "text/plain": [
       "Columns:\n",
       "\tclick\tint\n",
       "\tcount\tint\n",
       "\n",
       "Rows: 2\n",
       "\n",
       "Data:\n",
       "+-------+---------+\n",
       "| click |  count  |\n",
       "+-------+---------+\n",
       "|   0   | 2695704 |\n",
       "|   1   |   2034  |\n",
       "+-------+---------+\n",
       "[2 rows x 2 columns]"
      ]
     },
     "execution_count": 14,
     "metadata": {},
     "output_type": "execute_result"
    }
   ],
   "source": [
    "group(\"click\")"
   ]
  },
  {
   "cell_type": "code",
   "execution_count": 15,
   "metadata": {
    "collapsed": false
   },
   "outputs": [
    {
     "data": {
      "text/html": [
       "<div style=\"max-height:1000px;max-width:1500px;overflow:auto;\"><table frame=\"box\" rules=\"cols\">\n",
       "    <tr>\n",
       "        <th style=\"padding-left: 1em; padding-right: 1em; text-align: center\">weekday</th>\n",
       "        <th style=\"padding-left: 1em; padding-right: 1em; text-align: center\">count</th>\n",
       "    </tr>\n",
       "    <tr>\n",
       "        <td style=\"padding-left: 1em; padding-right: 1em; text-align: center; vertical-align: top\">0</td>\n",
       "        <td style=\"padding-left: 1em; padding-right: 1em; text-align: center; vertical-align: top\">465241</td>\n",
       "    </tr>\n",
       "    <tr>\n",
       "        <td style=\"padding-left: 1em; padding-right: 1em; text-align: center; vertical-align: top\">1</td>\n",
       "        <td style=\"padding-left: 1em; padding-right: 1em; text-align: center; vertical-align: top\">408417</td>\n",
       "    </tr>\n",
       "    <tr>\n",
       "        <td style=\"padding-left: 1em; padding-right: 1em; text-align: center; vertical-align: top\">3</td>\n",
       "        <td style=\"padding-left: 1em; padding-right: 1em; text-align: center; vertical-align: top\">380111</td>\n",
       "    </tr>\n",
       "    <tr>\n",
       "        <td style=\"padding-left: 1em; padding-right: 1em; text-align: center; vertical-align: top\">5</td>\n",
       "        <td style=\"padding-left: 1em; padding-right: 1em; text-align: center; vertical-align: top\">378028</td>\n",
       "    </tr>\n",
       "    <tr>\n",
       "        <td style=\"padding-left: 1em; padding-right: 1em; text-align: center; vertical-align: top\">6</td>\n",
       "        <td style=\"padding-left: 1em; padding-right: 1em; text-align: center; vertical-align: top\">376514</td>\n",
       "    </tr>\n",
       "    <tr>\n",
       "        <td style=\"padding-left: 1em; padding-right: 1em; text-align: center; vertical-align: top\">4</td>\n",
       "        <td style=\"padding-left: 1em; padding-right: 1em; text-align: center; vertical-align: top\">361376</td>\n",
       "    </tr>\n",
       "    <tr>\n",
       "        <td style=\"padding-left: 1em; padding-right: 1em; text-align: center; vertical-align: top\">2</td>\n",
       "        <td style=\"padding-left: 1em; padding-right: 1em; text-align: center; vertical-align: top\">328051</td>\n",
       "    </tr>\n",
       "</table>\n",
       "[7 rows x 2 columns]<br/>\n",
       "</div>"
      ],
      "text/plain": [
       "Columns:\n",
       "\tweekday\tint\n",
       "\tcount\tint\n",
       "\n",
       "Rows: 7\n",
       "\n",
       "Data:\n",
       "+---------+--------+\n",
       "| weekday | count  |\n",
       "+---------+--------+\n",
       "|    0    | 465241 |\n",
       "|    1    | 408417 |\n",
       "|    3    | 380111 |\n",
       "|    5    | 378028 |\n",
       "|    6    | 376514 |\n",
       "|    4    | 361376 |\n",
       "|    2    | 328051 |\n",
       "+---------+--------+\n",
       "[7 rows x 2 columns]"
      ]
     },
     "execution_count": 15,
     "metadata": {},
     "output_type": "execute_result"
    }
   ],
   "source": [
    "group(\"weekday\")"
   ]
  },
  {
   "cell_type": "code",
   "execution_count": 16,
   "metadata": {
    "collapsed": false
   },
   "outputs": [
    {
     "data": {
      "text/html": [
       "<div>\n",
       "<table border=\"1\" class=\"dataframe\">\n",
       "  <thead>\n",
       "    <tr style=\"text-align: right;\">\n",
       "      <th></th>\n",
       "      <th>weekday</th>\n",
       "      <th>CTR</th>\n",
       "      <th>count</th>\n",
       "    </tr>\n",
       "  </thead>\n",
       "  <tbody>\n",
       "    <tr>\n",
       "      <th>0</th>\n",
       "      <td>2</td>\n",
       "      <td>0.091</td>\n",
       "      <td>328051</td>\n",
       "    </tr>\n",
       "    <tr>\n",
       "      <th>1</th>\n",
       "      <td>3</td>\n",
       "      <td>0.091</td>\n",
       "      <td>380111</td>\n",
       "    </tr>\n",
       "    <tr>\n",
       "      <th>2</th>\n",
       "      <td>4</td>\n",
       "      <td>0.086</td>\n",
       "      <td>361376</td>\n",
       "    </tr>\n",
       "    <tr>\n",
       "      <th>3</th>\n",
       "      <td>5</td>\n",
       "      <td>0.079</td>\n",
       "      <td>378028</td>\n",
       "    </tr>\n",
       "    <tr>\n",
       "      <th>4</th>\n",
       "      <td>1</td>\n",
       "      <td>0.068</td>\n",
       "      <td>408417</td>\n",
       "    </tr>\n",
       "    <tr>\n",
       "      <th>5</th>\n",
       "      <td>0</td>\n",
       "      <td>0.063</td>\n",
       "      <td>465241</td>\n",
       "    </tr>\n",
       "    <tr>\n",
       "      <th>6</th>\n",
       "      <td>6</td>\n",
       "      <td>0.056</td>\n",
       "      <td>376514</td>\n",
       "    </tr>\n",
       "  </tbody>\n",
       "</table>\n",
       "</div>"
      ],
      "text/plain": [
       "   weekday    CTR   count\n",
       "0        2  0.091  328051\n",
       "1        3  0.091  380111\n",
       "2        4  0.086  361376\n",
       "3        5  0.079  378028\n",
       "4        1  0.068  408417\n",
       "5        0  0.063  465241\n",
       "6        6  0.056  376514"
      ]
     },
     "execution_count": 16,
     "metadata": {},
     "output_type": "execute_result"
    }
   ],
   "source": [
    "CTR(\"weekday\").to_dataframe().round(3)"
   ]
  },
  {
   "cell_type": "code",
   "execution_count": 149,
   "metadata": {
    "collapsed": false
   },
   "outputs": [],
   "source": [
    "CTR = CTR(\"advertiser\").to_dataframe().round(3)"
   ]
  },
  {
   "cell_type": "code",
   "execution_count": 18,
   "metadata": {
    "collapsed": false
   },
   "outputs": [
    {
     "data": {
      "text/html": [
       "<div>\n",
       "<table border=\"1\" class=\"dataframe\">\n",
       "  <thead>\n",
       "    <tr style=\"text-align: right;\">\n",
       "      <th></th>\n",
       "      <th>hour</th>\n",
       "      <th>CTR</th>\n",
       "      <th>count</th>\n",
       "    </tr>\n",
       "  </thead>\n",
       "  <tbody>\n",
       "    <tr>\n",
       "      <th>0</th>\n",
       "      <td>21</td>\n",
       "      <td>0.105</td>\n",
       "      <td>112438</td>\n",
       "    </tr>\n",
       "    <tr>\n",
       "      <th>1</th>\n",
       "      <td>18</td>\n",
       "      <td>0.100</td>\n",
       "      <td>171748</td>\n",
       "    </tr>\n",
       "    <tr>\n",
       "      <th>2</th>\n",
       "      <td>17</td>\n",
       "      <td>0.097</td>\n",
       "      <td>159044</td>\n",
       "    </tr>\n",
       "    <tr>\n",
       "      <th>3</th>\n",
       "      <td>23</td>\n",
       "      <td>0.090</td>\n",
       "      <td>126138</td>\n",
       "    </tr>\n",
       "    <tr>\n",
       "      <th>4</th>\n",
       "      <td>19</td>\n",
       "      <td>0.089</td>\n",
       "      <td>132278</td>\n",
       "    </tr>\n",
       "  </tbody>\n",
       "</table>\n",
       "</div>"
      ],
      "text/plain": [
       "   hour    CTR   count\n",
       "0    21  0.105  112438\n",
       "1    18  0.100  171748\n",
       "2    17  0.097  159044\n",
       "3    23  0.090  126138\n",
       "4    19  0.089  132278"
      ]
     },
     "execution_count": 18,
     "metadata": {},
     "output_type": "execute_result"
    }
   ],
   "source": [
    "CTR(\"hour\").to_dataframe().round(3).head(5)"
   ]
  },
  {
   "cell_type": "code",
   "execution_count": 19,
   "metadata": {
    "collapsed": false
   },
   "outputs": [
    {
     "data": {
      "text/html": [
       "<div>\n",
       "<table border=\"1\" class=\"dataframe\">\n",
       "  <thead>\n",
       "    <tr style=\"text-align: right;\">\n",
       "      <th></th>\n",
       "      <th>useragent</th>\n",
       "      <th>CTR</th>\n",
       "      <th>count</th>\n",
       "    </tr>\n",
       "  </thead>\n",
       "  <tbody>\n",
       "    <tr>\n",
       "      <th>0</th>\n",
       "      <td>android_other</td>\n",
       "      <td>0.665</td>\n",
       "      <td>1956</td>\n",
       "    </tr>\n",
       "    <tr>\n",
       "      <th>1</th>\n",
       "      <td>android_chrome</td>\n",
       "      <td>0.588</td>\n",
       "      <td>510</td>\n",
       "    </tr>\n",
       "    <tr>\n",
       "      <th>2</th>\n",
       "      <td>android_safari</td>\n",
       "      <td>0.481</td>\n",
       "      <td>67728</td>\n",
       "    </tr>\n",
       "    <tr>\n",
       "      <th>3</th>\n",
       "      <td>ios_safari</td>\n",
       "      <td>0.462</td>\n",
       "      <td>433</td>\n",
       "    </tr>\n",
       "    <tr>\n",
       "      <th>4</th>\n",
       "      <td>mac_other</td>\n",
       "      <td>0.356</td>\n",
       "      <td>8700</td>\n",
       "    </tr>\n",
       "  </tbody>\n",
       "</table>\n",
       "</div>"
      ],
      "text/plain": [
       "        useragent    CTR  count\n",
       "0   android_other  0.665   1956\n",
       "1  android_chrome  0.588    510\n",
       "2  android_safari  0.481  67728\n",
       "3      ios_safari  0.462    433\n",
       "4       mac_other  0.356   8700"
      ]
     },
     "execution_count": 19,
     "metadata": {},
     "output_type": "execute_result"
    }
   ],
   "source": [
    "CTR(\"useragent\").to_dataframe().round(3).head(5)"
   ]
  },
  {
   "cell_type": "code",
   "execution_count": 20,
   "metadata": {
    "collapsed": false
   },
   "outputs": [
    {
     "data": {
      "text/html": [
       "<div>\n",
       "<table border=\"1\" class=\"dataframe\">\n",
       "  <thead>\n",
       "    <tr style=\"text-align: right;\">\n",
       "      <th></th>\n",
       "      <th>adexchange</th>\n",
       "      <th>CTR</th>\n",
       "      <th>count</th>\n",
       "    </tr>\n",
       "  </thead>\n",
       "  <tbody>\n",
       "    <tr>\n",
       "      <th>0</th>\n",
       "      <td>null</td>\n",
       "      <td>0.461</td>\n",
       "      <td>54487</td>\n",
       "    </tr>\n",
       "    <tr>\n",
       "      <th>1</th>\n",
       "      <td>1</td>\n",
       "      <td>0.081</td>\n",
       "      <td>815403</td>\n",
       "    </tr>\n",
       "    <tr>\n",
       "      <th>2</th>\n",
       "      <td>3</td>\n",
       "      <td>0.071</td>\n",
       "      <td>900222</td>\n",
       "    </tr>\n",
       "    <tr>\n",
       "      <th>3</th>\n",
       "      <td>4</td>\n",
       "      <td>0.055</td>\n",
       "      <td>87521</td>\n",
       "    </tr>\n",
       "    <tr>\n",
       "      <th>4</th>\n",
       "      <td>2</td>\n",
       "      <td>0.052</td>\n",
       "      <td>840105</td>\n",
       "    </tr>\n",
       "  </tbody>\n",
       "</table>\n",
       "</div>"
      ],
      "text/plain": [
       "  adexchange    CTR   count\n",
       "0       null  0.461   54487\n",
       "1          1  0.081  815403\n",
       "2          3  0.071  900222\n",
       "3          4  0.055   87521\n",
       "4          2  0.052  840105"
      ]
     },
     "execution_count": 20,
     "metadata": {},
     "output_type": "execute_result"
    }
   ],
   "source": [
    "CTR(\"adexchange\").to_dataframe().round(3)"
   ]
  },
  {
   "cell_type": "code",
   "execution_count": null,
   "metadata": {
    "collapsed": true
   },
   "outputs": [],
   "source": []
  },
  {
   "cell_type": "markdown",
   "metadata": {},
   "source": [
    "# 2. Basic bidding strategies"
   ]
  },
  {
   "cell_type": "code",
   "execution_count": 3,
   "metadata": {
    "collapsed": false
   },
   "outputs": [],
   "source": [
    "validation = pd.read_csv(\"C:/Users/JayZheng/Documents/Data Science/web economics/assignment 1/dataset/validation.csv\")"
   ]
  },
  {
   "cell_type": "code",
   "execution_count": 8,
   "metadata": {
    "collapsed": false
   },
   "outputs": [
    {
     "data": {
      "text/html": [
       "<div>\n",
       "<table border=\"1\" class=\"dataframe\">\n",
       "  <thead>\n",
       "    <tr style=\"text-align: right;\">\n",
       "      <th></th>\n",
       "      <th>click</th>\n",
       "      <th>weekday</th>\n",
       "      <th>hour</th>\n",
       "      <th>bidid</th>\n",
       "      <th>logtype</th>\n",
       "      <th>userid</th>\n",
       "      <th>useragent</th>\n",
       "      <th>IP</th>\n",
       "      <th>region</th>\n",
       "      <th>city</th>\n",
       "      <th>...</th>\n",
       "      <th>slotheight</th>\n",
       "      <th>slotvisibility</th>\n",
       "      <th>slotformat</th>\n",
       "      <th>slotprice</th>\n",
       "      <th>creative</th>\n",
       "      <th>bidprice</th>\n",
       "      <th>payprice</th>\n",
       "      <th>keypage</th>\n",
       "      <th>advertiser</th>\n",
       "      <th>usertag</th>\n",
       "    </tr>\n",
       "  </thead>\n",
       "  <tbody>\n",
       "    <tr>\n",
       "      <th>0</th>\n",
       "      <td>0</td>\n",
       "      <td>5</td>\n",
       "      <td>14</td>\n",
       "      <td>91c6a6b9e90c0f54d3230815a5a3e22e</td>\n",
       "      <td>1</td>\n",
       "      <td>u_Vhk7C5STO8TZ3s8</td>\n",
       "      <td>windows_ie</td>\n",
       "      <td>14.122.240.*</td>\n",
       "      <td>216</td>\n",
       "      <td>232</td>\n",
       "      <td>...</td>\n",
       "      <td>250</td>\n",
       "      <td>0</td>\n",
       "      <td>1</td>\n",
       "      <td>0</td>\n",
       "      <td>449a22cd91d9042eda3d3a1b89a22ea8</td>\n",
       "      <td>227</td>\n",
       "      <td>102</td>\n",
       "      <td>0f951a030abdaedd733ee8d114ce2944</td>\n",
       "      <td>3427</td>\n",
       "      <td>10006,10063,10059,10111</td>\n",
       "    </tr>\n",
       "    <tr>\n",
       "      <th>1</th>\n",
       "      <td>0</td>\n",
       "      <td>3</td>\n",
       "      <td>14</td>\n",
       "      <td>24b3621ad3b063b6c09c541781d534b3</td>\n",
       "      <td>1</td>\n",
       "      <td>u_DANDbCAksMy</td>\n",
       "      <td>android_safari</td>\n",
       "      <td>116.22.55.*</td>\n",
       "      <td>216</td>\n",
       "      <td>217</td>\n",
       "      <td>...</td>\n",
       "      <td>50</td>\n",
       "      <td>FirstView</td>\n",
       "      <td>Na</td>\n",
       "      <td>118</td>\n",
       "      <td>11908</td>\n",
       "      <td>277</td>\n",
       "      <td>118</td>\n",
       "      <td>null</td>\n",
       "      <td>2997</td>\n",
       "      <td>null</td>\n",
       "    </tr>\n",
       "    <tr>\n",
       "      <th>2</th>\n",
       "      <td>0</td>\n",
       "      <td>1</td>\n",
       "      <td>13</td>\n",
       "      <td>6e7bce0a9ad42f479827d37bf9618a9d</td>\n",
       "      <td>1</td>\n",
       "      <td>u_VhkxPnKHPo1H3Vb</td>\n",
       "      <td>windows_ie</td>\n",
       "      <td>60.215.242.*</td>\n",
       "      <td>146</td>\n",
       "      <td>149</td>\n",
       "      <td>...</td>\n",
       "      <td>90</td>\n",
       "      <td>0</td>\n",
       "      <td>0</td>\n",
       "      <td>70</td>\n",
       "      <td>d01411218cc79bc49d2a4078c4093b76</td>\n",
       "      <td>241</td>\n",
       "      <td>77</td>\n",
       "      <td>b2e35064f3549d447edbbdfb1f707c8c</td>\n",
       "      <td>3427</td>\n",
       "      <td>null</td>\n",
       "    </tr>\n",
       "    <tr>\n",
       "      <th>3</th>\n",
       "      <td>0</td>\n",
       "      <td>5</td>\n",
       "      <td>18</td>\n",
       "      <td>6873feca381b8293bf418ba8408a014c</td>\n",
       "      <td>1</td>\n",
       "      <td>u_Vh5zL3B83ln9Xbl</td>\n",
       "      <td>windows_chrome</td>\n",
       "      <td>27.193.87.*</td>\n",
       "      <td>146</td>\n",
       "      <td>148</td>\n",
       "      <td>...</td>\n",
       "      <td>90</td>\n",
       "      <td>0</td>\n",
       "      <td>0</td>\n",
       "      <td>70</td>\n",
       "      <td>c46090c887c257b61ab1fa11baee91d8</td>\n",
       "      <td>241</td>\n",
       "      <td>77</td>\n",
       "      <td>0f951a030abdaedd733ee8d114ce2944</td>\n",
       "      <td>3427</td>\n",
       "      <td>null</td>\n",
       "    </tr>\n",
       "    <tr>\n",
       "      <th>4</th>\n",
       "      <td>0</td>\n",
       "      <td>5</td>\n",
       "      <td>14</td>\n",
       "      <td>7e6430333c552cf0b32bb21dc792d2df</td>\n",
       "      <td>1</td>\n",
       "      <td>u_VhKPOr5wOt9HQsj</td>\n",
       "      <td>windows_ie</td>\n",
       "      <td>183.228.214.*</td>\n",
       "      <td>275</td>\n",
       "      <td>275</td>\n",
       "      <td>...</td>\n",
       "      <td>280</td>\n",
       "      <td>2</td>\n",
       "      <td>0</td>\n",
       "      <td>5</td>\n",
       "      <td>ff5123fb9333ca095034c62fdaaf51aa</td>\n",
       "      <td>300</td>\n",
       "      <td>178</td>\n",
       "      <td>361e128affece850342293213691a043</td>\n",
       "      <td>3386</td>\n",
       "      <td>null</td>\n",
       "    </tr>\n",
       "  </tbody>\n",
       "</table>\n",
       "<p>5 rows × 26 columns</p>\n",
       "</div>"
      ],
      "text/plain": [
       "   click  weekday  hour                             bidid  logtype  \\\n",
       "0      0        5    14  91c6a6b9e90c0f54d3230815a5a3e22e        1   \n",
       "1      0        3    14  24b3621ad3b063b6c09c541781d534b3        1   \n",
       "2      0        1    13  6e7bce0a9ad42f479827d37bf9618a9d        1   \n",
       "3      0        5    18  6873feca381b8293bf418ba8408a014c        1   \n",
       "4      0        5    14  7e6430333c552cf0b32bb21dc792d2df        1   \n",
       "\n",
       "              userid       useragent             IP  region  city  \\\n",
       "0  u_Vhk7C5STO8TZ3s8      windows_ie   14.122.240.*     216   232   \n",
       "1      u_DANDbCAksMy  android_safari    116.22.55.*     216   217   \n",
       "2  u_VhkxPnKHPo1H3Vb      windows_ie   60.215.242.*     146   149   \n",
       "3  u_Vh5zL3B83ln9Xbl  windows_chrome    27.193.87.*     146   148   \n",
       "4  u_VhKPOr5wOt9HQsj      windows_ie  183.228.214.*     275   275   \n",
       "\n",
       "            ...            slotheight slotvisibility slotformat slotprice  \\\n",
       "0           ...                   250              0          1         0   \n",
       "1           ...                    50      FirstView         Na       118   \n",
       "2           ...                    90              0          0        70   \n",
       "3           ...                    90              0          0        70   \n",
       "4           ...                   280              2          0         5   \n",
       "\n",
       "                           creative  bidprice  payprice  \\\n",
       "0  449a22cd91d9042eda3d3a1b89a22ea8       227       102   \n",
       "1                             11908       277       118   \n",
       "2  d01411218cc79bc49d2a4078c4093b76       241        77   \n",
       "3  c46090c887c257b61ab1fa11baee91d8       241        77   \n",
       "4  ff5123fb9333ca095034c62fdaaf51aa       300       178   \n",
       "\n",
       "                            keypage advertiser                  usertag  \n",
       "0  0f951a030abdaedd733ee8d114ce2944       3427  10006,10063,10059,10111  \n",
       "1                              null       2997                     null  \n",
       "2  b2e35064f3549d447edbbdfb1f707c8c       3427                     null  \n",
       "3  0f951a030abdaedd733ee8d114ce2944       3427                     null  \n",
       "4  361e128affece850342293213691a043       3386                     null  \n",
       "\n",
       "[5 rows x 26 columns]"
      ]
     },
     "execution_count": 8,
     "metadata": {},
     "output_type": "execute_result"
    }
   ],
   "source": [
    "validation.head(5)"
   ]
  },
  {
   "cell_type": "code",
   "execution_count": 92,
   "metadata": {
    "collapsed": false
   },
   "outputs": [],
   "source": [
    "def constant_bid(bid):\n",
    "    impression = 0.0\n",
    "    clicks = 0\n",
    "    cost = 0.0\n",
    "    budget = 100000\n",
    "\n",
    "    \n",
    "    for click, pay_price in validation[['click','payprice']].values:\n",
    "            if bid > pay_price:\n",
    "                impression += 1.0\n",
    "                clicks += click\n",
    "                cost += pay_price\n",
    "            if cost>= budget:\n",
    "                break\n",
    "        \n",
    "    return impression, clicks, cost"
   ]
  },
  {
   "cell_type": "code",
   "execution_count": 93,
   "metadata": {
    "collapsed": false
   },
   "outputs": [],
   "source": [
    "my_bid = [10,20,50,100,150,200,250,300]"
   ]
  },
  {
   "cell_type": "code",
   "execution_count": 94,
   "metadata": {
    "collapsed": false
   },
   "outputs": [],
   "source": [
    "df = pd.DataFrame()\n",
    "df[\"constand_bid\"]=my_bid\n",
    "imp_temp = []\n",
    "cost_temp = []\n",
    "click_temp = []\n",
    "\n",
    "for i in my_bid:\n",
    "    [impression,click,cost] = constant_bid(i)\n",
    "    imp_temp.append(impression)\n",
    "    cost_temp.append(cost)\n",
    "    click_temp.append(click)\n",
    "\n",
    "df[\"impressions\"]=imp_temp\n",
    "df[\"click\"]=click_temp\n",
    "df[\"cost\"]= cost_temp\n",
    "df[\"CTR\"]= (df[\"click\"]/df[\"impressions\"]*100).round(4)\n",
    "df[\"CPM\"]= (df[\"impressions\"]/df[\"cost\"]*1000).round(4)\n",
    "df[\"CPC\"]= (df[\"cost\"]/df[\"click\"]).round(4)"
   ]
  },
  {
   "cell_type": "code",
   "execution_count": 95,
   "metadata": {
    "collapsed": false
   },
   "outputs": [],
   "source": [
    "df_CTR = df.sort_values(\"CTR\",ascending=False)"
   ]
  },
  {
   "cell_type": "code",
   "execution_count": 96,
   "metadata": {
    "collapsed": false
   },
   "outputs": [
    {
     "data": {
      "text/html": [
       "<div>\n",
       "<table border=\"1\" class=\"dataframe\">\n",
       "  <thead>\n",
       "    <tr style=\"text-align: right;\">\n",
       "      <th></th>\n",
       "      <th>constand_bid</th>\n",
       "      <th>impressions</th>\n",
       "      <th>click</th>\n",
       "      <th>cost</th>\n",
       "      <th>CTR</th>\n",
       "      <th>CPM</th>\n",
       "      <th>CPC</th>\n",
       "    </tr>\n",
       "  </thead>\n",
       "  <tbody>\n",
       "    <tr>\n",
       "      <th>7</th>\n",
       "      <td>300</td>\n",
       "      <td>1294.0</td>\n",
       "      <td>1</td>\n",
       "      <td>100004.0</td>\n",
       "      <td>0.0773</td>\n",
       "      <td>12.9395</td>\n",
       "      <td>100004.00</td>\n",
       "    </tr>\n",
       "    <tr>\n",
       "      <th>6</th>\n",
       "      <td>250</td>\n",
       "      <td>1365.0</td>\n",
       "      <td>1</td>\n",
       "      <td>100023.0</td>\n",
       "      <td>0.0733</td>\n",
       "      <td>13.6469</td>\n",
       "      <td>100023.00</td>\n",
       "    </tr>\n",
       "    <tr>\n",
       "      <th>5</th>\n",
       "      <td>200</td>\n",
       "      <td>1483.0</td>\n",
       "      <td>1</td>\n",
       "      <td>100056.0</td>\n",
       "      <td>0.0674</td>\n",
       "      <td>14.8217</td>\n",
       "      <td>100056.00</td>\n",
       "    </tr>\n",
       "    <tr>\n",
       "      <th>0</th>\n",
       "      <td>10</td>\n",
       "      <td>13364.0</td>\n",
       "      <td>8</td>\n",
       "      <td>76078.0</td>\n",
       "      <td>0.0599</td>\n",
       "      <td>175.6618</td>\n",
       "      <td>9509.75</td>\n",
       "    </tr>\n",
       "    <tr>\n",
       "      <th>4</th>\n",
       "      <td>150</td>\n",
       "      <td>1725.0</td>\n",
       "      <td>1</td>\n",
       "      <td>100044.0</td>\n",
       "      <td>0.0580</td>\n",
       "      <td>17.2424</td>\n",
       "      <td>100044.00</td>\n",
       "    </tr>\n",
       "    <tr>\n",
       "      <th>1</th>\n",
       "      <td>20</td>\n",
       "      <td>9222.0</td>\n",
       "      <td>5</td>\n",
       "      <td>100010.0</td>\n",
       "      <td>0.0542</td>\n",
       "      <td>92.2108</td>\n",
       "      <td>20002.00</td>\n",
       "    </tr>\n",
       "    <tr>\n",
       "      <th>3</th>\n",
       "      <td>100</td>\n",
       "      <td>2019.0</td>\n",
       "      <td>1</td>\n",
       "      <td>100022.0</td>\n",
       "      <td>0.0495</td>\n",
       "      <td>20.1856</td>\n",
       "      <td>100022.00</td>\n",
       "    </tr>\n",
       "    <tr>\n",
       "      <th>2</th>\n",
       "      <td>50</td>\n",
       "      <td>4155.0</td>\n",
       "      <td>1</td>\n",
       "      <td>100021.0</td>\n",
       "      <td>0.0241</td>\n",
       "      <td>41.5413</td>\n",
       "      <td>100021.00</td>\n",
       "    </tr>\n",
       "  </tbody>\n",
       "</table>\n",
       "</div>"
      ],
      "text/plain": [
       "   constand_bid  impressions  click      cost     CTR       CPM        CPC\n",
       "7           300       1294.0      1  100004.0  0.0773   12.9395  100004.00\n",
       "6           250       1365.0      1  100023.0  0.0733   13.6469  100023.00\n",
       "5           200       1483.0      1  100056.0  0.0674   14.8217  100056.00\n",
       "0            10      13364.0      8   76078.0  0.0599  175.6618    9509.75\n",
       "4           150       1725.0      1  100044.0  0.0580   17.2424  100044.00\n",
       "1            20       9222.0      5  100010.0  0.0542   92.2108   20002.00\n",
       "3           100       2019.0      1  100022.0  0.0495   20.1856  100022.00\n",
       "2            50       4155.0      1  100021.0  0.0241   41.5413  100021.00"
      ]
     },
     "execution_count": 96,
     "metadata": {},
     "output_type": "execute_result"
    }
   ],
   "source": [
    "df_CTR #best CTR"
   ]
  },
  {
   "cell_type": "code",
   "execution_count": 103,
   "metadata": {
    "collapsed": false
   },
   "outputs": [],
   "source": [
    "df_CPC = df.sort_values(\"CPC\",ascending=True)"
   ]
  },
  {
   "cell_type": "code",
   "execution_count": 104,
   "metadata": {
    "collapsed": false
   },
   "outputs": [
    {
     "data": {
      "text/html": [
       "<div>\n",
       "<table border=\"1\" class=\"dataframe\">\n",
       "  <thead>\n",
       "    <tr style=\"text-align: right;\">\n",
       "      <th></th>\n",
       "      <th>constand_bid</th>\n",
       "      <th>impressions</th>\n",
       "      <th>click</th>\n",
       "      <th>cost</th>\n",
       "      <th>CTR</th>\n",
       "      <th>CPM</th>\n",
       "      <th>CPC</th>\n",
       "    </tr>\n",
       "  </thead>\n",
       "  <tbody>\n",
       "    <tr>\n",
       "      <th>0</th>\n",
       "      <td>10</td>\n",
       "      <td>13364.0</td>\n",
       "      <td>8</td>\n",
       "      <td>76078.0</td>\n",
       "      <td>0.0599</td>\n",
       "      <td>175.6618</td>\n",
       "      <td>9509.75</td>\n",
       "    </tr>\n",
       "    <tr>\n",
       "      <th>1</th>\n",
       "      <td>20</td>\n",
       "      <td>9222.0</td>\n",
       "      <td>5</td>\n",
       "      <td>100010.0</td>\n",
       "      <td>0.0542</td>\n",
       "      <td>92.2108</td>\n",
       "      <td>20002.00</td>\n",
       "    </tr>\n",
       "    <tr>\n",
       "      <th>7</th>\n",
       "      <td>300</td>\n",
       "      <td>1294.0</td>\n",
       "      <td>1</td>\n",
       "      <td>100004.0</td>\n",
       "      <td>0.0773</td>\n",
       "      <td>12.9395</td>\n",
       "      <td>100004.00</td>\n",
       "    </tr>\n",
       "    <tr>\n",
       "      <th>2</th>\n",
       "      <td>50</td>\n",
       "      <td>4155.0</td>\n",
       "      <td>1</td>\n",
       "      <td>100021.0</td>\n",
       "      <td>0.0241</td>\n",
       "      <td>41.5413</td>\n",
       "      <td>100021.00</td>\n",
       "    </tr>\n",
       "    <tr>\n",
       "      <th>3</th>\n",
       "      <td>100</td>\n",
       "      <td>2019.0</td>\n",
       "      <td>1</td>\n",
       "      <td>100022.0</td>\n",
       "      <td>0.0495</td>\n",
       "      <td>20.1856</td>\n",
       "      <td>100022.00</td>\n",
       "    </tr>\n",
       "    <tr>\n",
       "      <th>6</th>\n",
       "      <td>250</td>\n",
       "      <td>1365.0</td>\n",
       "      <td>1</td>\n",
       "      <td>100023.0</td>\n",
       "      <td>0.0733</td>\n",
       "      <td>13.6469</td>\n",
       "      <td>100023.00</td>\n",
       "    </tr>\n",
       "    <tr>\n",
       "      <th>4</th>\n",
       "      <td>150</td>\n",
       "      <td>1725.0</td>\n",
       "      <td>1</td>\n",
       "      <td>100044.0</td>\n",
       "      <td>0.0580</td>\n",
       "      <td>17.2424</td>\n",
       "      <td>100044.00</td>\n",
       "    </tr>\n",
       "    <tr>\n",
       "      <th>5</th>\n",
       "      <td>200</td>\n",
       "      <td>1483.0</td>\n",
       "      <td>1</td>\n",
       "      <td>100056.0</td>\n",
       "      <td>0.0674</td>\n",
       "      <td>14.8217</td>\n",
       "      <td>100056.00</td>\n",
       "    </tr>\n",
       "  </tbody>\n",
       "</table>\n",
       "</div>"
      ],
      "text/plain": [
       "   constand_bid  impressions  click      cost     CTR       CPM        CPC\n",
       "0            10      13364.0      8   76078.0  0.0599  175.6618    9509.75\n",
       "1            20       9222.0      5  100010.0  0.0542   92.2108   20002.00\n",
       "7           300       1294.0      1  100004.0  0.0773   12.9395  100004.00\n",
       "2            50       4155.0      1  100021.0  0.0241   41.5413  100021.00\n",
       "3           100       2019.0      1  100022.0  0.0495   20.1856  100022.00\n",
       "6           250       1365.0      1  100023.0  0.0733   13.6469  100023.00\n",
       "4           150       1725.0      1  100044.0  0.0580   17.2424  100044.00\n",
       "5           200       1483.0      1  100056.0  0.0674   14.8217  100056.00"
      ]
     },
     "execution_count": 104,
     "metadata": {},
     "output_type": "execute_result"
    }
   ],
   "source": [
    "df_CPC # by CPC"
   ]
  },
  {
   "cell_type": "code",
   "execution_count": 101,
   "metadata": {
    "collapsed": true
   },
   "outputs": [],
   "source": [
    "df_CPM = df.sort_values(\"CPM\",ascending=True)"
   ]
  },
  {
   "cell_type": "code",
   "execution_count": 102,
   "metadata": {
    "collapsed": false
   },
   "outputs": [
    {
     "data": {
      "text/html": [
       "<div>\n",
       "<table border=\"1\" class=\"dataframe\">\n",
       "  <thead>\n",
       "    <tr style=\"text-align: right;\">\n",
       "      <th></th>\n",
       "      <th>constand_bid</th>\n",
       "      <th>impressions</th>\n",
       "      <th>click</th>\n",
       "      <th>cost</th>\n",
       "      <th>CTR</th>\n",
       "      <th>CPM</th>\n",
       "      <th>CPC</th>\n",
       "    </tr>\n",
       "  </thead>\n",
       "  <tbody>\n",
       "    <tr>\n",
       "      <th>7</th>\n",
       "      <td>300</td>\n",
       "      <td>1294.0</td>\n",
       "      <td>1</td>\n",
       "      <td>100004.0</td>\n",
       "      <td>0.0773</td>\n",
       "      <td>12.9395</td>\n",
       "      <td>100004.00</td>\n",
       "    </tr>\n",
       "    <tr>\n",
       "      <th>6</th>\n",
       "      <td>250</td>\n",
       "      <td>1365.0</td>\n",
       "      <td>1</td>\n",
       "      <td>100023.0</td>\n",
       "      <td>0.0733</td>\n",
       "      <td>13.6469</td>\n",
       "      <td>100023.00</td>\n",
       "    </tr>\n",
       "    <tr>\n",
       "      <th>5</th>\n",
       "      <td>200</td>\n",
       "      <td>1483.0</td>\n",
       "      <td>1</td>\n",
       "      <td>100056.0</td>\n",
       "      <td>0.0674</td>\n",
       "      <td>14.8217</td>\n",
       "      <td>100056.00</td>\n",
       "    </tr>\n",
       "    <tr>\n",
       "      <th>4</th>\n",
       "      <td>150</td>\n",
       "      <td>1725.0</td>\n",
       "      <td>1</td>\n",
       "      <td>100044.0</td>\n",
       "      <td>0.0580</td>\n",
       "      <td>17.2424</td>\n",
       "      <td>100044.00</td>\n",
       "    </tr>\n",
       "    <tr>\n",
       "      <th>3</th>\n",
       "      <td>100</td>\n",
       "      <td>2019.0</td>\n",
       "      <td>1</td>\n",
       "      <td>100022.0</td>\n",
       "      <td>0.0495</td>\n",
       "      <td>20.1856</td>\n",
       "      <td>100022.00</td>\n",
       "    </tr>\n",
       "    <tr>\n",
       "      <th>2</th>\n",
       "      <td>50</td>\n",
       "      <td>4155.0</td>\n",
       "      <td>1</td>\n",
       "      <td>100021.0</td>\n",
       "      <td>0.0241</td>\n",
       "      <td>41.5413</td>\n",
       "      <td>100021.00</td>\n",
       "    </tr>\n",
       "    <tr>\n",
       "      <th>1</th>\n",
       "      <td>20</td>\n",
       "      <td>9222.0</td>\n",
       "      <td>5</td>\n",
       "      <td>100010.0</td>\n",
       "      <td>0.0542</td>\n",
       "      <td>92.2108</td>\n",
       "      <td>20002.00</td>\n",
       "    </tr>\n",
       "    <tr>\n",
       "      <th>0</th>\n",
       "      <td>10</td>\n",
       "      <td>13364.0</td>\n",
       "      <td>8</td>\n",
       "      <td>76078.0</td>\n",
       "      <td>0.0599</td>\n",
       "      <td>175.6618</td>\n",
       "      <td>9509.75</td>\n",
       "    </tr>\n",
       "  </tbody>\n",
       "</table>\n",
       "</div>"
      ],
      "text/plain": [
       "   constand_bid  impressions  click      cost     CTR       CPM        CPC\n",
       "7           300       1294.0      1  100004.0  0.0773   12.9395  100004.00\n",
       "6           250       1365.0      1  100023.0  0.0733   13.6469  100023.00\n",
       "5           200       1483.0      1  100056.0  0.0674   14.8217  100056.00\n",
       "4           150       1725.0      1  100044.0  0.0580   17.2424  100044.00\n",
       "3           100       2019.0      1  100022.0  0.0495   20.1856  100022.00\n",
       "2            50       4155.0      1  100021.0  0.0241   41.5413  100021.00\n",
       "1            20       9222.0      5  100010.0  0.0542   92.2108   20002.00\n",
       "0            10      13364.0      8   76078.0  0.0599  175.6618    9509.75"
      ]
     },
     "execution_count": 102,
     "metadata": {},
     "output_type": "execute_result"
    }
   ],
   "source": [
    "df_CPM"
   ]
  },
  {
   "cell_type": "code",
   "execution_count": 134,
   "metadata": {
    "collapsed": true
   },
   "outputs": [],
   "source": [
    "def random_bid(bid):\n",
    "    impression = 0.0\n",
    "    clicks = 0\n",
    "    cost = 0.0\n",
    "    budget = 100000\n",
    "    bid = randrange(bid)\n",
    "\n",
    "    \n",
    "    for click, pay_price in validation[['click','payprice']].values:\n",
    "            if bid > pay_price:\n",
    "                impression += 1.0\n",
    "                clicks += click\n",
    "                cost += pay_price\n",
    "            if cost>= budget:\n",
    "                break\n",
    "        \n",
    "    return bid,impression, clicks, cost"
   ]
  },
  {
   "cell_type": "code",
   "execution_count": 138,
   "metadata": {
    "collapsed": false
   },
   "outputs": [
    {
     "data": {
      "text/plain": [
       "(38, 5049.0, 3, 100000.0)"
      ]
     },
     "execution_count": 138,
     "metadata": {},
     "output_type": "execute_result"
    }
   ],
   "source": [
    "random_bid(50)"
   ]
  },
  {
   "cell_type": "code",
   "execution_count": 135,
   "metadata": {
    "collapsed": true
   },
   "outputs": [],
   "source": [
    "random = [20,50,100,150,200,250,300]"
   ]
  },
  {
   "cell_type": "code",
   "execution_count": 147,
   "metadata": {
    "collapsed": false
   },
   "outputs": [],
   "source": [
    "df_rand = pd.DataFrame()\n",
    "imp_temp = []\n",
    "cost_temp = []\n",
    "click_temp = []\n",
    "bid_temp = []\n",
    "\n",
    "for i in random:\n",
    "    [bid,impression,click,cost] = random_bid(i)\n",
    "    imp_temp.append(impression)\n",
    "    cost_temp.append(cost)\n",
    "    click_temp.append(click)\n",
    "    bid_temp.append(bid)\n",
    "df_rand[\"bid\"]=bid_temp\n",
    "df_rand[\"impressions\"]=imp_temp\n",
    "df_rand[\"click\"]=click_temp\n",
    "df_rand[\"cost\"]= cost_temp\n",
    "df_rand[\"CTR\"]= (df[\"click\"]/df[\"impressions\"]*100).round(4)\n",
    "df_rand[\"CPM\"]= (df[\"impressions\"]/df[\"cost\"]*1000).round(4)\n",
    "df_rand[\"CPC\"]= (df[\"cost\"]/df[\"click\"]).round(4)"
   ]
  },
  {
   "cell_type": "code",
   "execution_count": 148,
   "metadata": {
    "collapsed": false
   },
   "outputs": [
    {
     "data": {
      "text/html": [
       "<div>\n",
       "<table border=\"1\" class=\"dataframe\">\n",
       "  <thead>\n",
       "    <tr style=\"text-align: right;\">\n",
       "      <th></th>\n",
       "      <th>bid</th>\n",
       "      <th>impressions</th>\n",
       "      <th>click</th>\n",
       "      <th>cost</th>\n",
       "      <th>CTR</th>\n",
       "      <th>CPM</th>\n",
       "      <th>CPC</th>\n",
       "    </tr>\n",
       "  </thead>\n",
       "  <tbody>\n",
       "    <tr>\n",
       "      <th>6</th>\n",
       "      <td>25</td>\n",
       "      <td>6591.0</td>\n",
       "      <td>3</td>\n",
       "      <td>100003.0</td>\n",
       "      <td>0.0733</td>\n",
       "      <td>13.6469</td>\n",
       "      <td>100023.00</td>\n",
       "    </tr>\n",
       "    <tr>\n",
       "      <th>5</th>\n",
       "      <td>183</td>\n",
       "      <td>1543.0</td>\n",
       "      <td>1</td>\n",
       "      <td>100040.0</td>\n",
       "      <td>0.0674</td>\n",
       "      <td>14.8217</td>\n",
       "      <td>100056.00</td>\n",
       "    </tr>\n",
       "    <tr>\n",
       "      <th>0</th>\n",
       "      <td>11</td>\n",
       "      <td>15627.0</td>\n",
       "      <td>7</td>\n",
       "      <td>100001.0</td>\n",
       "      <td>0.0599</td>\n",
       "      <td>175.6618</td>\n",
       "      <td>9509.75</td>\n",
       "    </tr>\n",
       "    <tr>\n",
       "      <th>4</th>\n",
       "      <td>156</td>\n",
       "      <td>1696.0</td>\n",
       "      <td>1</td>\n",
       "      <td>100049.0</td>\n",
       "      <td>0.0580</td>\n",
       "      <td>17.2424</td>\n",
       "      <td>100044.00</td>\n",
       "    </tr>\n",
       "    <tr>\n",
       "      <th>1</th>\n",
       "      <td>9</td>\n",
       "      <td>12051.0</td>\n",
       "      <td>8</td>\n",
       "      <td>64261.0</td>\n",
       "      <td>0.0542</td>\n",
       "      <td>92.2108</td>\n",
       "      <td>20002.00</td>\n",
       "    </tr>\n",
       "    <tr>\n",
       "      <th>3</th>\n",
       "      <td>25</td>\n",
       "      <td>6591.0</td>\n",
       "      <td>3</td>\n",
       "      <td>100003.0</td>\n",
       "      <td>0.0495</td>\n",
       "      <td>20.1856</td>\n",
       "      <td>100022.00</td>\n",
       "    </tr>\n",
       "    <tr>\n",
       "      <th>2</th>\n",
       "      <td>76</td>\n",
       "      <td>2519.0</td>\n",
       "      <td>1</td>\n",
       "      <td>100024.0</td>\n",
       "      <td>0.0241</td>\n",
       "      <td>41.5413</td>\n",
       "      <td>100021.00</td>\n",
       "    </tr>\n",
       "  </tbody>\n",
       "</table>\n",
       "</div>"
      ],
      "text/plain": [
       "   bid  impressions  click      cost     CTR       CPM        CPC\n",
       "6   25       6591.0      3  100003.0  0.0733   13.6469  100023.00\n",
       "5  183       1543.0      1  100040.0  0.0674   14.8217  100056.00\n",
       "0   11      15627.0      7  100001.0  0.0599  175.6618    9509.75\n",
       "4  156       1696.0      1  100049.0  0.0580   17.2424  100044.00\n",
       "1    9      12051.0      8   64261.0  0.0542   92.2108   20002.00\n",
       "3   25       6591.0      3  100003.0  0.0495   20.1856  100022.00\n",
       "2   76       2519.0      1  100024.0  0.0241   41.5413  100021.00"
      ]
     },
     "execution_count": 148,
     "metadata": {},
     "output_type": "execute_result"
    }
   ],
   "source": [
    "df_rand = df_rand.sort_values(\"CTR\",ascending=False)\n",
    "df_rand"
   ]
  },
  {
   "cell_type": "markdown",
   "metadata": {},
   "source": [
    "# 3. Linear bidding strategy"
   ]
  },
  {
   "cell_type": "code",
   "execution_count": 121,
   "metadata": {
    "collapsed": false
   },
   "outputs": [],
   "source": [
    "from graphlab import model_parameter_search\n",
    "import graphlab.toolkits.feature_engineering as fe\n"
   ]
  },
  {
   "cell_type": "code",
   "execution_count": 123,
   "metadata": {
    "collapsed": false
   },
   "outputs": [
    {
     "data": {
      "text/html": [
       "<pre>Finished parsing file C:\\Users\\JayZheng\\Documents\\Data Science\\web economics\\assignment 1\\dataset\\train.csv</pre>"
      ],
      "text/plain": [
       "Finished parsing file C:\\Users\\JayZheng\\Documents\\Data Science\\web economics\\assignment 1\\dataset\\train.csv"
      ]
     },
     "metadata": {},
     "output_type": "display_data"
    },
    {
     "data": {
      "text/html": [
       "<pre>Parsing completed. Parsed 100 lines in 1.01195 secs.</pre>"
      ],
      "text/plain": [
       "Parsing completed. Parsed 100 lines in 1.01195 secs."
      ]
     },
     "metadata": {},
     "output_type": "display_data"
    },
    {
     "name": "stdout",
     "output_type": "stream",
     "text": [
      "------------------------------------------------------\n",
      "Inferred types from first 100 line(s) of file as \n",
      "column_type_hints=[long,long,long,str,long,str,str,str,long,long,str,str,str,str,str,long,long,str,str,long,str,long,long,str,long,str]\n",
      "If parsing fails due to incorrect types, you can correct\n",
      "the inferred type list above and pass it to read_csv in\n",
      "the column_type_hints argument\n",
      "------------------------------------------------------\n"
     ]
    },
    {
     "data": {
      "text/html": [
       "<pre>Read 186256 lines. Lines per second: 178764</pre>"
      ],
      "text/plain": [
       "Read 186256 lines. Lines per second: 178764"
      ]
     },
     "metadata": {},
     "output_type": "display_data"
    },
    {
     "data": {
      "text/html": [
       "<pre>Read 1676081 lines. Lines per second: 174035</pre>"
      ],
      "text/plain": [
       "Read 1676081 lines. Lines per second: 174035"
      ]
     },
     "metadata": {},
     "output_type": "display_data"
    },
    {
     "data": {
      "text/html": [
       "<pre>Finished parsing file C:\\Users\\JayZheng\\Documents\\Data Science\\web economics\\assignment 1\\dataset\\train.csv</pre>"
      ],
      "text/plain": [
       "Finished parsing file C:\\Users\\JayZheng\\Documents\\Data Science\\web economics\\assignment 1\\dataset\\train.csv"
      ]
     },
     "metadata": {},
     "output_type": "display_data"
    },
    {
     "data": {
      "text/html": [
       "<pre>Parsing completed. Parsed 2697738 lines in 13.718 secs.</pre>"
      ],
      "text/plain": [
       "Parsing completed. Parsed 2697738 lines in 13.718 secs."
      ]
     },
     "metadata": {},
     "output_type": "display_data"
    },
    {
     "data": {
      "text/html": [
       "<pre>Finished parsing file C:\\Users\\JayZheng\\Documents\\Data Science\\web economics\\assignment 1\\dataset\\validation.csv</pre>"
      ],
      "text/plain": [
       "Finished parsing file C:\\Users\\JayZheng\\Documents\\Data Science\\web economics\\assignment 1\\dataset\\validation.csv"
      ]
     },
     "metadata": {},
     "output_type": "display_data"
    },
    {
     "data": {
      "text/html": [
       "<pre>Parsing completed. Parsed 100 lines in 0.852106 secs.</pre>"
      ],
      "text/plain": [
       "Parsing completed. Parsed 100 lines in 0.852106 secs."
      ]
     },
     "metadata": {},
     "output_type": "display_data"
    },
    {
     "name": "stdout",
     "output_type": "stream",
     "text": [
      "------------------------------------------------------\n",
      "Inferred types from first 100 line(s) of file as \n",
      "column_type_hints=[long,long,long,str,long,str,str,str,long,long,str,str,str,str,str,long,long,str,str,long,str,long,long,str,long,str]\n",
      "If parsing fails due to incorrect types, you can correct\n",
      "the inferred type list above and pass it to read_csv in\n",
      "the column_type_hints argument\n",
      "------------------------------------------------------\n"
     ]
    },
    {
     "data": {
      "text/html": [
       "<pre>Read 186177 lines. Lines per second: 215582</pre>"
      ],
      "text/plain": [
       "Read 186177 lines. Lines per second: 215582"
      ]
     },
     "metadata": {},
     "output_type": "display_data"
    },
    {
     "data": {
      "text/html": [
       "<pre>Finished parsing file C:\\Users\\JayZheng\\Documents\\Data Science\\web economics\\assignment 1\\dataset\\validation.csv</pre>"
      ],
      "text/plain": [
       "Finished parsing file C:\\Users\\JayZheng\\Documents\\Data Science\\web economics\\assignment 1\\dataset\\validation.csv"
      ]
     },
     "metadata": {},
     "output_type": "display_data"
    },
    {
     "data": {
      "text/html": [
       "<pre>Parsing completed. Parsed 299749 lines in 1.16206 secs.</pre>"
      ],
      "text/plain": [
       "Parsing completed. Parsed 299749 lines in 1.16206 secs."
      ]
     },
     "metadata": {},
     "output_type": "display_data"
    }
   ],
   "source": [
    "train = gl.SFrame.read_csv(\"C:/Users/JayZheng/Documents/Data Science/web economics/assignment 1/dataset/train.csv\")\n",
    "validation = gl.SFrame.read_csv(\"C:/Users/JayZheng/Documents/Data Science/web economics/assignment 1/dataset/validation.csv\")"
   ]
  },
  {
   "cell_type": "code",
   "execution_count": 124,
   "metadata": {
    "collapsed": false
   },
   "outputs": [
    {
     "data": {
      "text/html": [
       "<div style=\"max-height:1000px;max-width:1500px;overflow:auto;\"><table frame=\"box\" rules=\"cols\">\n",
       "    <tr>\n",
       "        <th style=\"padding-left: 1em; padding-right: 1em; text-align: center\">click</th>\n",
       "        <th style=\"padding-left: 1em; padding-right: 1em; text-align: center\">weekday</th>\n",
       "        <th style=\"padding-left: 1em; padding-right: 1em; text-align: center\">hour</th>\n",
       "        <th style=\"padding-left: 1em; padding-right: 1em; text-align: center\">useragent</th>\n",
       "        <th style=\"padding-left: 1em; padding-right: 1em; text-align: center\">adexchange</th>\n",
       "        <th style=\"padding-left: 1em; padding-right: 1em; text-align: center\">slotwidth</th>\n",
       "        <th style=\"padding-left: 1em; padding-right: 1em; text-align: center\">slotheight</th>\n",
       "        <th style=\"padding-left: 1em; padding-right: 1em; text-align: center\">slotvisibility</th>\n",
       "        <th style=\"padding-left: 1em; padding-right: 1em; text-align: center\">slotformat</th>\n",
       "        <th style=\"padding-left: 1em; padding-right: 1em; text-align: center\">slotprice</th>\n",
       "    </tr>\n",
       "    <tr>\n",
       "        <td style=\"padding-left: 1em; padding-right: 1em; text-align: center; vertical-align: top\">0</td>\n",
       "        <td style=\"padding-left: 1em; padding-right: 1em; text-align: center; vertical-align: top\">1</td>\n",
       "        <td style=\"padding-left: 1em; padding-right: 1em; text-align: center; vertical-align: top\">14</td>\n",
       "        <td style=\"padding-left: 1em; padding-right: 1em; text-align: center; vertical-align: top\">windows_ie</td>\n",
       "        <td style=\"padding-left: 1em; padding-right: 1em; text-align: center; vertical-align: top\">2</td>\n",
       "        <td style=\"padding-left: 1em; padding-right: 1em; text-align: center; vertical-align: top\">468</td>\n",
       "        <td style=\"padding-left: 1em; padding-right: 1em; text-align: center; vertical-align: top\">60</td>\n",
       "        <td style=\"padding-left: 1em; padding-right: 1em; text-align: center; vertical-align: top\">1</td>\n",
       "        <td style=\"padding-left: 1em; padding-right: 1em; text-align: center; vertical-align: top\">0</td>\n",
       "        <td style=\"padding-left: 1em; padding-right: 1em; text-align: center; vertical-align: top\">5</td>\n",
       "    </tr>\n",
       "    <tr>\n",
       "        <td style=\"padding-left: 1em; padding-right: 1em; text-align: center; vertical-align: top\">0</td>\n",
       "        <td style=\"padding-left: 1em; padding-right: 1em; text-align: center; vertical-align: top\">2</td>\n",
       "        <td style=\"padding-left: 1em; padding-right: 1em; text-align: center; vertical-align: top\">20</td>\n",
       "        <td style=\"padding-left: 1em; padding-right: 1em; text-align: center; vertical-align: top\">windows_chrome</td>\n",
       "        <td style=\"padding-left: 1em; padding-right: 1em; text-align: center; vertical-align: top\">2</td>\n",
       "        <td style=\"padding-left: 1em; padding-right: 1em; text-align: center; vertical-align: top\">250</td>\n",
       "        <td style=\"padding-left: 1em; padding-right: 1em; text-align: center; vertical-align: top\">250</td>\n",
       "        <td style=\"padding-left: 1em; padding-right: 1em; text-align: center; vertical-align: top\">1</td>\n",
       "        <td style=\"padding-left: 1em; padding-right: 1em; text-align: center; vertical-align: top\">0</td>\n",
       "        <td style=\"padding-left: 1em; padding-right: 1em; text-align: center; vertical-align: top\">5</td>\n",
       "    </tr>\n",
       "    <tr>\n",
       "        <td style=\"padding-left: 1em; padding-right: 1em; text-align: center; vertical-align: top\">0</td>\n",
       "        <td style=\"padding-left: 1em; padding-right: 1em; text-align: center; vertical-align: top\">5</td>\n",
       "        <td style=\"padding-left: 1em; padding-right: 1em; text-align: center; vertical-align: top\">9</td>\n",
       "        <td style=\"padding-left: 1em; padding-right: 1em; text-align: center; vertical-align: top\">windows_ie</td>\n",
       "        <td style=\"padding-left: 1em; padding-right: 1em; text-align: center; vertical-align: top\">1</td>\n",
       "        <td style=\"padding-left: 1em; padding-right: 1em; text-align: center; vertical-align: top\">336</td>\n",
       "        <td style=\"padding-left: 1em; padding-right: 1em; text-align: center; vertical-align: top\">280</td>\n",
       "        <td style=\"padding-left: 1em; padding-right: 1em; text-align: center; vertical-align: top\">0</td>\n",
       "        <td style=\"padding-left: 1em; padding-right: 1em; text-align: center; vertical-align: top\">1</td>\n",
       "        <td style=\"padding-left: 1em; padding-right: 1em; text-align: center; vertical-align: top\">0</td>\n",
       "    </tr>\n",
       "    <tr>\n",
       "        <td style=\"padding-left: 1em; padding-right: 1em; text-align: center; vertical-align: top\">0</td>\n",
       "        <td style=\"padding-left: 1em; padding-right: 1em; text-align: center; vertical-align: top\">2</td>\n",
       "        <td style=\"padding-left: 1em; padding-right: 1em; text-align: center; vertical-align: top\">20</td>\n",
       "        <td style=\"padding-left: 1em; padding-right: 1em; text-align: center; vertical-align: top\">windows_ie</td>\n",
       "        <td style=\"padding-left: 1em; padding-right: 1em; text-align: center; vertical-align: top\">2</td>\n",
       "        <td style=\"padding-left: 1em; padding-right: 1em; text-align: center; vertical-align: top\">728</td>\n",
       "        <td style=\"padding-left: 1em; padding-right: 1em; text-align: center; vertical-align: top\">90</td>\n",
       "        <td style=\"padding-left: 1em; padding-right: 1em; text-align: center; vertical-align: top\">0</td>\n",
       "        <td style=\"padding-left: 1em; padding-right: 1em; text-align: center; vertical-align: top\">0</td>\n",
       "        <td style=\"padding-left: 1em; padding-right: 1em; text-align: center; vertical-align: top\">162</td>\n",
       "    </tr>\n",
       "    <tr>\n",
       "        <td style=\"padding-left: 1em; padding-right: 1em; text-align: center; vertical-align: top\">0</td>\n",
       "        <td style=\"padding-left: 1em; padding-right: 1em; text-align: center; vertical-align: top\">6</td>\n",
       "        <td style=\"padding-left: 1em; padding-right: 1em; text-align: center; vertical-align: top\">9</td>\n",
       "        <td style=\"padding-left: 1em; padding-right: 1em; text-align: center; vertical-align: top\">windows_chrome</td>\n",
       "        <td style=\"padding-left: 1em; padding-right: 1em; text-align: center; vertical-align: top\">1</td>\n",
       "        <td style=\"padding-left: 1em; padding-right: 1em; text-align: center; vertical-align: top\">950</td>\n",
       "        <td style=\"padding-left: 1em; padding-right: 1em; text-align: center; vertical-align: top\">90</td>\n",
       "        <td style=\"padding-left: 1em; padding-right: 1em; text-align: center; vertical-align: top\">0</td>\n",
       "        <td style=\"padding-left: 1em; padding-right: 1em; text-align: center; vertical-align: top\">1</td>\n",
       "        <td style=\"padding-left: 1em; padding-right: 1em; text-align: center; vertical-align: top\">0</td>\n",
       "    </tr>\n",
       "    <tr>\n",
       "        <td style=\"padding-left: 1em; padding-right: 1em; text-align: center; vertical-align: top\">0</td>\n",
       "        <td style=\"padding-left: 1em; padding-right: 1em; text-align: center; vertical-align: top\">3</td>\n",
       "        <td style=\"padding-left: 1em; padding-right: 1em; text-align: center; vertical-align: top\">22</td>\n",
       "        <td style=\"padding-left: 1em; padding-right: 1em; text-align: center; vertical-align: top\">windows_ie</td>\n",
       "        <td style=\"padding-left: 1em; padding-right: 1em; text-align: center; vertical-align: top\">1</td>\n",
       "        <td style=\"padding-left: 1em; padding-right: 1em; text-align: center; vertical-align: top\">300</td>\n",
       "        <td style=\"padding-left: 1em; padding-right: 1em; text-align: center; vertical-align: top\">250</td>\n",
       "        <td style=\"padding-left: 1em; padding-right: 1em; text-align: center; vertical-align: top\">1</td>\n",
       "        <td style=\"padding-left: 1em; padding-right: 1em; text-align: center; vertical-align: top\">1</td>\n",
       "        <td style=\"padding-left: 1em; padding-right: 1em; text-align: center; vertical-align: top\">0</td>\n",
       "    </tr>\n",
       "    <tr>\n",
       "        <td style=\"padding-left: 1em; padding-right: 1em; text-align: center; vertical-align: top\">0</td>\n",
       "        <td style=\"padding-left: 1em; padding-right: 1em; text-align: center; vertical-align: top\">5</td>\n",
       "        <td style=\"padding-left: 1em; padding-right: 1em; text-align: center; vertical-align: top\">16</td>\n",
       "        <td style=\"padding-left: 1em; padding-right: 1em; text-align: center; vertical-align: top\">windows_chrome</td>\n",
       "        <td style=\"padding-left: 1em; padding-right: 1em; text-align: center; vertical-align: top\">2</td>\n",
       "        <td style=\"padding-left: 1em; padding-right: 1em; text-align: center; vertical-align: top\">728</td>\n",
       "        <td style=\"padding-left: 1em; padding-right: 1em; text-align: center; vertical-align: top\">90</td>\n",
       "        <td style=\"padding-left: 1em; padding-right: 1em; text-align: center; vertical-align: top\">OtherView</td>\n",
       "        <td style=\"padding-left: 1em; padding-right: 1em; text-align: center; vertical-align: top\">Na</td>\n",
       "        <td style=\"padding-left: 1em; padding-right: 1em; text-align: center; vertical-align: top\">5</td>\n",
       "    </tr>\n",
       "    <tr>\n",
       "        <td style=\"padding-left: 1em; padding-right: 1em; text-align: center; vertical-align: top\">0</td>\n",
       "        <td style=\"padding-left: 1em; padding-right: 1em; text-align: center; vertical-align: top\">0</td>\n",
       "        <td style=\"padding-left: 1em; padding-right: 1em; text-align: center; vertical-align: top\">21</td>\n",
       "        <td style=\"padding-left: 1em; padding-right: 1em; text-align: center; vertical-align: top\">windows_chrome</td>\n",
       "        <td style=\"padding-left: 1em; padding-right: 1em; text-align: center; vertical-align: top\">4</td>\n",
       "        <td style=\"padding-left: 1em; padding-right: 1em; text-align: center; vertical-align: top\">960</td>\n",
       "        <td style=\"padding-left: 1em; padding-right: 1em; text-align: center; vertical-align: top\">90</td>\n",
       "        <td style=\"padding-left: 1em; padding-right: 1em; text-align: center; vertical-align: top\">FirstView</td>\n",
       "        <td style=\"padding-left: 1em; padding-right: 1em; text-align: center; vertical-align: top\">Na</td>\n",
       "        <td style=\"padding-left: 1em; padding-right: 1em; text-align: center; vertical-align: top\">0</td>\n",
       "    </tr>\n",
       "    <tr>\n",
       "        <td style=\"padding-left: 1em; padding-right: 1em; text-align: center; vertical-align: top\">0</td>\n",
       "        <td style=\"padding-left: 1em; padding-right: 1em; text-align: center; vertical-align: top\">4</td>\n",
       "        <td style=\"padding-left: 1em; padding-right: 1em; text-align: center; vertical-align: top\">17</td>\n",
       "        <td style=\"padding-left: 1em; padding-right: 1em; text-align: center; vertical-align: top\">windows_ie</td>\n",
       "        <td style=\"padding-left: 1em; padding-right: 1em; text-align: center; vertical-align: top\">2</td>\n",
       "        <td style=\"padding-left: 1em; padding-right: 1em; text-align: center; vertical-align: top\">336</td>\n",
       "        <td style=\"padding-left: 1em; padding-right: 1em; text-align: center; vertical-align: top\">280</td>\n",
       "        <td style=\"padding-left: 1em; padding-right: 1em; text-align: center; vertical-align: top\">2</td>\n",
       "        <td style=\"padding-left: 1em; padding-right: 1em; text-align: center; vertical-align: top\">0</td>\n",
       "        <td style=\"padding-left: 1em; padding-right: 1em; text-align: center; vertical-align: top\">5</td>\n",
       "    </tr>\n",
       "    <tr>\n",
       "        <td style=\"padding-left: 1em; padding-right: 1em; text-align: center; vertical-align: top\">0</td>\n",
       "        <td style=\"padding-left: 1em; padding-right: 1em; text-align: center; vertical-align: top\">0</td>\n",
       "        <td style=\"padding-left: 1em; padding-right: 1em; text-align: center; vertical-align: top\">17</td>\n",
       "        <td style=\"padding-left: 1em; padding-right: 1em; text-align: center; vertical-align: top\">windows_ie</td>\n",
       "        <td style=\"padding-left: 1em; padding-right: 1em; text-align: center; vertical-align: top\">3</td>\n",
       "        <td style=\"padding-left: 1em; padding-right: 1em; text-align: center; vertical-align: top\">1000</td>\n",
       "        <td style=\"padding-left: 1em; padding-right: 1em; text-align: center; vertical-align: top\">90</td>\n",
       "        <td style=\"padding-left: 1em; padding-right: 1em; text-align: center; vertical-align: top\">0</td>\n",
       "        <td style=\"padding-left: 1em; padding-right: 1em; text-align: center; vertical-align: top\">0</td>\n",
       "        <td style=\"padding-left: 1em; padding-right: 1em; text-align: center; vertical-align: top\">31</td>\n",
       "    </tr>\n",
       "</table>\n",
       "<table frame=\"box\" rules=\"cols\">\n",
       "    <tr>\n",
       "        <th style=\"padding-left: 1em; padding-right: 1em; text-align: center\">advertiser</th>\n",
       "        <th style=\"padding-left: 1em; padding-right: 1em; text-align: center\">usertag</th>\n",
       "    </tr>\n",
       "    <tr>\n",
       "        <td style=\"padding-left: 1em; padding-right: 1em; text-align: center; vertical-align: top\">1458</td>\n",
       "        <td style=\"padding-left: 1em; padding-right: 1em; text-align: center; vertical-align: top\">13866,10063</td>\n",
       "    </tr>\n",
       "    <tr>\n",
       "        <td style=\"padding-left: 1em; padding-right: 1em; text-align: center; vertical-align: top\">3476</td>\n",
       "        <td style=\"padding-left: 1em; padding-right: 1em; text-align: center; vertical-align: top\">10063,10111</td>\n",
       "    </tr>\n",
       "    <tr>\n",
       "        <td style=\"padding-left: 1em; padding-right: 1em; text-align: center; vertical-align: top\">1458</td>\n",
       "        <td style=\"padding-left: 1em; padding-right: 1em; text-align: center; vertical-align: top\">10063</td>\n",
       "    </tr>\n",
       "    <tr>\n",
       "        <td style=\"padding-left: 1em; padding-right: 1em; text-align: center; vertical-align: top\">3427</td>\n",
       "        <td style=\"padding-left: 1em; padding-right: 1em; text-align: center; vertical-align: top\">10077,10111</td>\n",
       "    </tr>\n",
       "    <tr>\n",
       "        <td style=\"padding-left: 1em; padding-right: 1em; text-align: center; vertical-align: top\">3476</td>\n",
       "        <td style=\"padding-left: 1em; padding-right: 1em; text-align: center; vertical-align: top\">10031,13042,10006,10057,1<br>3866,10063,14273,1005 ...</td>\n",
       "    </tr>\n",
       "    <tr>\n",
       "        <td style=\"padding-left: 1em; padding-right: 1em; text-align: center; vertical-align: top\">3358</td>\n",
       "        <td style=\"padding-left: 1em; padding-right: 1em; text-align: center; vertical-align: top\">10063</td>\n",
       "    </tr>\n",
       "    <tr>\n",
       "        <td style=\"padding-left: 1em; padding-right: 1em; text-align: center; vertical-align: top\">2259</td>\n",
       "        <td style=\"padding-left: 1em; padding-right: 1em; text-align: center; vertical-align: top\">13866,10006,10111,10063</td>\n",
       "    </tr>\n",
       "    <tr>\n",
       "        <td style=\"padding-left: 1em; padding-right: 1em; text-align: center; vertical-align: top\">2821</td>\n",
       "        <td style=\"padding-left: 1em; padding-right: 1em; text-align: center; vertical-align: top\">13042,10024,10006,10110,1<br>0031,10063 ...</td>\n",
       "    </tr>\n",
       "    <tr>\n",
       "        <td style=\"padding-left: 1em; padding-right: 1em; text-align: center; vertical-align: top\">3386</td>\n",
       "        <td style=\"padding-left: 1em; padding-right: 1em; text-align: center; vertical-align: top\">null</td>\n",
       "    </tr>\n",
       "    <tr>\n",
       "        <td style=\"padding-left: 1em; padding-right: 1em; text-align: center; vertical-align: top\">1458</td>\n",
       "        <td style=\"padding-left: 1em; padding-right: 1em; text-align: center; vertical-align: top\">13403,10057,10063,10083,1<br>0006,10110 ...</td>\n",
       "    </tr>\n",
       "</table>\n",
       "[2697738 rows x 12 columns]<br/>Note: Only the head of the SFrame is printed.<br/>You can use print_rows(num_rows=m, num_columns=n) to print more rows and columns.\n",
       "</div>"
      ],
      "text/plain": [
       "Columns:\n",
       "\tclick\tint\n",
       "\tweekday\tint\n",
       "\thour\tint\n",
       "\tuseragent\tstr\n",
       "\tadexchange\tstr\n",
       "\tslotwidth\tint\n",
       "\tslotheight\tint\n",
       "\tslotvisibility\tstr\n",
       "\tslotformat\tstr\n",
       "\tslotprice\tint\n",
       "\tadvertiser\tint\n",
       "\tusertag\tstr\n",
       "\n",
       "Rows: 2697738\n",
       "\n",
       "Data:\n",
       "+-------+---------+------+----------------+------------+-----------+------------+\n",
       "| click | weekday | hour |   useragent    | adexchange | slotwidth | slotheight |\n",
       "+-------+---------+------+----------------+------------+-----------+------------+\n",
       "|   0   |    1    |  14  |   windows_ie   |     2      |    468    |     60     |\n",
       "|   0   |    2    |  20  | windows_chrome |     2      |    250    |    250     |\n",
       "|   0   |    5    |  9   |   windows_ie   |     1      |    336    |    280     |\n",
       "|   0   |    2    |  20  |   windows_ie   |     2      |    728    |     90     |\n",
       "|   0   |    6    |  9   | windows_chrome |     1      |    950    |     90     |\n",
       "|   0   |    3    |  22  |   windows_ie   |     1      |    300    |    250     |\n",
       "|   0   |    5    |  16  | windows_chrome |     2      |    728    |     90     |\n",
       "|   0   |    0    |  21  | windows_chrome |     4      |    960    |     90     |\n",
       "|   0   |    4    |  17  |   windows_ie   |     2      |    336    |    280     |\n",
       "|   0   |    0    |  17  |   windows_ie   |     3      |    1000   |     90     |\n",
       "+-------+---------+------+----------------+------------+-----------+------------+\n",
       "+----------------+------------+-----------+------------+\n",
       "| slotvisibility | slotformat | slotprice | advertiser |\n",
       "+----------------+------------+-----------+------------+\n",
       "|       1        |     0      |     5     |    1458    |\n",
       "|       1        |     0      |     5     |    3476    |\n",
       "|       0        |     1      |     0     |    1458    |\n",
       "|       0        |     0      |    162    |    3427    |\n",
       "|       0        |     1      |     0     |    3476    |\n",
       "|       1        |     1      |     0     |    3358    |\n",
       "|   OtherView    |     Na     |     5     |    2259    |\n",
       "|   FirstView    |     Na     |     0     |    2821    |\n",
       "|       2        |     0      |     5     |    3386    |\n",
       "|       0        |     0      |     31    |    1458    |\n",
       "+----------------+------------+-----------+------------+\n",
       "+-------------------------------+\n",
       "|            usertag            |\n",
       "+-------------------------------+\n",
       "|          13866,10063          |\n",
       "|          10063,10111          |\n",
       "|             10063             |\n",
       "|          10077,10111          |\n",
       "| 10031,13042,10006,10057,13... |\n",
       "|             10063             |\n",
       "|    13866,10006,10111,10063    |\n",
       "| 13042,10024,10006,10110,10... |\n",
       "|              null             |\n",
       "| 13403,10057,10063,10083,10... |\n",
       "+-------------------------------+\n",
       "[2697738 rows x 12 columns]\n",
       "Note: Only the head of the SFrame is printed.\n",
       "You can use print_rows(num_rows=m, num_columns=n) to print more rows and columns."
      ]
     },
     "execution_count": 124,
     "metadata": {},
     "output_type": "execute_result"
    }
   ],
   "source": [
    "train.remove_columns([\n",
    "                                'bidprice',\n",
    "                                'payprice',\n",
    "                                'bidid',\n",
    "                               'IP',\n",
    "                              'city',\n",
    "                               'domain',\n",
    "                               'url',\n",
    "                               'urlid',\n",
    "                              'region',\n",
    "                              'userid',\n",
    "                              'logtype',\n",
    "                              'creative',\n",
    "                              'keypage',\n",
    "                              'slotid'])"
   ]
  },
  {
   "cell_type": "code",
   "execution_count": 125,
   "metadata": {
    "collapsed": false
   },
   "outputs": [
    {
     "data": {
      "text/html": [
       "<div style=\"max-height:1000px;max-width:1500px;overflow:auto;\"><table frame=\"box\" rules=\"cols\">\n",
       "    <tr>\n",
       "        <th style=\"padding-left: 1em; padding-right: 1em; text-align: center\">click</th>\n",
       "        <th style=\"padding-left: 1em; padding-right: 1em; text-align: center\">weekday</th>\n",
       "        <th style=\"padding-left: 1em; padding-right: 1em; text-align: center\">hour</th>\n",
       "        <th style=\"padding-left: 1em; padding-right: 1em; text-align: center\">useragent</th>\n",
       "        <th style=\"padding-left: 1em; padding-right: 1em; text-align: center\">adexchange</th>\n",
       "        <th style=\"padding-left: 1em; padding-right: 1em; text-align: center\">slotwidth</th>\n",
       "        <th style=\"padding-left: 1em; padding-right: 1em; text-align: center\">slotheight</th>\n",
       "        <th style=\"padding-left: 1em; padding-right: 1em; text-align: center\">slotvisibility</th>\n",
       "        <th style=\"padding-left: 1em; padding-right: 1em; text-align: center\">slotformat</th>\n",
       "        <th style=\"padding-left: 1em; padding-right: 1em; text-align: center\">slotprice</th>\n",
       "    </tr>\n",
       "    <tr>\n",
       "        <td style=\"padding-left: 1em; padding-right: 1em; text-align: center; vertical-align: top\">0</td>\n",
       "        <td style=\"padding-left: 1em; padding-right: 1em; text-align: center; vertical-align: top\">5</td>\n",
       "        <td style=\"padding-left: 1em; padding-right: 1em; text-align: center; vertical-align: top\">14</td>\n",
       "        <td style=\"padding-left: 1em; padding-right: 1em; text-align: center; vertical-align: top\">windows_ie</td>\n",
       "        <td style=\"padding-left: 1em; padding-right: 1em; text-align: center; vertical-align: top\">1</td>\n",
       "        <td style=\"padding-left: 1em; padding-right: 1em; text-align: center; vertical-align: top\">300</td>\n",
       "        <td style=\"padding-left: 1em; padding-right: 1em; text-align: center; vertical-align: top\">250</td>\n",
       "        <td style=\"padding-left: 1em; padding-right: 1em; text-align: center; vertical-align: top\">0</td>\n",
       "        <td style=\"padding-left: 1em; padding-right: 1em; text-align: center; vertical-align: top\">1</td>\n",
       "        <td style=\"padding-left: 1em; padding-right: 1em; text-align: center; vertical-align: top\">0</td>\n",
       "    </tr>\n",
       "    <tr>\n",
       "        <td style=\"padding-left: 1em; padding-right: 1em; text-align: center; vertical-align: top\">0</td>\n",
       "        <td style=\"padding-left: 1em; padding-right: 1em; text-align: center; vertical-align: top\">3</td>\n",
       "        <td style=\"padding-left: 1em; padding-right: 1em; text-align: center; vertical-align: top\">14</td>\n",
       "        <td style=\"padding-left: 1em; padding-right: 1em; text-align: center; vertical-align: top\">android_safari</td>\n",
       "        <td style=\"padding-left: 1em; padding-right: 1em; text-align: center; vertical-align: top\">null</td>\n",
       "        <td style=\"padding-left: 1em; padding-right: 1em; text-align: center; vertical-align: top\">320</td>\n",
       "        <td style=\"padding-left: 1em; padding-right: 1em; text-align: center; vertical-align: top\">50</td>\n",
       "        <td style=\"padding-left: 1em; padding-right: 1em; text-align: center; vertical-align: top\">FirstView</td>\n",
       "        <td style=\"padding-left: 1em; padding-right: 1em; text-align: center; vertical-align: top\">Na</td>\n",
       "        <td style=\"padding-left: 1em; padding-right: 1em; text-align: center; vertical-align: top\">118</td>\n",
       "    </tr>\n",
       "    <tr>\n",
       "        <td style=\"padding-left: 1em; padding-right: 1em; text-align: center; vertical-align: top\">0</td>\n",
       "        <td style=\"padding-left: 1em; padding-right: 1em; text-align: center; vertical-align: top\">1</td>\n",
       "        <td style=\"padding-left: 1em; padding-right: 1em; text-align: center; vertical-align: top\">13</td>\n",
       "        <td style=\"padding-left: 1em; padding-right: 1em; text-align: center; vertical-align: top\">windows_ie</td>\n",
       "        <td style=\"padding-left: 1em; padding-right: 1em; text-align: center; vertical-align: top\">3</td>\n",
       "        <td style=\"padding-left: 1em; padding-right: 1em; text-align: center; vertical-align: top\">1000</td>\n",
       "        <td style=\"padding-left: 1em; padding-right: 1em; text-align: center; vertical-align: top\">90</td>\n",
       "        <td style=\"padding-left: 1em; padding-right: 1em; text-align: center; vertical-align: top\">0</td>\n",
       "        <td style=\"padding-left: 1em; padding-right: 1em; text-align: center; vertical-align: top\">0</td>\n",
       "        <td style=\"padding-left: 1em; padding-right: 1em; text-align: center; vertical-align: top\">70</td>\n",
       "    </tr>\n",
       "    <tr>\n",
       "        <td style=\"padding-left: 1em; padding-right: 1em; text-align: center; vertical-align: top\">0</td>\n",
       "        <td style=\"padding-left: 1em; padding-right: 1em; text-align: center; vertical-align: top\">5</td>\n",
       "        <td style=\"padding-left: 1em; padding-right: 1em; text-align: center; vertical-align: top\">18</td>\n",
       "        <td style=\"padding-left: 1em; padding-right: 1em; text-align: center; vertical-align: top\">windows_chrome</td>\n",
       "        <td style=\"padding-left: 1em; padding-right: 1em; text-align: center; vertical-align: top\">3</td>\n",
       "        <td style=\"padding-left: 1em; padding-right: 1em; text-align: center; vertical-align: top\">1000</td>\n",
       "        <td style=\"padding-left: 1em; padding-right: 1em; text-align: center; vertical-align: top\">90</td>\n",
       "        <td style=\"padding-left: 1em; padding-right: 1em; text-align: center; vertical-align: top\">0</td>\n",
       "        <td style=\"padding-left: 1em; padding-right: 1em; text-align: center; vertical-align: top\">0</td>\n",
       "        <td style=\"padding-left: 1em; padding-right: 1em; text-align: center; vertical-align: top\">70</td>\n",
       "    </tr>\n",
       "    <tr>\n",
       "        <td style=\"padding-left: 1em; padding-right: 1em; text-align: center; vertical-align: top\">0</td>\n",
       "        <td style=\"padding-left: 1em; padding-right: 1em; text-align: center; vertical-align: top\">5</td>\n",
       "        <td style=\"padding-left: 1em; padding-right: 1em; text-align: center; vertical-align: top\">14</td>\n",
       "        <td style=\"padding-left: 1em; padding-right: 1em; text-align: center; vertical-align: top\">windows_ie</td>\n",
       "        <td style=\"padding-left: 1em; padding-right: 1em; text-align: center; vertical-align: top\">2</td>\n",
       "        <td style=\"padding-left: 1em; padding-right: 1em; text-align: center; vertical-align: top\">336</td>\n",
       "        <td style=\"padding-left: 1em; padding-right: 1em; text-align: center; vertical-align: top\">280</td>\n",
       "        <td style=\"padding-left: 1em; padding-right: 1em; text-align: center; vertical-align: top\">2</td>\n",
       "        <td style=\"padding-left: 1em; padding-right: 1em; text-align: center; vertical-align: top\">0</td>\n",
       "        <td style=\"padding-left: 1em; padding-right: 1em; text-align: center; vertical-align: top\">5</td>\n",
       "    </tr>\n",
       "    <tr>\n",
       "        <td style=\"padding-left: 1em; padding-right: 1em; text-align: center; vertical-align: top\">0</td>\n",
       "        <td style=\"padding-left: 1em; padding-right: 1em; text-align: center; vertical-align: top\">1</td>\n",
       "        <td style=\"padding-left: 1em; padding-right: 1em; text-align: center; vertical-align: top\">16</td>\n",
       "        <td style=\"padding-left: 1em; padding-right: 1em; text-align: center; vertical-align: top\">windows_chrome</td>\n",
       "        <td style=\"padding-left: 1em; padding-right: 1em; text-align: center; vertical-align: top\">1</td>\n",
       "        <td style=\"padding-left: 1em; padding-right: 1em; text-align: center; vertical-align: top\">300</td>\n",
       "        <td style=\"padding-left: 1em; padding-right: 1em; text-align: center; vertical-align: top\">250</td>\n",
       "        <td style=\"padding-left: 1em; padding-right: 1em; text-align: center; vertical-align: top\">0</td>\n",
       "        <td style=\"padding-left: 1em; padding-right: 1em; text-align: center; vertical-align: top\">1</td>\n",
       "        <td style=\"padding-left: 1em; padding-right: 1em; text-align: center; vertical-align: top\">0</td>\n",
       "    </tr>\n",
       "    <tr>\n",
       "        <td style=\"padding-left: 1em; padding-right: 1em; text-align: center; vertical-align: top\">0</td>\n",
       "        <td style=\"padding-left: 1em; padding-right: 1em; text-align: center; vertical-align: top\">3</td>\n",
       "        <td style=\"padding-left: 1em; padding-right: 1em; text-align: center; vertical-align: top\">18</td>\n",
       "        <td style=\"padding-left: 1em; padding-right: 1em; text-align: center; vertical-align: top\">windows_ie</td>\n",
       "        <td style=\"padding-left: 1em; padding-right: 1em; text-align: center; vertical-align: top\">2</td>\n",
       "        <td style=\"padding-left: 1em; padding-right: 1em; text-align: center; vertical-align: top\">728</td>\n",
       "        <td style=\"padding-left: 1em; padding-right: 1em; text-align: center; vertical-align: top\">90</td>\n",
       "        <td style=\"padding-left: 1em; padding-right: 1em; text-align: center; vertical-align: top\">0</td>\n",
       "        <td style=\"padding-left: 1em; padding-right: 1em; text-align: center; vertical-align: top\">0</td>\n",
       "        <td style=\"padding-left: 1em; padding-right: 1em; text-align: center; vertical-align: top\">52</td>\n",
       "    </tr>\n",
       "    <tr>\n",
       "        <td style=\"padding-left: 1em; padding-right: 1em; text-align: center; vertical-align: top\">0</td>\n",
       "        <td style=\"padding-left: 1em; padding-right: 1em; text-align: center; vertical-align: top\">2</td>\n",
       "        <td style=\"padding-left: 1em; padding-right: 1em; text-align: center; vertical-align: top\">0</td>\n",
       "        <td style=\"padding-left: 1em; padding-right: 1em; text-align: center; vertical-align: top\">windows_ie</td>\n",
       "        <td style=\"padding-left: 1em; padding-right: 1em; text-align: center; vertical-align: top\">4</td>\n",
       "        <td style=\"padding-left: 1em; padding-right: 1em; text-align: center; vertical-align: top\">960</td>\n",
       "        <td style=\"padding-left: 1em; padding-right: 1em; text-align: center; vertical-align: top\">90</td>\n",
       "        <td style=\"padding-left: 1em; padding-right: 1em; text-align: center; vertical-align: top\">FirstView</td>\n",
       "        <td style=\"padding-left: 1em; padding-right: 1em; text-align: center; vertical-align: top\">Na</td>\n",
       "        <td style=\"padding-left: 1em; padding-right: 1em; text-align: center; vertical-align: top\">0</td>\n",
       "    </tr>\n",
       "    <tr>\n",
       "        <td style=\"padding-left: 1em; padding-right: 1em; text-align: center; vertical-align: top\">0</td>\n",
       "        <td style=\"padding-left: 1em; padding-right: 1em; text-align: center; vertical-align: top\">0</td>\n",
       "        <td style=\"padding-left: 1em; padding-right: 1em; text-align: center; vertical-align: top\">7</td>\n",
       "        <td style=\"padding-left: 1em; padding-right: 1em; text-align: center; vertical-align: top\">windows_ie</td>\n",
       "        <td style=\"padding-left: 1em; padding-right: 1em; text-align: center; vertical-align: top\">3</td>\n",
       "        <td style=\"padding-left: 1em; padding-right: 1em; text-align: center; vertical-align: top\">300</td>\n",
       "        <td style=\"padding-left: 1em; padding-right: 1em; text-align: center; vertical-align: top\">250</td>\n",
       "        <td style=\"padding-left: 1em; padding-right: 1em; text-align: center; vertical-align: top\">0</td>\n",
       "        <td style=\"padding-left: 1em; padding-right: 1em; text-align: center; vertical-align: top\">0</td>\n",
       "        <td style=\"padding-left: 1em; padding-right: 1em; text-align: center; vertical-align: top\">50</td>\n",
       "    </tr>\n",
       "    <tr>\n",
       "        <td style=\"padding-left: 1em; padding-right: 1em; text-align: center; vertical-align: top\">0</td>\n",
       "        <td style=\"padding-left: 1em; padding-right: 1em; text-align: center; vertical-align: top\">0</td>\n",
       "        <td style=\"padding-left: 1em; padding-right: 1em; text-align: center; vertical-align: top\">7</td>\n",
       "        <td style=\"padding-left: 1em; padding-right: 1em; text-align: center; vertical-align: top\">windows_chrome</td>\n",
       "        <td style=\"padding-left: 1em; padding-right: 1em; text-align: center; vertical-align: top\">2</td>\n",
       "        <td style=\"padding-left: 1em; padding-right: 1em; text-align: center; vertical-align: top\">728</td>\n",
       "        <td style=\"padding-left: 1em; padding-right: 1em; text-align: center; vertical-align: top\">90</td>\n",
       "        <td style=\"padding-left: 1em; padding-right: 1em; text-align: center; vertical-align: top\">2</td>\n",
       "        <td style=\"padding-left: 1em; padding-right: 1em; text-align: center; vertical-align: top\">0</td>\n",
       "        <td style=\"padding-left: 1em; padding-right: 1em; text-align: center; vertical-align: top\">5</td>\n",
       "    </tr>\n",
       "</table>\n",
       "<table frame=\"box\" rules=\"cols\">\n",
       "    <tr>\n",
       "        <th style=\"padding-left: 1em; padding-right: 1em; text-align: center\">advertiser</th>\n",
       "        <th style=\"padding-left: 1em; padding-right: 1em; text-align: center\">usertag</th>\n",
       "    </tr>\n",
       "    <tr>\n",
       "        <td style=\"padding-left: 1em; padding-right: 1em; text-align: center; vertical-align: top\">3427</td>\n",
       "        <td style=\"padding-left: 1em; padding-right: 1em; text-align: center; vertical-align: top\">10006,10063,10059,10111</td>\n",
       "    </tr>\n",
       "    <tr>\n",
       "        <td style=\"padding-left: 1em; padding-right: 1em; text-align: center; vertical-align: top\">2997</td>\n",
       "        <td style=\"padding-left: 1em; padding-right: 1em; text-align: center; vertical-align: top\">null</td>\n",
       "    </tr>\n",
       "    <tr>\n",
       "        <td style=\"padding-left: 1em; padding-right: 1em; text-align: center; vertical-align: top\">3427</td>\n",
       "        <td style=\"padding-left: 1em; padding-right: 1em; text-align: center; vertical-align: top\">null</td>\n",
       "    </tr>\n",
       "    <tr>\n",
       "        <td style=\"padding-left: 1em; padding-right: 1em; text-align: center; vertical-align: top\">3427</td>\n",
       "        <td style=\"padding-left: 1em; padding-right: 1em; text-align: center; vertical-align: top\">null</td>\n",
       "    </tr>\n",
       "    <tr>\n",
       "        <td style=\"padding-left: 1em; padding-right: 1em; text-align: center; vertical-align: top\">3386</td>\n",
       "        <td style=\"padding-left: 1em; padding-right: 1em; text-align: center; vertical-align: top\">null</td>\n",
       "    </tr>\n",
       "    <tr>\n",
       "        <td style=\"padding-left: 1em; padding-right: 1em; text-align: center; vertical-align: top\">3476</td>\n",
       "        <td style=\"padding-left: 1em; padding-right: 1em; text-align: center; vertical-align: top\">10077,10075,10059,10052,1<br>0083,10031,10057,1000 ...</td>\n",
       "    </tr>\n",
       "    <tr>\n",
       "        <td style=\"padding-left: 1em; padding-right: 1em; text-align: center; vertical-align: top\">3386</td>\n",
       "        <td style=\"padding-left: 1em; padding-right: 1em; text-align: center; vertical-align: top\">null</td>\n",
       "    </tr>\n",
       "    <tr>\n",
       "        <td style=\"padding-left: 1em; padding-right: 1em; text-align: center; vertical-align: top\">2821</td>\n",
       "        <td style=\"padding-left: 1em; padding-right: 1em; text-align: center; vertical-align: top\">null</td>\n",
       "    </tr>\n",
       "    <tr>\n",
       "        <td style=\"padding-left: 1em; padding-right: 1em; text-align: center; vertical-align: top\">3476</td>\n",
       "        <td style=\"padding-left: 1em; padding-right: 1em; text-align: center; vertical-align: top\">10063,10006,10059,10083,1<br>3403,10031,10110 ...</td>\n",
       "    </tr>\n",
       "    <tr>\n",
       "        <td style=\"padding-left: 1em; padding-right: 1em; text-align: center; vertical-align: top\">1458</td>\n",
       "        <td style=\"padding-left: 1em; padding-right: 1em; text-align: center; vertical-align: top\">10031,13042,10006,10110</td>\n",
       "    </tr>\n",
       "</table>\n",
       "[299749 rows x 12 columns]<br/>Note: Only the head of the SFrame is printed.<br/>You can use print_rows(num_rows=m, num_columns=n) to print more rows and columns.\n",
       "</div>"
      ],
      "text/plain": [
       "Columns:\n",
       "\tclick\tint\n",
       "\tweekday\tint\n",
       "\thour\tint\n",
       "\tuseragent\tstr\n",
       "\tadexchange\tstr\n",
       "\tslotwidth\tint\n",
       "\tslotheight\tint\n",
       "\tslotvisibility\tstr\n",
       "\tslotformat\tstr\n",
       "\tslotprice\tint\n",
       "\tadvertiser\tint\n",
       "\tusertag\tstr\n",
       "\n",
       "Rows: 299749\n",
       "\n",
       "Data:\n",
       "+-------+---------+------+----------------+------------+-----------+------------+\n",
       "| click | weekday | hour |   useragent    | adexchange | slotwidth | slotheight |\n",
       "+-------+---------+------+----------------+------------+-----------+------------+\n",
       "|   0   |    5    |  14  |   windows_ie   |     1      |    300    |    250     |\n",
       "|   0   |    3    |  14  | android_safari |    null    |    320    |     50     |\n",
       "|   0   |    1    |  13  |   windows_ie   |     3      |    1000   |     90     |\n",
       "|   0   |    5    |  18  | windows_chrome |     3      |    1000   |     90     |\n",
       "|   0   |    5    |  14  |   windows_ie   |     2      |    336    |    280     |\n",
       "|   0   |    1    |  16  | windows_chrome |     1      |    300    |    250     |\n",
       "|   0   |    3    |  18  |   windows_ie   |     2      |    728    |     90     |\n",
       "|   0   |    2    |  0   |   windows_ie   |     4      |    960    |     90     |\n",
       "|   0   |    0    |  7   |   windows_ie   |     3      |    300    |    250     |\n",
       "|   0   |    0    |  7   | windows_chrome |     2      |    728    |     90     |\n",
       "+-------+---------+------+----------------+------------+-----------+------------+\n",
       "+----------------+------------+-----------+------------+\n",
       "| slotvisibility | slotformat | slotprice | advertiser |\n",
       "+----------------+------------+-----------+------------+\n",
       "|       0        |     1      |     0     |    3427    |\n",
       "|   FirstView    |     Na     |    118    |    2997    |\n",
       "|       0        |     0      |     70    |    3427    |\n",
       "|       0        |     0      |     70    |    3427    |\n",
       "|       2        |     0      |     5     |    3386    |\n",
       "|       0        |     1      |     0     |    3476    |\n",
       "|       0        |     0      |     52    |    3386    |\n",
       "|   FirstView    |     Na     |     0     |    2821    |\n",
       "|       0        |     0      |     50    |    3476    |\n",
       "|       2        |     0      |     5     |    1458    |\n",
       "+----------------+------------+-----------+------------+\n",
       "+-------------------------------+\n",
       "|            usertag            |\n",
       "+-------------------------------+\n",
       "|    10006,10063,10059,10111    |\n",
       "|              null             |\n",
       "|              null             |\n",
       "|              null             |\n",
       "|              null             |\n",
       "| 10077,10075,10059,10052,10... |\n",
       "|              null             |\n",
       "|              null             |\n",
       "| 10063,10006,10059,10083,13... |\n",
       "|    10031,13042,10006,10110    |\n",
       "+-------------------------------+\n",
       "[299749 rows x 12 columns]\n",
       "Note: Only the head of the SFrame is printed.\n",
       "You can use print_rows(num_rows=m, num_columns=n) to print more rows and columns."
      ]
     },
     "execution_count": 125,
     "metadata": {},
     "output_type": "execute_result"
    }
   ],
   "source": [
    "validation.remove_columns([\n",
    "                                'bidprice',\n",
    "                                'payprice',\n",
    "                                'bidid',\n",
    "                               'IP',\n",
    "                              'city',\n",
    "                               'domain',\n",
    "                               'url',\n",
    "                               'urlid',\n",
    "                              'region',\n",
    "                              'userid',\n",
    "                              'logtype',\n",
    "                              'creative',\n",
    "                              'keypage',\n",
    "                              'slotid'])"
   ]
  },
  {
   "cell_type": "code",
   "execution_count": 126,
   "metadata": {
    "collapsed": true
   },
   "outputs": [],
   "source": [
    "def split_useragent(data):\n",
    "    data[\"OS\"] = data.apply(lambda x: x[\"useragent\"].split(\"_\")[0])\n",
    "    data[\"browser\"]=data.apply(lambda x: x[\"useragent\"].split(\"_\")[1])"
   ]
  },
  {
   "cell_type": "code",
   "execution_count": 127,
   "metadata": {
    "collapsed": false
   },
   "outputs": [],
   "source": [
    "split_useragent(train)"
   ]
  },
  {
   "cell_type": "code",
   "execution_count": 128,
   "metadata": {
    "collapsed": false
   },
   "outputs": [],
   "source": [
    "split_useragent(validation)"
   ]
  },
  {
   "cell_type": "code",
   "execution_count": 134,
   "metadata": {
    "collapsed": false
   },
   "outputs": [
    {
     "data": {
      "text/html": [
       "<div style=\"max-height:1000px;max-width:1500px;overflow:auto;\"><table frame=\"box\" rules=\"cols\">\n",
       "    <tr>\n",
       "        <th style=\"padding-left: 1em; padding-right: 1em; text-align: center\">click</th>\n",
       "        <th style=\"padding-left: 1em; padding-right: 1em; text-align: center\">weekday</th>\n",
       "        <th style=\"padding-left: 1em; padding-right: 1em; text-align: center\">hour</th>\n",
       "        <th style=\"padding-left: 1em; padding-right: 1em; text-align: center\">useragent</th>\n",
       "        <th style=\"padding-left: 1em; padding-right: 1em; text-align: center\">adexchange</th>\n",
       "        <th style=\"padding-left: 1em; padding-right: 1em; text-align: center\">slotwidth</th>\n",
       "        <th style=\"padding-left: 1em; padding-right: 1em; text-align: center\">slotheight</th>\n",
       "        <th style=\"padding-left: 1em; padding-right: 1em; text-align: center\">slotvisibility</th>\n",
       "        <th style=\"padding-left: 1em; padding-right: 1em; text-align: center\">slotformat</th>\n",
       "        <th style=\"padding-left: 1em; padding-right: 1em; text-align: center\">slotprice</th>\n",
       "    </tr>\n",
       "    <tr>\n",
       "        <td style=\"padding-left: 1em; padding-right: 1em; text-align: center; vertical-align: top\">0</td>\n",
       "        <td style=\"padding-left: 1em; padding-right: 1em; text-align: center; vertical-align: top\">5</td>\n",
       "        <td style=\"padding-left: 1em; padding-right: 1em; text-align: center; vertical-align: top\">14</td>\n",
       "        <td style=\"padding-left: 1em; padding-right: 1em; text-align: center; vertical-align: top\">windows_ie</td>\n",
       "        <td style=\"padding-left: 1em; padding-right: 1em; text-align: center; vertical-align: top\">1</td>\n",
       "        <td style=\"padding-left: 1em; padding-right: 1em; text-align: center; vertical-align: top\">300</td>\n",
       "        <td style=\"padding-left: 1em; padding-right: 1em; text-align: center; vertical-align: top\">250</td>\n",
       "        <td style=\"padding-left: 1em; padding-right: 1em; text-align: center; vertical-align: top\">0</td>\n",
       "        <td style=\"padding-left: 1em; padding-right: 1em; text-align: center; vertical-align: top\">1</td>\n",
       "        <td style=\"padding-left: 1em; padding-right: 1em; text-align: center; vertical-align: top\">0</td>\n",
       "    </tr>\n",
       "    <tr>\n",
       "        <td style=\"padding-left: 1em; padding-right: 1em; text-align: center; vertical-align: top\">0</td>\n",
       "        <td style=\"padding-left: 1em; padding-right: 1em; text-align: center; vertical-align: top\">3</td>\n",
       "        <td style=\"padding-left: 1em; padding-right: 1em; text-align: center; vertical-align: top\">14</td>\n",
       "        <td style=\"padding-left: 1em; padding-right: 1em; text-align: center; vertical-align: top\">android_safari</td>\n",
       "        <td style=\"padding-left: 1em; padding-right: 1em; text-align: center; vertical-align: top\">null</td>\n",
       "        <td style=\"padding-left: 1em; padding-right: 1em; text-align: center; vertical-align: top\">320</td>\n",
       "        <td style=\"padding-left: 1em; padding-right: 1em; text-align: center; vertical-align: top\">50</td>\n",
       "        <td style=\"padding-left: 1em; padding-right: 1em; text-align: center; vertical-align: top\">FirstView</td>\n",
       "        <td style=\"padding-left: 1em; padding-right: 1em; text-align: center; vertical-align: top\">Na</td>\n",
       "        <td style=\"padding-left: 1em; padding-right: 1em; text-align: center; vertical-align: top\">118</td>\n",
       "    </tr>\n",
       "    <tr>\n",
       "        <td style=\"padding-left: 1em; padding-right: 1em; text-align: center; vertical-align: top\">0</td>\n",
       "        <td style=\"padding-left: 1em; padding-right: 1em; text-align: center; vertical-align: top\">1</td>\n",
       "        <td style=\"padding-left: 1em; padding-right: 1em; text-align: center; vertical-align: top\">13</td>\n",
       "        <td style=\"padding-left: 1em; padding-right: 1em; text-align: center; vertical-align: top\">windows_ie</td>\n",
       "        <td style=\"padding-left: 1em; padding-right: 1em; text-align: center; vertical-align: top\">3</td>\n",
       "        <td style=\"padding-left: 1em; padding-right: 1em; text-align: center; vertical-align: top\">1000</td>\n",
       "        <td style=\"padding-left: 1em; padding-right: 1em; text-align: center; vertical-align: top\">90</td>\n",
       "        <td style=\"padding-left: 1em; padding-right: 1em; text-align: center; vertical-align: top\">0</td>\n",
       "        <td style=\"padding-left: 1em; padding-right: 1em; text-align: center; vertical-align: top\">0</td>\n",
       "        <td style=\"padding-left: 1em; padding-right: 1em; text-align: center; vertical-align: top\">70</td>\n",
       "    </tr>\n",
       "    <tr>\n",
       "        <td style=\"padding-left: 1em; padding-right: 1em; text-align: center; vertical-align: top\">0</td>\n",
       "        <td style=\"padding-left: 1em; padding-right: 1em; text-align: center; vertical-align: top\">5</td>\n",
       "        <td style=\"padding-left: 1em; padding-right: 1em; text-align: center; vertical-align: top\">18</td>\n",
       "        <td style=\"padding-left: 1em; padding-right: 1em; text-align: center; vertical-align: top\">windows_chrome</td>\n",
       "        <td style=\"padding-left: 1em; padding-right: 1em; text-align: center; vertical-align: top\">3</td>\n",
       "        <td style=\"padding-left: 1em; padding-right: 1em; text-align: center; vertical-align: top\">1000</td>\n",
       "        <td style=\"padding-left: 1em; padding-right: 1em; text-align: center; vertical-align: top\">90</td>\n",
       "        <td style=\"padding-left: 1em; padding-right: 1em; text-align: center; vertical-align: top\">0</td>\n",
       "        <td style=\"padding-left: 1em; padding-right: 1em; text-align: center; vertical-align: top\">0</td>\n",
       "        <td style=\"padding-left: 1em; padding-right: 1em; text-align: center; vertical-align: top\">70</td>\n",
       "    </tr>\n",
       "    <tr>\n",
       "        <td style=\"padding-left: 1em; padding-right: 1em; text-align: center; vertical-align: top\">0</td>\n",
       "        <td style=\"padding-left: 1em; padding-right: 1em; text-align: center; vertical-align: top\">5</td>\n",
       "        <td style=\"padding-left: 1em; padding-right: 1em; text-align: center; vertical-align: top\">14</td>\n",
       "        <td style=\"padding-left: 1em; padding-right: 1em; text-align: center; vertical-align: top\">windows_ie</td>\n",
       "        <td style=\"padding-left: 1em; padding-right: 1em; text-align: center; vertical-align: top\">2</td>\n",
       "        <td style=\"padding-left: 1em; padding-right: 1em; text-align: center; vertical-align: top\">336</td>\n",
       "        <td style=\"padding-left: 1em; padding-right: 1em; text-align: center; vertical-align: top\">280</td>\n",
       "        <td style=\"padding-left: 1em; padding-right: 1em; text-align: center; vertical-align: top\">2</td>\n",
       "        <td style=\"padding-left: 1em; padding-right: 1em; text-align: center; vertical-align: top\">0</td>\n",
       "        <td style=\"padding-left: 1em; padding-right: 1em; text-align: center; vertical-align: top\">5</td>\n",
       "    </tr>\n",
       "    <tr>\n",
       "        <td style=\"padding-left: 1em; padding-right: 1em; text-align: center; vertical-align: top\">0</td>\n",
       "        <td style=\"padding-left: 1em; padding-right: 1em; text-align: center; vertical-align: top\">1</td>\n",
       "        <td style=\"padding-left: 1em; padding-right: 1em; text-align: center; vertical-align: top\">16</td>\n",
       "        <td style=\"padding-left: 1em; padding-right: 1em; text-align: center; vertical-align: top\">windows_chrome</td>\n",
       "        <td style=\"padding-left: 1em; padding-right: 1em; text-align: center; vertical-align: top\">1</td>\n",
       "        <td style=\"padding-left: 1em; padding-right: 1em; text-align: center; vertical-align: top\">300</td>\n",
       "        <td style=\"padding-left: 1em; padding-right: 1em; text-align: center; vertical-align: top\">250</td>\n",
       "        <td style=\"padding-left: 1em; padding-right: 1em; text-align: center; vertical-align: top\">0</td>\n",
       "        <td style=\"padding-left: 1em; padding-right: 1em; text-align: center; vertical-align: top\">1</td>\n",
       "        <td style=\"padding-left: 1em; padding-right: 1em; text-align: center; vertical-align: top\">0</td>\n",
       "    </tr>\n",
       "    <tr>\n",
       "        <td style=\"padding-left: 1em; padding-right: 1em; text-align: center; vertical-align: top\">0</td>\n",
       "        <td style=\"padding-left: 1em; padding-right: 1em; text-align: center; vertical-align: top\">3</td>\n",
       "        <td style=\"padding-left: 1em; padding-right: 1em; text-align: center; vertical-align: top\">18</td>\n",
       "        <td style=\"padding-left: 1em; padding-right: 1em; text-align: center; vertical-align: top\">windows_ie</td>\n",
       "        <td style=\"padding-left: 1em; padding-right: 1em; text-align: center; vertical-align: top\">2</td>\n",
       "        <td style=\"padding-left: 1em; padding-right: 1em; text-align: center; vertical-align: top\">728</td>\n",
       "        <td style=\"padding-left: 1em; padding-right: 1em; text-align: center; vertical-align: top\">90</td>\n",
       "        <td style=\"padding-left: 1em; padding-right: 1em; text-align: center; vertical-align: top\">0</td>\n",
       "        <td style=\"padding-left: 1em; padding-right: 1em; text-align: center; vertical-align: top\">0</td>\n",
       "        <td style=\"padding-left: 1em; padding-right: 1em; text-align: center; vertical-align: top\">52</td>\n",
       "    </tr>\n",
       "    <tr>\n",
       "        <td style=\"padding-left: 1em; padding-right: 1em; text-align: center; vertical-align: top\">0</td>\n",
       "        <td style=\"padding-left: 1em; padding-right: 1em; text-align: center; vertical-align: top\">2</td>\n",
       "        <td style=\"padding-left: 1em; padding-right: 1em; text-align: center; vertical-align: top\">0</td>\n",
       "        <td style=\"padding-left: 1em; padding-right: 1em; text-align: center; vertical-align: top\">windows_ie</td>\n",
       "        <td style=\"padding-left: 1em; padding-right: 1em; text-align: center; vertical-align: top\">4</td>\n",
       "        <td style=\"padding-left: 1em; padding-right: 1em; text-align: center; vertical-align: top\">960</td>\n",
       "        <td style=\"padding-left: 1em; padding-right: 1em; text-align: center; vertical-align: top\">90</td>\n",
       "        <td style=\"padding-left: 1em; padding-right: 1em; text-align: center; vertical-align: top\">FirstView</td>\n",
       "        <td style=\"padding-left: 1em; padding-right: 1em; text-align: center; vertical-align: top\">Na</td>\n",
       "        <td style=\"padding-left: 1em; padding-right: 1em; text-align: center; vertical-align: top\">0</td>\n",
       "    </tr>\n",
       "    <tr>\n",
       "        <td style=\"padding-left: 1em; padding-right: 1em; text-align: center; vertical-align: top\">0</td>\n",
       "        <td style=\"padding-left: 1em; padding-right: 1em; text-align: center; vertical-align: top\">0</td>\n",
       "        <td style=\"padding-left: 1em; padding-right: 1em; text-align: center; vertical-align: top\">7</td>\n",
       "        <td style=\"padding-left: 1em; padding-right: 1em; text-align: center; vertical-align: top\">windows_ie</td>\n",
       "        <td style=\"padding-left: 1em; padding-right: 1em; text-align: center; vertical-align: top\">3</td>\n",
       "        <td style=\"padding-left: 1em; padding-right: 1em; text-align: center; vertical-align: top\">300</td>\n",
       "        <td style=\"padding-left: 1em; padding-right: 1em; text-align: center; vertical-align: top\">250</td>\n",
       "        <td style=\"padding-left: 1em; padding-right: 1em; text-align: center; vertical-align: top\">0</td>\n",
       "        <td style=\"padding-left: 1em; padding-right: 1em; text-align: center; vertical-align: top\">0</td>\n",
       "        <td style=\"padding-left: 1em; padding-right: 1em; text-align: center; vertical-align: top\">50</td>\n",
       "    </tr>\n",
       "    <tr>\n",
       "        <td style=\"padding-left: 1em; padding-right: 1em; text-align: center; vertical-align: top\">0</td>\n",
       "        <td style=\"padding-left: 1em; padding-right: 1em; text-align: center; vertical-align: top\">0</td>\n",
       "        <td style=\"padding-left: 1em; padding-right: 1em; text-align: center; vertical-align: top\">7</td>\n",
       "        <td style=\"padding-left: 1em; padding-right: 1em; text-align: center; vertical-align: top\">windows_chrome</td>\n",
       "        <td style=\"padding-left: 1em; padding-right: 1em; text-align: center; vertical-align: top\">2</td>\n",
       "        <td style=\"padding-left: 1em; padding-right: 1em; text-align: center; vertical-align: top\">728</td>\n",
       "        <td style=\"padding-left: 1em; padding-right: 1em; text-align: center; vertical-align: top\">90</td>\n",
       "        <td style=\"padding-left: 1em; padding-right: 1em; text-align: center; vertical-align: top\">2</td>\n",
       "        <td style=\"padding-left: 1em; padding-right: 1em; text-align: center; vertical-align: top\">0</td>\n",
       "        <td style=\"padding-left: 1em; padding-right: 1em; text-align: center; vertical-align: top\">5</td>\n",
       "    </tr>\n",
       "</table>\n",
       "<table frame=\"box\" rules=\"cols\">\n",
       "    <tr>\n",
       "        <th style=\"padding-left: 1em; padding-right: 1em; text-align: center\">advertiser</th>\n",
       "        <th style=\"padding-left: 1em; padding-right: 1em; text-align: center\">usertag</th>\n",
       "        <th style=\"padding-left: 1em; padding-right: 1em; text-align: center\">OS</th>\n",
       "        <th style=\"padding-left: 1em; padding-right: 1em; text-align: center\">browser</th>\n",
       "        <th style=\"padding-left: 1em; padding-right: 1em; text-align: center\">slotprice_cat</th>\n",
       "    </tr>\n",
       "    <tr>\n",
       "        <td style=\"padding-left: 1em; padding-right: 1em; text-align: center; vertical-align: top\">3427</td>\n",
       "        <td style=\"padding-left: 1em; padding-right: 1em; text-align: center; vertical-align: top\">10006,10063,10059,10111</td>\n",
       "        <td style=\"padding-left: 1em; padding-right: 1em; text-align: center; vertical-align: top\">windows</td>\n",
       "        <td style=\"padding-left: 1em; padding-right: 1em; text-align: center; vertical-align: top\">ie</td>\n",
       "        <td style=\"padding-left: 1em; padding-right: 1em; text-align: center; vertical-align: top\">50-</td>\n",
       "    </tr>\n",
       "    <tr>\n",
       "        <td style=\"padding-left: 1em; padding-right: 1em; text-align: center; vertical-align: top\">2997</td>\n",
       "        <td style=\"padding-left: 1em; padding-right: 1em; text-align: center; vertical-align: top\">null</td>\n",
       "        <td style=\"padding-left: 1em; padding-right: 1em; text-align: center; vertical-align: top\">android</td>\n",
       "        <td style=\"padding-left: 1em; padding-right: 1em; text-align: center; vertical-align: top\">safari</td>\n",
       "        <td style=\"padding-left: 1em; padding-right: 1em; text-align: center; vertical-align: top\">100+</td>\n",
       "    </tr>\n",
       "    <tr>\n",
       "        <td style=\"padding-left: 1em; padding-right: 1em; text-align: center; vertical-align: top\">3427</td>\n",
       "        <td style=\"padding-left: 1em; padding-right: 1em; text-align: center; vertical-align: top\">null</td>\n",
       "        <td style=\"padding-left: 1em; padding-right: 1em; text-align: center; vertical-align: top\">windows</td>\n",
       "        <td style=\"padding-left: 1em; padding-right: 1em; text-align: center; vertical-align: top\">ie</td>\n",
       "        <td style=\"padding-left: 1em; padding-right: 1em; text-align: center; vertical-align: top\">50+</td>\n",
       "    </tr>\n",
       "    <tr>\n",
       "        <td style=\"padding-left: 1em; padding-right: 1em; text-align: center; vertical-align: top\">3427</td>\n",
       "        <td style=\"padding-left: 1em; padding-right: 1em; text-align: center; vertical-align: top\">null</td>\n",
       "        <td style=\"padding-left: 1em; padding-right: 1em; text-align: center; vertical-align: top\">windows</td>\n",
       "        <td style=\"padding-left: 1em; padding-right: 1em; text-align: center; vertical-align: top\">chrome</td>\n",
       "        <td style=\"padding-left: 1em; padding-right: 1em; text-align: center; vertical-align: top\">50+</td>\n",
       "    </tr>\n",
       "    <tr>\n",
       "        <td style=\"padding-left: 1em; padding-right: 1em; text-align: center; vertical-align: top\">3386</td>\n",
       "        <td style=\"padding-left: 1em; padding-right: 1em; text-align: center; vertical-align: top\">null</td>\n",
       "        <td style=\"padding-left: 1em; padding-right: 1em; text-align: center; vertical-align: top\">windows</td>\n",
       "        <td style=\"padding-left: 1em; padding-right: 1em; text-align: center; vertical-align: top\">ie</td>\n",
       "        <td style=\"padding-left: 1em; padding-right: 1em; text-align: center; vertical-align: top\">50-</td>\n",
       "    </tr>\n",
       "    <tr>\n",
       "        <td style=\"padding-left: 1em; padding-right: 1em; text-align: center; vertical-align: top\">3476</td>\n",
       "        <td style=\"padding-left: 1em; padding-right: 1em; text-align: center; vertical-align: top\">10077,10075,10059,10052,1<br>0083,10031,10057,1000 ...</td>\n",
       "        <td style=\"padding-left: 1em; padding-right: 1em; text-align: center; vertical-align: top\">windows</td>\n",
       "        <td style=\"padding-left: 1em; padding-right: 1em; text-align: center; vertical-align: top\">chrome</td>\n",
       "        <td style=\"padding-left: 1em; padding-right: 1em; text-align: center; vertical-align: top\">50-</td>\n",
       "    </tr>\n",
       "    <tr>\n",
       "        <td style=\"padding-left: 1em; padding-right: 1em; text-align: center; vertical-align: top\">3386</td>\n",
       "        <td style=\"padding-left: 1em; padding-right: 1em; text-align: center; vertical-align: top\">null</td>\n",
       "        <td style=\"padding-left: 1em; padding-right: 1em; text-align: center; vertical-align: top\">windows</td>\n",
       "        <td style=\"padding-left: 1em; padding-right: 1em; text-align: center; vertical-align: top\">ie</td>\n",
       "        <td style=\"padding-left: 1em; padding-right: 1em; text-align: center; vertical-align: top\">50+</td>\n",
       "    </tr>\n",
       "    <tr>\n",
       "        <td style=\"padding-left: 1em; padding-right: 1em; text-align: center; vertical-align: top\">2821</td>\n",
       "        <td style=\"padding-left: 1em; padding-right: 1em; text-align: center; vertical-align: top\">null</td>\n",
       "        <td style=\"padding-left: 1em; padding-right: 1em; text-align: center; vertical-align: top\">windows</td>\n",
       "        <td style=\"padding-left: 1em; padding-right: 1em; text-align: center; vertical-align: top\">ie</td>\n",
       "        <td style=\"padding-left: 1em; padding-right: 1em; text-align: center; vertical-align: top\">50-</td>\n",
       "    </tr>\n",
       "    <tr>\n",
       "        <td style=\"padding-left: 1em; padding-right: 1em; text-align: center; vertical-align: top\">3476</td>\n",
       "        <td style=\"padding-left: 1em; padding-right: 1em; text-align: center; vertical-align: top\">10063,10006,10059,10083,1<br>3403,10031,10110 ...</td>\n",
       "        <td style=\"padding-left: 1em; padding-right: 1em; text-align: center; vertical-align: top\">windows</td>\n",
       "        <td style=\"padding-left: 1em; padding-right: 1em; text-align: center; vertical-align: top\">ie</td>\n",
       "        <td style=\"padding-left: 1em; padding-right: 1em; text-align: center; vertical-align: top\">50+</td>\n",
       "    </tr>\n",
       "    <tr>\n",
       "        <td style=\"padding-left: 1em; padding-right: 1em; text-align: center; vertical-align: top\">1458</td>\n",
       "        <td style=\"padding-left: 1em; padding-right: 1em; text-align: center; vertical-align: top\">10031,13042,10006,10110</td>\n",
       "        <td style=\"padding-left: 1em; padding-right: 1em; text-align: center; vertical-align: top\">windows</td>\n",
       "        <td style=\"padding-left: 1em; padding-right: 1em; text-align: center; vertical-align: top\">chrome</td>\n",
       "        <td style=\"padding-left: 1em; padding-right: 1em; text-align: center; vertical-align: top\">50-</td>\n",
       "    </tr>\n",
       "</table>\n",
       "[10 rows x 15 columns]<br/>\n",
       "</div>"
      ],
      "text/plain": [
       "Columns:\n",
       "\tclick\tint\n",
       "\tweekday\tint\n",
       "\thour\tint\n",
       "\tuseragent\tstr\n",
       "\tadexchange\tstr\n",
       "\tslotwidth\tint\n",
       "\tslotheight\tint\n",
       "\tslotvisibility\tstr\n",
       "\tslotformat\tstr\n",
       "\tslotprice\tint\n",
       "\tadvertiser\tint\n",
       "\tusertag\tstr\n",
       "\tOS\tstr\n",
       "\tbrowser\tstr\n",
       "\tslotprice_cat\tstr\n",
       "\n",
       "Rows: 10\n",
       "\n",
       "Data:\n",
       "+-------+---------+------+----------------+------------+-----------+------------+\n",
       "| click | weekday | hour |   useragent    | adexchange | slotwidth | slotheight |\n",
       "+-------+---------+------+----------------+------------+-----------+------------+\n",
       "|   0   |    5    |  14  |   windows_ie   |     1      |    300    |    250     |\n",
       "|   0   |    3    |  14  | android_safari |    null    |    320    |     50     |\n",
       "|   0   |    1    |  13  |   windows_ie   |     3      |    1000   |     90     |\n",
       "|   0   |    5    |  18  | windows_chrome |     3      |    1000   |     90     |\n",
       "|   0   |    5    |  14  |   windows_ie   |     2      |    336    |    280     |\n",
       "|   0   |    1    |  16  | windows_chrome |     1      |    300    |    250     |\n",
       "|   0   |    3    |  18  |   windows_ie   |     2      |    728    |     90     |\n",
       "|   0   |    2    |  0   |   windows_ie   |     4      |    960    |     90     |\n",
       "|   0   |    0    |  7   |   windows_ie   |     3      |    300    |    250     |\n",
       "|   0   |    0    |  7   | windows_chrome |     2      |    728    |     90     |\n",
       "+-------+---------+------+----------------+------------+-----------+------------+\n",
       "+----------------+------------+-----------+------------+\n",
       "| slotvisibility | slotformat | slotprice | advertiser |\n",
       "+----------------+------------+-----------+------------+\n",
       "|       0        |     1      |     0     |    3427    |\n",
       "|   FirstView    |     Na     |    118    |    2997    |\n",
       "|       0        |     0      |     70    |    3427    |\n",
       "|       0        |     0      |     70    |    3427    |\n",
       "|       2        |     0      |     5     |    3386    |\n",
       "|       0        |     1      |     0     |    3476    |\n",
       "|       0        |     0      |     52    |    3386    |\n",
       "|   FirstView    |     Na     |     0     |    2821    |\n",
       "|       0        |     0      |     50    |    3476    |\n",
       "|       2        |     0      |     5     |    1458    |\n",
       "+----------------+------------+-----------+------------+\n",
       "+-------------------------------+---------+---------+---------------+\n",
       "|            usertag            |    OS   | browser | slotprice_cat |\n",
       "+-------------------------------+---------+---------+---------------+\n",
       "|    10006,10063,10059,10111    | windows |    ie   |      50-      |\n",
       "|              null             | android |  safari |      100+     |\n",
       "|              null             | windows |    ie   |      50+      |\n",
       "|              null             | windows |  chrome |      50+      |\n",
       "|              null             | windows |    ie   |      50-      |\n",
       "| 10077,10075,10059,10052,10... | windows |  chrome |      50-      |\n",
       "|              null             | windows |    ie   |      50+      |\n",
       "|              null             | windows |    ie   |      50-      |\n",
       "| 10063,10006,10059,10083,13... | windows |    ie   |      50+      |\n",
       "|    10031,13042,10006,10110    | windows |  chrome |      50-      |\n",
       "+-------------------------------+---------+---------+---------------+\n",
       "[10 rows x 15 columns]"
      ]
     },
     "execution_count": 134,
     "metadata": {},
     "output_type": "execute_result"
    }
   ],
   "source": [
    "validation.head()"
   ]
  },
  {
   "cell_type": "code",
   "execution_count": 130,
   "metadata": {
    "collapsed": true
   },
   "outputs": [],
   "source": [
    "#categorize slotprice into different bands\n",
    "def slot_price(column):\n",
    "    slotprice = int(column)\n",
    "    if slotprice >= 300:\n",
    "        return '300+'\n",
    "    elif slotprice >=200:\n",
    "        return '200+'\n",
    "    elif slotprice >=100:\n",
    "        return '100+'\n",
    "    elif slotprice >=50:\n",
    "        return '50+'\n",
    "    else:\n",
    "        return \"50-\""
   ]
  },
  {
   "cell_type": "code",
   "execution_count": 131,
   "metadata": {
    "collapsed": false
   },
   "outputs": [],
   "source": [
    "#split up tags\n",
    "def split_tags(tag):\n",
    "    if len(tag) > 0:\n",
    "        tags = tag.split(',')\n",
    "        return dict(zip(tags, [1 for tag in tags]))\n",
    "    else:\n",
    "        return {}\n"
   ]
  },
  {
   "cell_type": "code",
   "execution_count": 137,
   "metadata": {
    "collapsed": false
   },
   "outputs": [],
   "source": [
    "train[\"slotprice_cat\"] = train['slotprice'].apply(lambda x: slot_price(x))\n",
    "validation[\"slotprice_cat\"] = validation['slotprice'].apply(lambda x: slot_price(x))\n"
   ]
  },
  {
   "cell_type": "code",
   "execution_count": 159,
   "metadata": {
    "collapsed": false
   },
   "outputs": [],
   "source": [
    "train[\"tags\"]=train[\"usertag\"].apply(lambda x:split_tags(x))\n",
    "validation[\"tags\"]=validation[\"usertag\"].apply(lambda x:split_tags(x))\n"
   ]
  },
  {
   "cell_type": "code",
   "execution_count": 147,
   "metadata": {
    "collapsed": false
   },
   "outputs": [],
   "source": [
    "def feature_hasher(train_set):\n",
    "\n",
    "    # set features\n",
    "    features = [\n",
    "                'useragent',\n",
    "                'adexchange',\n",
    "                'slotwidth',\n",
    "                'slotheight',\n",
    "                'slotformat',\n",
    "                'slotvisibility',\n",
    "                'slotprice',\n",
    "                'advertiser',\n",
    "                  'slotprice_cat']\n",
    "\n",
    "    # create hasher\n",
    "    hasher = fe.create(train_set, fe.FeatureHasher(features, num_bits=22))\n",
    "\n",
    "    # return hasher\n",
    "    return hasher\n"
   ]
  },
  {
   "cell_type": "code",
   "execution_count": 140,
   "metadata": {
    "collapsed": false
   },
   "outputs": [
    {
     "data": {
      "text/html": [
       "<div style=\"max-height:1000px;max-width:1500px;overflow:auto;\"><table frame=\"box\" rules=\"cols\">\n",
       "    <tr>\n",
       "        <th style=\"padding-left: 1em; padding-right: 1em; text-align: center\">click</th>\n",
       "        <th style=\"padding-left: 1em; padding-right: 1em; text-align: center\">weekday</th>\n",
       "        <th style=\"padding-left: 1em; padding-right: 1em; text-align: center\">hour</th>\n",
       "        <th style=\"padding-left: 1em; padding-right: 1em; text-align: center\">useragent</th>\n",
       "        <th style=\"padding-left: 1em; padding-right: 1em; text-align: center\">adexchange</th>\n",
       "        <th style=\"padding-left: 1em; padding-right: 1em; text-align: center\">slotwidth</th>\n",
       "        <th style=\"padding-left: 1em; padding-right: 1em; text-align: center\">slotheight</th>\n",
       "        <th style=\"padding-left: 1em; padding-right: 1em; text-align: center\">slotvisibility</th>\n",
       "        <th style=\"padding-left: 1em; padding-right: 1em; text-align: center\">slotformat</th>\n",
       "        <th style=\"padding-left: 1em; padding-right: 1em; text-align: center\">slotprice</th>\n",
       "    </tr>\n",
       "    <tr>\n",
       "        <td style=\"padding-left: 1em; padding-right: 1em; text-align: center; vertical-align: top\">0</td>\n",
       "        <td style=\"padding-left: 1em; padding-right: 1em; text-align: center; vertical-align: top\">1</td>\n",
       "        <td style=\"padding-left: 1em; padding-right: 1em; text-align: center; vertical-align: top\">14</td>\n",
       "        <td style=\"padding-left: 1em; padding-right: 1em; text-align: center; vertical-align: top\">windows_ie</td>\n",
       "        <td style=\"padding-left: 1em; padding-right: 1em; text-align: center; vertical-align: top\">2</td>\n",
       "        <td style=\"padding-left: 1em; padding-right: 1em; text-align: center; vertical-align: top\">468</td>\n",
       "        <td style=\"padding-left: 1em; padding-right: 1em; text-align: center; vertical-align: top\">60</td>\n",
       "        <td style=\"padding-left: 1em; padding-right: 1em; text-align: center; vertical-align: top\">1</td>\n",
       "        <td style=\"padding-left: 1em; padding-right: 1em; text-align: center; vertical-align: top\">0</td>\n",
       "        <td style=\"padding-left: 1em; padding-right: 1em; text-align: center; vertical-align: top\">5</td>\n",
       "    </tr>\n",
       "    <tr>\n",
       "        <td style=\"padding-left: 1em; padding-right: 1em; text-align: center; vertical-align: top\">0</td>\n",
       "        <td style=\"padding-left: 1em; padding-right: 1em; text-align: center; vertical-align: top\">2</td>\n",
       "        <td style=\"padding-left: 1em; padding-right: 1em; text-align: center; vertical-align: top\">20</td>\n",
       "        <td style=\"padding-left: 1em; padding-right: 1em; text-align: center; vertical-align: top\">windows_chrome</td>\n",
       "        <td style=\"padding-left: 1em; padding-right: 1em; text-align: center; vertical-align: top\">2</td>\n",
       "        <td style=\"padding-left: 1em; padding-right: 1em; text-align: center; vertical-align: top\">250</td>\n",
       "        <td style=\"padding-left: 1em; padding-right: 1em; text-align: center; vertical-align: top\">250</td>\n",
       "        <td style=\"padding-left: 1em; padding-right: 1em; text-align: center; vertical-align: top\">1</td>\n",
       "        <td style=\"padding-left: 1em; padding-right: 1em; text-align: center; vertical-align: top\">0</td>\n",
       "        <td style=\"padding-left: 1em; padding-right: 1em; text-align: center; vertical-align: top\">5</td>\n",
       "    </tr>\n",
       "    <tr>\n",
       "        <td style=\"padding-left: 1em; padding-right: 1em; text-align: center; vertical-align: top\">0</td>\n",
       "        <td style=\"padding-left: 1em; padding-right: 1em; text-align: center; vertical-align: top\">5</td>\n",
       "        <td style=\"padding-left: 1em; padding-right: 1em; text-align: center; vertical-align: top\">9</td>\n",
       "        <td style=\"padding-left: 1em; padding-right: 1em; text-align: center; vertical-align: top\">windows_ie</td>\n",
       "        <td style=\"padding-left: 1em; padding-right: 1em; text-align: center; vertical-align: top\">1</td>\n",
       "        <td style=\"padding-left: 1em; padding-right: 1em; text-align: center; vertical-align: top\">336</td>\n",
       "        <td style=\"padding-left: 1em; padding-right: 1em; text-align: center; vertical-align: top\">280</td>\n",
       "        <td style=\"padding-left: 1em; padding-right: 1em; text-align: center; vertical-align: top\">0</td>\n",
       "        <td style=\"padding-left: 1em; padding-right: 1em; text-align: center; vertical-align: top\">1</td>\n",
       "        <td style=\"padding-left: 1em; padding-right: 1em; text-align: center; vertical-align: top\">0</td>\n",
       "    </tr>\n",
       "    <tr>\n",
       "        <td style=\"padding-left: 1em; padding-right: 1em; text-align: center; vertical-align: top\">0</td>\n",
       "        <td style=\"padding-left: 1em; padding-right: 1em; text-align: center; vertical-align: top\">2</td>\n",
       "        <td style=\"padding-left: 1em; padding-right: 1em; text-align: center; vertical-align: top\">20</td>\n",
       "        <td style=\"padding-left: 1em; padding-right: 1em; text-align: center; vertical-align: top\">windows_ie</td>\n",
       "        <td style=\"padding-left: 1em; padding-right: 1em; text-align: center; vertical-align: top\">2</td>\n",
       "        <td style=\"padding-left: 1em; padding-right: 1em; text-align: center; vertical-align: top\">728</td>\n",
       "        <td style=\"padding-left: 1em; padding-right: 1em; text-align: center; vertical-align: top\">90</td>\n",
       "        <td style=\"padding-left: 1em; padding-right: 1em; text-align: center; vertical-align: top\">0</td>\n",
       "        <td style=\"padding-left: 1em; padding-right: 1em; text-align: center; vertical-align: top\">0</td>\n",
       "        <td style=\"padding-left: 1em; padding-right: 1em; text-align: center; vertical-align: top\">162</td>\n",
       "    </tr>\n",
       "    <tr>\n",
       "        <td style=\"padding-left: 1em; padding-right: 1em; text-align: center; vertical-align: top\">0</td>\n",
       "        <td style=\"padding-left: 1em; padding-right: 1em; text-align: center; vertical-align: top\">6</td>\n",
       "        <td style=\"padding-left: 1em; padding-right: 1em; text-align: center; vertical-align: top\">9</td>\n",
       "        <td style=\"padding-left: 1em; padding-right: 1em; text-align: center; vertical-align: top\">windows_chrome</td>\n",
       "        <td style=\"padding-left: 1em; padding-right: 1em; text-align: center; vertical-align: top\">1</td>\n",
       "        <td style=\"padding-left: 1em; padding-right: 1em; text-align: center; vertical-align: top\">950</td>\n",
       "        <td style=\"padding-left: 1em; padding-right: 1em; text-align: center; vertical-align: top\">90</td>\n",
       "        <td style=\"padding-left: 1em; padding-right: 1em; text-align: center; vertical-align: top\">0</td>\n",
       "        <td style=\"padding-left: 1em; padding-right: 1em; text-align: center; vertical-align: top\">1</td>\n",
       "        <td style=\"padding-left: 1em; padding-right: 1em; text-align: center; vertical-align: top\">0</td>\n",
       "    </tr>\n",
       "    <tr>\n",
       "        <td style=\"padding-left: 1em; padding-right: 1em; text-align: center; vertical-align: top\">0</td>\n",
       "        <td style=\"padding-left: 1em; padding-right: 1em; text-align: center; vertical-align: top\">3</td>\n",
       "        <td style=\"padding-left: 1em; padding-right: 1em; text-align: center; vertical-align: top\">22</td>\n",
       "        <td style=\"padding-left: 1em; padding-right: 1em; text-align: center; vertical-align: top\">windows_ie</td>\n",
       "        <td style=\"padding-left: 1em; padding-right: 1em; text-align: center; vertical-align: top\">1</td>\n",
       "        <td style=\"padding-left: 1em; padding-right: 1em; text-align: center; vertical-align: top\">300</td>\n",
       "        <td style=\"padding-left: 1em; padding-right: 1em; text-align: center; vertical-align: top\">250</td>\n",
       "        <td style=\"padding-left: 1em; padding-right: 1em; text-align: center; vertical-align: top\">1</td>\n",
       "        <td style=\"padding-left: 1em; padding-right: 1em; text-align: center; vertical-align: top\">1</td>\n",
       "        <td style=\"padding-left: 1em; padding-right: 1em; text-align: center; vertical-align: top\">0</td>\n",
       "    </tr>\n",
       "    <tr>\n",
       "        <td style=\"padding-left: 1em; padding-right: 1em; text-align: center; vertical-align: top\">0</td>\n",
       "        <td style=\"padding-left: 1em; padding-right: 1em; text-align: center; vertical-align: top\">5</td>\n",
       "        <td style=\"padding-left: 1em; padding-right: 1em; text-align: center; vertical-align: top\">16</td>\n",
       "        <td style=\"padding-left: 1em; padding-right: 1em; text-align: center; vertical-align: top\">windows_chrome</td>\n",
       "        <td style=\"padding-left: 1em; padding-right: 1em; text-align: center; vertical-align: top\">2</td>\n",
       "        <td style=\"padding-left: 1em; padding-right: 1em; text-align: center; vertical-align: top\">728</td>\n",
       "        <td style=\"padding-left: 1em; padding-right: 1em; text-align: center; vertical-align: top\">90</td>\n",
       "        <td style=\"padding-left: 1em; padding-right: 1em; text-align: center; vertical-align: top\">OtherView</td>\n",
       "        <td style=\"padding-left: 1em; padding-right: 1em; text-align: center; vertical-align: top\">Na</td>\n",
       "        <td style=\"padding-left: 1em; padding-right: 1em; text-align: center; vertical-align: top\">5</td>\n",
       "    </tr>\n",
       "    <tr>\n",
       "        <td style=\"padding-left: 1em; padding-right: 1em; text-align: center; vertical-align: top\">0</td>\n",
       "        <td style=\"padding-left: 1em; padding-right: 1em; text-align: center; vertical-align: top\">0</td>\n",
       "        <td style=\"padding-left: 1em; padding-right: 1em; text-align: center; vertical-align: top\">21</td>\n",
       "        <td style=\"padding-left: 1em; padding-right: 1em; text-align: center; vertical-align: top\">windows_chrome</td>\n",
       "        <td style=\"padding-left: 1em; padding-right: 1em; text-align: center; vertical-align: top\">4</td>\n",
       "        <td style=\"padding-left: 1em; padding-right: 1em; text-align: center; vertical-align: top\">960</td>\n",
       "        <td style=\"padding-left: 1em; padding-right: 1em; text-align: center; vertical-align: top\">90</td>\n",
       "        <td style=\"padding-left: 1em; padding-right: 1em; text-align: center; vertical-align: top\">FirstView</td>\n",
       "        <td style=\"padding-left: 1em; padding-right: 1em; text-align: center; vertical-align: top\">Na</td>\n",
       "        <td style=\"padding-left: 1em; padding-right: 1em; text-align: center; vertical-align: top\">0</td>\n",
       "    </tr>\n",
       "    <tr>\n",
       "        <td style=\"padding-left: 1em; padding-right: 1em; text-align: center; vertical-align: top\">0</td>\n",
       "        <td style=\"padding-left: 1em; padding-right: 1em; text-align: center; vertical-align: top\">4</td>\n",
       "        <td style=\"padding-left: 1em; padding-right: 1em; text-align: center; vertical-align: top\">17</td>\n",
       "        <td style=\"padding-left: 1em; padding-right: 1em; text-align: center; vertical-align: top\">windows_ie</td>\n",
       "        <td style=\"padding-left: 1em; padding-right: 1em; text-align: center; vertical-align: top\">2</td>\n",
       "        <td style=\"padding-left: 1em; padding-right: 1em; text-align: center; vertical-align: top\">336</td>\n",
       "        <td style=\"padding-left: 1em; padding-right: 1em; text-align: center; vertical-align: top\">280</td>\n",
       "        <td style=\"padding-left: 1em; padding-right: 1em; text-align: center; vertical-align: top\">2</td>\n",
       "        <td style=\"padding-left: 1em; padding-right: 1em; text-align: center; vertical-align: top\">0</td>\n",
       "        <td style=\"padding-left: 1em; padding-right: 1em; text-align: center; vertical-align: top\">5</td>\n",
       "    </tr>\n",
       "    <tr>\n",
       "        <td style=\"padding-left: 1em; padding-right: 1em; text-align: center; vertical-align: top\">0</td>\n",
       "        <td style=\"padding-left: 1em; padding-right: 1em; text-align: center; vertical-align: top\">0</td>\n",
       "        <td style=\"padding-left: 1em; padding-right: 1em; text-align: center; vertical-align: top\">17</td>\n",
       "        <td style=\"padding-left: 1em; padding-right: 1em; text-align: center; vertical-align: top\">windows_ie</td>\n",
       "        <td style=\"padding-left: 1em; padding-right: 1em; text-align: center; vertical-align: top\">3</td>\n",
       "        <td style=\"padding-left: 1em; padding-right: 1em; text-align: center; vertical-align: top\">1000</td>\n",
       "        <td style=\"padding-left: 1em; padding-right: 1em; text-align: center; vertical-align: top\">90</td>\n",
       "        <td style=\"padding-left: 1em; padding-right: 1em; text-align: center; vertical-align: top\">0</td>\n",
       "        <td style=\"padding-left: 1em; padding-right: 1em; text-align: center; vertical-align: top\">0</td>\n",
       "        <td style=\"padding-left: 1em; padding-right: 1em; text-align: center; vertical-align: top\">31</td>\n",
       "    </tr>\n",
       "</table>\n",
       "<table frame=\"box\" rules=\"cols\">\n",
       "    <tr>\n",
       "        <th style=\"padding-left: 1em; padding-right: 1em; text-align: center\">advertiser</th>\n",
       "        <th style=\"padding-left: 1em; padding-right: 1em; text-align: center\">usertag</th>\n",
       "        <th style=\"padding-left: 1em; padding-right: 1em; text-align: center\">OS</th>\n",
       "        <th style=\"padding-left: 1em; padding-right: 1em; text-align: center\">browser</th>\n",
       "        <th style=\"padding-left: 1em; padding-right: 1em; text-align: center\">slotprice_cat</th>\n",
       "        <th style=\"padding-left: 1em; padding-right: 1em; text-align: center\">tags</th>\n",
       "    </tr>\n",
       "    <tr>\n",
       "        <td style=\"padding-left: 1em; padding-right: 1em; text-align: center; vertical-align: top\">1458</td>\n",
       "        <td style=\"padding-left: 1em; padding-right: 1em; text-align: center; vertical-align: top\">13866,10063</td>\n",
       "        <td style=\"padding-left: 1em; padding-right: 1em; text-align: center; vertical-align: top\">windows</td>\n",
       "        <td style=\"padding-left: 1em; padding-right: 1em; text-align: center; vertical-align: top\">ie</td>\n",
       "        <td style=\"padding-left: 1em; padding-right: 1em; text-align: center; vertical-align: top\">50-</td>\n",
       "        <td style=\"padding-left: 1em; padding-right: 1em; text-align: center; vertical-align: top\">{'13866': 1L, '10063':<br>1L} ...</td>\n",
       "    </tr>\n",
       "    <tr>\n",
       "        <td style=\"padding-left: 1em; padding-right: 1em; text-align: center; vertical-align: top\">3476</td>\n",
       "        <td style=\"padding-left: 1em; padding-right: 1em; text-align: center; vertical-align: top\">10063,10111</td>\n",
       "        <td style=\"padding-left: 1em; padding-right: 1em; text-align: center; vertical-align: top\">windows</td>\n",
       "        <td style=\"padding-left: 1em; padding-right: 1em; text-align: center; vertical-align: top\">chrome</td>\n",
       "        <td style=\"padding-left: 1em; padding-right: 1em; text-align: center; vertical-align: top\">50-</td>\n",
       "        <td style=\"padding-left: 1em; padding-right: 1em; text-align: center; vertical-align: top\">{'10063': 1L, '10111':<br>1L} ...</td>\n",
       "    </tr>\n",
       "    <tr>\n",
       "        <td style=\"padding-left: 1em; padding-right: 1em; text-align: center; vertical-align: top\">1458</td>\n",
       "        <td style=\"padding-left: 1em; padding-right: 1em; text-align: center; vertical-align: top\">10063</td>\n",
       "        <td style=\"padding-left: 1em; padding-right: 1em; text-align: center; vertical-align: top\">windows</td>\n",
       "        <td style=\"padding-left: 1em; padding-right: 1em; text-align: center; vertical-align: top\">ie</td>\n",
       "        <td style=\"padding-left: 1em; padding-right: 1em; text-align: center; vertical-align: top\">50-</td>\n",
       "        <td style=\"padding-left: 1em; padding-right: 1em; text-align: center; vertical-align: top\">{'10063': 1L}</td>\n",
       "    </tr>\n",
       "    <tr>\n",
       "        <td style=\"padding-left: 1em; padding-right: 1em; text-align: center; vertical-align: top\">3427</td>\n",
       "        <td style=\"padding-left: 1em; padding-right: 1em; text-align: center; vertical-align: top\">10077,10111</td>\n",
       "        <td style=\"padding-left: 1em; padding-right: 1em; text-align: center; vertical-align: top\">windows</td>\n",
       "        <td style=\"padding-left: 1em; padding-right: 1em; text-align: center; vertical-align: top\">ie</td>\n",
       "        <td style=\"padding-left: 1em; padding-right: 1em; text-align: center; vertical-align: top\">100+</td>\n",
       "        <td style=\"padding-left: 1em; padding-right: 1em; text-align: center; vertical-align: top\">{'10077': 1L, '10111':<br>1L} ...</td>\n",
       "    </tr>\n",
       "    <tr>\n",
       "        <td style=\"padding-left: 1em; padding-right: 1em; text-align: center; vertical-align: top\">3476</td>\n",
       "        <td style=\"padding-left: 1em; padding-right: 1em; text-align: center; vertical-align: top\">10031,13042,10006,10057,1<br>3866,10063,14273,1005 ...</td>\n",
       "        <td style=\"padding-left: 1em; padding-right: 1em; text-align: center; vertical-align: top\">windows</td>\n",
       "        <td style=\"padding-left: 1em; padding-right: 1em; text-align: center; vertical-align: top\">chrome</td>\n",
       "        <td style=\"padding-left: 1em; padding-right: 1em; text-align: center; vertical-align: top\">50-</td>\n",
       "        <td style=\"padding-left: 1em; padding-right: 1em; text-align: center; vertical-align: top\">{'10063': 1L, '10006':<br>1L, '10057': 1L, '138 ...</td>\n",
       "    </tr>\n",
       "    <tr>\n",
       "        <td style=\"padding-left: 1em; padding-right: 1em; text-align: center; vertical-align: top\">3358</td>\n",
       "        <td style=\"padding-left: 1em; padding-right: 1em; text-align: center; vertical-align: top\">10063</td>\n",
       "        <td style=\"padding-left: 1em; padding-right: 1em; text-align: center; vertical-align: top\">windows</td>\n",
       "        <td style=\"padding-left: 1em; padding-right: 1em; text-align: center; vertical-align: top\">ie</td>\n",
       "        <td style=\"padding-left: 1em; padding-right: 1em; text-align: center; vertical-align: top\">50-</td>\n",
       "        <td style=\"padding-left: 1em; padding-right: 1em; text-align: center; vertical-align: top\">{'10063': 1L}</td>\n",
       "    </tr>\n",
       "    <tr>\n",
       "        <td style=\"padding-left: 1em; padding-right: 1em; text-align: center; vertical-align: top\">2259</td>\n",
       "        <td style=\"padding-left: 1em; padding-right: 1em; text-align: center; vertical-align: top\">13866,10006,10111,10063</td>\n",
       "        <td style=\"padding-left: 1em; padding-right: 1em; text-align: center; vertical-align: top\">windows</td>\n",
       "        <td style=\"padding-left: 1em; padding-right: 1em; text-align: center; vertical-align: top\">chrome</td>\n",
       "        <td style=\"padding-left: 1em; padding-right: 1em; text-align: center; vertical-align: top\">50-</td>\n",
       "        <td style=\"padding-left: 1em; padding-right: 1em; text-align: center; vertical-align: top\">{'13866': 1L, '10006':<br>1L, '10111': 1L, '100 ...</td>\n",
       "    </tr>\n",
       "    <tr>\n",
       "        <td style=\"padding-left: 1em; padding-right: 1em; text-align: center; vertical-align: top\">2821</td>\n",
       "        <td style=\"padding-left: 1em; padding-right: 1em; text-align: center; vertical-align: top\">13042,10024,10006,10110,1<br>0031,10063 ...</td>\n",
       "        <td style=\"padding-left: 1em; padding-right: 1em; text-align: center; vertical-align: top\">windows</td>\n",
       "        <td style=\"padding-left: 1em; padding-right: 1em; text-align: center; vertical-align: top\">chrome</td>\n",
       "        <td style=\"padding-left: 1em; padding-right: 1em; text-align: center; vertical-align: top\">50-</td>\n",
       "        <td style=\"padding-left: 1em; padding-right: 1em; text-align: center; vertical-align: top\">{'10063': 1L, '10006':<br>1L, '10024': 1L, '130 ...</td>\n",
       "    </tr>\n",
       "    <tr>\n",
       "        <td style=\"padding-left: 1em; padding-right: 1em; text-align: center; vertical-align: top\">3386</td>\n",
       "        <td style=\"padding-left: 1em; padding-right: 1em; text-align: center; vertical-align: top\">null</td>\n",
       "        <td style=\"padding-left: 1em; padding-right: 1em; text-align: center; vertical-align: top\">windows</td>\n",
       "        <td style=\"padding-left: 1em; padding-right: 1em; text-align: center; vertical-align: top\">ie</td>\n",
       "        <td style=\"padding-left: 1em; padding-right: 1em; text-align: center; vertical-align: top\">50-</td>\n",
       "        <td style=\"padding-left: 1em; padding-right: 1em; text-align: center; vertical-align: top\">{'null': 1L}</td>\n",
       "    </tr>\n",
       "    <tr>\n",
       "        <td style=\"padding-left: 1em; padding-right: 1em; text-align: center; vertical-align: top\">1458</td>\n",
       "        <td style=\"padding-left: 1em; padding-right: 1em; text-align: center; vertical-align: top\">13403,10057,10063,10083,1<br>0006,10110 ...</td>\n",
       "        <td style=\"padding-left: 1em; padding-right: 1em; text-align: center; vertical-align: top\">windows</td>\n",
       "        <td style=\"padding-left: 1em; padding-right: 1em; text-align: center; vertical-align: top\">ie</td>\n",
       "        <td style=\"padding-left: 1em; padding-right: 1em; text-align: center; vertical-align: top\">50-</td>\n",
       "        <td style=\"padding-left: 1em; padding-right: 1em; text-align: center; vertical-align: top\">{'10063': 1L, '10006':<br>1L, '10057': 1L, '100 ...</td>\n",
       "    </tr>\n",
       "</table>\n",
       "[10 rows x 16 columns]<br/>\n",
       "</div>"
      ],
      "text/plain": [
       "Columns:\n",
       "\tclick\tint\n",
       "\tweekday\tint\n",
       "\thour\tint\n",
       "\tuseragent\tstr\n",
       "\tadexchange\tstr\n",
       "\tslotwidth\tint\n",
       "\tslotheight\tint\n",
       "\tslotvisibility\tstr\n",
       "\tslotformat\tstr\n",
       "\tslotprice\tint\n",
       "\tadvertiser\tint\n",
       "\tusertag\tstr\n",
       "\tOS\tstr\n",
       "\tbrowser\tstr\n",
       "\tslotprice_cat\tstr\n",
       "\ttags\tdict\n",
       "\n",
       "Rows: 10\n",
       "\n",
       "Data:\n",
       "+-------+---------+------+----------------+------------+-----------+------------+\n",
       "| click | weekday | hour |   useragent    | adexchange | slotwidth | slotheight |\n",
       "+-------+---------+------+----------------+------------+-----------+------------+\n",
       "|   0   |    1    |  14  |   windows_ie   |     2      |    468    |     60     |\n",
       "|   0   |    2    |  20  | windows_chrome |     2      |    250    |    250     |\n",
       "|   0   |    5    |  9   |   windows_ie   |     1      |    336    |    280     |\n",
       "|   0   |    2    |  20  |   windows_ie   |     2      |    728    |     90     |\n",
       "|   0   |    6    |  9   | windows_chrome |     1      |    950    |     90     |\n",
       "|   0   |    3    |  22  |   windows_ie   |     1      |    300    |    250     |\n",
       "|   0   |    5    |  16  | windows_chrome |     2      |    728    |     90     |\n",
       "|   0   |    0    |  21  | windows_chrome |     4      |    960    |     90     |\n",
       "|   0   |    4    |  17  |   windows_ie   |     2      |    336    |    280     |\n",
       "|   0   |    0    |  17  |   windows_ie   |     3      |    1000   |     90     |\n",
       "+-------+---------+------+----------------+------------+-----------+------------+\n",
       "+----------------+------------+-----------+------------+\n",
       "| slotvisibility | slotformat | slotprice | advertiser |\n",
       "+----------------+------------+-----------+------------+\n",
       "|       1        |     0      |     5     |    1458    |\n",
       "|       1        |     0      |     5     |    3476    |\n",
       "|       0        |     1      |     0     |    1458    |\n",
       "|       0        |     0      |    162    |    3427    |\n",
       "|       0        |     1      |     0     |    3476    |\n",
       "|       1        |     1      |     0     |    3358    |\n",
       "|   OtherView    |     Na     |     5     |    2259    |\n",
       "|   FirstView    |     Na     |     0     |    2821    |\n",
       "|       2        |     0      |     5     |    3386    |\n",
       "|       0        |     0      |     31    |    1458    |\n",
       "+----------------+------------+-----------+------------+\n",
       "+-------------------------------+---------+---------+---------------+\n",
       "|            usertag            |    OS   | browser | slotprice_cat |\n",
       "+-------------------------------+---------+---------+---------------+\n",
       "|          13866,10063          | windows |    ie   |      50-      |\n",
       "|          10063,10111          | windows |  chrome |      50-      |\n",
       "|             10063             | windows |    ie   |      50-      |\n",
       "|          10077,10111          | windows |    ie   |      100+     |\n",
       "| 10031,13042,10006,10057,13... | windows |  chrome |      50-      |\n",
       "|             10063             | windows |    ie   |      50-      |\n",
       "|    13866,10006,10111,10063    | windows |  chrome |      50-      |\n",
       "| 13042,10024,10006,10110,10... | windows |  chrome |      50-      |\n",
       "|              null             | windows |    ie   |      50-      |\n",
       "| 13403,10057,10063,10083,10... | windows |    ie   |      50-      |\n",
       "+-------------------------------+---------+---------+---------------+\n",
       "+-------------------------------+\n",
       "|              tags             |\n",
       "+-------------------------------+\n",
       "|   {'13866': 1L, '10063': 1L}  |\n",
       "|   {'10063': 1L, '10111': 1L}  |\n",
       "|         {'10063': 1L}         |\n",
       "|   {'10077': 1L, '10111': 1L}  |\n",
       "| {'10063': 1L, '10006': 1L,... |\n",
       "|         {'10063': 1L}         |\n",
       "| {'13866': 1L, '10006': 1L,... |\n",
       "| {'10063': 1L, '10006': 1L,... |\n",
       "|          {'null': 1L}         |\n",
       "| {'10063': 1L, '10006': 1L,... |\n",
       "+-------------------------------+\n",
       "[10 rows x 16 columns]"
      ]
     },
     "execution_count": 140,
     "metadata": {},
     "output_type": "execute_result"
    }
   ],
   "source": [
    "train.head()"
   ]
  },
  {
   "cell_type": "code",
   "execution_count": 150,
   "metadata": {
    "collapsed": false
   },
   "outputs": [],
   "source": [
    "def one_hot_encoder(train_set):\n",
    "\n",
    "    # set features\n",
    "    features = ['OS',\n",
    "                'browser',\n",
    "                 'useragent',\n",
    "                'tags',\n",
    "                'adexchange',\n",
    "                'slotwidth',\n",
    "                'slotheight',\n",
    "                'slotformat',\n",
    "                'slotvisibility',\n",
    "                'slotprice',\n",
    "                'advertiser',\n",
    "               'slotprice_cat']\n",
    "\n",
    "\n",
    "    # create one hot encoder\n",
    "    encoder = fe.create(train, fe.OneHotEncoder(features, max_categories=100))\n",
    "\n",
    "    # return one hot encoder\n",
    "    return encoder"
   ]
  },
  {
   "cell_type": "code",
   "execution_count": 142,
   "metadata": {
    "collapsed": false
   },
   "outputs": [],
   "source": [
    "def feature_hash(data, hasher):\n",
    "\n",
    "    # hash data set features\n",
    "    hashed_data_set_features = hasher.transform(data)\n",
    "\n",
    "    # return hashed train features\n",
    "    return hashed_data_set_features\n"
   ]
  },
  {
   "cell_type": "code",
   "execution_count": 151,
   "metadata": {
    "collapsed": false
   },
   "outputs": [],
   "source": [
    "def one_hot_encode(data, encoder):\n",
    "\n",
    "    # encode data set features\n",
    "    encoded_data_set_features = encoder.transform(data)\n",
    "\n",
    "    # return encoded train features\n",
    "    return encoded_data_set_features\n"
   ]
  },
  {
   "cell_type": "code",
   "execution_count": 152,
   "metadata": {
    "collapsed": false
   },
   "outputs": [],
   "source": [
    "encoder = one_hot_encoder(train)\n"
   ]
  },
  {
   "cell_type": "code",
   "execution_count": 153,
   "metadata": {
    "collapsed": true
   },
   "outputs": [],
   "source": [
    " train_data = one_hot_encode(train, encoder)"
   ]
  },
  {
   "cell_type": "code",
   "execution_count": 154,
   "metadata": {
    "collapsed": false
   },
   "outputs": [
    {
     "data": {
      "text/html": [
       "<div style=\"max-height:1000px;max-width:1500px;overflow:auto;\"><table frame=\"box\" rules=\"cols\">\n",
       "    <tr>\n",
       "        <th style=\"padding-left: 1em; padding-right: 1em; text-align: center\">click</th>\n",
       "        <th style=\"padding-left: 1em; padding-right: 1em; text-align: center\">weekday</th>\n",
       "        <th style=\"padding-left: 1em; padding-right: 1em; text-align: center\">hour</th>\n",
       "        <th style=\"padding-left: 1em; padding-right: 1em; text-align: center\">usertag</th>\n",
       "        <th style=\"padding-left: 1em; padding-right: 1em; text-align: center\">encoded_features</th>\n",
       "    </tr>\n",
       "    <tr>\n",
       "        <td style=\"padding-left: 1em; padding-right: 1em; text-align: center; vertical-align: top\">0</td>\n",
       "        <td style=\"padding-left: 1em; padding-right: 1em; text-align: center; vertical-align: top\">1</td>\n",
       "        <td style=\"padding-left: 1em; padding-right: 1em; text-align: center; vertical-align: top\">14</td>\n",
       "        <td style=\"padding-left: 1em; padding-right: 1em; text-align: center; vertical-align: top\">13866,10063</td>\n",
       "        <td style=\"padding-left: 1em; padding-right: 1em; text-align: center; vertical-align: top\">{291L: 1L, 5L: 1L, 166L:<br>1L, 138L: 1L, 110L: 1L, ...</td>\n",
       "    </tr>\n",
       "    <tr>\n",
       "        <td style=\"padding-left: 1em; padding-right: 1em; text-align: center; vertical-align: top\">0</td>\n",
       "        <td style=\"padding-left: 1em; padding-right: 1em; text-align: center; vertical-align: top\">2</td>\n",
       "        <td style=\"padding-left: 1em; padding-right: 1em; text-align: center; vertical-align: top\">20</td>\n",
       "        <td style=\"padding-left: 1em; padding-right: 1em; text-align: center; vertical-align: top\">10063,10111</td>\n",
       "        <td style=\"padding-left: 1em; padding-right: 1em; text-align: center; vertical-align: top\">{161L: 1L, 283L: 1L, 5L:<br>1L, 166L: 1L, 291L: 1L, ...</td>\n",
       "    </tr>\n",
       "    <tr>\n",
       "        <td style=\"padding-left: 1em; padding-right: 1em; text-align: center; vertical-align: top\">0</td>\n",
       "        <td style=\"padding-left: 1em; padding-right: 1em; text-align: center; vertical-align: top\">5</td>\n",
       "        <td style=\"padding-left: 1em; padding-right: 1em; text-align: center; vertical-align: top\">9</td>\n",
       "        <td style=\"padding-left: 1em; padding-right: 1em; text-align: center; vertical-align: top\">10063</td>\n",
       "        <td style=\"padding-left: 1em; padding-right: 1em; text-align: center; vertical-align: top\">{160L: 1L, 291L: 1L,<br>277L: 1L, 5L: 1L, 177L: ...</td>\n",
       "    </tr>\n",
       "    <tr>\n",
       "        <td style=\"padding-left: 1em; padding-right: 1em; text-align: center; vertical-align: top\">0</td>\n",
       "        <td style=\"padding-left: 1em; padding-right: 1em; text-align: center; vertical-align: top\">2</td>\n",
       "        <td style=\"padding-left: 1em; padding-right: 1em; text-align: center; vertical-align: top\">20</td>\n",
       "        <td style=\"padding-left: 1em; padding-right: 1em; text-align: center; vertical-align: top\">10077,10111</td>\n",
       "        <td style=\"padding-left: 1em; padding-right: 1em; text-align: center; vertical-align: top\">{289L: 1L, 162L: 1L,<br>260L: 1L, 5L: 1L, 166L: ...</td>\n",
       "    </tr>\n",
       "    <tr>\n",
       "        <td style=\"padding-left: 1em; padding-right: 1em; text-align: center; vertical-align: top\">0</td>\n",
       "        <td style=\"padding-left: 1em; padding-right: 1em; text-align: center; vertical-align: top\">6</td>\n",
       "        <td style=\"padding-left: 1em; padding-right: 1em; text-align: center; vertical-align: top\">9</td>\n",
       "        <td style=\"padding-left: 1em; padding-right: 1em; text-align: center; vertical-align: top\">10031,13042,10006,10057,1<br>3866,10063,14273,1005 ...</td>\n",
       "        <td style=\"padding-left: 1em; padding-right: 1em; text-align: center; vertical-align: top\">{5L: 1L, 13L: 1L, 142L:<br>1L, 277L: 1L, 283L: 1L, ...</td>\n",
       "    </tr>\n",
       "    <tr>\n",
       "        <td style=\"padding-left: 1em; padding-right: 1em; text-align: center; vertical-align: top\">0</td>\n",
       "        <td style=\"padding-left: 1em; padding-right: 1em; text-align: center; vertical-align: top\">3</td>\n",
       "        <td style=\"padding-left: 1em; padding-right: 1em; text-align: center; vertical-align: top\">22</td>\n",
       "        <td style=\"padding-left: 1em; padding-right: 1em; text-align: center; vertical-align: top\">10063</td>\n",
       "        <td style=\"padding-left: 1em; padding-right: 1em; text-align: center; vertical-align: top\">{161L: 1L, 282L: 1L,<br>277L: 1L, 5L: 1L, 14L: ...</td>\n",
       "    </tr>\n",
       "    <tr>\n",
       "        <td style=\"padding-left: 1em; padding-right: 1em; text-align: center; vertical-align: top\">0</td>\n",
       "        <td style=\"padding-left: 1em; padding-right: 1em; text-align: center; vertical-align: top\">5</td>\n",
       "        <td style=\"padding-left: 1em; padding-right: 1em; text-align: center; vertical-align: top\">16</td>\n",
       "        <td style=\"padding-left: 1em; padding-right: 1em; text-align: center; vertical-align: top\">13866,10006,10111,10063</td>\n",
       "        <td style=\"padding-left: 1em; padding-right: 1em; text-align: center; vertical-align: top\">{162L: 1L, 291L: 1L,<br>164L: 1L, 5L: 1L, 276L: ...</td>\n",
       "    </tr>\n",
       "    <tr>\n",
       "        <td style=\"padding-left: 1em; padding-right: 1em; text-align: center; vertical-align: top\">0</td>\n",
       "        <td style=\"padding-left: 1em; padding-right: 1em; text-align: center; vertical-align: top\">0</td>\n",
       "        <td style=\"padding-left: 1em; padding-right: 1em; text-align: center; vertical-align: top\">21</td>\n",
       "        <td style=\"padding-left: 1em; padding-right: 1em; text-align: center; vertical-align: top\">13042,10024,10006,10110,1<br>0031,10063 ...</td>\n",
       "        <td style=\"padding-left: 1em; padding-right: 1em; text-align: center; vertical-align: top\">{162L: 1L, 291L: 1L,<br>164L: 1L, 5L: 1L, 104L: ...</td>\n",
       "    </tr>\n",
       "    <tr>\n",
       "        <td style=\"padding-left: 1em; padding-right: 1em; text-align: center; vertical-align: top\">0</td>\n",
       "        <td style=\"padding-left: 1em; padding-right: 1em; text-align: center; vertical-align: top\">4</td>\n",
       "        <td style=\"padding-left: 1em; padding-right: 1em; text-align: center; vertical-align: top\">17</td>\n",
       "        <td style=\"padding-left: 1em; padding-right: 1em; text-align: center; vertical-align: top\">null</td>\n",
       "        <td style=\"padding-left: 1em; padding-right: 1em; text-align: center; vertical-align: top\">{160L: 1L, 291L: 1L, 5L:<br>1L, 166L: 1L, 14L: 1L, ...</td>\n",
       "    </tr>\n",
       "    <tr>\n",
       "        <td style=\"padding-left: 1em; padding-right: 1em; text-align: center; vertical-align: top\">0</td>\n",
       "        <td style=\"padding-left: 1em; padding-right: 1em; text-align: center; vertical-align: top\">0</td>\n",
       "        <td style=\"padding-left: 1em; padding-right: 1em; text-align: center; vertical-align: top\">17</td>\n",
       "        <td style=\"padding-left: 1em; padding-right: 1em; text-align: center; vertical-align: top\">13403,10057,10063,10083,1<br>0006,10110 ...</td>\n",
       "        <td style=\"padding-left: 1em; padding-right: 1em; text-align: center; vertical-align: top\">{162L: 1L, 291L: 1L, 5L:<br>1L, 166L: 1L, 269L: 1L, ...</td>\n",
       "    </tr>\n",
       "</table>\n",
       "[10 rows x 5 columns]<br/>\n",
       "</div>"
      ],
      "text/plain": [
       "Columns:\n",
       "\tclick\tint\n",
       "\tweekday\tint\n",
       "\thour\tint\n",
       "\tusertag\tstr\n",
       "\tencoded_features\tdict\n",
       "\n",
       "Rows: 10\n",
       "\n",
       "Data:\n",
       "+-------+---------+------+-------------------------------+\n",
       "| click | weekday | hour |            usertag            |\n",
       "+-------+---------+------+-------------------------------+\n",
       "|   0   |    1    |  14  |          13866,10063          |\n",
       "|   0   |    2    |  20  |          10063,10111          |\n",
       "|   0   |    5    |  9   |             10063             |\n",
       "|   0   |    2    |  20  |          10077,10111          |\n",
       "|   0   |    6    |  9   | 10031,13042,10006,10057,13... |\n",
       "|   0   |    3    |  22  |             10063             |\n",
       "|   0   |    5    |  16  |    13866,10006,10111,10063    |\n",
       "|   0   |    0    |  21  | 13042,10024,10006,10110,10... |\n",
       "|   0   |    4    |  17  |              null             |\n",
       "|   0   |    0    |  17  | 13403,10057,10063,10083,10... |\n",
       "+-------+---------+------+-------------------------------+\n",
       "+-------------------------------+\n",
       "|        encoded_features       |\n",
       "+-------------------------------+\n",
       "| {291L: 1L, 5L: 1L, 166L: 1... |\n",
       "| {161L: 1L, 283L: 1L, 5L: 1... |\n",
       "| {160L: 1L, 291L: 1L, 277L:... |\n",
       "| {289L: 1L, 162L: 1L, 260L:... |\n",
       "| {5L: 1L, 13L: 1L, 142L: 1L... |\n",
       "| {161L: 1L, 282L: 1L, 277L:... |\n",
       "| {162L: 1L, 291L: 1L, 164L:... |\n",
       "| {162L: 1L, 291L: 1L, 164L:... |\n",
       "| {160L: 1L, 291L: 1L, 5L: 1... |\n",
       "| {162L: 1L, 291L: 1L, 5L: 1... |\n",
       "+-------------------------------+\n",
       "[10 rows x 5 columns]"
      ]
     },
     "execution_count": 154,
     "metadata": {},
     "output_type": "execute_result"
    }
   ],
   "source": [
    "train_data.head()"
   ]
  },
  {
   "cell_type": "code",
   "execution_count": 160,
   "metadata": {
    "collapsed": false
   },
   "outputs": [],
   "source": [
    " validation_data = one_hot_encode(validation, encoder)"
   ]
  },
  {
   "cell_type": "code",
   "execution_count": 162,
   "metadata": {
    "collapsed": false
   },
   "outputs": [],
   "source": [
    "features = ['hour',\n",
    "                'weekday',\n",
    "\n",
    "                'encoded_features']"
   ]
  },
  {
   "cell_type": "code",
   "execution_count": 163,
   "metadata": {
    "collapsed": false
   },
   "outputs": [
    {
     "name": "stdout",
     "output_type": "stream",
     "text": [
      "PROGRESS: Creating a validation set from 5 percent of training data. This may take a while.\n",
      "          You can set ``validation_set=None`` to disable validation tracking.\n",
      "\n"
     ]
    },
    {
     "data": {
      "text/html": [
       "<pre>Logistic regression:</pre>"
      ],
      "text/plain": [
       "Logistic regression:"
      ]
     },
     "metadata": {},
     "output_type": "display_data"
    },
    {
     "data": {
      "text/html": [
       "<pre>--------------------------------------------------------</pre>"
      ],
      "text/plain": [
       "--------------------------------------------------------"
      ]
     },
     "metadata": {},
     "output_type": "display_data"
    },
    {
     "data": {
      "text/html": [
       "<pre>Number of examples          : 2563036</pre>"
      ],
      "text/plain": [
       "Number of examples          : 2563036"
      ]
     },
     "metadata": {},
     "output_type": "display_data"
    },
    {
     "data": {
      "text/html": [
       "<pre>Number of classes           : 2</pre>"
      ],
      "text/plain": [
       "Number of classes           : 2"
      ]
     },
     "metadata": {},
     "output_type": "display_data"
    },
    {
     "data": {
      "text/html": [
       "<pre>Number of feature columns   : 3</pre>"
      ],
      "text/plain": [
       "Number of feature columns   : 3"
      ]
     },
     "metadata": {},
     "output_type": "display_data"
    },
    {
     "data": {
      "text/html": [
       "<pre>Number of unpacked features : 294</pre>"
      ],
      "text/plain": [
       "Number of unpacked features : 294"
      ]
     },
     "metadata": {},
     "output_type": "display_data"
    },
    {
     "data": {
      "text/html": [
       "<pre>Number of coefficients    : 295</pre>"
      ],
      "text/plain": [
       "Number of coefficients    : 295"
      ]
     },
     "metadata": {},
     "output_type": "display_data"
    },
    {
     "data": {
      "text/html": [
       "<pre>Starting Newton Method</pre>"
      ],
      "text/plain": [
       "Starting Newton Method"
      ]
     },
     "metadata": {},
     "output_type": "display_data"
    },
    {
     "data": {
      "text/html": [
       "<pre>--------------------------------------------------------</pre>"
      ],
      "text/plain": [
       "--------------------------------------------------------"
      ]
     },
     "metadata": {},
     "output_type": "display_data"
    },
    {
     "data": {
      "text/html": [
       "<pre>+-----------+----------+--------------+-------------------+---------------------+</pre>"
      ],
      "text/plain": [
       "+-----------+----------+--------------+-------------------+---------------------+"
      ]
     },
     "metadata": {},
     "output_type": "display_data"
    },
    {
     "data": {
      "text/html": [
       "<pre>| Iteration | Passes   | Elapsed Time | Training-accuracy | Validation-accuracy |</pre>"
      ],
      "text/plain": [
       "| Iteration | Passes   | Elapsed Time | Training-accuracy | Validation-accuracy |"
      ]
     },
     "metadata": {},
     "output_type": "display_data"
    },
    {
     "data": {
      "text/html": [
       "<pre>+-----------+----------+--------------+-------------------+---------------------+</pre>"
      ],
      "text/plain": [
       "+-----------+----------+--------------+-------------------+---------------------+"
      ]
     },
     "metadata": {},
     "output_type": "display_data"
    },
    {
     "data": {
      "text/html": [
       "<pre>| 1         | 2        | 5.141522     | 0.836863          | 0.837122            |</pre>"
      ],
      "text/plain": [
       "| 1         | 2        | 5.141522     | 0.836863          | 0.837122            |"
      ]
     },
     "metadata": {},
     "output_type": "display_data"
    },
    {
     "data": {
      "text/html": [
       "<pre>| 2         | 3        | 8.071004     | 0.830955          | 0.831576            |</pre>"
      ],
      "text/plain": [
       "| 2         | 3        | 8.071004     | 0.830955          | 0.831576            |"
      ]
     },
     "metadata": {},
     "output_type": "display_data"
    },
    {
     "data": {
      "text/html": [
       "<pre>| 3         | 4        | 10.999305    | 0.828796          | 0.829208            |</pre>"
      ],
      "text/plain": [
       "| 3         | 4        | 10.999305    | 0.828796          | 0.829208            |"
      ]
     },
     "metadata": {},
     "output_type": "display_data"
    },
    {
     "data": {
      "text/html": [
       "<pre>| 4         | 5        | 13.962491    | 0.828579          | 0.828978            |</pre>"
      ],
      "text/plain": [
       "| 4         | 5        | 13.962491    | 0.828579          | 0.828978            |"
      ]
     },
     "metadata": {},
     "output_type": "display_data"
    },
    {
     "data": {
      "text/html": [
       "<pre>| 5         | 6        | 17.305543    | 0.828576          | 0.828948            |</pre>"
      ],
      "text/plain": [
       "| 5         | 6        | 17.305543    | 0.828576          | 0.828948            |"
      ]
     },
     "metadata": {},
     "output_type": "display_data"
    },
    {
     "data": {
      "text/html": [
       "<pre>| 6         | 7        | 20.302986    | 0.828567          | 0.828926            |</pre>"
      ],
      "text/plain": [
       "| 6         | 7        | 20.302986    | 0.828567          | 0.828926            |"
      ]
     },
     "metadata": {},
     "output_type": "display_data"
    },
    {
     "data": {
      "text/html": [
       "<pre>| 7         | 8        | 23.235762    | 0.828565          | 0.828919            |</pre>"
      ],
      "text/plain": [
       "| 7         | 8        | 23.235762    | 0.828565          | 0.828919            |"
      ]
     },
     "metadata": {},
     "output_type": "display_data"
    },
    {
     "data": {
      "text/html": [
       "<pre>| 8         | 9        | 26.238945    | 0.828565          | 0.828919            |</pre>"
      ],
      "text/plain": [
       "| 8         | 9        | 26.238945    | 0.828565          | 0.828919            |"
      ]
     },
     "metadata": {},
     "output_type": "display_data"
    },
    {
     "data": {
      "text/html": [
       "<pre>+-----------+----------+--------------+-------------------+---------------------+</pre>"
      ],
      "text/plain": [
       "+-----------+----------+--------------+-------------------+---------------------+"
      ]
     },
     "metadata": {},
     "output_type": "display_data"
    },
    {
     "data": {
      "text/html": [
       "<pre>SUCCESS: Optimal solution found.</pre>"
      ],
      "text/plain": [
       "SUCCESS: Optimal solution found."
      ]
     },
     "metadata": {},
     "output_type": "display_data"
    },
    {
     "data": {
      "text/html": [
       "<pre></pre>"
      ],
      "text/plain": []
     },
     "metadata": {},
     "output_type": "display_data"
    }
   ],
   "source": [
    "y_pred = gl.logistic_classifier.create(train_data,\n",
    "                                                 target='click',\n",
    "                                                 features=features,\n",
    "                                                 class_weights='auto',\n",
    "                                                 validation_set='auto',\n",
    "                                                 max_iterations=20)"
   ]
  },
  {
   "cell_type": "code",
   "execution_count": 164,
   "metadata": {
    "collapsed": true
   },
   "outputs": [],
   "source": [
    "prediction = y_pred.predict(validation_data,output_type='probability')"
   ]
  },
  {
   "cell_type": "code",
   "execution_count": 167,
   "metadata": {
    "collapsed": false
   },
   "outputs": [],
   "source": [
    "prob = gl.SFrame(prediction)"
   ]
  },
  {
   "cell_type": "code",
   "execution_count": 172,
   "metadata": {
    "collapsed": false
   },
   "outputs": [
    {
     "data": {
      "text/html": [
       "<div style=\"max-height:1000px;max-width:1500px;overflow:auto;\"><table frame=\"box\" rules=\"cols\">\n",
       "    <tr>\n",
       "        <th style=\"padding-left: 1em; padding-right: 1em; text-align: center\">X1</th>\n",
       "    </tr>\n",
       "    <tr>\n",
       "        <td style=\"padding-left: 1em; padding-right: 1em; text-align: center; vertical-align: top\">0.295501988378</td>\n",
       "    </tr>\n",
       "    <tr>\n",
       "        <td style=\"padding-left: 1em; padding-right: 1em; text-align: center; vertical-align: top\">0.783816323727</td>\n",
       "    </tr>\n",
       "    <tr>\n",
       "        <td style=\"padding-left: 1em; padding-right: 1em; text-align: center; vertical-align: top\">0.547834028609</td>\n",
       "    </tr>\n",
       "    <tr>\n",
       "        <td style=\"padding-left: 1em; padding-right: 1em; text-align: center; vertical-align: top\">0.476466374172</td>\n",
       "    </tr>\n",
       "    <tr>\n",
       "        <td style=\"padding-left: 1em; padding-right: 1em; text-align: center; vertical-align: top\">0.521729570058</td>\n",
       "    </tr>\n",
       "    <tr>\n",
       "        <td style=\"padding-left: 1em; padding-right: 1em; text-align: center; vertical-align: top\">0.667048720361</td>\n",
       "    </tr>\n",
       "    <tr>\n",
       "        <td style=\"padding-left: 1em; padding-right: 1em; text-align: center; vertical-align: top\">0.270904167827</td>\n",
       "    </tr>\n",
       "    <tr>\n",
       "        <td style=\"padding-left: 1em; padding-right: 1em; text-align: center; vertical-align: top\">0.412807554932</td>\n",
       "    </tr>\n",
       "    <tr>\n",
       "        <td style=\"padding-left: 1em; padding-right: 1em; text-align: center; vertical-align: top\">0.107229600672</td>\n",
       "    </tr>\n",
       "    <tr>\n",
       "        <td style=\"padding-left: 1em; padding-right: 1em; text-align: center; vertical-align: top\">0.474940612453</td>\n",
       "    </tr>\n",
       "</table>\n",
       "[10 rows x 1 columns]<br/>\n",
       "</div>"
      ],
      "text/plain": [
       "Columns:\n",
       "\tX1\tfloat\n",
       "\n",
       "Rows: 10\n",
       "\n",
       "Data:\n",
       "+----------------+\n",
       "|       X1       |\n",
       "+----------------+\n",
       "| 0.295501988378 |\n",
       "| 0.783816323727 |\n",
       "| 0.547834028609 |\n",
       "| 0.476466374172 |\n",
       "| 0.521729570058 |\n",
       "| 0.667048720361 |\n",
       "| 0.270904167827 |\n",
       "| 0.412807554932 |\n",
       "| 0.107229600672 |\n",
       "| 0.474940612453 |\n",
       "+----------------+\n",
       "[10 rows x 1 columns]"
      ]
     },
     "execution_count": 172,
     "metadata": {},
     "output_type": "execute_result"
    }
   ],
   "source": [
    "prob.head()"
   ]
  },
  {
   "cell_type": "code",
   "execution_count": null,
   "metadata": {
    "collapsed": true
   },
   "outputs": [],
   "source": []
  }
 ],
 "metadata": {
  "kernelspec": {
   "display_name": "Python 3",
   "language": "python",
   "name": "python3"
  },
  "language_info": {
   "codemirror_mode": {
    "name": "ipython",
    "version": 3
   },
   "file_extension": ".py",
   "mimetype": "text/x-python",
   "name": "python",
   "nbconvert_exporter": "python",
   "pygments_lexer": "ipython3",
   "version": "3.6.0"
  }
 },
 "nbformat": 4,
 "nbformat_minor": 0
}
